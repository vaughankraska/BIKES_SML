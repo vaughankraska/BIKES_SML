{
 "cells": [
  {
   "cell_type": "code",
   "execution_count": 1,
   "id": "initial_id",
   "metadata": {
    "collapsed": true,
    "ExecuteTime": {
     "end_time": "2023-12-11T00:32:10.458255600Z",
     "start_time": "2023-12-11T00:32:10.355733700Z"
    }
   },
   "outputs": [],
   "source": [
    "import pandas as pd\n",
    "import numpy as np\n",
    "import src.utils as utils\n",
    "from os import cpu_count\n",
    "from xgboost import XGBClassifier\n",
    "from sklearn.experimental import enable_halving_search_cv\n",
    "from sklearn.model_selection import train_test_split, HalvingGridSearchCV, KFold\n",
    "from sklearn.metrics import accuracy_score, f1_score, recall_score, precision_score, classification_report"
   ]
  },
  {
   "cell_type": "code",
   "execution_count": 2,
   "outputs": [],
   "source": [
    "data = utils.load_data()\n",
    "X = data.drop('increase_stock', axis=1)\n",
    "Y = data['increase_stock']"
   ],
   "metadata": {
    "collapsed": false,
    "ExecuteTime": {
     "end_time": "2023-12-11T00:32:16.811176100Z",
     "start_time": "2023-12-11T00:32:16.798370100Z"
    }
   },
   "id": "75a9276036071325"
  },
  {
   "cell_type": "code",
   "execution_count": null,
   "outputs": [],
   "source": [
    "bs_results = []\n",
    "param_grid = {\n",
    "    'model__learning_rate': [0.11, .13, .14],\n",
    "    # 'n_estimators': [50, 100, 150], # USE THIS AS RESOURCE\n",
    "    'model__max_depth': [2, 5, 7, 9, 12],\n",
    "    'model__subsample': [1],\n",
    "    'model__colsample_bytree': [.9, 1],\n",
    "    'model__gamma': [0],\n",
    "    'model__min_child_weight': [2, 3, 4],\n",
    "    'model__reg_lambda': [0, 0.1, 0.15]\n",
    "}\n",
    "for i in range(100):\n",
    "    print(f'{i + 1}/100')\n",
    "    kf = KFold(n_splits=150, shuffle=False)  #150 so that we have 10 samples tested on each fold\n",
    "    x_train, x_test, y_train, y_test = train_test_split(X, Y,\n",
    "                                                        test_size=1 / 16,  #save 100 holdout\n",
    "                                                        random_state=i + 1)\n",
    "    model = utils.initialize_model_pipeline(XGBClassifier())\n",
    "    search = HalvingGridSearchCV(model, param_grid=param_grid,\n",
    "                                 cv=kf, scoring='accuracy',\n",
    "                                 n_jobs=cpu_count() - 2,\n",
    "                                 resource='model__n_estimators',\n",
    "                                 max_resources=500)\n",
    "    search.fit(x_train, y_train)\n",
    "    y_hat = search.best_estimator_.predict(x_test)\n",
    "    bs_results.append({\n",
    "        'accuracy': accuracy_score(y_test, y_hat),\n",
    "        'optimistic_accuracy': search.best_score_,\n",
    "        'f1-score': f1_score(y_test, y_hat),\n",
    "        'f1-score_macro': f1_score(y_test, y_hat, average='macro'),\n",
    "        'f1-score_weighted': f1_score(y_test, y_hat, average='weighted'),\n",
    "        'precision': precision_score(y_test, y_hat),\n",
    "        'precision_macro': precision_score(y_test, y_hat, average='macro'),\n",
    "        'precision_weighted': precision_score(y_test, y_hat, average='weighted'),\n",
    "        'recall': recall_score(y_test, y_hat),\n",
    "        'recall_macro': recall_score(y_test, y_hat, average='macro'),\n",
    "        'recall_weighted': recall_score(y_test, y_hat, average='weighted'),\n",
    "        'class_report': classification_report(y_test, y_hat) \n",
    "    })"
   ],
   "metadata": {
    "collapsed": false
   },
   "id": "c89c59216905fea3"
  },
  {
   "cell_type": "code",
   "execution_count": null,
   "outputs": [],
   "source": [
    "results_df = pd.DataFrame(bs_results)\n",
    "pd.to_pickle('../data/insatiable.pkl')"
   ],
   "metadata": {
    "collapsed": false
   },
   "id": "371917cb82132bf1"
  },
  {
   "cell_type": "code",
   "execution_count": null,
   "outputs": [],
   "source": [
    "print(f'mew out of sample accuracy - mew optimistic accuracy = {np.mean(results_df[\"accuracy\"] - results_df[\"optimistic_accuracy\"])}')\n",
    "results_df[['accuracy','optimistic_accuracy']].mean()"
   ],
   "metadata": {
    "collapsed": false
   },
   "id": "512937e08d1c4bc5"
  },
  {
   "cell_type": "code",
   "execution_count": null,
   "outputs": [],
   "source": [
    "quantile_5 = np.percentile(results_df['accuracy'], 5, method=\"linear\")\n",
    "quantile_95 = np.percentile(results_df['accuracy'], 95, method=\"linear\")\n",
    "print(f'Mean accuracy: {results_df[\"accuracy\"].mean()}')\n",
    "print(f'~95% CI on out of sample accuracy [{quantile_5}, {quantile_95}]')"
   ],
   "metadata": {
    "collapsed": false
   },
   "id": "8b8955e9bd384320"
  },
  {
   "cell_type": "code",
   "execution_count": null,
   "outputs": [],
   "source": [
    "from seaborn import histplot\n",
    "import matplotlib.pyplot as plt\n",
    "histplot(data=results_df[['accuracy']], kde=True, palette='viridis')\n",
    "plt.xlabel('Accuracy distribution')"
   ],
   "metadata": {
    "collapsed": false
   },
   "id": "dae451c73751907e"
  },
  {
   "cell_type": "code",
   "execution_count": null,
   "outputs": [],
   "source": [
    "histplot(data=bs_results[['accuracy', 'optimistic_accuracy']], kde=True, palette='viridis')\n",
    "plt.xlabel('Accuracy distribution')"
   ],
   "metadata": {
    "collapsed": false
   },
   "id": "afa6896aa7677318"
  }
 ],
 "metadata": {
  "kernelspec": {
   "display_name": "Python 3",
   "language": "python",
   "name": "python3"
  },
  "language_info": {
   "codemirror_mode": {
    "name": "ipython",
    "version": 2
   },
   "file_extension": ".py",
   "mimetype": "text/x-python",
   "name": "python",
   "nbconvert_exporter": "python",
   "pygments_lexer": "ipython2",
   "version": "2.7.6"
  }
 },
 "nbformat": 4,
 "nbformat_minor": 5
}
