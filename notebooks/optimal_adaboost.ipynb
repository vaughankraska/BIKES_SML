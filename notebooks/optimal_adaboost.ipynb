{
 "cells": [
  {
   "cell_type": "code",
   "execution_count": 39,
   "id": "initial_id",
   "metadata": {
    "collapsed": true,
    "ExecuteTime": {
     "end_time": "2023-12-06T23:41:11.968494900Z",
     "start_time": "2023-12-06T23:41:11.948620Z"
    }
   },
   "outputs": [],
   "source": [
    "import matplotlib.pyplot as plt\n",
    "import pandas as pd\n",
    "import numpy as np\n",
    "from os import cpu_count\n",
    "from sklearn.ensemble import AdaBoostClassifier\n",
    "from sklearn.tree import DecisionTreeClassifier\n",
    "from sklearn.experimental import enable_halving_search_cv\n",
    "from sklearn.model_selection import train_test_split, KFold, GridSearchCV, HalvingGridSearchCV\n",
    "from src.utils import load_data, initialize_model_pipeline, cross_validate_model\n",
    "from sklearn.metrics import accuracy_score, classification_report\n",
    "from os import cpu_count"
   ]
  },
  {
   "cell_type": "code",
   "execution_count": 40,
   "outputs": [
    {
     "data": {
      "text/plain": "(1600, 43)"
     },
     "execution_count": 40,
     "metadata": {},
     "output_type": "execute_result"
    }
   ],
   "source": [
    "data = pd.read_csv('../data/thea.csv')\n",
    "X = data.drop('increase_stock', axis=1)\n",
    "Y = data['increase_stock']\n",
    "data.shape"
   ],
   "metadata": {
    "collapsed": false,
    "ExecuteTime": {
     "end_time": "2023-12-06T23:41:12.852075600Z",
     "start_time": "2023-12-06T23:41:12.838601400Z"
    }
   },
   "id": "4939e914a956c164"
  },
  {
   "cell_type": "code",
   "execution_count": 41,
   "outputs": [
    {
     "name": "stdout",
     "output_type": "stream",
     "text": [
      "1/100\n",
      "2/100\n",
      "3/100\n",
      "4/100\n",
      "5/100\n",
      "6/100\n",
      "7/100\n",
      "8/100\n",
      "9/100\n",
      "10/100\n",
      "11/100\n",
      "12/100\n",
      "13/100\n",
      "14/100\n",
      "15/100\n",
      "16/100\n",
      "17/100\n",
      "18/100\n",
      "19/100\n",
      "20/100\n",
      "21/100\n",
      "22/100\n",
      "23/100\n",
      "24/100\n",
      "25/100\n",
      "26/100\n",
      "27/100\n",
      "28/100\n",
      "29/100\n",
      "30/100\n",
      "31/100\n",
      "32/100\n",
      "33/100\n",
      "34/100\n",
      "35/100\n",
      "36/100\n",
      "37/100\n",
      "38/100\n",
      "39/100\n",
      "40/100\n",
      "41/100\n",
      "42/100\n",
      "43/100\n",
      "44/100\n",
      "45/100\n",
      "46/100\n",
      "47/100\n",
      "48/100\n",
      "49/100\n",
      "50/100\n",
      "51/100\n",
      "52/100\n",
      "53/100\n",
      "54/100\n",
      "55/100\n",
      "56/100\n",
      "57/100\n",
      "58/100\n",
      "59/100\n",
      "60/100\n",
      "61/100\n",
      "62/100\n",
      "63/100\n",
      "64/100\n",
      "65/100\n",
      "66/100\n",
      "67/100\n",
      "68/100\n",
      "69/100\n",
      "70/100\n",
      "71/100\n",
      "72/100\n",
      "73/100\n",
      "74/100\n",
      "75/100\n",
      "76/100\n",
      "77/100\n",
      "78/100\n",
      "79/100\n",
      "80/100\n",
      "81/100\n",
      "82/100\n",
      "83/100\n",
      "84/100\n",
      "85/100\n",
      "86/100\n",
      "87/100\n",
      "88/100\n",
      "89/100\n",
      "90/100\n",
      "91/100\n",
      "92/100\n",
      "93/100\n",
      "94/100\n",
      "95/100\n",
      "96/100\n",
      "97/100\n",
      "98/100\n",
      "99/100\n",
      "100/100\n"
     ]
    }
   ],
   "source": [
    "bs_results = []\n",
    "param_grid = {\n",
    "    'n_estimators': [100, 200],\n",
    "    'learning_rate': [0.01, 0.1],\n",
    "    'estimator__max_depth': [2, 3, 4],  # Example decision tree hyperparameter\n",
    "}\n",
    "\n",
    "for i in range(100):\n",
    "    print(f'{i+1}/100')\n",
    "    result = {}\n",
    "    x_train, x_test, y_train, y_test = train_test_split(X,Y,\n",
    "                                                        test_size=1/16,\n",
    "                                                        random_state=i+1)\n",
    "    kf = KFold(n_splits=150, shuffle=False)\n",
    "    base_m = DecisionTreeClassifier(random_state=123)\n",
    "    ada_model = AdaBoostClassifier(estimator=base_m)\n",
    "    search = HalvingGridSearchCV(ada_model,\n",
    "                                 param_grid=param_grid,\n",
    "                                 cv=kf,\n",
    "                                 scoring='accuracy',\n",
    "                                 n_jobs=cpu_count()-1)\n",
    "    search.fit(x_train,y_train)\n",
    "    result['accuracy'] = accuracy_score(y_test, search.best_estimator_.predict(x_test))\n",
    "    result['optimistic_accuracy'] = search.best_score_\n",
    "    result['class_report'] = classification_report(y_test, search.best_estimator_.predict(x_test))\n",
    "    result['best_params'] = search.best_params_\n",
    "    result['model'] = search.best_estimator_\n",
    "    bs_results.append(result)\n",
    "    "
   ],
   "metadata": {
    "collapsed": false,
    "ExecuteTime": {
     "end_time": "2023-12-07T01:16:47.481227300Z",
     "start_time": "2023-12-06T23:41:16.462400300Z"
    }
   },
   "id": "7e0a194e206936aa"
  },
  {
   "cell_type": "code",
   "execution_count": 43,
   "outputs": [
    {
     "data": {
      "text/plain": "    accuracy  optimistic_accuracy  \\\n0       0.91             0.890000   \n1       0.82             0.890000   \n2       0.93             0.865000   \n3       0.91             0.860000   \n4       0.89             0.886667   \n..       ...                  ...   \n95      0.88             0.888333   \n96      0.88             0.876667   \n97      0.84             0.880000   \n98      0.91             0.883333   \n99      0.90             0.860000   \n\n                                         class_report  \\\n0                 precision    recall  f1-score   ...   \n1                 precision    recall  f1-score   ...   \n2                 precision    recall  f1-score   ...   \n3                 precision    recall  f1-score   ...   \n4                 precision    recall  f1-score   ...   \n..                                                ...   \n95                precision    recall  f1-score   ...   \n96                precision    recall  f1-score   ...   \n97                precision    recall  f1-score   ...   \n98                precision    recall  f1-score   ...   \n99                precision    recall  f1-score   ...   \n\n                                          best_params  \\\n0   {'estimator__max_depth': 2, 'learning_rate': 0...   \n1   {'estimator__max_depth': 2, 'learning_rate': 0...   \n2   {'estimator__max_depth': 2, 'learning_rate': 0...   \n3   {'estimator__max_depth': 3, 'learning_rate': 0...   \n4   {'estimator__max_depth': 2, 'learning_rate': 0...   \n..                                                ...   \n95  {'estimator__max_depth': 3, 'learning_rate': 0...   \n96  {'estimator__max_depth': 2, 'learning_rate': 0...   \n97  {'estimator__max_depth': 2, 'learning_rate': 0...   \n98  {'estimator__max_depth': 3, 'learning_rate': 0...   \n99  {'estimator__max_depth': 4, 'learning_rate': 0...   \n\n                                                model  \n0   (DecisionTreeClassifier(max_depth=2, random_st...  \n1   (DecisionTreeClassifier(max_depth=2, random_st...  \n2   (DecisionTreeClassifier(max_depth=2, random_st...  \n3   (DecisionTreeClassifier(max_depth=3, random_st...  \n4   (DecisionTreeClassifier(max_depth=2, random_st...  \n..                                                ...  \n95  (DecisionTreeClassifier(max_depth=3, random_st...  \n96  (DecisionTreeClassifier(max_depth=2, random_st...  \n97  (DecisionTreeClassifier(max_depth=2, random_st...  \n98  (DecisionTreeClassifier(max_depth=3, random_st...  \n99  (DecisionTreeClassifier(max_depth=4, random_st...  \n\n[100 rows x 5 columns]",
      "text/html": "<div>\n<style scoped>\n    .dataframe tbody tr th:only-of-type {\n        vertical-align: middle;\n    }\n\n    .dataframe tbody tr th {\n        vertical-align: top;\n    }\n\n    .dataframe thead th {\n        text-align: right;\n    }\n</style>\n<table border=\"1\" class=\"dataframe\">\n  <thead>\n    <tr style=\"text-align: right;\">\n      <th></th>\n      <th>accuracy</th>\n      <th>optimistic_accuracy</th>\n      <th>class_report</th>\n      <th>best_params</th>\n      <th>model</th>\n    </tr>\n  </thead>\n  <tbody>\n    <tr>\n      <th>0</th>\n      <td>0.91</td>\n      <td>0.890000</td>\n      <td>precision    recall  f1-score   ...</td>\n      <td>{'estimator__max_depth': 2, 'learning_rate': 0...</td>\n      <td>(DecisionTreeClassifier(max_depth=2, random_st...</td>\n    </tr>\n    <tr>\n      <th>1</th>\n      <td>0.82</td>\n      <td>0.890000</td>\n      <td>precision    recall  f1-score   ...</td>\n      <td>{'estimator__max_depth': 2, 'learning_rate': 0...</td>\n      <td>(DecisionTreeClassifier(max_depth=2, random_st...</td>\n    </tr>\n    <tr>\n      <th>2</th>\n      <td>0.93</td>\n      <td>0.865000</td>\n      <td>precision    recall  f1-score   ...</td>\n      <td>{'estimator__max_depth': 2, 'learning_rate': 0...</td>\n      <td>(DecisionTreeClassifier(max_depth=2, random_st...</td>\n    </tr>\n    <tr>\n      <th>3</th>\n      <td>0.91</td>\n      <td>0.860000</td>\n      <td>precision    recall  f1-score   ...</td>\n      <td>{'estimator__max_depth': 3, 'learning_rate': 0...</td>\n      <td>(DecisionTreeClassifier(max_depth=3, random_st...</td>\n    </tr>\n    <tr>\n      <th>4</th>\n      <td>0.89</td>\n      <td>0.886667</td>\n      <td>precision    recall  f1-score   ...</td>\n      <td>{'estimator__max_depth': 2, 'learning_rate': 0...</td>\n      <td>(DecisionTreeClassifier(max_depth=2, random_st...</td>\n    </tr>\n    <tr>\n      <th>...</th>\n      <td>...</td>\n      <td>...</td>\n      <td>...</td>\n      <td>...</td>\n      <td>...</td>\n    </tr>\n    <tr>\n      <th>95</th>\n      <td>0.88</td>\n      <td>0.888333</td>\n      <td>precision    recall  f1-score   ...</td>\n      <td>{'estimator__max_depth': 3, 'learning_rate': 0...</td>\n      <td>(DecisionTreeClassifier(max_depth=3, random_st...</td>\n    </tr>\n    <tr>\n      <th>96</th>\n      <td>0.88</td>\n      <td>0.876667</td>\n      <td>precision    recall  f1-score   ...</td>\n      <td>{'estimator__max_depth': 2, 'learning_rate': 0...</td>\n      <td>(DecisionTreeClassifier(max_depth=2, random_st...</td>\n    </tr>\n    <tr>\n      <th>97</th>\n      <td>0.84</td>\n      <td>0.880000</td>\n      <td>precision    recall  f1-score   ...</td>\n      <td>{'estimator__max_depth': 2, 'learning_rate': 0...</td>\n      <td>(DecisionTreeClassifier(max_depth=2, random_st...</td>\n    </tr>\n    <tr>\n      <th>98</th>\n      <td>0.91</td>\n      <td>0.883333</td>\n      <td>precision    recall  f1-score   ...</td>\n      <td>{'estimator__max_depth': 3, 'learning_rate': 0...</td>\n      <td>(DecisionTreeClassifier(max_depth=3, random_st...</td>\n    </tr>\n    <tr>\n      <th>99</th>\n      <td>0.90</td>\n      <td>0.860000</td>\n      <td>precision    recall  f1-score   ...</td>\n      <td>{'estimator__max_depth': 4, 'learning_rate': 0...</td>\n      <td>(DecisionTreeClassifier(max_depth=4, random_st...</td>\n    </tr>\n  </tbody>\n</table>\n<p>100 rows × 5 columns</p>\n</div>"
     },
     "execution_count": 43,
     "metadata": {},
     "output_type": "execute_result"
    }
   ],
   "source": [
    "results_df = pd.DataFrame(bs_results)\n",
    "# results_df.to_pickle('../data/ada_optimal_results.pkl')\n",
    "results_df"
   ],
   "metadata": {
    "collapsed": false,
    "ExecuteTime": {
     "end_time": "2023-12-07T01:47:34.427386500Z",
     "start_time": "2023-12-07T01:47:34.231061300Z"
    }
   },
   "id": "28731feac8a34219"
  },
  {
   "cell_type": "code",
   "execution_count": 44,
   "outputs": [
    {
     "name": "stdout",
     "output_type": "stream",
     "text": [
      "mew out of sample accuracy - mew optimistic accuracy = -0.0015000000000000013\n"
     ]
    },
    {
     "data": {
      "text/plain": "accuracy               0.8806\noptimistic_accuracy    0.8821\ndtype: float64"
     },
     "execution_count": 44,
     "metadata": {},
     "output_type": "execute_result"
    }
   ],
   "source": [
    "print(f'mew out of sample accuracy - mew optimistic accuracy = {np.mean(results_df[\"accuracy\"] - results_df[\"optimistic_accuracy\"])}')\n",
    "results_df[['accuracy','optimistic_accuracy']].mean()"
   ],
   "metadata": {
    "collapsed": false,
    "ExecuteTime": {
     "end_time": "2023-12-07T01:49:12.579208600Z",
     "start_time": "2023-12-07T01:49:12.563581600Z"
    }
   },
   "id": "1539e3a628e3b073"
  },
  {
   "cell_type": "code",
   "execution_count": 45,
   "outputs": [
    {
     "name": "stdout",
     "output_type": "stream",
     "text": [
      "~95% CI on out of sample accuracy [0.8295, 0.93]\n"
     ]
    }
   ],
   "source": [
    "# noinspection PyArgumentList\n",
    "quantile_5 = np.percentile(results_df['accuracy'], 5, interpolation=\"linear\")\n",
    "# noinspection PyArgumentList\n",
    "quantile_95 = np.percentile(results_df['accuracy'], 95, interpolation=\"linear\")\n",
    "print(f'~95% CI on out of sample accuracy [{quantile_5}, {quantile_95}]')"
   ],
   "metadata": {
    "collapsed": false,
    "ExecuteTime": {
     "end_time": "2023-12-07T01:50:13.809290300Z",
     "start_time": "2023-12-07T01:50:13.795279300Z"
    }
   },
   "id": "740f56769e541fb7"
  },
  {
   "cell_type": "code",
   "execution_count": 46,
   "outputs": [
    {
     "data": {
      "text/plain": "Text(0.5, 1.0, 'Density: Out of Sample Accuracy vs. Optimistic Accuracy')"
     },
     "execution_count": 46,
     "metadata": {},
     "output_type": "execute_result"
    },
    {
     "data": {
      "text/plain": "<Figure size 640x480 with 1 Axes>",
      "image/png": "[encoded data removed]"
     },
     "metadata": {},
     "output_type": "display_data"
    }
   ],
   "source": [
    "from seaborn import histplot\n",
    "import matplotlib.pyplot as plt\n",
    "\n",
    "histplot(data=results_df[['accuracy', 'optimistic_accuracy']], kde=True, palette='viridis')\n",
    "plt.title('Density: Out of Sample Accuracy vs. Optimistic Accuracy')"
   ],
   "metadata": {
    "collapsed": false,
    "ExecuteTime": {
     "end_time": "2023-12-07T01:51:06.375606900Z",
     "start_time": "2023-12-07T01:51:06.120090100Z"
    }
   },
   "id": "6378d226fea4720f"
  },
  {
   "cell_type": "code",
   "execution_count": 47,
   "outputs": [
    {
     "data": {
      "text/plain": "       estimator__max_depth  learning_rate  n_estimators\ncount            100.000000     100.000000         100.0\nmean               2.890000       0.030700         155.0\nstd                0.790026       0.038066          50.0\nmin                2.000000       0.010000         100.0\n25%                2.000000       0.010000         100.0\n50%                3.000000       0.010000         200.0\n75%                4.000000       0.010000         200.0\nmax                4.000000       0.100000         200.0",
      "text/html": "<div>\n<style scoped>\n    .dataframe tbody tr th:only-of-type {\n        vertical-align: middle;\n    }\n\n    .dataframe tbody tr th {\n        vertical-align: top;\n    }\n\n    .dataframe thead th {\n        text-align: right;\n    }\n</style>\n<table border=\"1\" class=\"dataframe\">\n  <thead>\n    <tr style=\"text-align: right;\">\n      <th></th>\n      <th>estimator__max_depth</th>\n      <th>learning_rate</th>\n      <th>n_estimators</th>\n    </tr>\n  </thead>\n  <tbody>\n    <tr>\n      <th>count</th>\n      <td>100.000000</td>\n      <td>100.000000</td>\n      <td>100.0</td>\n    </tr>\n    <tr>\n      <th>mean</th>\n      <td>2.890000</td>\n      <td>0.030700</td>\n      <td>155.0</td>\n    </tr>\n    <tr>\n      <th>std</th>\n      <td>0.790026</td>\n      <td>0.038066</td>\n      <td>50.0</td>\n    </tr>\n    <tr>\n      <th>min</th>\n      <td>2.000000</td>\n      <td>0.010000</td>\n      <td>100.0</td>\n    </tr>\n    <tr>\n      <th>25%</th>\n      <td>2.000000</td>\n      <td>0.010000</td>\n      <td>100.0</td>\n    </tr>\n    <tr>\n      <th>50%</th>\n      <td>3.000000</td>\n      <td>0.010000</td>\n      <td>200.0</td>\n    </tr>\n    <tr>\n      <th>75%</th>\n      <td>4.000000</td>\n      <td>0.010000</td>\n      <td>200.0</td>\n    </tr>\n    <tr>\n      <th>max</th>\n      <td>4.000000</td>\n      <td>0.100000</td>\n      <td>200.0</td>\n    </tr>\n  </tbody>\n</table>\n</div>"
     },
     "execution_count": 47,
     "metadata": {},
     "output_type": "execute_result"
    }
   ],
   "source": [
    "#ex of how we can see the optimal results of hyper params\n",
    "hyper_params_df = pd.DataFrame(results_df['best_params'].tolist())\n",
    "hyper_params_df.describe()"
   ],
   "metadata": {
    "collapsed": false,
    "ExecuteTime": {
     "end_time": "2023-12-07T01:52:40.715498900Z",
     "start_time": "2023-12-07T01:52:40.693196400Z"
    }
   },
   "id": "d6294dd0e3e5c65e"
  },
  {
   "cell_type": "code",
   "execution_count": null,
   "outputs": [],
   "source": [
    "# best score 0.8961111111111112\n",
    "# {'base_estimator__max_depth': 4, 'learning_rate': 0.01, 'n_estimators': 200}\n",
    "\n",
    "# best score 0.8805555555555556\n",
    "# {'estimator__max_depth': 2, 'learning_rate': 0.1, 'n_estimators': 100}\n",
    "#SAMERUN\n",
    "# best score 0.8994444444444446\n",
    "# {'estimator__max_depth': 3, 'learning_rate': 0.01, 'n_estimators': 100}\n",
    "#SAMERUN\n",
    "# best score 0.8805555555555556\n",
    "# {'estimator__max_depth': 4, 'learning_rate': 0.1, 'n_estimators': 50}\n",
    "#SAMERUN Full GS\n",
    "# best score 0.8913333333333334\n",
    "# {'estimator__max_depth': 4, 'learning_rate': 0.01, 'n_estimators': 50}\n",
    "\n",
    "# best score 0.8866666666666667\n",
    "# {'estimator__max_depth': 2, 'learning_rate': 0.01, 'n_estimators': 200}"
   ],
   "metadata": {
    "collapsed": false
   },
   "id": "dfa59d7130da0a65"
  }
 ],
 "metadata": {
  "kernelspec": {
   "display_name": "Python 3",
   "language": "python",
   "name": "python3"
  },
  "language_info": {
   "codemirror_mode": {
    "name": "ipython",
    "version": 2
   },
   "file_extension": ".py",
   "mimetype": "text/x-python",
   "name": "python",
   "nbconvert_exporter": "python",
   "pygments_lexer": "ipython2",
   "version": "2.7.6"
  }
 },
 "nbformat": 4,
 "nbformat_minor": 5
}
