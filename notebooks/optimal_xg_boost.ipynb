{
 "cells": [
  {
   "cell_type": "code",
   "execution_count": 1,
   "outputs": [],
   "source": [
    "import matplotlib.pyplot as plt\n",
    "import pandas as pd\n",
    "import numpy as np\n",
    "from os import cpu_count\n",
    "from xgboost import XGBClassifier\n",
    "from sklearn.model_selection import train_test_split, GridSearchCV, KFold, RandomizedSearchCV\n",
    "from src.utils import load_data, initialize_model_pipeline, cross_validate_model\n",
    "from sklearn.metrics import accuracy_score, classification_report\n",
    "from os import cpu_count"
   ],
   "metadata": {
    "collapsed": false,
    "ExecuteTime": {
     "end_time": "2023-12-10T20:44:19.374201600Z",
     "start_time": "2023-12-10T20:44:19.278770Z"
    }
   },
   "id": "c4743eee41412592"
  },
  {
   "cell_type": "code",
   "execution_count": 107,
   "outputs": [],
   "source": [
    "data = pd.read_csv('../data/thea.csv')\n",
    "X = data.drop('increase_stock', axis=1)\n",
    "Y = data['increase_stock']"
   ],
   "metadata": {
    "collapsed": false,
    "ExecuteTime": {
     "end_time": "2023-12-06T20:29:03.763172500Z",
     "start_time": "2023-12-06T20:29:03.753532Z"
    }
   },
   "id": "2493fd476b0b4f19"
  },
  {
   "cell_type": "code",
   "execution_count": 108,
   "outputs": [
    {
     "name": "stdout",
     "output_type": "stream",
     "text": [
      "1/100\n",
      "Fitting 150 folds for each of 18 candidates, totalling 2700 fits\n",
      "2/100\n",
      "Fitting 150 folds for each of 18 candidates, totalling 2700 fits\n",
      "3/100\n",
      "Fitting 150 folds for each of 18 candidates, totalling 2700 fits\n",
      "4/100\n",
      "Fitting 150 folds for each of 18 candidates, totalling 2700 fits\n",
      "5/100\n",
      "Fitting 150 folds for each of 18 candidates, totalling 2700 fits\n",
      "6/100\n",
      "Fitting 150 folds for each of 18 candidates, totalling 2700 fits\n",
      "7/100\n",
      "Fitting 150 folds for each of 18 candidates, totalling 2700 fits\n",
      "8/100\n",
      "Fitting 150 folds for each of 18 candidates, totalling 2700 fits\n",
      "9/100\n",
      "Fitting 150 folds for each of 18 candidates, totalling 2700 fits\n",
      "10/100\n",
      "Fitting 150 folds for each of 18 candidates, totalling 2700 fits\n",
      "11/100\n",
      "Fitting 150 folds for each of 18 candidates, totalling 2700 fits\n",
      "12/100\n",
      "Fitting 150 folds for each of 18 candidates, totalling 2700 fits\n",
      "13/100\n",
      "Fitting 150 folds for each of 18 candidates, totalling 2700 fits\n",
      "14/100\n",
      "Fitting 150 folds for each of 18 candidates, totalling 2700 fits\n",
      "15/100\n",
      "Fitting 150 folds for each of 18 candidates, totalling 2700 fits\n",
      "16/100\n",
      "Fitting 150 folds for each of 18 candidates, totalling 2700 fits\n",
      "17/100\n",
      "Fitting 150 folds for each of 18 candidates, totalling 2700 fits\n",
      "18/100\n",
      "Fitting 150 folds for each of 18 candidates, totalling 2700 fits\n",
      "19/100\n",
      "Fitting 150 folds for each of 18 candidates, totalling 2700 fits\n",
      "20/100\n",
      "Fitting 150 folds for each of 18 candidates, totalling 2700 fits\n",
      "21/100\n",
      "Fitting 150 folds for each of 18 candidates, totalling 2700 fits\n",
      "22/100\n",
      "Fitting 150 folds for each of 18 candidates, totalling 2700 fits\n",
      "23/100\n",
      "Fitting 150 folds for each of 18 candidates, totalling 2700 fits\n",
      "24/100\n",
      "Fitting 150 folds for each of 18 candidates, totalling 2700 fits\n",
      "25/100\n",
      "Fitting 150 folds for each of 18 candidates, totalling 2700 fits\n",
      "26/100\n",
      "Fitting 150 folds for each of 18 candidates, totalling 2700 fits\n",
      "27/100\n",
      "Fitting 150 folds for each of 18 candidates, totalling 2700 fits\n",
      "28/100\n",
      "Fitting 150 folds for each of 18 candidates, totalling 2700 fits\n",
      "29/100\n",
      "Fitting 150 folds for each of 18 candidates, totalling 2700 fits\n",
      "30/100\n",
      "Fitting 150 folds for each of 18 candidates, totalling 2700 fits\n",
      "31/100\n",
      "Fitting 150 folds for each of 18 candidates, totalling 2700 fits\n",
      "32/100\n",
      "Fitting 150 folds for each of 18 candidates, totalling 2700 fits\n",
      "33/100\n",
      "Fitting 150 folds for each of 18 candidates, totalling 2700 fits\n",
      "34/100\n",
      "Fitting 150 folds for each of 18 candidates, totalling 2700 fits\n",
      "35/100\n",
      "Fitting 150 folds for each of 18 candidates, totalling 2700 fits\n",
      "36/100\n",
      "Fitting 150 folds for each of 18 candidates, totalling 2700 fits\n",
      "37/100\n",
      "Fitting 150 folds for each of 18 candidates, totalling 2700 fits\n",
      "38/100\n",
      "Fitting 150 folds for each of 18 candidates, totalling 2700 fits\n",
      "39/100\n",
      "Fitting 150 folds for each of 18 candidates, totalling 2700 fits\n",
      "40/100\n",
      "Fitting 150 folds for each of 18 candidates, totalling 2700 fits\n",
      "41/100\n",
      "Fitting 150 folds for each of 18 candidates, totalling 2700 fits\n",
      "42/100\n",
      "Fitting 150 folds for each of 18 candidates, totalling 2700 fits\n",
      "43/100\n",
      "Fitting 150 folds for each of 18 candidates, totalling 2700 fits\n",
      "44/100\n",
      "Fitting 150 folds for each of 18 candidates, totalling 2700 fits\n",
      "45/100\n",
      "Fitting 150 folds for each of 18 candidates, totalling 2700 fits\n",
      "46/100\n",
      "Fitting 150 folds for each of 18 candidates, totalling 2700 fits\n",
      "47/100\n",
      "Fitting 150 folds for each of 18 candidates, totalling 2700 fits\n",
      "48/100\n",
      "Fitting 150 folds for each of 18 candidates, totalling 2700 fits\n",
      "49/100\n",
      "Fitting 150 folds for each of 18 candidates, totalling 2700 fits\n",
      "50/100\n",
      "Fitting 150 folds for each of 18 candidates, totalling 2700 fits\n",
      "51/100\n",
      "Fitting 150 folds for each of 18 candidates, totalling 2700 fits\n",
      "52/100\n",
      "Fitting 150 folds for each of 18 candidates, totalling 2700 fits\n",
      "53/100\n",
      "Fitting 150 folds for each of 18 candidates, totalling 2700 fits\n",
      "54/100\n",
      "Fitting 150 folds for each of 18 candidates, totalling 2700 fits\n",
      "55/100\n",
      "Fitting 150 folds for each of 18 candidates, totalling 2700 fits\n",
      "56/100\n",
      "Fitting 150 folds for each of 18 candidates, totalling 2700 fits\n",
      "57/100\n",
      "Fitting 150 folds for each of 18 candidates, totalling 2700 fits\n",
      "58/100\n",
      "Fitting 150 folds for each of 18 candidates, totalling 2700 fits\n",
      "59/100\n",
      "Fitting 150 folds for each of 18 candidates, totalling 2700 fits\n",
      "60/100\n",
      "Fitting 150 folds for each of 18 candidates, totalling 2700 fits\n",
      "61/100\n",
      "Fitting 150 folds for each of 18 candidates, totalling 2700 fits\n",
      "62/100\n",
      "Fitting 150 folds for each of 18 candidates, totalling 2700 fits\n",
      "63/100\n",
      "Fitting 150 folds for each of 18 candidates, totalling 2700 fits\n",
      "64/100\n",
      "Fitting 150 folds for each of 18 candidates, totalling 2700 fits\n",
      "65/100\n",
      "Fitting 150 folds for each of 18 candidates, totalling 2700 fits\n",
      "66/100\n",
      "Fitting 150 folds for each of 18 candidates, totalling 2700 fits\n",
      "67/100\n",
      "Fitting 150 folds for each of 18 candidates, totalling 2700 fits\n",
      "68/100\n",
      "Fitting 150 folds for each of 18 candidates, totalling 2700 fits\n",
      "69/100\n",
      "Fitting 150 folds for each of 18 candidates, totalling 2700 fits\n",
      "70/100\n",
      "Fitting 150 folds for each of 18 candidates, totalling 2700 fits\n",
      "71/100\n",
      "Fitting 150 folds for each of 18 candidates, totalling 2700 fits\n",
      "72/100\n",
      "Fitting 150 folds for each of 18 candidates, totalling 2700 fits\n",
      "73/100\n",
      "Fitting 150 folds for each of 18 candidates, totalling 2700 fits\n",
      "74/100\n",
      "Fitting 150 folds for each of 18 candidates, totalling 2700 fits\n",
      "75/100\n",
      "Fitting 150 folds for each of 18 candidates, totalling 2700 fits\n",
      "76/100\n",
      "Fitting 150 folds for each of 18 candidates, totalling 2700 fits\n",
      "77/100\n",
      "Fitting 150 folds for each of 18 candidates, totalling 2700 fits\n",
      "78/100\n",
      "Fitting 150 folds for each of 18 candidates, totalling 2700 fits\n",
      "79/100\n",
      "Fitting 150 folds for each of 18 candidates, totalling 2700 fits\n",
      "80/100\n",
      "Fitting 150 folds for each of 18 candidates, totalling 2700 fits\n",
      "81/100\n",
      "Fitting 150 folds for each of 18 candidates, totalling 2700 fits\n",
      "82/100\n",
      "Fitting 150 folds for each of 18 candidates, totalling 2700 fits\n",
      "83/100\n",
      "Fitting 150 folds for each of 18 candidates, totalling 2700 fits\n",
      "84/100\n",
      "Fitting 150 folds for each of 18 candidates, totalling 2700 fits\n",
      "85/100\n",
      "Fitting 150 folds for each of 18 candidates, totalling 2700 fits\n",
      "86/100\n",
      "Fitting 150 folds for each of 18 candidates, totalling 2700 fits\n",
      "87/100\n",
      "Fitting 150 folds for each of 18 candidates, totalling 2700 fits\n",
      "88/100\n",
      "Fitting 150 folds for each of 18 candidates, totalling 2700 fits\n",
      "89/100\n",
      "Fitting 150 folds for each of 18 candidates, totalling 2700 fits\n",
      "90/100\n",
      "Fitting 150 folds for each of 18 candidates, totalling 2700 fits\n",
      "91/100\n",
      "Fitting 150 folds for each of 18 candidates, totalling 2700 fits\n",
      "92/100\n",
      "Fitting 150 folds for each of 18 candidates, totalling 2700 fits\n",
      "93/100\n",
      "Fitting 150 folds for each of 18 candidates, totalling 2700 fits\n",
      "94/100\n",
      "Fitting 150 folds for each of 18 candidates, totalling 2700 fits\n",
      "95/100\n",
      "Fitting 150 folds for each of 18 candidates, totalling 2700 fits\n",
      "96/100\n",
      "Fitting 150 folds for each of 18 candidates, totalling 2700 fits\n",
      "97/100\n",
      "Fitting 150 folds for each of 18 candidates, totalling 2700 fits\n",
      "98/100\n",
      "Fitting 150 folds for each of 18 candidates, totalling 2700 fits\n",
      "99/100\n",
      "Fitting 150 folds for each of 18 candidates, totalling 2700 fits\n",
      "100/100\n",
      "Fitting 150 folds for each of 18 candidates, totalling 2700 fits\n"
     ]
    }
   ],
   "source": [
    "bs_results = []\n",
    "#only optimize n_estimators, max depth, colsample_bytree\n",
    "param_grid = {\n",
    "    'learning_rate': [0.05, .1, .15],\n",
    "    'n_estimators': [50, 100, 150],\n",
    "    'max_depth': [4, 5],\n",
    "    'subsample': [.75],\n",
    "    'colsample_bytree': [0.75],\n",
    "    'gamma': [0],\n",
    "    'min_child_weight': [3],\n",
    "    'reg_lambda': [0.1]\n",
    "}\n",
    "\n",
    "for i in range(100):\n",
    "    print(f'{i + 1}/100')\n",
    "    result = {}\n",
    "    x_train, x_test, y_train, y_test = train_test_split(X, Y,\n",
    "                                                        test_size=1 / 16,  #save 100 holdout\n",
    "                                                        random_state=i + 1)\n",
    "    kf = KFold(n_splits=150, shuffle=True) #150 so that we have 10 samples tested on each fold\n",
    "    m = XGBClassifier()\n",
    "    search = GridSearchCV(m,\n",
    "                          param_grid=param_grid,\n",
    "                          cv=kf,\n",
    "                          scoring='accuracy',\n",
    "                          n_jobs=cpu_count() - 1,\n",
    "                          verbose=2)\n",
    "    search.fit(x_train, y=y_train)\n",
    "    result['accuracy'] = accuracy_score(y_test, search.best_estimator_.predict(x_test))\n",
    "    result['optimistic_accuracy'] = search.best_score_ \n",
    "    result['class_report'] = classification_report(y_test, search.best_estimator_.predict(x_test))\n",
    "    result['best_params'] = search.best_params_\n",
    "    result['model'] = search.best_estimator_\n",
    "    bs_results.append(result)\n"
   ],
   "metadata": {
    "collapsed": false,
    "ExecuteTime": {
     "end_time": "2023-12-06T20:50:15.442529Z",
     "start_time": "2023-12-06T20:29:04.343136900Z"
    }
   },
   "id": "a00225d9d0d22ab9"
  },
  {
   "cell_type": "code",
   "execution_count": 2,
   "outputs": [],
   "source": [
    "# bs_results = pd.DataFrame(bs_results)\n",
    "bs_results = pd.read_pickle('../data/xg_boost_optimal_results.pkl')"
   ],
   "metadata": {
    "collapsed": false,
    "ExecuteTime": {
     "end_time": "2023-12-10T20:21:23.422907200Z",
     "start_time": "2023-12-10T20:21:22.951691500Z"
    }
   },
   "id": "883a8ebd1ecf12a9"
  },
  {
   "cell_type": "markdown",
   "source": [
    "### Now we can look at the results of our *process* as a whole\n",
    "#### if the model was overfitting too much, we would expect the out of sample scores to be much less"
   ],
   "metadata": {
    "collapsed": false
   },
   "id": "7cb828fd0cdb5c"
  },
  {
   "cell_type": "code",
   "execution_count": 3,
   "outputs": [
    {
     "name": "stdout",
     "output_type": "stream",
     "text": [
      "mew out of sample accuracy - mew optimistic accuracy = -0.0059866666666667945\n"
     ]
    },
    {
     "data": {
      "text/plain": "accuracy               0.892100\noptimistic_accuracy    0.898087\ndtype: float64"
     },
     "execution_count": 3,
     "metadata": {},
     "output_type": "execute_result"
    }
   ],
   "source": [
    "print(f'mew out of sample accuracy - mew optimistic accuracy = {np.mean(bs_results[\"accuracy\"] - bs_results[\"optimistic_accuracy\"])}')\n",
    "bs_results[['accuracy','optimistic_accuracy']].mean()"
   ],
   "metadata": {
    "collapsed": false,
    "ExecuteTime": {
     "end_time": "2023-12-10T20:21:26.311443700Z",
     "start_time": "2023-12-10T20:21:26.299553Z"
    }
   },
   "id": "2b9319305d05ddd6"
  },
  {
   "cell_type": "markdown",
   "source": [
    "#### solid evidence that our optimization process is selected such that it does *not* overfit the data\n",
    "##### Lets look at the confidence interval of our true estimate based on the XG boost process"
   ],
   "metadata": {
    "collapsed": false
   },
   "id": "4d26249013aa0fc2"
  },
  {
   "cell_type": "code",
   "execution_count": 4,
   "outputs": [
    {
     "name": "stdout",
     "output_type": "stream",
     "text": [
      "~95% CI on out of sample accuracy [0.84, 0.93]\n"
     ]
    }
   ],
   "source": [
    "# noinspection PyArgumentList\n",
    "quantile_5 = np.percentile(bs_results['accuracy'], 5, interpolation=\"linear\")\n",
    "# noinspection PyArgumentList\n",
    "quantile_95 = np.percentile(bs_results['accuracy'], 95, interpolation=\"linear\")\n",
    "print(f'~95% CI on out of sample accuracy [{quantile_5}, {quantile_95}]')"
   ],
   "metadata": {
    "collapsed": false,
    "ExecuteTime": {
     "end_time": "2023-12-10T20:21:29.725712400Z",
     "start_time": "2023-12-10T20:21:29.719789200Z"
    }
   },
   "id": "5b0dfe64e94ca753"
  },
  {
   "cell_type": "code",
   "execution_count": 5,
   "outputs": [
    {
     "data": {
      "text/plain": "Text(0.5, 0, 'Accuracy distribution')"
     },
     "execution_count": 5,
     "metadata": {},
     "output_type": "execute_result"
    },
    {
     "data": {
      "text/plain": "<Figure size 640x480 with 1 Axes>",
      "image/png": "[encoded data removed]"
     },
     "metadata": {},
     "output_type": "display_data"
    }
   ],
   "source": [
    "from seaborn import histplot\n",
    "import matplotlib.pyplot as plt\n",
    "histplot(data=bs_results[['accuracy']], kde=True, palette='viridis')\n",
    "plt.xlabel('Accuracy distribution')\n",
    "# plt.savefig('../figures/xg_boost_accuracy.png', format='png', transparent=True, dpi=300)"
   ],
   "metadata": {
    "collapsed": false,
    "ExecuteTime": {
     "end_time": "2023-12-10T20:21:30.451735500Z",
     "start_time": "2023-12-10T20:21:30.205465700Z"
    }
   },
   "id": "1996527c6c2084ea"
  },
  {
   "cell_type": "markdown",
   "source": [
    "##### ^ above, the variance of the estimate might be due to N size of each accuracy prediction (optimistic acc is based on 150 samples of size 100 errors where as the out of sample accuracy is based on one sample of 100 holdout data)"
   ],
   "metadata": {
    "collapsed": false
   },
   "id": "74cbef4acbc29966"
  },
  {
   "cell_type": "code",
   "execution_count": 7,
   "outputs": [
    {
     "name": "stderr",
     "output_type": "stream",
     "text": [
      "C:\\Users\\krasky\\AppData\\Local\\Temp\\ipykernel_16028\\3914939731.py:2: UserWarning: Ignoring `palette` because no `hue` variable has been assigned.\n",
      "  histplot(data=bs_results['accuracy_diff'], palette='viridis', kde=True)\n"
     ]
    },
    {
     "data": {
      "text/plain": "<Axes: xlabel='accuracy_diff', ylabel='Count'>"
     },
     "execution_count": 7,
     "metadata": {},
     "output_type": "execute_result"
    },
    {
     "data": {
      "text/plain": "<Figure size 640x480 with 1 Axes>",
      "image/png": "[encoded data removed]"
     },
     "metadata": {},
     "output_type": "display_data"
    }
   ],
   "source": [
    "bs_results['accuracy_diff'] =bs_results['accuracy']-bs_results['optimistic_accuracy'] \n",
    "histplot(data=bs_results['accuracy_diff'], palette='viridis', kde=True)"
   ],
   "metadata": {
    "collapsed": false,
    "ExecuteTime": {
     "end_time": "2023-12-10T20:21:57.847671200Z",
     "start_time": "2023-12-10T20:21:57.628696800Z"
    }
   },
   "id": "2def8b61a6f4c0c3"
  },
  {
   "cell_type": "markdown",
   "source": [
    "### So we have a process\n",
    "### As a last step, lets run our process on the whole dataset and report the leave-one-out validated score\n",
    "#### ! question for group: do we run whole process over all data, or bag the hyper-parameters and use that as out final model (and report that leave-one-out) score?"
   ],
   "metadata": {
    "collapsed": false
   },
   "id": "b071ec15eb9ab2b4"
  },
  {
   "cell_type": "code",
   "execution_count": 7,
   "outputs": [
    {
     "data": {
      "text/plain": "       colsample_bytree  gamma  learning_rate   max_depth  min_child_weight  \\\ncount            100.00  100.0     100.000000  100.000000             100.0   \nmean               0.75    0.0       0.093000    4.680000               3.0   \nstd                0.00    0.0       0.039581    0.468826               0.0   \nmin                0.75    0.0       0.050000    4.000000               3.0   \n25%                0.75    0.0       0.050000    4.000000               3.0   \n50%                0.75    0.0       0.100000    5.000000               3.0   \n75%                0.75    0.0       0.112500    5.000000               3.0   \nmax                0.75    0.0       0.150000    5.000000               3.0   \n\n       n_estimators    reg_lambda  subsample  \ncount    100.000000  1.000000e+02     100.00  \nmean     100.500000  1.000000e-01       0.75  \nstd       40.511253  2.789540e-17       0.00  \nmin       50.000000  1.000000e-01       0.75  \n25%       50.000000  1.000000e-01       0.75  \n50%      100.000000  1.000000e-01       0.75  \n75%      150.000000  1.000000e-01       0.75  \nmax      150.000000  1.000000e-01       0.75  ",
      "text/html": "<div>\n<style scoped>\n    .dataframe tbody tr th:only-of-type {\n        vertical-align: middle;\n    }\n\n    .dataframe tbody tr th {\n        vertical-align: top;\n    }\n\n    .dataframe thead th {\n        text-align: right;\n    }\n</style>\n<table border=\"1\" class=\"dataframe\">\n  <thead>\n    <tr style=\"text-align: right;\">\n      <th></th>\n      <th>colsample_bytree</th>\n      <th>gamma</th>\n      <th>learning_rate</th>\n      <th>max_depth</th>\n      <th>min_child_weight</th>\n      <th>n_estimators</th>\n      <th>reg_lambda</th>\n      <th>subsample</th>\n    </tr>\n  </thead>\n  <tbody>\n    <tr>\n      <th>count</th>\n      <td>100.00</td>\n      <td>100.0</td>\n      <td>100.000000</td>\n      <td>100.000000</td>\n      <td>100.0</td>\n      <td>100.000000</td>\n      <td>1.000000e+02</td>\n      <td>100.00</td>\n    </tr>\n    <tr>\n      <th>mean</th>\n      <td>0.75</td>\n      <td>0.0</td>\n      <td>0.093000</td>\n      <td>4.680000</td>\n      <td>3.0</td>\n      <td>100.500000</td>\n      <td>1.000000e-01</td>\n      <td>0.75</td>\n    </tr>\n    <tr>\n      <th>std</th>\n      <td>0.00</td>\n      <td>0.0</td>\n      <td>0.039581</td>\n      <td>0.468826</td>\n      <td>0.0</td>\n      <td>40.511253</td>\n      <td>2.789540e-17</td>\n      <td>0.00</td>\n    </tr>\n    <tr>\n      <th>min</th>\n      <td>0.75</td>\n      <td>0.0</td>\n      <td>0.050000</td>\n      <td>4.000000</td>\n      <td>3.0</td>\n      <td>50.000000</td>\n      <td>1.000000e-01</td>\n      <td>0.75</td>\n    </tr>\n    <tr>\n      <th>25%</th>\n      <td>0.75</td>\n      <td>0.0</td>\n      <td>0.050000</td>\n      <td>4.000000</td>\n      <td>3.0</td>\n      <td>50.000000</td>\n      <td>1.000000e-01</td>\n      <td>0.75</td>\n    </tr>\n    <tr>\n      <th>50%</th>\n      <td>0.75</td>\n      <td>0.0</td>\n      <td>0.100000</td>\n      <td>5.000000</td>\n      <td>3.0</td>\n      <td>100.000000</td>\n      <td>1.000000e-01</td>\n      <td>0.75</td>\n    </tr>\n    <tr>\n      <th>75%</th>\n      <td>0.75</td>\n      <td>0.0</td>\n      <td>0.112500</td>\n      <td>5.000000</td>\n      <td>3.0</td>\n      <td>150.000000</td>\n      <td>1.000000e-01</td>\n      <td>0.75</td>\n    </tr>\n    <tr>\n      <th>max</th>\n      <td>0.75</td>\n      <td>0.0</td>\n      <td>0.150000</td>\n      <td>5.000000</td>\n      <td>3.0</td>\n      <td>150.000000</td>\n      <td>1.000000e-01</td>\n      <td>0.75</td>\n    </tr>\n  </tbody>\n</table>\n</div>"
     },
     "execution_count": 7,
     "metadata": {},
     "output_type": "execute_result"
    }
   ],
   "source": [
    "#ex of bagging hyper params\n",
    "hyper_params_df = pd.DataFrame(bs_results['best_params'].tolist())\n",
    "hyper_params_df.describe()"
   ],
   "metadata": {
    "collapsed": false,
    "ExecuteTime": {
     "end_time": "2023-12-08T16:30:53.591396Z",
     "start_time": "2023-12-08T16:30:53.574407Z"
    }
   },
   "id": "d651306c613f62a4"
  },
  {
   "cell_type": "code",
   "execution_count": 10,
   "outputs": [
    {
     "data": {
      "text/plain": "max_depth\n5    68\n4    32\nName: count, dtype: int64"
     },
     "execution_count": 10,
     "metadata": {},
     "output_type": "execute_result"
    }
   ],
   "source": [
    "hyper_params_df['max_depth'].value_counts()"
   ],
   "metadata": {
    "collapsed": false,
    "ExecuteTime": {
     "end_time": "2023-12-08T16:32:13.422086Z",
     "start_time": "2023-12-08T16:32:13.411368Z"
    }
   },
   "id": "2574570a4b01dd38"
  },
  {
   "cell_type": "code",
   "execution_count": 11,
   "outputs": [
    {
     "data": {
      "text/plain": "learning_rate\n0.05    39\n0.10    36\n0.15    25\nName: count, dtype: int64"
     },
     "execution_count": 11,
     "metadata": {},
     "output_type": "execute_result"
    }
   ],
   "source": [
    "hyper_params_df['learning_rate'].value_counts()"
   ],
   "metadata": {
    "collapsed": false,
    "ExecuteTime": {
     "end_time": "2023-12-08T16:32:34.318937Z",
     "start_time": "2023-12-08T16:32:34.313801Z"
    }
   },
   "id": "b7ae60c643cdfc24"
  },
  {
   "cell_type": "code",
   "execution_count": 12,
   "outputs": [
    {
     "data": {
      "text/plain": "n_estimators\n100    35\n150    33\n50     32\nName: count, dtype: int64"
     },
     "execution_count": 12,
     "metadata": {},
     "output_type": "execute_result"
    }
   ],
   "source": [
    "hyper_params_df['n_estimators'].value_counts()"
   ],
   "metadata": {
    "collapsed": false,
    "ExecuteTime": {
     "end_time": "2023-12-08T16:33:04.934775Z",
     "start_time": "2023-12-08T16:33:04.923122Z"
    }
   },
   "id": "1f056a4b92bb3bc"
  },
  {
   "cell_type": "code",
   "execution_count": 17,
   "outputs": [
    {
     "data": {
      "text/plain": "colsample_bytree         NaN\ngamma                    NaN\nlearning_rate      -0.008812\nmax_depth           0.022987\nmin_child_weight         NaN\nn_estimators        0.029007\nreg_lambda               NaN\nsubsample                NaN\naccuracy            0.998059\naccuracy_diff       1.000000\nName: accuracy_diff, dtype: float64"
     },
     "execution_count": 17,
     "metadata": {},
     "output_type": "execute_result"
    }
   ],
   "source": [
    "# look at which n_estimators needed more estimators\n",
    "hyper_params_df['accuracy'] = bs_results['accuracy']\n",
    "hyper_params_df['accuracy_diff'] = bs_results['accuracy_diff']\n",
    "hyper_params_df.select_dtypes(include='number').corr()['accuracy_diff']"
   ],
   "metadata": {
    "collapsed": false,
    "ExecuteTime": {
     "end_time": "2023-12-08T16:41:57.717678Z",
     "start_time": "2023-12-08T16:41:57.708894Z"
    }
   },
   "id": "be6255b48791ef63"
  },
  {
   "cell_type": "code",
   "execution_count": 121,
   "outputs": [],
   "source": [
    "# bs_results.to_pickle('../xg_boost_optimal_results.pkl')"
   ],
   "metadata": {
    "collapsed": false,
    "ExecuteTime": {
     "end_time": "2023-12-06T21:23:46.890246900Z",
     "start_time": "2023-12-06T21:23:46.721214500Z"
    }
   },
   "id": "bb5d3f28dc5ca9e2"
  },
  {
   "cell_type": "code",
   "execution_count": null,
   "outputs": [],
   "source": [
    "# best params grid (no alpha or lambda):\n",
    "# {'colsample_bytree': 1.0, 'gamma': 0.2, 'learning_rate': 0.05, 'max_depth': 5, 'max_iter': 10000, 'min_child_weight': 1, 'n_estimators': 100, 'scale_pos_weight': 1, 'subsample': 0.75}\n",
    "# best_score: 0.896875\n",
    "\n",
    "# best params :\n",
    "# {'colsample_bytree': 0.75, 'gamma': 0, 'learning_rate': 0.15, 'max_depth': 5, 'min_child_weight': 3, 'n_estimators': 50, 'reg_lambda': 0.9, 'subsample': 1.0}\n",
    "# best_score: 0.905\n",
    "\n",
    "# best RANDOM params:\n",
    "# {'subsample': 0.5, 'scale_pos_weight': 1, 'reg_lambda': 0.9, 'reg_alpha': 0.1, 'n_estimators': 100, 'min_child_weight': 1, 'max_depth': 5, 'learning_rate': 0.1, 'gamma': 0.2, 'colsample_bytree': 0.75}\n",
    "# best_score: 0.9018750000000001\n",
    "\n",
    "# best params:\n",
    "# {'colsample_bytree': 0.75, 'gamma': 0.3, 'learning_rate': 0.075, 'max_depth': 5, 'min_child_weight': 1, 'n_estimators': 75, 'reg_lambda': 0.1, 'subsample': 0.75}"
   ],
   "metadata": {
    "collapsed": false
   },
   "id": "d5ffb74e75bd4d56"
  },
  {
   "cell_type": "code",
   "execution_count": null,
   "outputs": [],
   "source": [],
   "metadata": {
    "collapsed": false
   },
   "id": "83ca39c2d83404cf"
  }
 ],
 "metadata": {
  "kernelspec": {
   "display_name": "Python 3",
   "language": "python",
   "name": "python3"
  },
  "language_info": {
   "codemirror_mode": {
    "name": "ipython",
    "version": 2
   },
   "file_extension": ".py",
   "mimetype": "text/x-python",
   "name": "python",
   "nbconvert_exporter": "python",
   "pygments_lexer": "ipython2",
   "version": "2.7.6"
  }
 },
 "nbformat": 4,
 "nbformat_minor": 5
}
