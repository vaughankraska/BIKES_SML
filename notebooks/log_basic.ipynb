{
 "cells": [
  {
   "cell_type": "code",
   "execution_count": 11,
   "id": "initial_id",
   "metadata": {
    "collapsed": true,
    "ExecuteTime": {
     "end_time": "2023-11-27T23:47:21.860878Z",
     "start_time": "2023-11-27T23:47:21.853952Z"
    }
   },
   "outputs": [],
   "source": [
    "import pandas as pd\n",
    "from feature_creation import data_copy\n",
    "from sklearn.model_selection import KFold, cross_val_score, cross_val_predict\n",
    "from sklearn.metrics import classification_report\n",
    "from sklearn.linear_model import LogisticRegression\n",
    "from sklearn.preprocessing import OneHotEncoder\n",
    "from sklearn.compose import ColumnTransformer\n",
    "from sklearn.pipeline import Pipeline\n",
    "import numpy as np\n",
    "import seaborn as sns"
   ]
  },
  {
   "cell_type": "markdown",
   "source": [
    "# Train/Build model for basic logistic regression"
   ],
   "metadata": {
    "collapsed": false
   },
   "id": "c2ba9b0e9e9c4c59"
  },
  {
   "cell_type": "code",
   "execution_count": 2,
   "outputs": [
    {
     "data": {
      "text/plain": "           holiday      weekday  summertime         temp          dew  \\\ncount  1600.000000  1600.000000  1600.00000  1600.000000  1600.000000   \nmean      0.033125     0.710000     0.64375    15.210313     7.750750   \nstd       0.179019     0.453904     0.47904     9.264785    10.026459   \nmin       0.000000     0.000000     0.00000    -9.100000   -18.400000   \n25%       0.000000     0.000000     0.00000     7.700000    -0.800000   \n50%       0.000000     1.000000     1.00000    15.500000     8.300000   \n75%       0.000000     1.000000     1.00000    23.200000    16.800000   \nmax       1.000000     1.000000     1.00000    35.600000    24.300000   \n\n          humidity       precip    snowdepth    windspeed   cloudcover  \\\ncount  1600.000000  1600.000000  1600.000000  1600.000000  1600.000000   \nmean     63.927844     0.122042     0.042713    13.082500    64.322375   \nstd      19.079419     0.920600     0.421198     7.756652    32.748869   \nmin      15.850000     0.000000     0.000000     0.000000     0.000000   \n25%      47.845000     0.000000     0.000000     7.500000    28.800000   \n50%      65.175000     0.000000     0.000000    12.300000    79.300000   \n75%      79.955000     0.000000     0.000000    17.600000    92.800000   \nmax      99.890000    25.871000     6.710000    43.800000   100.000000   \n\n        visibility  increase_stock      daytime     rushhour  weather_score  \\\ncount  1600.000000     1600.000000  1600.000000  1600.000000    1600.000000   \nmean     15.344125        0.180000     0.543750     0.205625       0.180000   \nstd       2.323737        0.384308     0.498238     0.404284       0.184322   \nmin       0.100000        0.000000     0.000000     0.000000      -0.239787   \n25%      16.000000        0.000000     0.000000     0.000000       0.049945   \n50%      16.000000        0.000000     1.000000     0.000000       0.154343   \n75%      16.000000        0.000000     1.000000     0.000000       0.278779   \nmax      16.000000        1.000000     1.000000     1.000000       0.956538   \n\n       weather_score_daytime  \ncount            1600.000000  \nmean                0.127378  \nstd                 0.189459  \nmin                -0.160192  \n25%                 0.000000  \n50%                 0.000000  \n75%                 0.225751  \nmax                 0.956538  ",
      "text/html": "<div>\n<style scoped>\n    .dataframe tbody tr th:only-of-type {\n        vertical-align: middle;\n    }\n\n    .dataframe tbody tr th {\n        vertical-align: top;\n    }\n\n    .dataframe thead th {\n        text-align: right;\n    }\n</style>\n<table border=\"1\" class=\"dataframe\">\n  <thead>\n    <tr style=\"text-align: right;\">\n      <th></th>\n      <th>holiday</th>\n      <th>weekday</th>\n      <th>summertime</th>\n      <th>temp</th>\n      <th>dew</th>\n      <th>humidity</th>\n      <th>precip</th>\n      <th>snowdepth</th>\n      <th>windspeed</th>\n      <th>cloudcover</th>\n      <th>visibility</th>\n      <th>increase_stock</th>\n      <th>daytime</th>\n      <th>rushhour</th>\n      <th>weather_score</th>\n      <th>weather_score_daytime</th>\n    </tr>\n  </thead>\n  <tbody>\n    <tr>\n      <th>count</th>\n      <td>1600.000000</td>\n      <td>1600.000000</td>\n      <td>1600.00000</td>\n      <td>1600.000000</td>\n      <td>1600.000000</td>\n      <td>1600.000000</td>\n      <td>1600.000000</td>\n      <td>1600.000000</td>\n      <td>1600.000000</td>\n      <td>1600.000000</td>\n      <td>1600.000000</td>\n      <td>1600.000000</td>\n      <td>1600.000000</td>\n      <td>1600.000000</td>\n      <td>1600.000000</td>\n      <td>1600.000000</td>\n    </tr>\n    <tr>\n      <th>mean</th>\n      <td>0.033125</td>\n      <td>0.710000</td>\n      <td>0.64375</td>\n      <td>15.210313</td>\n      <td>7.750750</td>\n      <td>63.927844</td>\n      <td>0.122042</td>\n      <td>0.042713</td>\n      <td>13.082500</td>\n      <td>64.322375</td>\n      <td>15.344125</td>\n      <td>0.180000</td>\n      <td>0.543750</td>\n      <td>0.205625</td>\n      <td>0.180000</td>\n      <td>0.127378</td>\n    </tr>\n    <tr>\n      <th>std</th>\n      <td>0.179019</td>\n      <td>0.453904</td>\n      <td>0.47904</td>\n      <td>9.264785</td>\n      <td>10.026459</td>\n      <td>19.079419</td>\n      <td>0.920600</td>\n      <td>0.421198</td>\n      <td>7.756652</td>\n      <td>32.748869</td>\n      <td>2.323737</td>\n      <td>0.384308</td>\n      <td>0.498238</td>\n      <td>0.404284</td>\n      <td>0.184322</td>\n      <td>0.189459</td>\n    </tr>\n    <tr>\n      <th>min</th>\n      <td>0.000000</td>\n      <td>0.000000</td>\n      <td>0.00000</td>\n      <td>-9.100000</td>\n      <td>-18.400000</td>\n      <td>15.850000</td>\n      <td>0.000000</td>\n      <td>0.000000</td>\n      <td>0.000000</td>\n      <td>0.000000</td>\n      <td>0.100000</td>\n      <td>0.000000</td>\n      <td>0.000000</td>\n      <td>0.000000</td>\n      <td>-0.239787</td>\n      <td>-0.160192</td>\n    </tr>\n    <tr>\n      <th>25%</th>\n      <td>0.000000</td>\n      <td>0.000000</td>\n      <td>0.00000</td>\n      <td>7.700000</td>\n      <td>-0.800000</td>\n      <td>47.845000</td>\n      <td>0.000000</td>\n      <td>0.000000</td>\n      <td>7.500000</td>\n      <td>28.800000</td>\n      <td>16.000000</td>\n      <td>0.000000</td>\n      <td>0.000000</td>\n      <td>0.000000</td>\n      <td>0.049945</td>\n      <td>0.000000</td>\n    </tr>\n    <tr>\n      <th>50%</th>\n      <td>0.000000</td>\n      <td>1.000000</td>\n      <td>1.00000</td>\n      <td>15.500000</td>\n      <td>8.300000</td>\n      <td>65.175000</td>\n      <td>0.000000</td>\n      <td>0.000000</td>\n      <td>12.300000</td>\n      <td>79.300000</td>\n      <td>16.000000</td>\n      <td>0.000000</td>\n      <td>1.000000</td>\n      <td>0.000000</td>\n      <td>0.154343</td>\n      <td>0.000000</td>\n    </tr>\n    <tr>\n      <th>75%</th>\n      <td>0.000000</td>\n      <td>1.000000</td>\n      <td>1.00000</td>\n      <td>23.200000</td>\n      <td>16.800000</td>\n      <td>79.955000</td>\n      <td>0.000000</td>\n      <td>0.000000</td>\n      <td>17.600000</td>\n      <td>92.800000</td>\n      <td>16.000000</td>\n      <td>0.000000</td>\n      <td>1.000000</td>\n      <td>0.000000</td>\n      <td>0.278779</td>\n      <td>0.225751</td>\n    </tr>\n    <tr>\n      <th>max</th>\n      <td>1.000000</td>\n      <td>1.000000</td>\n      <td>1.00000</td>\n      <td>35.600000</td>\n      <td>24.300000</td>\n      <td>99.890000</td>\n      <td>25.871000</td>\n      <td>6.710000</td>\n      <td>43.800000</td>\n      <td>100.000000</td>\n      <td>16.000000</td>\n      <td>1.000000</td>\n      <td>1.000000</td>\n      <td>1.000000</td>\n      <td>0.956538</td>\n      <td>0.956538</td>\n    </tr>\n  </tbody>\n</table>\n</div>"
     },
     "execution_count": 2,
     "metadata": {},
     "output_type": "execute_result"
    }
   ],
   "source": [
    "data_copy['increase_stock'] = data_copy['increase_stock'].apply(lambda entity: 1 if entity == 'high_bike_demand' else 0)\n",
    "data_copy['increase_stock'] = data_copy['increase_stock'].astype('int')\n",
    "data_copy.describe()"
   ],
   "metadata": {
    "collapsed": false,
    "ExecuteTime": {
     "end_time": "2023-11-27T23:38:58.250064Z",
     "start_time": "2023-11-27T23:38:58.229344Z"
    }
   },
   "id": "a4376392e511e9ef"
  },
  {
   "cell_type": "code",
   "execution_count": 12,
   "outputs": [
    {
     "name": "stdout",
     "output_type": "stream",
     "text": [
      "<class 'pandas.core.frame.DataFrame'>\n",
      "RangeIndex: 1600 entries, 0 to 1599\n",
      "Data columns (total 19 columns):\n",
      " #   Column                 Non-Null Count  Dtype   \n",
      "---  ------                 --------------  -----   \n",
      " 0   hour_of_day            1600 non-null   category\n",
      " 1   day_of_week            1600 non-null   category\n",
      " 2   month                  1600 non-null   category\n",
      " 3   holiday                1600 non-null   int64   \n",
      " 4   weekday                1600 non-null   int64   \n",
      " 5   summertime             1600 non-null   int64   \n",
      " 6   temp                   1600 non-null   float64 \n",
      " 7   dew                    1600 non-null   float64 \n",
      " 8   humidity               1600 non-null   float64 \n",
      " 9   precip                 1600 non-null   float64 \n",
      " 10  snowdepth              1600 non-null   float64 \n",
      " 11  windspeed              1600 non-null   float64 \n",
      " 12  cloudcover             1600 non-null   float64 \n",
      " 13  visibility             1600 non-null   float64 \n",
      " 14  increase_stock         1600 non-null   int64   \n",
      " 15  daytime                1600 non-null   int64   \n",
      " 16  rushhour               1600 non-null   int64   \n",
      " 17  weather_score          1600 non-null   float64 \n",
      " 18  weather_score_daytime  1600 non-null   float64 \n",
      "dtypes: category(3), float64(10), int64(6)\n",
      "memory usage: 206.3 KB\n"
     ]
    }
   ],
   "source": [
    "data_copy.info()"
   ],
   "metadata": {
    "collapsed": false,
    "ExecuteTime": {
     "end_time": "2023-11-27T23:47:34.591962Z",
     "start_time": "2023-11-27T23:47:34.584830Z"
    }
   },
   "id": "69cf859da9656208"
  },
  {
   "cell_type": "code",
   "execution_count": 13,
   "outputs": [
    {
     "name": "stdout",
     "output_type": "stream",
     "text": [
      "Number of cores: 8\n"
     ]
    }
   ],
   "source": [
    "import os\n",
    "num_cores = os.cpu_count()\n",
    "print(f'Number of cores: {num_cores}')"
   ],
   "metadata": {
    "collapsed": false,
    "ExecuteTime": {
     "end_time": "2023-11-27T23:47:59.757426Z",
     "start_time": "2023-11-27T23:47:59.749592Z"
    }
   },
   "id": "1c889549d0694edd"
  },
  {
   "cell_type": "code",
   "execution_count": 14,
   "outputs": [],
   "source": [
    "X = data_copy.drop('increase_stock',axis=1)\n",
    "Y = data_copy['increase_stock']\n",
    "\n",
    "preprocessor = ColumnTransformer([('cat',OneHotEncoder(), list(X.select_dtypes(include='category').columns))],\n",
    "                                 remainder='passthrough')\n",
    "logreg_model = Pipeline([\n",
    "    ('preprocessor', preprocessor),\n",
    "    ('classifier', LogisticRegression(max_iter=10000))\n",
    "])\n"
   ],
   "metadata": {
    "collapsed": false,
    "ExecuteTime": {
     "end_time": "2023-11-27T23:48:00.173610Z",
     "start_time": "2023-11-27T23:48:00.171336Z"
    }
   },
   "id": "6539caf874f0f19f"
  },
  {
   "cell_type": "code",
   "execution_count": 15,
   "outputs": [
    {
     "name": "stdout",
     "output_type": "stream",
     "text": [
      "Cross-validation results: [0.75   0.875  0.875  0.875  1.     0.875  0.875  0.875  0.875  0.9375\n",
      " 0.9375 1.     0.875  0.9375 0.875  0.8125 0.75   0.9375 0.6875 0.9375\n",
      " 1.     0.8125 0.9375 0.875  0.9375 0.875  0.75   0.875  0.875  0.875\n",
      " 0.875  0.9375 0.9375 0.8125 0.9375 0.875  0.9375 0.875  0.9375 1.\n",
      " 0.9375 0.8125 1.     0.9375 0.9375 0.875  0.9375 0.9375 0.9375 0.75\n",
      " 0.8125 0.875  0.8125 0.875  0.875  0.8125 0.875  1.     0.9375 0.8125\n",
      " 0.9375 0.9375 0.8125 0.8125 1.     0.875  0.875  0.875  0.875  0.875\n",
      " 1.     0.9375 0.9375 1.     0.9375 1.     0.875  0.9375 0.875  0.9375\n",
      " 0.9375 0.8125 0.875  1.     0.75   0.9375 0.875  0.875  0.9375 0.875\n",
      " 0.8125 0.9375 1.     0.8125 1.     0.9375 1.     1.     0.9375 0.875 ]\n",
      "Mean accuracy: 0.8975\n"
     ]
    }
   ],
   "source": [
    "kf = KFold(n_splits=100, shuffle=True, random_state=123)\n",
    "cross_val_results = cross_val_score(logreg_model, X, Y, cv=kf, scoring='accuracy',n_jobs=num_cores) #run in parallel\n",
    "\n",
    "# Print the cross-validation results\n",
    "print(f'Cross-validation results: {cross_val_results}')\n",
    "print(f'Mean accuracy: {np.mean(cross_val_results)}')"
   ],
   "metadata": {
    "collapsed": false,
    "ExecuteTime": {
     "end_time": "2023-11-27T23:48:04.083815Z",
     "start_time": "2023-11-27T23:48:00.853918Z"
    }
   },
   "id": "f7875be882819bf1"
  },
  {
   "cell_type": "code",
   "execution_count": 16,
   "outputs": [
    {
     "data": {
      "text/plain": "                0\ncount  100.000000\nmean     0.897500\nstd      0.069108\nmin      0.687500\n25%      0.875000\n50%      0.875000\n75%      0.937500\nmax      1.000000",
      "text/html": "<div>\n<style scoped>\n    .dataframe tbody tr th:only-of-type {\n        vertical-align: middle;\n    }\n\n    .dataframe tbody tr th {\n        vertical-align: top;\n    }\n\n    .dataframe thead th {\n        text-align: right;\n    }\n</style>\n<table border=\"1\" class=\"dataframe\">\n  <thead>\n    <tr style=\"text-align: right;\">\n      <th></th>\n      <th>0</th>\n    </tr>\n  </thead>\n  <tbody>\n    <tr>\n      <th>count</th>\n      <td>100.000000</td>\n    </tr>\n    <tr>\n      <th>mean</th>\n      <td>0.897500</td>\n    </tr>\n    <tr>\n      <th>std</th>\n      <td>0.069108</td>\n    </tr>\n    <tr>\n      <th>min</th>\n      <td>0.687500</td>\n    </tr>\n    <tr>\n      <th>25%</th>\n      <td>0.875000</td>\n    </tr>\n    <tr>\n      <th>50%</th>\n      <td>0.875000</td>\n    </tr>\n    <tr>\n      <th>75%</th>\n      <td>0.937500</td>\n    </tr>\n    <tr>\n      <th>max</th>\n      <td>1.000000</td>\n    </tr>\n  </tbody>\n</table>\n</div>"
     },
     "execution_count": 16,
     "metadata": {},
     "output_type": "execute_result"
    }
   ],
   "source": [
    "# Mean accuracy: 0.8971232020012507 k=N\n",
    "pd.DataFrame(cross_val_results).describe()"
   ],
   "metadata": {
    "collapsed": false,
    "ExecuteTime": {
     "end_time": "2023-11-27T23:48:05.179567Z",
     "start_time": "2023-11-27T23:48:05.173743Z"
    }
   },
   "id": "f46cac2483e61532"
  },
  {
   "cell_type": "code",
   "execution_count": 17,
   "outputs": [
    {
     "name": "stdout",
     "output_type": "stream",
     "text": [
      "col len: 58 coef len: 58\n",
      "cat__hour_of_day_0 = -0.53558370674982\n",
      "cat__hour_of_day_1 = -0.4911590850877324\n",
      "cat__hour_of_day_2 = -0.30778551013834243\n",
      "cat__hour_of_day_3 = -0.3347904312469982\n",
      "cat__hour_of_day_4 = -0.40936158881745977\n",
      "cat__hour_of_day_5 = -0.3007032151054789\n",
      "cat__hour_of_day_6 = -0.29139162198099894\n",
      "cat__hour_of_day_7 = -1.0392324723300728\n",
      "cat__hour_of_day_8 = 0.8904578576516211\n",
      "cat__hour_of_day_9 = 0.700642315495557\n",
      "cat__hour_of_day_10 = -0.18671599245940854\n",
      "cat__hour_of_day_11 = 0.3209915386015567\n",
      "cat__hour_of_day_12 = 0.6304520937990155\n",
      "cat__hour_of_day_13 = -0.04350274150062647\n",
      "cat__hour_of_day_14 = 0.035635864685797214\n",
      "cat__hour_of_day_15 = -0.2514492264653028\n",
      "cat__hour_of_day_16 = -0.043814291446107476\n",
      "cat__hour_of_day_17 = 0.6726629813534225\n",
      "cat__hour_of_day_18 = 1.1002552933580485\n",
      "cat__hour_of_day_19 = -0.0002926155776033071\n",
      "cat__hour_of_day_20 = 1.0526098731114288\n",
      "cat__hour_of_day_21 = -0.6472396231208094\n",
      "cat__hour_of_day_22 = 0.03468574640483154\n",
      "cat__hour_of_day_23 = -0.5639524668615526\n",
      "cat__day_of_week_0 = -0.118668872076624\n",
      "cat__day_of_week_1 = -0.24234740424055556\n",
      "cat__day_of_week_2 = -0.26439999346911736\n",
      "cat__day_of_week_3 = -0.1681333289367835\n",
      "cat__day_of_week_4 = 0.09922088258753478\n",
      "cat__day_of_week_5 = 0.6278493429976272\n",
      "cat__day_of_week_6 = 0.057898348709598216\n",
      "cat__month_1 = -0.19387770559557868\n",
      "cat__month_2 = -0.04546821173986482\n",
      "cat__month_3 = 0.21955534232447893\n",
      "cat__month_4 = 0.6769819273552335\n",
      "cat__month_5 = -0.9621269462483514\n",
      "cat__month_6 = -0.12145894373749941\n",
      "cat__month_7 = -0.8727208874997413\n",
      "cat__month_8 = -0.6805581340614144\n",
      "cat__month_9 = 0.616114137395583\n",
      "cat__month_10 = 0.8804787304327343\n",
      "cat__month_11 = 0.6918398638512224\n",
      "cat__month_12 = -0.21734019690608083\n",
      "remainder__holiday = 0.3548363567132819\n",
      "remainder__weekday = -0.6943287161359848\n",
      "remainder__summertime = 0.9665327354291884\n",
      "remainder__temp = 0.17468654483213247\n",
      "remainder__dew = -0.060167644217919945\n",
      "remainder__humidity = -0.01446269558829952\n",
      "remainder__precip = -1.2355959908951084\n",
      "remainder__snowdepth = -0.5584375557862303\n",
      "remainder__windspeed = -0.020551125628940157\n",
      "remainder__cloudcover = 0.00513796545206355\n",
      "remainder__visibility = 0.11220552420199739\n",
      "remainder__daytime = 2.78609060516515\n",
      "remainder__rushhour = 1.4773621412222113\n",
      "remainder__weather_score = 0.030141626481862284\n",
      "remainder__weather_score_daytime = -0.016128953960837893\n"
     ]
    }
   ],
   "source": [
    "logreg_model.fit(X,Y)\n",
    "processed_names = logreg_model[:-1].get_feature_names_out()\n",
    "logreg_coefs = logreg_model.named_steps[\"classifier\"].coef_[0]\n",
    "print(f'col len: {len(processed_names)} coef len: {len(logreg_coefs)}')\n",
    "for item in zip(processed_names,logreg_coefs):\n",
    "    print(f'{item[0]} = {item[1]}')"
   ],
   "metadata": {
    "collapsed": false,
    "ExecuteTime": {
     "end_time": "2023-11-27T23:48:06.922576Z",
     "start_time": "2023-11-27T23:48:06.589875Z"
    }
   },
   "id": "b64f4d1471bd8385"
  },
  {
   "cell_type": "code",
   "execution_count": 19,
   "outputs": [],
   "source": [
    "y_hats = cross_val_predict(logreg_model,X=X,y=Y,cv=160)"
   ],
   "metadata": {
    "collapsed": false,
    "ExecuteTime": {
     "end_time": "2023-11-27T23:50:19.361562Z",
     "start_time": "2023-11-27T23:49:33.815719Z"
    }
   },
   "id": "5bca2d89ba5ef4fc"
  },
  {
   "cell_type": "code",
   "execution_count": 21,
   "outputs": [
    {
     "name": "stdout",
     "output_type": "stream",
     "text": [
      "              precision    recall  f1-score   support\n",
      "\n",
      "           0       0.92      0.96      0.94      1312\n",
      "           1       0.76      0.64      0.69       288\n",
      "\n",
      "    accuracy                           0.90      1600\n",
      "   macro avg       0.84      0.80      0.82      1600\n",
      "weighted avg       0.89      0.90      0.89      1600\n"
     ]
    }
   ],
   "source": [
    "print(classification_report(Y,y_hats))"
   ],
   "metadata": {
    "collapsed": false,
    "ExecuteTime": {
     "end_time": "2023-11-27T23:50:57.758292Z",
     "start_time": "2023-11-27T23:50:57.752695Z"
    }
   },
   "id": "7b854100c1c4897a"
  },
  {
   "cell_type": "markdown",
   "source": [
    "### Now try with original features to compare if our features helped or hurt"
   ],
   "metadata": {
    "collapsed": false
   },
   "id": "ae52c0c98b992665"
  },
  {
   "cell_type": "code",
   "execution_count": 9,
   "outputs": [
    {
     "name": "stdout",
     "output_type": "stream",
     "text": [
      "<class 'pandas.core.frame.DataFrame'>\n",
      "RangeIndex: 1600 entries, 0 to 1599\n",
      "Data columns (total 15 columns):\n",
      " #   Column          Non-Null Count  Dtype   \n",
      "---  ------          --------------  -----   \n",
      " 0   hour_of_day     1600 non-null   int64   \n",
      " 1   day_of_week     1600 non-null   category\n",
      " 2   month           1600 non-null   category\n",
      " 3   holiday         1600 non-null   int64   \n",
      " 4   weekday         1600 non-null   int64   \n",
      " 5   summertime      1600 non-null   int64   \n",
      " 6   temp            1600 non-null   float64 \n",
      " 7   dew             1600 non-null   float64 \n",
      " 8   humidity        1600 non-null   float64 \n",
      " 9   precip          1600 non-null   float64 \n",
      " 10  snowdepth       1600 non-null   float64 \n",
      " 11  windspeed       1600 non-null   float64 \n",
      " 12  cloudcover      1600 non-null   float64 \n",
      " 13  visibility      1600 non-null   float64 \n",
      " 14  increase_stock  1600 non-null   category\n",
      "dtypes: category(3), float64(8), int64(4)\n",
      "memory usage: 155.7 KB\n"
     ]
    }
   ],
   "source": [
    "data_og = pd.read_csv('../data/training_data.csv')\n",
    "data_og['increase_stock'] = data_og['increase_stock'].astype('category')\n",
    "data_og['month'] = data_og['month'].astype('category')\n",
    "data_og['day_of_week'] = data_og['day_of_week'].astype('category')\n",
    "data_og = data_og.drop('snow', axis=1) #no information in this column\n",
    "# data_og['is_high_demand'] = data_og['increase_stock'].apply(lambda entity: 1 if entity == 'high_bike_demand' else 0)\n",
    "# data_og['is_high_demand'] = data_og['is_high_demand'].astype('int')\n",
    "data_og.info()"
   ],
   "metadata": {
    "collapsed": false,
    "ExecuteTime": {
     "end_time": "2023-11-27T21:02:11.848962Z",
     "start_time": "2023-11-27T21:02:11.836021Z"
    }
   },
   "id": "97c7c124334d4061"
  },
  {
   "cell_type": "code",
   "execution_count": 10,
   "outputs": [],
   "source": [
    "# Perform k-fold cross-validation and evaluate the model\n",
    "X_og = data_og.drop('increase_stock',axis=1)\n",
    "Y_og = data_og['increase_stock']\n",
    "\n",
    "preprocessor_og = ColumnTransformer(transformers=[('cat', OneHotEncoder(),list(X_og.select_dtypes(include='category').columns))], \n",
    "                                    remainder='passthrough')\n",
    "\n",
    "log_model = Pipeline([\n",
    "    ('preprocessor', preprocessor_og),\n",
    "    ('classifier', LogisticRegression(max_iter=10000))\n",
    "]) \n"
   ],
   "metadata": {
    "collapsed": false,
    "ExecuteTime": {
     "end_time": "2023-11-27T21:02:12.945515Z",
     "start_time": "2023-11-27T21:02:12.941725Z"
    }
   },
   "id": "f36efb14f38e8a01"
  },
  {
   "cell_type": "code",
   "execution_count": 11,
   "outputs": [
    {
     "name": "stdout",
     "output_type": "stream",
     "text": [
      "Cross-validation results: [0.80625 0.83125 0.84375 0.89375 0.88125 0.8375  0.85625 0.8625  0.8625\n",
      " 0.8875 ]\n",
      "Mean accuracy: 0.85625\n"
     ]
    }
   ],
   "source": [
    "cross_val_results = cross_val_score(log_model, X_og, Y_og, cv=kf, scoring='accuracy',n_jobs=num_cores) #run in parallel\n",
    "\n",
    "# Print the cross-validation results\n",
    "print(f'Cross-validation results: {cross_val_results}')\n",
    "print(f'Mean accuracy: {np.mean(cross_val_results)}')"
   ],
   "metadata": {
    "collapsed": false,
    "ExecuteTime": {
     "end_time": "2023-11-27T21:02:15.856243Z",
     "start_time": "2023-11-27T21:02:15.513828Z"
    }
   },
   "id": "971bd973c4d8eef8"
  },
  {
   "cell_type": "code",
   "execution_count": 12,
   "outputs": [
    {
     "data": {
      "text/plain": "Pipeline(steps=[('preprocessor',\n                 ColumnTransformer(remainder='passthrough',\n                                   transformers=[('cat', OneHotEncoder(),\n                                                  ['day_of_week', 'month'])])),\n                ('classifier', LogisticRegression(max_iter=10000))])",
      "text/html": "<style>#sk-container-id-1 {color: black;}#sk-container-id-1 pre{padding: 0;}#sk-container-id-1 div.sk-toggleable {background-color: white;}#sk-container-id-1 label.sk-toggleable__label {cursor: pointer;display: block;width: 100%;margin-bottom: 0;padding: 0.3em;box-sizing: border-box;text-align: center;}#sk-container-id-1 label.sk-toggleable__label-arrow:before {content: \"▸\";float: left;margin-right: 0.25em;color: #696969;}#sk-container-id-1 label.sk-toggleable__label-arrow:hover:before {color: black;}#sk-container-id-1 div.sk-estimator:hover label.sk-toggleable__label-arrow:before {color: black;}#sk-container-id-1 div.sk-toggleable__content {max-height: 0;max-width: 0;overflow: hidden;text-align: left;background-color: #f0f8ff;}#sk-container-id-1 div.sk-toggleable__content pre {margin: 0.2em;color: black;border-radius: 0.25em;background-color: #f0f8ff;}#sk-container-id-1 input.sk-toggleable__control:checked~div.sk-toggleable__content {max-height: 200px;max-width: 100%;overflow: auto;}#sk-container-id-1 input.sk-toggleable__control:checked~label.sk-toggleable__label-arrow:before {content: \"▾\";}#sk-container-id-1 div.sk-estimator input.sk-toggleable__control:checked~label.sk-toggleable__label {background-color: #d4ebff;}#sk-container-id-1 div.sk-label input.sk-toggleable__control:checked~label.sk-toggleable__label {background-color: #d4ebff;}#sk-container-id-1 input.sk-hidden--visually {border: 0;clip: rect(1px 1px 1px 1px);clip: rect(1px, 1px, 1px, 1px);height: 1px;margin: -1px;overflow: hidden;padding: 0;position: absolute;width: 1px;}#sk-container-id-1 div.sk-estimator {font-family: monospace;background-color: #f0f8ff;border: 1px dotted black;border-radius: 0.25em;box-sizing: border-box;margin-bottom: 0.5em;}#sk-container-id-1 div.sk-estimator:hover {background-color: #d4ebff;}#sk-container-id-1 div.sk-parallel-item::after {content: \"\";width: 100%;border-bottom: 1px solid gray;flex-grow: 1;}#sk-container-id-1 div.sk-label:hover label.sk-toggleable__label {background-color: #d4ebff;}#sk-container-id-1 div.sk-serial::before {content: \"\";position: absolute;border-left: 1px solid gray;box-sizing: border-box;top: 0;bottom: 0;left: 50%;z-index: 0;}#sk-container-id-1 div.sk-serial {display: flex;flex-direction: column;align-items: center;background-color: white;padding-right: 0.2em;padding-left: 0.2em;position: relative;}#sk-container-id-1 div.sk-item {position: relative;z-index: 1;}#sk-container-id-1 div.sk-parallel {display: flex;align-items: stretch;justify-content: center;background-color: white;position: relative;}#sk-container-id-1 div.sk-item::before, #sk-container-id-1 div.sk-parallel-item::before {content: \"\";position: absolute;border-left: 1px solid gray;box-sizing: border-box;top: 0;bottom: 0;left: 50%;z-index: -1;}#sk-container-id-1 div.sk-parallel-item {display: flex;flex-direction: column;z-index: 1;position: relative;background-color: white;}#sk-container-id-1 div.sk-parallel-item:first-child::after {align-self: flex-end;width: 50%;}#sk-container-id-1 div.sk-parallel-item:last-child::after {align-self: flex-start;width: 50%;}#sk-container-id-1 div.sk-parallel-item:only-child::after {width: 0;}#sk-container-id-1 div.sk-dashed-wrapped {border: 1px dashed gray;margin: 0 0.4em 0.5em 0.4em;box-sizing: border-box;padding-bottom: 0.4em;background-color: white;}#sk-container-id-1 div.sk-label label {font-family: monospace;font-weight: bold;display: inline-block;line-height: 1.2em;}#sk-container-id-1 div.sk-label-container {text-align: center;}#sk-container-id-1 div.sk-container {/* jupyter's `normalize.less` sets `[hidden] { display: none; }` but bootstrap.min.css set `[hidden] { display: none !important; }` so we also need the `!important` here to be able to override the default hidden behavior on the sphinx rendered scikit-learn.org. See: https://github.com/scikit-learn/scikit-learn/issues/21755 */display: inline-block !important;position: relative;}#sk-container-id-1 div.sk-text-repr-fallback {display: none;}</style><div id=\"sk-container-id-1\" class=\"sk-top-container\"><div class=\"sk-text-repr-fallback\"><pre>Pipeline(steps=[(&#x27;preprocessor&#x27;,\n                 ColumnTransformer(remainder=&#x27;passthrough&#x27;,\n                                   transformers=[(&#x27;cat&#x27;, OneHotEncoder(),\n                                                  [&#x27;day_of_week&#x27;, &#x27;month&#x27;])])),\n                (&#x27;classifier&#x27;, LogisticRegression(max_iter=10000))])</pre><b>In a Jupyter environment, please rerun this cell to show the HTML representation or trust the notebook. <br />On GitHub, the HTML representation is unable to render, please try loading this page with nbviewer.org.</b></div><div class=\"sk-container\" hidden><div class=\"sk-item sk-dashed-wrapped\"><div class=\"sk-label-container\"><div class=\"sk-label sk-toggleable\"><input class=\"sk-toggleable__control sk-hidden--visually\" id=\"sk-estimator-id-1\" type=\"checkbox\" ><label for=\"sk-estimator-id-1\" class=\"sk-toggleable__label sk-toggleable__label-arrow\">Pipeline</label><div class=\"sk-toggleable__content\"><pre>Pipeline(steps=[(&#x27;preprocessor&#x27;,\n                 ColumnTransformer(remainder=&#x27;passthrough&#x27;,\n                                   transformers=[(&#x27;cat&#x27;, OneHotEncoder(),\n                                                  [&#x27;day_of_week&#x27;, &#x27;month&#x27;])])),\n                (&#x27;classifier&#x27;, LogisticRegression(max_iter=10000))])</pre></div></div></div><div class=\"sk-serial\"><div class=\"sk-item sk-dashed-wrapped\"><div class=\"sk-label-container\"><div class=\"sk-label sk-toggleable\"><input class=\"sk-toggleable__control sk-hidden--visually\" id=\"sk-estimator-id-2\" type=\"checkbox\" ><label for=\"sk-estimator-id-2\" class=\"sk-toggleable__label sk-toggleable__label-arrow\">preprocessor: ColumnTransformer</label><div class=\"sk-toggleable__content\"><pre>ColumnTransformer(remainder=&#x27;passthrough&#x27;,\n                  transformers=[(&#x27;cat&#x27;, OneHotEncoder(),\n                                 [&#x27;day_of_week&#x27;, &#x27;month&#x27;])])</pre></div></div></div><div class=\"sk-parallel\"><div class=\"sk-parallel-item\"><div class=\"sk-item\"><div class=\"sk-label-container\"><div class=\"sk-label sk-toggleable\"><input class=\"sk-toggleable__control sk-hidden--visually\" id=\"sk-estimator-id-3\" type=\"checkbox\" ><label for=\"sk-estimator-id-3\" class=\"sk-toggleable__label sk-toggleable__label-arrow\">cat</label><div class=\"sk-toggleable__content\"><pre>[&#x27;day_of_week&#x27;, &#x27;month&#x27;]</pre></div></div></div><div class=\"sk-serial\"><div class=\"sk-item\"><div class=\"sk-estimator sk-toggleable\"><input class=\"sk-toggleable__control sk-hidden--visually\" id=\"sk-estimator-id-4\" type=\"checkbox\" ><label for=\"sk-estimator-id-4\" class=\"sk-toggleable__label sk-toggleable__label-arrow\">OneHotEncoder</label><div class=\"sk-toggleable__content\"><pre>OneHotEncoder()</pre></div></div></div></div></div></div><div class=\"sk-parallel-item\"><div class=\"sk-item\"><div class=\"sk-label-container\"><div class=\"sk-label sk-toggleable\"><input class=\"sk-toggleable__control sk-hidden--visually\" id=\"sk-estimator-id-5\" type=\"checkbox\" ><label for=\"sk-estimator-id-5\" class=\"sk-toggleable__label sk-toggleable__label-arrow\">remainder</label><div class=\"sk-toggleable__content\"><pre>[&#x27;hour_of_day&#x27;, &#x27;holiday&#x27;, &#x27;weekday&#x27;, &#x27;summertime&#x27;, &#x27;temp&#x27;, &#x27;dew&#x27;, &#x27;humidity&#x27;, &#x27;precip&#x27;, &#x27;snowdepth&#x27;, &#x27;windspeed&#x27;, &#x27;cloudcover&#x27;, &#x27;visibility&#x27;]</pre></div></div></div><div class=\"sk-serial\"><div class=\"sk-item\"><div class=\"sk-estimator sk-toggleable\"><input class=\"sk-toggleable__control sk-hidden--visually\" id=\"sk-estimator-id-6\" type=\"checkbox\" ><label for=\"sk-estimator-id-6\" class=\"sk-toggleable__label sk-toggleable__label-arrow\">passthrough</label><div class=\"sk-toggleable__content\"><pre>passthrough</pre></div></div></div></div></div></div></div></div><div class=\"sk-item\"><div class=\"sk-estimator sk-toggleable\"><input class=\"sk-toggleable__control sk-hidden--visually\" id=\"sk-estimator-id-7\" type=\"checkbox\" ><label for=\"sk-estimator-id-7\" class=\"sk-toggleable__label sk-toggleable__label-arrow\">LogisticRegression</label><div class=\"sk-toggleable__content\"><pre>LogisticRegression(max_iter=10000)</pre></div></div></div></div></div></div></div>"
     },
     "execution_count": 12,
     "metadata": {},
     "output_type": "execute_result"
    }
   ],
   "source": [
    "log_model.fit(X_og,Y_og)\n",
    "# log_model.named_steps['preprocessor_og'].transform(X_og) #peek preprocessing data\n",
    "# log_model[:-1].get_feature_names_out() #show encoded vars"
   ],
   "metadata": {
    "collapsed": false,
    "ExecuteTime": {
     "end_time": "2023-11-27T21:02:31.412512Z",
     "start_time": "2023-11-27T21:02:31.081376Z"
    }
   },
   "id": "6f2552cdc71ffe0"
  },
  {
   "cell_type": "code",
   "execution_count": 13,
   "outputs": [
    {
     "name": "stdout",
     "output_type": "stream",
     "text": [
      "col len: 31 coef len: 31\n"
     ]
    },
    {
     "data": {
      "text/plain": "[('cat__day_of_week_0', 0.10258851871504138),\n ('cat__day_of_week_1', 0.15531978092981763),\n ('cat__day_of_week_2', 0.1674210710274114),\n ('cat__day_of_week_3', 0.16767210686511383),\n ('cat__day_of_week_4', -0.018626549811301095),\n ('cat__day_of_week_5', -0.406152372389761),\n ('cat__day_of_week_6', -0.1177811540626271),\n ('cat__month_1', -0.23257416330425848),\n ('cat__month_2', -0.1892881507525128),\n ('cat__month_3', -0.14502933567674375),\n ('cat__month_4', -0.28784260853061167),\n ('cat__month_5', 0.8711757943915299),\n ('cat__month_6', 0.4602345011491685),\n ('cat__month_7', 1.2680920786208332),\n ('cat__month_8', 0.8529830735679239),\n ('cat__month_9', -0.41197295617223373),\n ('cat__month_10', -1.0796627357926871),\n ('cat__month_11', -0.7763330976627653),\n ('cat__month_12', -0.27934099856252914),\n ('remainder__hour_of_day', -0.04729726749177807),\n ('remainder__holiday', -0.1792738611523768),\n ('remainder__weekday', 0.5743749277263772),\n ('remainder__summertime', -0.4613026955738188),\n ('remainder__temp', -0.26693937786404176),\n ('remainder__dew', 0.11260325955220922),\n ('remainder__humidity', 0.022009126429836785),\n ('remainder__precip', 0.8009300871652316),\n ('remainder__snowdepth', 0.5441389018976468),\n ('remainder__windspeed', -0.005569071559002706),\n ('remainder__cloudcover', -0.009302242164537724),\n ('remainder__visibility', -0.03820214010386169)]"
     },
     "execution_count": 13,
     "metadata": {},
     "output_type": "execute_result"
    }
   ],
   "source": [
    "print(f'col len: {len(log_model[:-1].get_feature_names_out())} coef len: {len(log_model.named_steps[\"classifier\"].coef_[0])}')\n",
    "list(zip(log_model[:-1].get_feature_names_out(),log_model.named_steps[\"classifier\"].coef_[0]))"
   ],
   "metadata": {
    "collapsed": false,
    "ExecuteTime": {
     "end_time": "2023-11-27T21:02:38.338984Z",
     "start_time": "2023-11-27T21:02:38.330372Z"
    }
   },
   "id": "642f943e52b8db04"
  },
  {
   "cell_type": "code",
   "execution_count": null,
   "outputs": [],
   "source": [],
   "metadata": {
    "collapsed": false
   },
   "id": "22ce0335a4879fa0"
  }
 ],
 "metadata": {
  "kernelspec": {
   "display_name": "Python 3",
   "language": "python",
   "name": "python3"
  },
  "language_info": {
   "codemirror_mode": {
    "name": "ipython",
    "version": 2
   },
   "file_extension": ".py",
   "mimetype": "text/x-python",
   "name": "python",
   "nbconvert_exporter": "python",
   "pygments_lexer": "ipython2",
   "version": "2.7.6"
  }
 },
 "nbformat": 4,
 "nbformat_minor": 5
}
