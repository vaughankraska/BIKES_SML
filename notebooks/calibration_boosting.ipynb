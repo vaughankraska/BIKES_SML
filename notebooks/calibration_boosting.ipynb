{
 "cells": [
  {
   "cell_type": "code",
   "execution_count": 1,
   "outputs": [],
   "source": [
    "import pandas as pd\n",
    "import numpy as np\n",
    "from os import cpu_count\n",
    "from sklearn.linear_model import LogisticRegression\n",
    "from sklearn.model_selection import train_test_split\n",
    "from sklearn.ensemble import RandomForestClassifier, StackingClassifier"
   ],
   "metadata": {
    "collapsed": false,
    "ExecuteTime": {
     "end_time": "2023-12-05T01:49:31.813882400Z",
     "start_time": "2023-12-05T01:49:31.151603200Z"
    }
   },
   "id": "c4743eee41412592"
  },
  {
   "cell_type": "code",
   "execution_count": 2,
   "outputs": [],
   "source": [
    "from src.utils import load_data\n",
    "\n",
    "data = load_data()"
   ],
   "metadata": {
    "collapsed": false,
    "ExecuteTime": {
     "end_time": "2023-12-05T01:49:31.826578100Z",
     "start_time": "2023-12-05T01:49:31.817293800Z"
    }
   },
   "id": "2493fd476b0b4f19"
  },
  {
   "cell_type": "code",
   "execution_count": 3,
   "outputs": [
    {
     "name": "stdout",
     "output_type": "stream",
     "text": [
      "10 cores to model, 10 to validation\n"
     ]
    }
   ],
   "source": [
    "tree_allocation = np.round(cpu_count() / 2).astype(int)\n",
    "cv_allocation = cpu_count() - tree_allocation\n",
    "print(f'{tree_allocation} cores to model, {cv_allocation} to validation')"
   ],
   "metadata": {
    "collapsed": false,
    "ExecuteTime": {
     "end_time": "2023-12-05T01:49:31.841394700Z",
     "start_time": "2023-12-05T01:49:31.827590Z"
    }
   },
   "id": "33a7ac23a9646cbb"
  },
  {
   "cell_type": "code",
   "execution_count": 21,
   "outputs": [
    {
     "data": {
      "text/plain": "Pipeline(steps=[('pre',\n                 ColumnTransformer(transformers=[('cat', OneHotEncoder(),\n                                                  ['hour_of_day', 'month']),\n                                                 ('gen', Generator(),\n                                                  ['hour_of_day']),\n                                                 ('bin', 'passthrough',\n                                                  ['weekday', 'summertime']),\n                                                 ('weather',\n                                                  WeatherTransformer(),\n                                                  ['summertime', 'temp', 'dew',\n                                                   'humidity', 'precip',\n                                                   'snowdepth', 'windspeed',\n                                                   'cloudcover',\n                                                   'visibility'])])),\n                ('model',\n                 StackingClassifier(estimators=[('rf',\n                                                 LogisticRegression(max_iter=10000,\n                                                                    random_state=123))],\n                                    final_estimator=RandomForestClassifier(min_samples_leaf=30,\n                                                                           n_jobs=10,\n                                                                           random_state=123)))])",
      "text/html": "<style>#sk-container-id-3 {color: black;}#sk-container-id-3 pre{padding: 0;}#sk-container-id-3 div.sk-toggleable {background-color: white;}#sk-container-id-3 label.sk-toggleable__label {cursor: pointer;display: block;width: 100%;margin-bottom: 0;padding: 0.3em;box-sizing: border-box;text-align: center;}#sk-container-id-3 label.sk-toggleable__label-arrow:before {content: \"▸\";float: left;margin-right: 0.25em;color: #696969;}#sk-container-id-3 label.sk-toggleable__label-arrow:hover:before {color: black;}#sk-container-id-3 div.sk-estimator:hover label.sk-toggleable__label-arrow:before {color: black;}#sk-container-id-3 div.sk-toggleable__content {max-height: 0;max-width: 0;overflow: hidden;text-align: left;background-color: #f0f8ff;}#sk-container-id-3 div.sk-toggleable__content pre {margin: 0.2em;color: black;border-radius: 0.25em;background-color: #f0f8ff;}#sk-container-id-3 input.sk-toggleable__control:checked~div.sk-toggleable__content {max-height: 200px;max-width: 100%;overflow: auto;}#sk-container-id-3 input.sk-toggleable__control:checked~label.sk-toggleable__label-arrow:before {content: \"▾\";}#sk-container-id-3 div.sk-estimator input.sk-toggleable__control:checked~label.sk-toggleable__label {background-color: #d4ebff;}#sk-container-id-3 div.sk-label input.sk-toggleable__control:checked~label.sk-toggleable__label {background-color: #d4ebff;}#sk-container-id-3 input.sk-hidden--visually {border: 0;clip: rect(1px 1px 1px 1px);clip: rect(1px, 1px, 1px, 1px);height: 1px;margin: -1px;overflow: hidden;padding: 0;position: absolute;width: 1px;}#sk-container-id-3 div.sk-estimator {font-family: monospace;background-color: #f0f8ff;border: 1px dotted black;border-radius: 0.25em;box-sizing: border-box;margin-bottom: 0.5em;}#sk-container-id-3 div.sk-estimator:hover {background-color: #d4ebff;}#sk-container-id-3 div.sk-parallel-item::after {content: \"\";width: 100%;border-bottom: 1px solid gray;flex-grow: 1;}#sk-container-id-3 div.sk-label:hover label.sk-toggleable__label {background-color: #d4ebff;}#sk-container-id-3 div.sk-serial::before {content: \"\";position: absolute;border-left: 1px solid gray;box-sizing: border-box;top: 0;bottom: 0;left: 50%;z-index: 0;}#sk-container-id-3 div.sk-serial {display: flex;flex-direction: column;align-items: center;background-color: white;padding-right: 0.2em;padding-left: 0.2em;position: relative;}#sk-container-id-3 div.sk-item {position: relative;z-index: 1;}#sk-container-id-3 div.sk-parallel {display: flex;align-items: stretch;justify-content: center;background-color: white;position: relative;}#sk-container-id-3 div.sk-item::before, #sk-container-id-3 div.sk-parallel-item::before {content: \"\";position: absolute;border-left: 1px solid gray;box-sizing: border-box;top: 0;bottom: 0;left: 50%;z-index: -1;}#sk-container-id-3 div.sk-parallel-item {display: flex;flex-direction: column;z-index: 1;position: relative;background-color: white;}#sk-container-id-3 div.sk-parallel-item:first-child::after {align-self: flex-end;width: 50%;}#sk-container-id-3 div.sk-parallel-item:last-child::after {align-self: flex-start;width: 50%;}#sk-container-id-3 div.sk-parallel-item:only-child::after {width: 0;}#sk-container-id-3 div.sk-dashed-wrapped {border: 1px dashed gray;margin: 0 0.4em 0.5em 0.4em;box-sizing: border-box;padding-bottom: 0.4em;background-color: white;}#sk-container-id-3 div.sk-label label {font-family: monospace;font-weight: bold;display: inline-block;line-height: 1.2em;}#sk-container-id-3 div.sk-label-container {text-align: center;}#sk-container-id-3 div.sk-container {/* jupyter's `normalize.less` sets `[hidden] { display: none; }` but bootstrap.min.css set `[hidden] { display: none !important; }` so we also need the `!important` here to be able to override the default hidden behavior on the sphinx rendered scikit-learn.org. See: https://github.com/scikit-learn/scikit-learn/issues/21755 */display: inline-block !important;position: relative;}#sk-container-id-3 div.sk-text-repr-fallback {display: none;}</style><div id=\"sk-container-id-3\" class=\"sk-top-container\"><div class=\"sk-text-repr-fallback\"><pre>Pipeline(steps=[(&#x27;pre&#x27;,\n                 ColumnTransformer(transformers=[(&#x27;cat&#x27;, OneHotEncoder(),\n                                                  [&#x27;hour_of_day&#x27;, &#x27;month&#x27;]),\n                                                 (&#x27;gen&#x27;, Generator(),\n                                                  [&#x27;hour_of_day&#x27;]),\n                                                 (&#x27;bin&#x27;, &#x27;passthrough&#x27;,\n                                                  [&#x27;weekday&#x27;, &#x27;summertime&#x27;]),\n                                                 (&#x27;weather&#x27;,\n                                                  WeatherTransformer(),\n                                                  [&#x27;summertime&#x27;, &#x27;temp&#x27;, &#x27;dew&#x27;,\n                                                   &#x27;humidity&#x27;, &#x27;precip&#x27;,\n                                                   &#x27;snowdepth&#x27;, &#x27;windspeed&#x27;,\n                                                   &#x27;cloudcover&#x27;,\n                                                   &#x27;visibility&#x27;])])),\n                (&#x27;model&#x27;,\n                 StackingClassifier(estimators=[(&#x27;rf&#x27;,\n                                                 LogisticRegression(max_iter=10000,\n                                                                    random_state=123))],\n                                    final_estimator=RandomForestClassifier(min_samples_leaf=30,\n                                                                           n_jobs=10,\n                                                                           random_state=123)))])</pre><b>In a Jupyter environment, please rerun this cell to show the HTML representation or trust the notebook. <br />On GitHub, the HTML representation is unable to render, please try loading this page with nbviewer.org.</b></div><div class=\"sk-container\" hidden><div class=\"sk-item sk-dashed-wrapped\"><div class=\"sk-label-container\"><div class=\"sk-label sk-toggleable\"><input class=\"sk-toggleable__control sk-hidden--visually\" id=\"sk-estimator-id-27\" type=\"checkbox\" ><label for=\"sk-estimator-id-27\" class=\"sk-toggleable__label sk-toggleable__label-arrow\">Pipeline</label><div class=\"sk-toggleable__content\"><pre>Pipeline(steps=[(&#x27;pre&#x27;,\n                 ColumnTransformer(transformers=[(&#x27;cat&#x27;, OneHotEncoder(),\n                                                  [&#x27;hour_of_day&#x27;, &#x27;month&#x27;]),\n                                                 (&#x27;gen&#x27;, Generator(),\n                                                  [&#x27;hour_of_day&#x27;]),\n                                                 (&#x27;bin&#x27;, &#x27;passthrough&#x27;,\n                                                  [&#x27;weekday&#x27;, &#x27;summertime&#x27;]),\n                                                 (&#x27;weather&#x27;,\n                                                  WeatherTransformer(),\n                                                  [&#x27;summertime&#x27;, &#x27;temp&#x27;, &#x27;dew&#x27;,\n                                                   &#x27;humidity&#x27;, &#x27;precip&#x27;,\n                                                   &#x27;snowdepth&#x27;, &#x27;windspeed&#x27;,\n                                                   &#x27;cloudcover&#x27;,\n                                                   &#x27;visibility&#x27;])])),\n                (&#x27;model&#x27;,\n                 StackingClassifier(estimators=[(&#x27;rf&#x27;,\n                                                 LogisticRegression(max_iter=10000,\n                                                                    random_state=123))],\n                                    final_estimator=RandomForestClassifier(min_samples_leaf=30,\n                                                                           n_jobs=10,\n                                                                           random_state=123)))])</pre></div></div></div><div class=\"sk-serial\"><div class=\"sk-item sk-dashed-wrapped\"><div class=\"sk-label-container\"><div class=\"sk-label sk-toggleable\"><input class=\"sk-toggleable__control sk-hidden--visually\" id=\"sk-estimator-id-28\" type=\"checkbox\" ><label for=\"sk-estimator-id-28\" class=\"sk-toggleable__label sk-toggleable__label-arrow\">pre: ColumnTransformer</label><div class=\"sk-toggleable__content\"><pre>ColumnTransformer(transformers=[(&#x27;cat&#x27;, OneHotEncoder(),\n                                 [&#x27;hour_of_day&#x27;, &#x27;month&#x27;]),\n                                (&#x27;gen&#x27;, Generator(), [&#x27;hour_of_day&#x27;]),\n                                (&#x27;bin&#x27;, &#x27;passthrough&#x27;,\n                                 [&#x27;weekday&#x27;, &#x27;summertime&#x27;]),\n                                (&#x27;weather&#x27;, WeatherTransformer(),\n                                 [&#x27;summertime&#x27;, &#x27;temp&#x27;, &#x27;dew&#x27;, &#x27;humidity&#x27;,\n                                  &#x27;precip&#x27;, &#x27;snowdepth&#x27;, &#x27;windspeed&#x27;,\n                                  &#x27;cloudcover&#x27;, &#x27;visibility&#x27;])])</pre></div></div></div><div class=\"sk-parallel\"><div class=\"sk-parallel-item\"><div class=\"sk-item\"><div class=\"sk-label-container\"><div class=\"sk-label sk-toggleable\"><input class=\"sk-toggleable__control sk-hidden--visually\" id=\"sk-estimator-id-29\" type=\"checkbox\" ><label for=\"sk-estimator-id-29\" class=\"sk-toggleable__label sk-toggleable__label-arrow\">cat</label><div class=\"sk-toggleable__content\"><pre>[&#x27;hour_of_day&#x27;, &#x27;month&#x27;]</pre></div></div></div><div class=\"sk-serial\"><div class=\"sk-item\"><div class=\"sk-estimator sk-toggleable\"><input class=\"sk-toggleable__control sk-hidden--visually\" id=\"sk-estimator-id-30\" type=\"checkbox\" ><label for=\"sk-estimator-id-30\" class=\"sk-toggleable__label sk-toggleable__label-arrow\">OneHotEncoder</label><div class=\"sk-toggleable__content\"><pre>OneHotEncoder()</pre></div></div></div></div></div></div><div class=\"sk-parallel-item\"><div class=\"sk-item\"><div class=\"sk-label-container\"><div class=\"sk-label sk-toggleable\"><input class=\"sk-toggleable__control sk-hidden--visually\" id=\"sk-estimator-id-31\" type=\"checkbox\" ><label for=\"sk-estimator-id-31\" class=\"sk-toggleable__label sk-toggleable__label-arrow\">gen</label><div class=\"sk-toggleable__content\"><pre>[&#x27;hour_of_day&#x27;]</pre></div></div></div><div class=\"sk-serial\"><div class=\"sk-item\"><div class=\"sk-estimator sk-toggleable\"><input class=\"sk-toggleable__control sk-hidden--visually\" id=\"sk-estimator-id-32\" type=\"checkbox\" ><label for=\"sk-estimator-id-32\" class=\"sk-toggleable__label sk-toggleable__label-arrow\">Generator</label><div class=\"sk-toggleable__content\"><pre>Generator()</pre></div></div></div></div></div></div><div class=\"sk-parallel-item\"><div class=\"sk-item\"><div class=\"sk-label-container\"><div class=\"sk-label sk-toggleable\"><input class=\"sk-toggleable__control sk-hidden--visually\" id=\"sk-estimator-id-33\" type=\"checkbox\" ><label for=\"sk-estimator-id-33\" class=\"sk-toggleable__label sk-toggleable__label-arrow\">bin</label><div class=\"sk-toggleable__content\"><pre>[&#x27;weekday&#x27;, &#x27;summertime&#x27;]</pre></div></div></div><div class=\"sk-serial\"><div class=\"sk-item\"><div class=\"sk-estimator sk-toggleable\"><input class=\"sk-toggleable__control sk-hidden--visually\" id=\"sk-estimator-id-34\" type=\"checkbox\" ><label for=\"sk-estimator-id-34\" class=\"sk-toggleable__label sk-toggleable__label-arrow\">passthrough</label><div class=\"sk-toggleable__content\"><pre>passthrough</pre></div></div></div></div></div></div><div class=\"sk-parallel-item\"><div class=\"sk-item\"><div class=\"sk-label-container\"><div class=\"sk-label sk-toggleable\"><input class=\"sk-toggleable__control sk-hidden--visually\" id=\"sk-estimator-id-35\" type=\"checkbox\" ><label for=\"sk-estimator-id-35\" class=\"sk-toggleable__label sk-toggleable__label-arrow\">weather</label><div class=\"sk-toggleable__content\"><pre>[&#x27;summertime&#x27;, &#x27;temp&#x27;, &#x27;dew&#x27;, &#x27;humidity&#x27;, &#x27;precip&#x27;, &#x27;snowdepth&#x27;, &#x27;windspeed&#x27;, &#x27;cloudcover&#x27;, &#x27;visibility&#x27;]</pre></div></div></div><div class=\"sk-serial\"><div class=\"sk-item\"><div class=\"sk-estimator sk-toggleable\"><input class=\"sk-toggleable__control sk-hidden--visually\" id=\"sk-estimator-id-36\" type=\"checkbox\" ><label for=\"sk-estimator-id-36\" class=\"sk-toggleable__label sk-toggleable__label-arrow\">WeatherTransformer</label><div class=\"sk-toggleable__content\"><pre>WeatherTransformer()</pre></div></div></div></div></div></div></div></div><div class=\"sk-item\"><div class=\"sk-label-container\"><div class=\"sk-label sk-toggleable\"><input class=\"sk-toggleable__control sk-hidden--visually\" id=\"sk-estimator-id-37\" type=\"checkbox\" ><label for=\"sk-estimator-id-37\" class=\"sk-toggleable__label sk-toggleable__label-arrow\">model: StackingClassifier</label><div class=\"sk-toggleable__content\"><pre>StackingClassifier(estimators=[(&#x27;rf&#x27;,\n                                LogisticRegression(max_iter=10000,\n                                                   random_state=123))],\n                   final_estimator=RandomForestClassifier(min_samples_leaf=30,\n                                                          n_jobs=10,\n                                                          random_state=123))</pre></div></div></div><div class=\"sk-serial\"><div class=\"sk-item\"><div class=\"sk-parallel\"><div class=\"sk-parallel-item\"><div class=\"sk-item\"><div class=\"sk-label-container\"><div class=\"sk-label sk-toggleable\"><label>rf</label></div></div><div class=\"sk-serial\"><div class=\"sk-item\"><div class=\"sk-estimator sk-toggleable\"><input class=\"sk-toggleable__control sk-hidden--visually\" id=\"sk-estimator-id-38\" type=\"checkbox\" ><label for=\"sk-estimator-id-38\" class=\"sk-toggleable__label sk-toggleable__label-arrow\">LogisticRegression</label><div class=\"sk-toggleable__content\"><pre>LogisticRegression(max_iter=10000, random_state=123)</pre></div></div></div></div></div></div></div></div><div class=\"sk-item\"><div class=\"sk-parallel\"><div class=\"sk-parallel-item\"><div class=\"sk-item\"><div class=\"sk-label-container\"><div class=\"sk-label sk-toggleable\"><label>final_estimator</label></div></div><div class=\"sk-serial\"><div class=\"sk-item\"><div class=\"sk-estimator sk-toggleable\"><input class=\"sk-toggleable__control sk-hidden--visually\" id=\"sk-estimator-id-39\" type=\"checkbox\" ><label for=\"sk-estimator-id-39\" class=\"sk-toggleable__label sk-toggleable__label-arrow\">RandomForestClassifier</label><div class=\"sk-toggleable__content\"><pre>RandomForestClassifier(min_samples_leaf=30, n_jobs=10, random_state=123)</pre></div></div></div></div></div></div></div></div></div></div></div></div></div></div>"
     },
     "execution_count": 21,
     "metadata": {},
     "output_type": "execute_result"
    }
   ],
   "source": [
    "from src.utils import initialize_model_pipeline\n",
    "\n",
    "log_reg = LogisticRegression(max_iter=10000, random_state=123)\n",
    "tree_reg = RandomForestClassifier(min_samples_leaf=30, n_jobs=tree_allocation, random_state=123)\n",
    "\n",
    "boosted_model = StackingClassifier(\n",
    "    estimators=[\n",
    "        ('rf', log_reg)\n",
    "    ],\n",
    "    final_estimator=tree_reg\n",
    ")\n",
    "\n",
    "pipeline = initialize_model_pipeline(boosted_model)\n",
    "pipeline"
   ],
   "metadata": {
    "collapsed": false,
    "ExecuteTime": {
     "end_time": "2023-12-05T02:06:16.118391700Z",
     "start_time": "2023-12-05T02:06:16.079726100Z"
    }
   },
   "id": "7cf05ae4aaff25ce"
  },
  {
   "cell_type": "code",
   "execution_count": 5,
   "outputs": [],
   "source": [
    "from src.utils import cross_validate_model\n",
    "\n",
    "accuracy_scores = cross_validate_model(pipeline,\n",
    "                                       data,\n",
    "                                       data['increase_stock'],\n",
    "                                       n_splits=160,\n",
    "                                       cpu_count=cv_allocation)"
   ],
   "metadata": {
    "collapsed": false,
    "ExecuteTime": {
     "end_time": "2023-12-05T01:50:10.294038200Z",
     "start_time": "2023-12-05T01:49:31.880830700Z"
    }
   },
   "id": "74cba16388153294"
  },
  {
   "cell_type": "code",
   "execution_count": 9,
   "outputs": [
    {
     "data": {
      "text/plain": "0.8850000000000001"
     },
     "execution_count": 9,
     "metadata": {},
     "output_type": "execute_result"
    }
   ],
   "source": [
    "np.mean(accuracy_scores)"
   ],
   "metadata": {
    "collapsed": false,
    "ExecuteTime": {
     "end_time": "2023-12-05T01:50:48.010842100Z",
     "start_time": "2023-12-05T01:50:47.998010500Z"
    }
   },
   "id": "54d9a2d7f159abac"
  },
  {
   "cell_type": "code",
   "execution_count": 22,
   "outputs": [],
   "source": [
    "from sklearn.metrics import f1_score, accuracy_score\n",
    "results = []\n",
    "for i in range(100):\n",
    "    result = {}\n",
    "    X_train, X_test, y_train, y_test = train_test_split(data, data['increase_stock'],\n",
    "                                                      test_size=0.05, random_state=i)\n",
    "    pipeline.fit(X_train,y_train)\n",
    "    predict = pipeline.predict(X_test)\n",
    "    f_score = f1_score(y_true=y_test, y_pred=predict)\n",
    "    accuracy = accuracy_score(y_test, predict)\n",
    "    \n",
    "    result['f_score'] = f_score\n",
    "    result['accuracy'] = accuracy\n",
    "    result['predict'] = predict\n",
    "    result['y'] = y_test\n",
    "    results.append(result)\n"
   ],
   "metadata": {
    "collapsed": false,
    "ExecuteTime": {
     "end_time": "2023-12-05T02:06:45.291486200Z",
     "start_time": "2023-12-05T02:06:21.984370100Z"
    }
   },
   "id": "f56e6d376f028b92"
  },
  {
   "cell_type": "code",
   "execution_count": 23,
   "outputs": [
    {
     "data": {
      "text/plain": "     f_score  accuracy                                            predict  \\\n0   0.500000    0.8000  [0, 0, 0, 0, 0, 0, 0, 0, 1, 1, 0, 1, 0, 0, 0, ...   \n1   0.777778    0.9500  [1, 0, 0, 0, 0, 0, 0, 0, 1, 1, 0, 0, 0, 0, 0, ...   \n2   0.687500    0.8750  [0, 0, 1, 0, 0, 0, 0, 1, 0, 0, 0, 0, 0, 0, 0, ...   \n3   0.666667    0.9125  [0, 0, 0, 0, 0, 0, 0, 0, 0, 0, 0, 0, 0, 0, 0, ...   \n4   0.720000    0.9125  [0, 0, 1, 1, 0, 0, 0, 0, 0, 0, 0, 0, 0, 0, 0, ...   \n..       ...       ...                                                ...   \n95  0.620690    0.8625  [0, 0, 0, 1, 0, 0, 0, 0, 0, 0, 0, 0, 0, 0, 0, ...   \n96  0.785714    0.9250  [1, 0, 1, 0, 0, 0, 0, 0, 0, 0, 0, 0, 0, 0, 0, ...   \n97  0.545455    0.8750  [0, 0, 0, 0, 0, 0, 0, 0, 1, 0, 0, 0, 0, 0, 0, ...   \n98  0.615385    0.8750  [0, 0, 0, 0, 0, 0, 0, 0, 1, 0, 0, 0, 0, 0, 0, ...   \n99  0.800000    0.9250  [0, 1, 1, 0, 0, 0, 0, 0, 0, 0, 0, 0, 0, 0, 0, ...   \n\n                                                    y  \n0   1073    0\n326     1\n1557    0\n918     0\n974   ...  \n1   75      1\n1284    0\n408     0\n1282    0\n1447  ...  \n2   407     1\n1220    0\n1200    1\n308     0\n1329  ...  \n3   147     0\n938     0\n492     0\n1274    0\n73    ...  \n4   289     0\n1011    0\n828     1\n1478    1\n57    ...  \n..                                                ...  \n95  412     0\n470     0\n138     0\n75      1\n1113  ...  \n96  1346    0\n1425    1\n242     1\n519     0\n1277  ...  \n97  235     0\n942     0\n867     0\n873     0\n459   ...  \n98  627     1\n582     0\n550     0\n119     0\n202   ...  \n99  1576    0\n1104    1\n317     1\n776     0\n463   ...  \n\n[100 rows x 4 columns]",
      "text/html": "<div>\n<style scoped>\n    .dataframe tbody tr th:only-of-type {\n        vertical-align: middle;\n    }\n\n    .dataframe tbody tr th {\n        vertical-align: top;\n    }\n\n    .dataframe thead th {\n        text-align: right;\n    }\n</style>\n<table border=\"1\" class=\"dataframe\">\n  <thead>\n    <tr style=\"text-align: right;\">\n      <th></th>\n      <th>f_score</th>\n      <th>accuracy</th>\n      <th>predict</th>\n      <th>y</th>\n    </tr>\n  </thead>\n  <tbody>\n    <tr>\n      <th>0</th>\n      <td>0.500000</td>\n      <td>0.8000</td>\n      <td>[0, 0, 0, 0, 0, 0, 0, 0, 1, 1, 0, 1, 0, 0, 0, ...</td>\n      <td>1073    0\n326     1\n1557    0\n918     0\n974   ...</td>\n    </tr>\n    <tr>\n      <th>1</th>\n      <td>0.777778</td>\n      <td>0.9500</td>\n      <td>[1, 0, 0, 0, 0, 0, 0, 0, 1, 1, 0, 0, 0, 0, 0, ...</td>\n      <td>75      1\n1284    0\n408     0\n1282    0\n1447  ...</td>\n    </tr>\n    <tr>\n      <th>2</th>\n      <td>0.687500</td>\n      <td>0.8750</td>\n      <td>[0, 0, 1, 0, 0, 0, 0, 1, 0, 0, 0, 0, 0, 0, 0, ...</td>\n      <td>407     1\n1220    0\n1200    1\n308     0\n1329  ...</td>\n    </tr>\n    <tr>\n      <th>3</th>\n      <td>0.666667</td>\n      <td>0.9125</td>\n      <td>[0, 0, 0, 0, 0, 0, 0, 0, 0, 0, 0, 0, 0, 0, 0, ...</td>\n      <td>147     0\n938     0\n492     0\n1274    0\n73    ...</td>\n    </tr>\n    <tr>\n      <th>4</th>\n      <td>0.720000</td>\n      <td>0.9125</td>\n      <td>[0, 0, 1, 1, 0, 0, 0, 0, 0, 0, 0, 0, 0, 0, 0, ...</td>\n      <td>289     0\n1011    0\n828     1\n1478    1\n57    ...</td>\n    </tr>\n    <tr>\n      <th>...</th>\n      <td>...</td>\n      <td>...</td>\n      <td>...</td>\n      <td>...</td>\n    </tr>\n    <tr>\n      <th>95</th>\n      <td>0.620690</td>\n      <td>0.8625</td>\n      <td>[0, 0, 0, 1, 0, 0, 0, 0, 0, 0, 0, 0, 0, 0, 0, ...</td>\n      <td>412     0\n470     0\n138     0\n75      1\n1113  ...</td>\n    </tr>\n    <tr>\n      <th>96</th>\n      <td>0.785714</td>\n      <td>0.9250</td>\n      <td>[1, 0, 1, 0, 0, 0, 0, 0, 0, 0, 0, 0, 0, 0, 0, ...</td>\n      <td>1346    0\n1425    1\n242     1\n519     0\n1277  ...</td>\n    </tr>\n    <tr>\n      <th>97</th>\n      <td>0.545455</td>\n      <td>0.8750</td>\n      <td>[0, 0, 0, 0, 0, 0, 0, 0, 1, 0, 0, 0, 0, 0, 0, ...</td>\n      <td>235     0\n942     0\n867     0\n873     0\n459   ...</td>\n    </tr>\n    <tr>\n      <th>98</th>\n      <td>0.615385</td>\n      <td>0.8750</td>\n      <td>[0, 0, 0, 0, 0, 0, 0, 0, 1, 0, 0, 0, 0, 0, 0, ...</td>\n      <td>627     1\n582     0\n550     0\n119     0\n202   ...</td>\n    </tr>\n    <tr>\n      <th>99</th>\n      <td>0.800000</td>\n      <td>0.9250</td>\n      <td>[0, 1, 1, 0, 0, 0, 0, 0, 0, 0, 0, 0, 0, 0, 0, ...</td>\n      <td>1576    0\n1104    1\n317     1\n776     0\n463   ...</td>\n    </tr>\n  </tbody>\n</table>\n<p>100 rows × 4 columns</p>\n</div>"
     },
     "execution_count": 23,
     "metadata": {},
     "output_type": "execute_result"
    }
   ],
   "source": [
    "scores = pd.DataFrame(results)\n",
    "scores"
   ],
   "metadata": {
    "collapsed": false,
    "ExecuteTime": {
     "end_time": "2023-12-05T02:06:46.806570200Z",
     "start_time": "2023-12-05T02:06:46.792715100Z"
    }
   },
   "id": "243fb61309429c4c"
  },
  {
   "cell_type": "code",
   "execution_count": 24,
   "outputs": [
    {
     "data": {
      "text/plain": "          f_score    accuracy\ncount  100.000000  100.000000\nmean     0.631610    0.888125\nstd      0.130380    0.036340\nmin      0.285714    0.762500\n25%      0.568571    0.871875\n50%      0.666667    0.887500\n75%      0.720000    0.912500\nmax      0.838710    0.950000",
      "text/html": "<div>\n<style scoped>\n    .dataframe tbody tr th:only-of-type {\n        vertical-align: middle;\n    }\n\n    .dataframe tbody tr th {\n        vertical-align: top;\n    }\n\n    .dataframe thead th {\n        text-align: right;\n    }\n</style>\n<table border=\"1\" class=\"dataframe\">\n  <thead>\n    <tr style=\"text-align: right;\">\n      <th></th>\n      <th>f_score</th>\n      <th>accuracy</th>\n    </tr>\n  </thead>\n  <tbody>\n    <tr>\n      <th>count</th>\n      <td>100.000000</td>\n      <td>100.000000</td>\n    </tr>\n    <tr>\n      <th>mean</th>\n      <td>0.631610</td>\n      <td>0.888125</td>\n    </tr>\n    <tr>\n      <th>std</th>\n      <td>0.130380</td>\n      <td>0.036340</td>\n    </tr>\n    <tr>\n      <th>min</th>\n      <td>0.285714</td>\n      <td>0.762500</td>\n    </tr>\n    <tr>\n      <th>25%</th>\n      <td>0.568571</td>\n      <td>0.871875</td>\n    </tr>\n    <tr>\n      <th>50%</th>\n      <td>0.666667</td>\n      <td>0.887500</td>\n    </tr>\n    <tr>\n      <th>75%</th>\n      <td>0.720000</td>\n      <td>0.912500</td>\n    </tr>\n    <tr>\n      <th>max</th>\n      <td>0.838710</td>\n      <td>0.950000</td>\n    </tr>\n  </tbody>\n</table>\n</div>"
     },
     "execution_count": 24,
     "metadata": {},
     "output_type": "execute_result"
    }
   ],
   "source": [
    "scores.describe()"
   ],
   "metadata": {
    "collapsed": false,
    "ExecuteTime": {
     "end_time": "2023-12-05T02:06:52.414045200Z",
     "start_time": "2023-12-05T02:06:52.385763500Z"
    }
   },
   "id": "b6670da6072c6f4d"
  },
  {
   "cell_type": "code",
   "execution_count": 28,
   "outputs": [
    {
     "name": "stderr",
     "output_type": "stream",
     "text": [
      "C:\\Users\\krasky\\AppData\\Local\\Temp\\ipykernel_9184\\287132664.py:7: UserWarning: Ignoring `palette` because no `hue` variable has been assigned.\n",
      "  sns.scatterplot(y=y_test, x=y_hat, palette='viridis')\n"
     ]
    },
    {
     "data": {
      "text/plain": "<Axes: ylabel='increase_stock'>"
     },
     "execution_count": 28,
     "metadata": {},
     "output_type": "execute_result"
    },
    {
     "data": {
      "text/plain": "<Figure size 640x480 with 1 Axes>",
      "image/png": "[encoded data removed]"
     },
     "metadata": {},
     "output_type": "display_data"
    }
   ],
   "source": [
    "import seaborn as sns\n",
    "X_train, X_test, y_train, y_test = train_test_split(data, data['increase_stock'],\n",
    "                                                      test_size=0.2, random_state=123)\n",
    "pipeline.fit(X_train, y_train)\n",
    "y_hat = pipeline.predict(X_test)\n",
    "\n",
    "sns.scatterplot(y=y_test, x=y_hat, palette='viridis')"
   ],
   "metadata": {
    "collapsed": false,
    "ExecuteTime": {
     "end_time": "2023-12-05T02:18:13.009273300Z",
     "start_time": "2023-12-05T02:18:12.672403700Z"
    }
   },
   "id": "ad49c38852f5226b"
  },
  {
   "cell_type": "code",
   "execution_count": null,
   "outputs": [],
   "source": [],
   "metadata": {
    "collapsed": false
   },
   "id": "d9a03ea57cb402c9"
  }
 ],
 "metadata": {
  "kernelspec": {
   "display_name": "Python 3",
   "language": "python",
   "name": "python3"
  },
  "language_info": {
   "codemirror_mode": {
    "name": "ipython",
    "version": 2
   },
   "file_extension": ".py",
   "mimetype": "text/x-python",
   "name": "python",
   "nbconvert_exporter": "python",
   "pygments_lexer": "ipython2",
   "version": "2.7.6"
  }
 },
 "nbformat": 4,
 "nbformat_minor": 5
}
