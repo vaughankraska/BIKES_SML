{
 "cells": [
  {
   "cell_type": "code",
   "execution_count": 2,
   "outputs": [],
   "source": [
    "import numpy as np\n",
    "import pandas as pd\n",
    "from feature_creation import data_copy"
   ],
   "metadata": {
    "collapsed": false,
    "ExecuteTime": {
     "end_time": "2023-11-27T23:15:38.214854Z",
     "start_time": "2023-11-27T23:15:37.978608Z"
    }
   },
   "id": "d6ea985748687b0a"
  },
  {
   "cell_type": "markdown",
   "source": [
    "# Create baseline performance using Naive model\n",
    "## model = (always predict low demand)"
   ],
   "metadata": {
    "collapsed": false
   },
   "id": "28058a582ded493d"
  },
  {
   "cell_type": "code",
   "execution_count": 3,
   "outputs": [
    {
     "name": "stdout",
     "output_type": "stream",
     "text": [
      "<class 'pandas.core.frame.DataFrame'>\n",
      "RangeIndex: 1600 entries, 0 to 1599\n",
      "Data columns (total 19 columns):\n",
      " #   Column                 Non-Null Count  Dtype   \n",
      "---  ------                 --------------  -----   \n",
      " 0   hour_of_day            1600 non-null   category\n",
      " 1   day_of_week            1600 non-null   category\n",
      " 2   month                  1600 non-null   category\n",
      " 3   holiday                1600 non-null   int64   \n",
      " 4   weekday                1600 non-null   int64   \n",
      " 5   summertime             1600 non-null   int64   \n",
      " 6   temp                   1600 non-null   float64 \n",
      " 7   dew                    1600 non-null   float64 \n",
      " 8   humidity               1600 non-null   float64 \n",
      " 9   precip                 1600 non-null   float64 \n",
      " 10  snowdepth              1600 non-null   float64 \n",
      " 11  windspeed              1600 non-null   float64 \n",
      " 12  cloudcover             1600 non-null   float64 \n",
      " 13  visibility             1600 non-null   float64 \n",
      " 14  increase_stock         1600 non-null   category\n",
      " 15  daytime                1600 non-null   int64   \n",
      " 16  rushhour               1600 non-null   int64   \n",
      " 17  weather_score          1600 non-null   float64 \n",
      " 18  weather_score_daytime  1600 non-null   float64 \n",
      "dtypes: category(4), float64(10), int64(5)\n",
      "memory usage: 195.5 KB\n"
     ]
    }
   ],
   "source": [
    "data_copy.info()"
   ],
   "metadata": {
    "collapsed": false,
    "ExecuteTime": {
     "end_time": "2023-11-27T23:15:39.402188Z",
     "start_time": "2023-11-27T23:15:39.393517Z"
    }
   },
   "id": "fd77800e058fbac"
  },
  {
   "cell_type": "code",
   "execution_count": 4,
   "outputs": [
    {
     "data": {
      "text/plain": "  hour_of_day day_of_week month  holiday  weekday  summertime  temp   dew  \\\n0           5           5     1        0        0           0  -7.2 -15.0   \n1          21           4     1        0        1           0  -1.3 -12.8   \n2          21           3     8        0        1           1  26.9  21.8   \n3           1           6     1        0        0           0   3.1  -4.0   \n4          17           0     3        0        1           0  11.7 -11.4   \n\n   humidity  precip  snowdepth  windspeed  cloudcover  visibility  \\\n0     53.68     0.0        0.0       16.3        31.6        16.0   \n1     40.97     0.0        0.0       23.9        85.7        16.0   \n2     73.39     0.0        0.0        0.0        81.1        16.0   \n3     59.74     0.0        0.0       19.2         0.0        16.0   \n4     18.71     0.0        0.0       10.5        44.6        16.0   \n\n    increase_stock  daytime  rushhour  weather_score  weather_score_daytime  \n0  low_bike_demand        0         0      -0.141957              -0.000000  \n1  low_bike_demand        0         0       0.075260               0.000000  \n2  low_bike_demand        0         0       0.261261               0.000000  \n3  low_bike_demand        0         0      -0.050008              -0.000000  \n4  low_bike_demand        1         1       0.647846               0.647846  ",
      "text/html": "<div>\n<style scoped>\n    .dataframe tbody tr th:only-of-type {\n        vertical-align: middle;\n    }\n\n    .dataframe tbody tr th {\n        vertical-align: top;\n    }\n\n    .dataframe thead th {\n        text-align: right;\n    }\n</style>\n<table border=\"1\" class=\"dataframe\">\n  <thead>\n    <tr style=\"text-align: right;\">\n      <th></th>\n      <th>hour_of_day</th>\n      <th>day_of_week</th>\n      <th>month</th>\n      <th>holiday</th>\n      <th>weekday</th>\n      <th>summertime</th>\n      <th>temp</th>\n      <th>dew</th>\n      <th>humidity</th>\n      <th>precip</th>\n      <th>snowdepth</th>\n      <th>windspeed</th>\n      <th>cloudcover</th>\n      <th>visibility</th>\n      <th>increase_stock</th>\n      <th>daytime</th>\n      <th>rushhour</th>\n      <th>weather_score</th>\n      <th>weather_score_daytime</th>\n    </tr>\n  </thead>\n  <tbody>\n    <tr>\n      <th>0</th>\n      <td>5</td>\n      <td>5</td>\n      <td>1</td>\n      <td>0</td>\n      <td>0</td>\n      <td>0</td>\n      <td>-7.2</td>\n      <td>-15.0</td>\n      <td>53.68</td>\n      <td>0.0</td>\n      <td>0.0</td>\n      <td>16.3</td>\n      <td>31.6</td>\n      <td>16.0</td>\n      <td>low_bike_demand</td>\n      <td>0</td>\n      <td>0</td>\n      <td>-0.141957</td>\n      <td>-0.000000</td>\n    </tr>\n    <tr>\n      <th>1</th>\n      <td>21</td>\n      <td>4</td>\n      <td>1</td>\n      <td>0</td>\n      <td>1</td>\n      <td>0</td>\n      <td>-1.3</td>\n      <td>-12.8</td>\n      <td>40.97</td>\n      <td>0.0</td>\n      <td>0.0</td>\n      <td>23.9</td>\n      <td>85.7</td>\n      <td>16.0</td>\n      <td>low_bike_demand</td>\n      <td>0</td>\n      <td>0</td>\n      <td>0.075260</td>\n      <td>0.000000</td>\n    </tr>\n    <tr>\n      <th>2</th>\n      <td>21</td>\n      <td>3</td>\n      <td>8</td>\n      <td>0</td>\n      <td>1</td>\n      <td>1</td>\n      <td>26.9</td>\n      <td>21.8</td>\n      <td>73.39</td>\n      <td>0.0</td>\n      <td>0.0</td>\n      <td>0.0</td>\n      <td>81.1</td>\n      <td>16.0</td>\n      <td>low_bike_demand</td>\n      <td>0</td>\n      <td>0</td>\n      <td>0.261261</td>\n      <td>0.000000</td>\n    </tr>\n    <tr>\n      <th>3</th>\n      <td>1</td>\n      <td>6</td>\n      <td>1</td>\n      <td>0</td>\n      <td>0</td>\n      <td>0</td>\n      <td>3.1</td>\n      <td>-4.0</td>\n      <td>59.74</td>\n      <td>0.0</td>\n      <td>0.0</td>\n      <td>19.2</td>\n      <td>0.0</td>\n      <td>16.0</td>\n      <td>low_bike_demand</td>\n      <td>0</td>\n      <td>0</td>\n      <td>-0.050008</td>\n      <td>-0.000000</td>\n    </tr>\n    <tr>\n      <th>4</th>\n      <td>17</td>\n      <td>0</td>\n      <td>3</td>\n      <td>0</td>\n      <td>1</td>\n      <td>0</td>\n      <td>11.7</td>\n      <td>-11.4</td>\n      <td>18.71</td>\n      <td>0.0</td>\n      <td>0.0</td>\n      <td>10.5</td>\n      <td>44.6</td>\n      <td>16.0</td>\n      <td>low_bike_demand</td>\n      <td>1</td>\n      <td>1</td>\n      <td>0.647846</td>\n      <td>0.647846</td>\n    </tr>\n  </tbody>\n</table>\n</div>"
     },
     "execution_count": 4,
     "metadata": {},
     "output_type": "execute_result"
    }
   ],
   "source": [
    "data_copy.head()"
   ],
   "metadata": {
    "collapsed": false,
    "ExecuteTime": {
     "end_time": "2023-11-27T23:16:20.243036Z",
     "start_time": "2023-11-27T23:16:20.234956Z"
    }
   },
   "id": "146cc07db8940a8d"
  },
  {
   "cell_type": "code",
   "execution_count": 11,
   "outputs": [],
   "source": [
    "data_copy['y_hat'] = 'low_bike_demand'"
   ],
   "metadata": {
    "collapsed": false,
    "ExecuteTime": {
     "end_time": "2023-11-27T23:19:58.737996Z",
     "start_time": "2023-11-27T23:19:58.729721Z"
    }
   },
   "id": "1f9aa53ddc25526a"
  },
  {
   "cell_type": "code",
   "execution_count": 12,
   "outputs": [
    {
     "name": "stdout",
     "output_type": "stream",
     "text": [
      "<class 'pandas.core.frame.DataFrame'>\n",
      "RangeIndex: 1600 entries, 0 to 1599\n",
      "Data columns (total 20 columns):\n",
      " #   Column                 Non-Null Count  Dtype   \n",
      "---  ------                 --------------  -----   \n",
      " 0   hour_of_day            1600 non-null   category\n",
      " 1   day_of_week            1600 non-null   category\n",
      " 2   month                  1600 non-null   category\n",
      " 3   holiday                1600 non-null   int64   \n",
      " 4   weekday                1600 non-null   int64   \n",
      " 5   summertime             1600 non-null   int64   \n",
      " 6   temp                   1600 non-null   float64 \n",
      " 7   dew                    1600 non-null   float64 \n",
      " 8   humidity               1600 non-null   float64 \n",
      " 9   precip                 1600 non-null   float64 \n",
      " 10  snowdepth              1600 non-null   float64 \n",
      " 11  windspeed              1600 non-null   float64 \n",
      " 12  cloudcover             1600 non-null   float64 \n",
      " 13  visibility             1600 non-null   float64 \n",
      " 14  increase_stock         1600 non-null   category\n",
      " 15  daytime                1600 non-null   int64   \n",
      " 16  rushhour               1600 non-null   int64   \n",
      " 17  weather_score          1600 non-null   float64 \n",
      " 18  weather_score_daytime  1600 non-null   float64 \n",
      " 19  y_hat                  1600 non-null   object  \n",
      "dtypes: category(4), float64(10), int64(5), object(1)\n",
      "memory usage: 208.0+ KB\n"
     ]
    }
   ],
   "source": [
    "data_copy.info()"
   ],
   "metadata": {
    "collapsed": false,
    "ExecuteTime": {
     "end_time": "2023-11-27T23:19:59.369995Z",
     "start_time": "2023-11-27T23:19:59.363836Z"
    }
   },
   "id": "f50eaecfc45d90b2"
  },
  {
   "cell_type": "code",
   "execution_count": 16,
   "outputs": [
    {
     "data": {
      "text/plain": "0.82"
     },
     "execution_count": 16,
     "metadata": {},
     "output_type": "execute_result"
    }
   ],
   "source": [
    "error = data_copy['increase_stock'].astype('string') == data_copy['y_hat'].astype('string')\n",
    "error.mean()"
   ],
   "metadata": {
    "collapsed": false,
    "ExecuteTime": {
     "end_time": "2023-11-27T23:20:29.538379Z",
     "start_time": "2023-11-27T23:20:29.535499Z"
    }
   },
   "id": "21b26b9ac0fa706e"
  },
  {
   "cell_type": "markdown",
   "source": [
    "# Choosing always 'low_bike_demand' gives a baseline of 82% accuracy"
   ],
   "metadata": {
    "collapsed": false
   },
   "id": "a363319cca52d446"
  },
  {
   "cell_type": "code",
   "execution_count": null,
   "outputs": [],
   "source": [],
   "metadata": {
    "collapsed": false
   },
   "id": "db61df1daa2e484a"
  }
 ],
 "metadata": {
  "kernelspec": {
   "display_name": "Python 3",
   "language": "python",
   "name": "python3"
  },
  "language_info": {
   "codemirror_mode": {
    "name": "ipython",
    "version": 2
   },
   "file_extension": ".py",
   "mimetype": "text/x-python",
   "name": "python",
   "nbconvert_exporter": "python",
   "pygments_lexer": "ipython2",
   "version": "2.7.6"
  }
 },
 "nbformat": 4,
 "nbformat_minor": 5
}
