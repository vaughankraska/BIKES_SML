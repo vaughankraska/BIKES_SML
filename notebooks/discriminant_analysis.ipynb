{
 "cells": [
  {
   "cell_type": "code",
   "execution_count": 1,
   "metadata": {
    "ExecuteTime": {
     "end_time": "2023-11-29T10:19:01.501201Z",
     "start_time": "2023-11-29T10:19:01.426187Z"
    }
   },
   "outputs": [],
   "source": [
    "import pandas as pd\n",
    "import numpy as np\n",
    "import sklearn.discriminant_analysis as skl_da\n",
    "import sklearn.model_selection as skl_ms\n",
    "from sklearn.metrics import classification_report, accuracy_score\n",
    "\n",
    "# Load the dataset\n",
    "#data = pd.read_csv('../data/training_data.csv')\n",
    "\n",
    "# Load new dataset\n",
    "data = pd.read_csv('../data/data_copy.csv')\n",
    "\n",
    "X = data.drop('increase_stock', axis=1) \n",
    "y = data['increase_stock'] \n",
    "X_train, X_test, y_train, y_test = skl_ms.train_test_split(X, y, test_size=0.2, random_state=42)"
   ]
  },
  {
   "cell_type": "code",
   "execution_count": 20,
   "metadata": {
    "ExecuteTime": {
     "end_time": "2023-11-29T10:16:47.336564Z",
     "start_time": "2023-11-29T10:16:47.164884Z"
    }
   },
   "outputs": [
    {
     "name": "stdout",
     "output_type": "stream",
     "text": [
      "                  precision    recall  f1-score   support\n",
      "\n",
      "high_bike_demand       0.52      0.62      0.56        50\n",
      " low_bike_demand       0.93      0.89      0.91       270\n",
      "\n",
      "        accuracy                           0.85       320\n",
      "       macro avg       0.72      0.76      0.74       320\n",
      "    weighted avg       0.86      0.85      0.86       320\n"
     ]
    }
   ],
   "source": [
    "lda = skl_da.LinearDiscriminantAnalysis().fit(X_train,y_train)\n",
    "y_pred_lda = lda.predict(X_test)\n",
    "lda.score(X_test,y_test)\n",
    "print(classification_report(y_test, y_pred_lda))\n"
   ]
  },
  {
   "cell_type": "code",
   "execution_count": 21,
   "metadata": {
    "ExecuteTime": {
     "end_time": "2023-11-29T10:16:47.341895Z",
     "start_time": "2023-11-29T10:16:47.221889Z"
    }
   },
   "outputs": [
    {
     "data": {
      "text/plain": "19"
     },
     "execution_count": 21,
     "metadata": {},
     "output_type": "execute_result"
    }
   ],
   "source": [
    "len(lda.coef_[0])"
   ]
  },
  {
   "cell_type": "code",
   "execution_count": 22,
   "metadata": {
    "ExecuteTime": {
     "end_time": "2023-11-29T10:16:47.342613Z",
     "start_time": "2023-11-29T10:16:47.249127Z"
    }
   },
   "outputs": [
    {
     "name": "stdout",
     "output_type": "stream",
     "text": [
      "                  precision    recall  f1-score   support\n",
      "\n",
      "high_bike_demand       0.34      0.70      0.46        50\n",
      " low_bike_demand       0.93      0.75      0.83       270\n",
      "\n",
      "        accuracy                           0.74       320\n",
      "       macro avg       0.64      0.72      0.64       320\n",
      "    weighted avg       0.84      0.74      0.77       320\n"
     ]
    },
    {
     "name": "stderr",
     "output_type": "stream",
     "text": [
      "/Users/finnvaughankraska/IdeaProjects/BIKES_SML/venv/lib/python3.11/site-packages/sklearn/discriminant_analysis.py:935: UserWarning: Variables are collinear\n",
      "  warnings.warn(\"Variables are collinear\")\n"
     ]
    }
   ],
   "source": [
    "qda = skl_da.QuadraticDiscriminantAnalysis().fit(X_train,y_train)\n",
    "y_pred_qda = qda.predict(X_test)\n",
    "qda.score(X_test,y_test)\n",
    "print(classification_report(y_test, y_pred_qda))\n"
   ]
  },
  {
   "cell_type": "code",
   "execution_count": 23,
   "metadata": {
    "ExecuteTime": {
     "end_time": "2023-11-29T10:16:50.150934Z",
     "start_time": "2023-11-29T10:16:47.293831Z"
    }
   },
   "outputs": [
    {
     "name": "stderr",
     "output_type": "stream",
     "text": [
      "/Users/finnvaughankraska/IdeaProjects/BIKES_SML/venv/lib/python3.11/site-packages/sklearn/discriminant_analysis.py:935: UserWarning: Variables are collinear\n",
      "  warnings.warn(\"Variables are collinear\")\n",
      "/Users/finnvaughankraska/IdeaProjects/BIKES_SML/venv/lib/python3.11/site-packages/sklearn/discriminant_analysis.py:935: UserWarning: Variables are collinear\n",
      "  warnings.warn(\"Variables are collinear\")\n",
      "/Users/finnvaughankraska/IdeaProjects/BIKES_SML/venv/lib/python3.11/site-packages/sklearn/discriminant_analysis.py:935: UserWarning: Variables are collinear\n",
      "  warnings.warn(\"Variables are collinear\")\n",
      "/Users/finnvaughankraska/IdeaProjects/BIKES_SML/venv/lib/python3.11/site-packages/sklearn/discriminant_analysis.py:935: UserWarning: Variables are collinear\n",
      "  warnings.warn(\"Variables are collinear\")\n",
      "/Users/finnvaughankraska/IdeaProjects/BIKES_SML/venv/lib/python3.11/site-packages/sklearn/discriminant_analysis.py:935: UserWarning: Variables are collinear\n",
      "  warnings.warn(\"Variables are collinear\")\n",
      "/Users/finnvaughankraska/IdeaProjects/BIKES_SML/venv/lib/python3.11/site-packages/sklearn/discriminant_analysis.py:935: UserWarning: Variables are collinear\n",
      "  warnings.warn(\"Variables are collinear\")\n",
      "/Users/finnvaughankraska/IdeaProjects/BIKES_SML/venv/lib/python3.11/site-packages/sklearn/discriminant_analysis.py:935: UserWarning: Variables are collinear\n",
      "  warnings.warn(\"Variables are collinear\")\n",
      "/Users/finnvaughankraska/IdeaProjects/BIKES_SML/venv/lib/python3.11/site-packages/sklearn/discriminant_analysis.py:935: UserWarning: Variables are collinear\n",
      "  warnings.warn(\"Variables are collinear\")\n",
      "/Users/finnvaughankraska/IdeaProjects/BIKES_SML/venv/lib/python3.11/site-packages/sklearn/discriminant_analysis.py:935: UserWarning: Variables are collinear\n",
      "  warnings.warn(\"Variables are collinear\")\n",
      "/Users/finnvaughankraska/IdeaProjects/BIKES_SML/venv/lib/python3.11/site-packages/sklearn/discriminant_analysis.py:935: UserWarning: Variables are collinear\n",
      "  warnings.warn(\"Variables are collinear\")\n"
     ]
    },
    {
     "name": "stdout",
     "output_type": "stream",
     "text": [
      "0.8737499999999999 0.748125\n"
     ]
    }
   ],
   "source": [
    "acc_lda = []\n",
    "acc_qda = []\n",
    "kf = skl_ms.KFold(n_splits=10, shuffle=True)\n",
    "for i, (train_index, test_index) in enumerate(kf.split(data)):\n",
    "    X_train = X.iloc[train_index]\n",
    "    X_test = X.iloc[test_index]\n",
    "    y_train = y[train_index]\n",
    "    y_test = y[test_index]\n",
    "\n",
    "    lda_kf = skl_da.LinearDiscriminantAnalysis().fit(X_train,y_train)\n",
    "    acc_lda.append(lda_kf.score(X_test,y_test))\n",
    "    y_pred_lda_kf = lda_kf.predict(X_test)\n",
    "    #print(\"LDA:\")\n",
    "    #print(classification_report(y_test, y_pred_lda_kf))\n",
    "\n",
    "    qda_kf = skl_da.QuadraticDiscriminantAnalysis().fit(X_train,y_train)\n",
    "    acc_qda.append(qda_kf.score(X_test,y_test))\n",
    "    y_pred_qda_kf = qda_kf.predict(X_test)\n",
    "    #print(\"QDA:\")\n",
    "    #print(classification_report(y_test, y_pred_qda_kf))\n",
    "\n",
    "    \n",
    "acc_lda = np.mean(acc_lda)\n",
    "acc_qda = np.mean(acc_qda)\n",
    "\n",
    "print(acc_lda, acc_qda)\n",
    "\n",
    "\n"
   ]
  },
  {
   "cell_type": "markdown",
   "source": [
    "# Finn see results with feature pipline (one hot categoricals)"
   ],
   "metadata": {
    "collapsed": false
   }
  },
  {
   "cell_type": "code",
   "execution_count": 2,
   "outputs": [],
   "source": [
    "import pandas as pd\n",
    "from feature_creation import data_copy\n",
    "from sklearn.discriminant_analysis import QuadraticDiscriminantAnalysis,LinearDiscriminantAnalysis\n",
    "from sklearn.decomposition import PCA\n",
    "from sklearn.model_selection import cross_val_predict, KFold, cross_val_score\n",
    "from sklearn.metrics import classification_report\n",
    "from sklearn.preprocessing import OneHotEncoder, PolynomialFeatures, StandardScaler\n",
    "from sklearn.compose import ColumnTransformer\n",
    "from sklearn.pipeline import Pipeline\n",
    "from os import cpu_count\n",
    "import numpy as np"
   ],
   "metadata": {
    "collapsed": false,
    "ExecuteTime": {
     "end_time": "2023-11-29T14:30:28.553657Z",
     "start_time": "2023-11-29T14:30:28.313299Z"
    }
   }
  },
  {
   "cell_type": "code",
   "execution_count": 3,
   "outputs": [
    {
     "data": {
      "text/plain": "           holiday      weekday  summertime         temp          dew  \\\ncount  1600.000000  1600.000000  1600.00000  1600.000000  1600.000000   \nmean      0.033125     0.710000     0.64375    15.210313     7.750750   \nstd       0.179019     0.453904     0.47904     9.264785    10.026459   \nmin       0.000000     0.000000     0.00000    -9.100000   -18.400000   \n25%       0.000000     0.000000     0.00000     7.700000    -0.800000   \n50%       0.000000     1.000000     1.00000    15.500000     8.300000   \n75%       0.000000     1.000000     1.00000    23.200000    16.800000   \nmax       1.000000     1.000000     1.00000    35.600000    24.300000   \n\n          humidity       precip    snowdepth    windspeed   cloudcover  \\\ncount  1600.000000  1600.000000  1600.000000  1600.000000  1600.000000   \nmean     63.927844     0.122042     0.042713    13.082500    64.322375   \nstd      19.079419     0.920600     0.421198     7.756652    32.748869   \nmin      15.850000     0.000000     0.000000     0.000000     0.000000   \n25%      47.845000     0.000000     0.000000     7.500000    28.800000   \n50%      65.175000     0.000000     0.000000    12.300000    79.300000   \n75%      79.955000     0.000000     0.000000    17.600000    92.800000   \nmax      99.890000    25.871000     6.710000    43.800000   100.000000   \n\n        visibility  increase_stock      daytime     rushhour  weather_score  \\\ncount  1600.000000     1600.000000  1600.000000  1600.000000    1600.000000   \nmean     15.344125        0.180000     0.543750     0.205625       0.180000   \nstd       2.323737        0.384308     0.498238     0.404284       0.184322   \nmin       0.100000        0.000000     0.000000     0.000000      -0.239787   \n25%      16.000000        0.000000     0.000000     0.000000       0.049945   \n50%      16.000000        0.000000     1.000000     0.000000       0.154343   \n75%      16.000000        0.000000     1.000000     0.000000       0.278779   \nmax      16.000000        1.000000     1.000000     1.000000       0.956538   \n\n       weather_score_daytime  \ncount            1600.000000  \nmean                0.127378  \nstd                 0.189459  \nmin                -0.160192  \n25%                 0.000000  \n50%                 0.000000  \n75%                 0.225751  \nmax                 0.956538  ",
      "text/html": "<div>\n<style scoped>\n    .dataframe tbody tr th:only-of-type {\n        vertical-align: middle;\n    }\n\n    .dataframe tbody tr th {\n        vertical-align: top;\n    }\n\n    .dataframe thead th {\n        text-align: right;\n    }\n</style>\n<table border=\"1\" class=\"dataframe\">\n  <thead>\n    <tr style=\"text-align: right;\">\n      <th></th>\n      <th>holiday</th>\n      <th>weekday</th>\n      <th>summertime</th>\n      <th>temp</th>\n      <th>dew</th>\n      <th>humidity</th>\n      <th>precip</th>\n      <th>snowdepth</th>\n      <th>windspeed</th>\n      <th>cloudcover</th>\n      <th>visibility</th>\n      <th>increase_stock</th>\n      <th>daytime</th>\n      <th>rushhour</th>\n      <th>weather_score</th>\n      <th>weather_score_daytime</th>\n    </tr>\n  </thead>\n  <tbody>\n    <tr>\n      <th>count</th>\n      <td>1600.000000</td>\n      <td>1600.000000</td>\n      <td>1600.00000</td>\n      <td>1600.000000</td>\n      <td>1600.000000</td>\n      <td>1600.000000</td>\n      <td>1600.000000</td>\n      <td>1600.000000</td>\n      <td>1600.000000</td>\n      <td>1600.000000</td>\n      <td>1600.000000</td>\n      <td>1600.000000</td>\n      <td>1600.000000</td>\n      <td>1600.000000</td>\n      <td>1600.000000</td>\n      <td>1600.000000</td>\n    </tr>\n    <tr>\n      <th>mean</th>\n      <td>0.033125</td>\n      <td>0.710000</td>\n      <td>0.64375</td>\n      <td>15.210313</td>\n      <td>7.750750</td>\n      <td>63.927844</td>\n      <td>0.122042</td>\n      <td>0.042713</td>\n      <td>13.082500</td>\n      <td>64.322375</td>\n      <td>15.344125</td>\n      <td>0.180000</td>\n      <td>0.543750</td>\n      <td>0.205625</td>\n      <td>0.180000</td>\n      <td>0.127378</td>\n    </tr>\n    <tr>\n      <th>std</th>\n      <td>0.179019</td>\n      <td>0.453904</td>\n      <td>0.47904</td>\n      <td>9.264785</td>\n      <td>10.026459</td>\n      <td>19.079419</td>\n      <td>0.920600</td>\n      <td>0.421198</td>\n      <td>7.756652</td>\n      <td>32.748869</td>\n      <td>2.323737</td>\n      <td>0.384308</td>\n      <td>0.498238</td>\n      <td>0.404284</td>\n      <td>0.184322</td>\n      <td>0.189459</td>\n    </tr>\n    <tr>\n      <th>min</th>\n      <td>0.000000</td>\n      <td>0.000000</td>\n      <td>0.00000</td>\n      <td>-9.100000</td>\n      <td>-18.400000</td>\n      <td>15.850000</td>\n      <td>0.000000</td>\n      <td>0.000000</td>\n      <td>0.000000</td>\n      <td>0.000000</td>\n      <td>0.100000</td>\n      <td>0.000000</td>\n      <td>0.000000</td>\n      <td>0.000000</td>\n      <td>-0.239787</td>\n      <td>-0.160192</td>\n    </tr>\n    <tr>\n      <th>25%</th>\n      <td>0.000000</td>\n      <td>0.000000</td>\n      <td>0.00000</td>\n      <td>7.700000</td>\n      <td>-0.800000</td>\n      <td>47.845000</td>\n      <td>0.000000</td>\n      <td>0.000000</td>\n      <td>7.500000</td>\n      <td>28.800000</td>\n      <td>16.000000</td>\n      <td>0.000000</td>\n      <td>0.000000</td>\n      <td>0.000000</td>\n      <td>0.049945</td>\n      <td>0.000000</td>\n    </tr>\n    <tr>\n      <th>50%</th>\n      <td>0.000000</td>\n      <td>1.000000</td>\n      <td>1.00000</td>\n      <td>15.500000</td>\n      <td>8.300000</td>\n      <td>65.175000</td>\n      <td>0.000000</td>\n      <td>0.000000</td>\n      <td>12.300000</td>\n      <td>79.300000</td>\n      <td>16.000000</td>\n      <td>0.000000</td>\n      <td>1.000000</td>\n      <td>0.000000</td>\n      <td>0.154343</td>\n      <td>0.000000</td>\n    </tr>\n    <tr>\n      <th>75%</th>\n      <td>0.000000</td>\n      <td>1.000000</td>\n      <td>1.00000</td>\n      <td>23.200000</td>\n      <td>16.800000</td>\n      <td>79.955000</td>\n      <td>0.000000</td>\n      <td>0.000000</td>\n      <td>17.600000</td>\n      <td>92.800000</td>\n      <td>16.000000</td>\n      <td>0.000000</td>\n      <td>1.000000</td>\n      <td>0.000000</td>\n      <td>0.278779</td>\n      <td>0.225751</td>\n    </tr>\n    <tr>\n      <th>max</th>\n      <td>1.000000</td>\n      <td>1.000000</td>\n      <td>1.00000</td>\n      <td>35.600000</td>\n      <td>24.300000</td>\n      <td>99.890000</td>\n      <td>25.871000</td>\n      <td>6.710000</td>\n      <td>43.800000</td>\n      <td>100.000000</td>\n      <td>16.000000</td>\n      <td>1.000000</td>\n      <td>1.000000</td>\n      <td>1.000000</td>\n      <td>0.956538</td>\n      <td>0.956538</td>\n    </tr>\n  </tbody>\n</table>\n</div>"
     },
     "execution_count": 3,
     "metadata": {},
     "output_type": "execute_result"
    }
   ],
   "source": [
    "data_copy['increase_stock'] = data_copy['increase_stock'].apply(lambda entity: 1 if entity == 'high_bike_demand' else 0)\n",
    "data_copy['increase_stock'] = data_copy['increase_stock'].astype('int')\n",
    "data_copy.describe()"
   ],
   "metadata": {
    "collapsed": false,
    "ExecuteTime": {
     "end_time": "2023-11-29T14:30:29.303665Z",
     "start_time": "2023-11-29T14:30:29.277141Z"
    }
   }
  },
  {
   "cell_type": "code",
   "execution_count": 4,
   "outputs": [
    {
     "name": "stdout",
     "output_type": "stream",
     "text": [
      "<class 'pandas.core.frame.DataFrame'>\n",
      "RangeIndex: 1600 entries, 0 to 1599\n",
      "Data columns (total 19 columns):\n",
      " #   Column                 Non-Null Count  Dtype   \n",
      "---  ------                 --------------  -----   \n",
      " 0   hour_of_day            1600 non-null   category\n",
      " 1   day_of_week            1600 non-null   category\n",
      " 2   month                  1600 non-null   category\n",
      " 3   holiday                1600 non-null   int64   \n",
      " 4   weekday                1600 non-null   int64   \n",
      " 5   summertime             1600 non-null   int64   \n",
      " 6   temp                   1600 non-null   float64 \n",
      " 7   dew                    1600 non-null   float64 \n",
      " 8   humidity               1600 non-null   float64 \n",
      " 9   precip                 1600 non-null   float64 \n",
      " 10  snowdepth              1600 non-null   float64 \n",
      " 11  windspeed              1600 non-null   float64 \n",
      " 12  cloudcover             1600 non-null   float64 \n",
      " 13  visibility             1600 non-null   float64 \n",
      " 14  increase_stock         1600 non-null   int64   \n",
      " 15  daytime                1600 non-null   int64   \n",
      " 16  rushhour               1600 non-null   int64   \n",
      " 17  weather_score          1600 non-null   float64 \n",
      " 18  weather_score_daytime  1600 non-null   float64 \n",
      "dtypes: category(3), float64(10), int64(6)\n",
      "memory usage: 206.3 KB\n"
     ]
    }
   ],
   "source": [
    "data_copy.info()"
   ],
   "metadata": {
    "collapsed": false,
    "ExecuteTime": {
     "end_time": "2023-11-29T14:30:30.321620Z",
     "start_time": "2023-11-29T14:30:30.311722Z"
    }
   }
  },
  {
   "cell_type": "code",
   "execution_count": 28,
   "outputs": [],
   "source": [
    "X = data_copy.drop('increase_stock', axis=1)\n",
    "Y = data_copy['increase_stock']\n",
    "\n",
    "model = QuadraticDiscriminantAnalysis()\n",
    "\n",
    "pre = ColumnTransformer(\n",
    "    [('cat',OneHotEncoder(),list(X.select_dtypes('category').columns))],\n",
    "    remainder='passthrough')\n",
    "\n",
    "qda = Pipeline([\n",
    "    ('pre', pre),\n",
    "    ('poly', PolynomialFeatures(include_bias=False)),\n",
    "    ('scale',StandardScaler()),\n",
    "    ('PCA', PCA(n_components=4)),\n",
    "    ('classifier', model)\n",
    "])"
   ],
   "metadata": {
    "collapsed": false,
    "ExecuteTime": {
     "end_time": "2023-11-29T14:40:13.687770Z",
     "start_time": "2023-11-29T14:40:13.681170Z"
    }
   }
  },
  {
   "cell_type": "code",
   "execution_count": 29,
   "outputs": [
    {
     "name": "stdout",
     "output_type": "stream",
     "text": [
      "              precision    recall  f1-score   support\n",
      "\n",
      "           0       0.93      0.93      0.93      1312\n",
      "           1       0.68      0.67      0.67       288\n",
      "\n",
      "    accuracy                           0.88      1600\n",
      "   macro avg       0.80      0.80      0.80      1600\n",
      "weighted avg       0.88      0.88      0.88      1600\n"
     ]
    }
   ],
   "source": [
    "y_hats = cross_val_predict(qda, X=X, y=Y, n_jobs=cpu_count())\n",
    "print(classification_report(Y,y_hats))"
   ],
   "metadata": {
    "collapsed": false,
    "ExecuteTime": {
     "end_time": "2023-11-29T14:40:14.495572Z",
     "start_time": "2023-11-29T14:40:14.333349Z"
    }
   }
  },
  {
   "cell_type": "code",
   "execution_count": 16,
   "outputs": [
    {
     "data": {
      "text/plain": "array(['x0', 'x1', 'x2', ..., 'x1766', 'x1767', 'x1768'], dtype=object)"
     },
     "execution_count": 16,
     "metadata": {},
     "output_type": "execute_result"
    }
   ],
   "source": [
    "qda.fit(X,Y)\n",
    "qda[2].get_feature_names_out()"
   ],
   "metadata": {
    "collapsed": false,
    "ExecuteTime": {
     "end_time": "2023-11-29T14:35:30.302741Z",
     "start_time": "2023-11-29T14:35:27.912924Z"
    }
   }
  },
  {
   "cell_type": "code",
   "execution_count": 17,
   "outputs": [
    {
     "data": {
      "text/plain": "<Axes: >"
     },
     "execution_count": 17,
     "metadata": {},
     "output_type": "execute_result"
    },
    {
     "data": {
      "text/plain": "<Figure size 640x480 with 1 Axes>",
      "image/png": "[encoded data removed]"
     },
     "metadata": {},
     "output_type": "display_data"
    }
   ],
   "source": [
    "kf = KFold(n_splits=5, shuffle=True, random_state=123)\n",
    "accuracy_array = []\n",
    "for i in range(0,30):\n",
    "    pipe = Pipeline([\n",
    "        ('pre', pre),\n",
    "        ('poly', PolynomialFeatures(include_bias=False)),\n",
    "        ('scale',StandardScaler()),\n",
    "        ('PCA', PCA(n_components=i+1)),\n",
    "        ('classifier', model)\n",
    "    ])\n",
    "    cvr = cross_val_score(pipe, X,Y, cv=kf, scoring='accuracy', n_jobs=cpu_count())\n",
    "    accuracy_array.append(np.mean(cvr))\n",
    "import seaborn as sns\n",
    "sns.lineplot(accuracy_array)"
   ],
   "metadata": {
    "collapsed": false,
    "ExecuteTime": {
     "end_time": "2023-11-29T14:38:39.639339Z",
     "start_time": "2023-11-29T14:38:33.260629Z"
    }
   }
  },
  {
   "cell_type": "code",
   "execution_count": 18,
   "outputs": [
    {
     "data": {
      "text/plain": "3"
     },
     "execution_count": 18,
     "metadata": {},
     "output_type": "execute_result"
    }
   ],
   "source": [
    "accuracy_array.index(np.max(accuracy_array))"
   ],
   "metadata": {
    "collapsed": false,
    "ExecuteTime": {
     "end_time": "2023-11-29T14:39:05.750190Z",
     "start_time": "2023-11-29T14:39:05.703335Z"
    }
   }
  },
  {
   "cell_type": "code",
   "execution_count": null,
   "outputs": [],
   "source": [],
   "metadata": {
    "collapsed": false
   }
  }
 ],
 "metadata": {
  "kernelspec": {
   "display_name": "ds",
   "language": "python",
   "name": "python3"
  },
  "language_info": {
   "codemirror_mode": {
    "name": "ipython",
    "version": 3
   },
   "file_extension": ".py",
   "mimetype": "text/x-python",
   "name": "python",
   "nbconvert_exporter": "python",
   "pygments_lexer": "ipython3",
   "version": "3.11.4"
  }
 },
 "nbformat": 4,
 "nbformat_minor": 2
}
