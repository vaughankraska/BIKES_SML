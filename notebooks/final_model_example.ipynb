{
 "cells": [
  {
   "cell_type": "code",
   "execution_count": 11,
   "id": "initial_id",
   "metadata": {
    "collapsed": true,
    "ExecuteTime": {
     "end_time": "2023-12-05T01:06:30.329417100Z",
     "start_time": "2023-12-05T01:06:30.323908900Z"
    }
   },
   "outputs": [],
   "source": [
    "import pandas as pd\n",
    "import numpy as np\n",
    "from os import cpu_count\n",
    "from sklearn.linear_model import LogisticRegression, LinearRegression\n",
    "from sklearn.ensemble import RandomForestClassifier "
   ]
  },
  {
   "cell_type": "code",
   "execution_count": 2,
   "outputs": [
    {
     "data": {
      "text/plain": "(array([0, 0, 0, ..., 0, 1, 0], dtype=int64), Index([0, 1], dtype='int64'))"
     },
     "execution_count": 2,
     "metadata": {},
     "output_type": "execute_result"
    }
   ],
   "source": [
    "from src.utils import load_data\n",
    "data = load_data()\n",
    "pd.factorize(data['increase_stock'])"
   ],
   "metadata": {
    "collapsed": false,
    "ExecuteTime": {
     "end_time": "2023-12-05T01:02:20.594839700Z",
     "start_time": "2023-12-05T01:02:20.584950800Z"
    }
   },
   "id": "b984810220a9a3ed"
  },
  {
   "cell_type": "markdown",
   "source": [
    "# initialize_model_pipeline handles all the preprocessing\n",
    "## (visualize the pipeline by hanging the variable at the end of the cell)"
   ],
   "metadata": {
    "collapsed": false
   },
   "id": "e7bcdbbc02ede4ca"
  },
  {
   "cell_type": "code",
   "execution_count": 3,
   "outputs": [
    {
     "data": {
      "text/plain": "Pipeline(steps=[('pre',\n                 ColumnTransformer(transformers=[('cat', OneHotEncoder(),\n                                                  ['hour_of_day', 'month']),\n                                                 ('gen', Generator(),\n                                                  ['hour_of_day']),\n                                                 ('bin', 'passthrough',\n                                                  ['weekday', 'summertime']),\n                                                 ('weather',\n                                                  WeatherTransformer(),\n                                                  ['summertime', 'temp', 'dew',\n                                                   'humidity', 'precip',\n                                                   'snowdepth', 'windspeed',\n                                                   'cloudcover',\n                                                   'visibility'])])),\n                ('model',\n                 LogisticRegression(max_iter=10000, random_state=123))])",
      "text/html": "<style>#sk-container-id-1 {color: black;}#sk-container-id-1 pre{padding: 0;}#sk-container-id-1 div.sk-toggleable {background-color: white;}#sk-container-id-1 label.sk-toggleable__label {cursor: pointer;display: block;width: 100%;margin-bottom: 0;padding: 0.3em;box-sizing: border-box;text-align: center;}#sk-container-id-1 label.sk-toggleable__label-arrow:before {content: \"▸\";float: left;margin-right: 0.25em;color: #696969;}#sk-container-id-1 label.sk-toggleable__label-arrow:hover:before {color: black;}#sk-container-id-1 div.sk-estimator:hover label.sk-toggleable__label-arrow:before {color: black;}#sk-container-id-1 div.sk-toggleable__content {max-height: 0;max-width: 0;overflow: hidden;text-align: left;background-color: #f0f8ff;}#sk-container-id-1 div.sk-toggleable__content pre {margin: 0.2em;color: black;border-radius: 0.25em;background-color: #f0f8ff;}#sk-container-id-1 input.sk-toggleable__control:checked~div.sk-toggleable__content {max-height: 200px;max-width: 100%;overflow: auto;}#sk-container-id-1 input.sk-toggleable__control:checked~label.sk-toggleable__label-arrow:before {content: \"▾\";}#sk-container-id-1 div.sk-estimator input.sk-toggleable__control:checked~label.sk-toggleable__label {background-color: #d4ebff;}#sk-container-id-1 div.sk-label input.sk-toggleable__control:checked~label.sk-toggleable__label {background-color: #d4ebff;}#sk-container-id-1 input.sk-hidden--visually {border: 0;clip: rect(1px 1px 1px 1px);clip: rect(1px, 1px, 1px, 1px);height: 1px;margin: -1px;overflow: hidden;padding: 0;position: absolute;width: 1px;}#sk-container-id-1 div.sk-estimator {font-family: monospace;background-color: #f0f8ff;border: 1px dotted black;border-radius: 0.25em;box-sizing: border-box;margin-bottom: 0.5em;}#sk-container-id-1 div.sk-estimator:hover {background-color: #d4ebff;}#sk-container-id-1 div.sk-parallel-item::after {content: \"\";width: 100%;border-bottom: 1px solid gray;flex-grow: 1;}#sk-container-id-1 div.sk-label:hover label.sk-toggleable__label {background-color: #d4ebff;}#sk-container-id-1 div.sk-serial::before {content: \"\";position: absolute;border-left: 1px solid gray;box-sizing: border-box;top: 0;bottom: 0;left: 50%;z-index: 0;}#sk-container-id-1 div.sk-serial {display: flex;flex-direction: column;align-items: center;background-color: white;padding-right: 0.2em;padding-left: 0.2em;position: relative;}#sk-container-id-1 div.sk-item {position: relative;z-index: 1;}#sk-container-id-1 div.sk-parallel {display: flex;align-items: stretch;justify-content: center;background-color: white;position: relative;}#sk-container-id-1 div.sk-item::before, #sk-container-id-1 div.sk-parallel-item::before {content: \"\";position: absolute;border-left: 1px solid gray;box-sizing: border-box;top: 0;bottom: 0;left: 50%;z-index: -1;}#sk-container-id-1 div.sk-parallel-item {display: flex;flex-direction: column;z-index: 1;position: relative;background-color: white;}#sk-container-id-1 div.sk-parallel-item:first-child::after {align-self: flex-end;width: 50%;}#sk-container-id-1 div.sk-parallel-item:last-child::after {align-self: flex-start;width: 50%;}#sk-container-id-1 div.sk-parallel-item:only-child::after {width: 0;}#sk-container-id-1 div.sk-dashed-wrapped {border: 1px dashed gray;margin: 0 0.4em 0.5em 0.4em;box-sizing: border-box;padding-bottom: 0.4em;background-color: white;}#sk-container-id-1 div.sk-label label {font-family: monospace;font-weight: bold;display: inline-block;line-height: 1.2em;}#sk-container-id-1 div.sk-label-container {text-align: center;}#sk-container-id-1 div.sk-container {/* jupyter's `normalize.less` sets `[hidden] { display: none; }` but bootstrap.min.css set `[hidden] { display: none !important; }` so we also need the `!important` here to be able to override the default hidden behavior on the sphinx rendered scikit-learn.org. See: https://github.com/scikit-learn/scikit-learn/issues/21755 */display: inline-block !important;position: relative;}#sk-container-id-1 div.sk-text-repr-fallback {display: none;}</style><div id=\"sk-container-id-1\" class=\"sk-top-container\"><div class=\"sk-text-repr-fallback\"><pre>Pipeline(steps=[(&#x27;pre&#x27;,\n                 ColumnTransformer(transformers=[(&#x27;cat&#x27;, OneHotEncoder(),\n                                                  [&#x27;hour_of_day&#x27;, &#x27;month&#x27;]),\n                                                 (&#x27;gen&#x27;, Generator(),\n                                                  [&#x27;hour_of_day&#x27;]),\n                                                 (&#x27;bin&#x27;, &#x27;passthrough&#x27;,\n                                                  [&#x27;weekday&#x27;, &#x27;summertime&#x27;]),\n                                                 (&#x27;weather&#x27;,\n                                                  WeatherTransformer(),\n                                                  [&#x27;summertime&#x27;, &#x27;temp&#x27;, &#x27;dew&#x27;,\n                                                   &#x27;humidity&#x27;, &#x27;precip&#x27;,\n                                                   &#x27;snowdepth&#x27;, &#x27;windspeed&#x27;,\n                                                   &#x27;cloudcover&#x27;,\n                                                   &#x27;visibility&#x27;])])),\n                (&#x27;model&#x27;,\n                 LogisticRegression(max_iter=10000, random_state=123))])</pre><b>In a Jupyter environment, please rerun this cell to show the HTML representation or trust the notebook. <br />On GitHub, the HTML representation is unable to render, please try loading this page with nbviewer.org.</b></div><div class=\"sk-container\" hidden><div class=\"sk-item sk-dashed-wrapped\"><div class=\"sk-label-container\"><div class=\"sk-label sk-toggleable\"><input class=\"sk-toggleable__control sk-hidden--visually\" id=\"sk-estimator-id-1\" type=\"checkbox\" ><label for=\"sk-estimator-id-1\" class=\"sk-toggleable__label sk-toggleable__label-arrow\">Pipeline</label><div class=\"sk-toggleable__content\"><pre>Pipeline(steps=[(&#x27;pre&#x27;,\n                 ColumnTransformer(transformers=[(&#x27;cat&#x27;, OneHotEncoder(),\n                                                  [&#x27;hour_of_day&#x27;, &#x27;month&#x27;]),\n                                                 (&#x27;gen&#x27;, Generator(),\n                                                  [&#x27;hour_of_day&#x27;]),\n                                                 (&#x27;bin&#x27;, &#x27;passthrough&#x27;,\n                                                  [&#x27;weekday&#x27;, &#x27;summertime&#x27;]),\n                                                 (&#x27;weather&#x27;,\n                                                  WeatherTransformer(),\n                                                  [&#x27;summertime&#x27;, &#x27;temp&#x27;, &#x27;dew&#x27;,\n                                                   &#x27;humidity&#x27;, &#x27;precip&#x27;,\n                                                   &#x27;snowdepth&#x27;, &#x27;windspeed&#x27;,\n                                                   &#x27;cloudcover&#x27;,\n                                                   &#x27;visibility&#x27;])])),\n                (&#x27;model&#x27;,\n                 LogisticRegression(max_iter=10000, random_state=123))])</pre></div></div></div><div class=\"sk-serial\"><div class=\"sk-item sk-dashed-wrapped\"><div class=\"sk-label-container\"><div class=\"sk-label sk-toggleable\"><input class=\"sk-toggleable__control sk-hidden--visually\" id=\"sk-estimator-id-2\" type=\"checkbox\" ><label for=\"sk-estimator-id-2\" class=\"sk-toggleable__label sk-toggleable__label-arrow\">pre: ColumnTransformer</label><div class=\"sk-toggleable__content\"><pre>ColumnTransformer(transformers=[(&#x27;cat&#x27;, OneHotEncoder(),\n                                 [&#x27;hour_of_day&#x27;, &#x27;month&#x27;]),\n                                (&#x27;gen&#x27;, Generator(), [&#x27;hour_of_day&#x27;]),\n                                (&#x27;bin&#x27;, &#x27;passthrough&#x27;,\n                                 [&#x27;weekday&#x27;, &#x27;summertime&#x27;]),\n                                (&#x27;weather&#x27;, WeatherTransformer(),\n                                 [&#x27;summertime&#x27;, &#x27;temp&#x27;, &#x27;dew&#x27;, &#x27;humidity&#x27;,\n                                  &#x27;precip&#x27;, &#x27;snowdepth&#x27;, &#x27;windspeed&#x27;,\n                                  &#x27;cloudcover&#x27;, &#x27;visibility&#x27;])])</pre></div></div></div><div class=\"sk-parallel\"><div class=\"sk-parallel-item\"><div class=\"sk-item\"><div class=\"sk-label-container\"><div class=\"sk-label sk-toggleable\"><input class=\"sk-toggleable__control sk-hidden--visually\" id=\"sk-estimator-id-3\" type=\"checkbox\" ><label for=\"sk-estimator-id-3\" class=\"sk-toggleable__label sk-toggleable__label-arrow\">cat</label><div class=\"sk-toggleable__content\"><pre>[&#x27;hour_of_day&#x27;, &#x27;month&#x27;]</pre></div></div></div><div class=\"sk-serial\"><div class=\"sk-item\"><div class=\"sk-estimator sk-toggleable\"><input class=\"sk-toggleable__control sk-hidden--visually\" id=\"sk-estimator-id-4\" type=\"checkbox\" ><label for=\"sk-estimator-id-4\" class=\"sk-toggleable__label sk-toggleable__label-arrow\">OneHotEncoder</label><div class=\"sk-toggleable__content\"><pre>OneHotEncoder()</pre></div></div></div></div></div></div><div class=\"sk-parallel-item\"><div class=\"sk-item\"><div class=\"sk-label-container\"><div class=\"sk-label sk-toggleable\"><input class=\"sk-toggleable__control sk-hidden--visually\" id=\"sk-estimator-id-5\" type=\"checkbox\" ><label for=\"sk-estimator-id-5\" class=\"sk-toggleable__label sk-toggleable__label-arrow\">gen</label><div class=\"sk-toggleable__content\"><pre>[&#x27;hour_of_day&#x27;]</pre></div></div></div><div class=\"sk-serial\"><div class=\"sk-item\"><div class=\"sk-estimator sk-toggleable\"><input class=\"sk-toggleable__control sk-hidden--visually\" id=\"sk-estimator-id-6\" type=\"checkbox\" ><label for=\"sk-estimator-id-6\" class=\"sk-toggleable__label sk-toggleable__label-arrow\">Generator</label><div class=\"sk-toggleable__content\"><pre>Generator()</pre></div></div></div></div></div></div><div class=\"sk-parallel-item\"><div class=\"sk-item\"><div class=\"sk-label-container\"><div class=\"sk-label sk-toggleable\"><input class=\"sk-toggleable__control sk-hidden--visually\" id=\"sk-estimator-id-7\" type=\"checkbox\" ><label for=\"sk-estimator-id-7\" class=\"sk-toggleable__label sk-toggleable__label-arrow\">bin</label><div class=\"sk-toggleable__content\"><pre>[&#x27;weekday&#x27;, &#x27;summertime&#x27;]</pre></div></div></div><div class=\"sk-serial\"><div class=\"sk-item\"><div class=\"sk-estimator sk-toggleable\"><input class=\"sk-toggleable__control sk-hidden--visually\" id=\"sk-estimator-id-8\" type=\"checkbox\" ><label for=\"sk-estimator-id-8\" class=\"sk-toggleable__label sk-toggleable__label-arrow\">passthrough</label><div class=\"sk-toggleable__content\"><pre>passthrough</pre></div></div></div></div></div></div><div class=\"sk-parallel-item\"><div class=\"sk-item\"><div class=\"sk-label-container\"><div class=\"sk-label sk-toggleable\"><input class=\"sk-toggleable__control sk-hidden--visually\" id=\"sk-estimator-id-9\" type=\"checkbox\" ><label for=\"sk-estimator-id-9\" class=\"sk-toggleable__label sk-toggleable__label-arrow\">weather</label><div class=\"sk-toggleable__content\"><pre>[&#x27;summertime&#x27;, &#x27;temp&#x27;, &#x27;dew&#x27;, &#x27;humidity&#x27;, &#x27;precip&#x27;, &#x27;snowdepth&#x27;, &#x27;windspeed&#x27;, &#x27;cloudcover&#x27;, &#x27;visibility&#x27;]</pre></div></div></div><div class=\"sk-serial\"><div class=\"sk-item\"><div class=\"sk-estimator sk-toggleable\"><input class=\"sk-toggleable__control sk-hidden--visually\" id=\"sk-estimator-id-10\" type=\"checkbox\" ><label for=\"sk-estimator-id-10\" class=\"sk-toggleable__label sk-toggleable__label-arrow\">WeatherTransformer</label><div class=\"sk-toggleable__content\"><pre>WeatherTransformer()</pre></div></div></div></div></div></div></div></div><div class=\"sk-item\"><div class=\"sk-estimator sk-toggleable\"><input class=\"sk-toggleable__control sk-hidden--visually\" id=\"sk-estimator-id-11\" type=\"checkbox\" ><label for=\"sk-estimator-id-11\" class=\"sk-toggleable__label sk-toggleable__label-arrow\">LogisticRegression</label><div class=\"sk-toggleable__content\"><pre>LogisticRegression(max_iter=10000, random_state=123)</pre></div></div></div></div></div></div></div>"
     },
     "execution_count": 3,
     "metadata": {},
     "output_type": "execute_result"
    }
   ],
   "source": [
    "from src.utils import initialize_model_pipeline\n",
    "model = initialize_model_pipeline(LogisticRegression(random_state=123, max_iter=10000))\n",
    "model"
   ],
   "metadata": {
    "collapsed": false,
    "ExecuteTime": {
     "end_time": "2023-12-05T01:02:20.626580100Z",
     "start_time": "2023-12-05T01:02:20.597602800Z"
    }
   },
   "id": "55999b7a23090708"
  },
  {
   "cell_type": "markdown",
   "source": [
    "## Call fit just like you would any other model"
   ],
   "metadata": {
    "collapsed": false
   },
   "id": "e0dfe756ae2eafea"
  },
  {
   "cell_type": "code",
   "execution_count": 4,
   "outputs": [
    {
     "data": {
      "text/plain": "0.89875"
     },
     "execution_count": 4,
     "metadata": {},
     "output_type": "execute_result"
    }
   ],
   "source": [
    "model.fit(data.drop('increase_stock',axis=1), data['increase_stock'])\n",
    "model.score(X=data, y=data['increase_stock'])"
   ],
   "metadata": {
    "collapsed": false,
    "ExecuteTime": {
     "end_time": "2023-12-05T01:02:20.711669600Z",
     "start_time": "2023-12-05T01:02:20.633420900Z"
    }
   },
   "id": "c20f07fe4d92b460"
  },
  {
   "cell_type": "markdown",
   "source": [
    "### Since everything is in the pipeline, this means that you can even pass in just the original data and it will process it the same way every time (for the X variables)\n",
    "#### note: this also means you dont get to choose features anymore"
   ],
   "metadata": {
    "collapsed": false
   },
   "id": "b9cc6e3676197e0e"
  },
  {
   "cell_type": "code",
   "execution_count": 7,
   "outputs": [
    {
     "data": {
      "text/plain": "array([0, 0, 0, ..., 0, 1, 0], dtype=int64)"
     },
     "execution_count": 7,
     "metadata": {},
     "output_type": "execute_result"
    }
   ],
   "source": [
    "model.fit(X=data, y=data['increase_stock'])\n",
    "model.predict(data)"
   ],
   "metadata": {
    "collapsed": false,
    "ExecuteTime": {
     "end_time": "2023-12-05T01:02:32.996994600Z",
     "start_time": "2023-12-05T01:02:32.916903Z"
    }
   },
   "id": "572f0dc5cfa53522"
  },
  {
   "cell_type": "markdown",
   "source": [
    "## Super easy. Now just change the model as you please"
   ],
   "metadata": {
    "collapsed": false
   },
   "id": "2020b70fc6e56430"
  },
  {
   "cell_type": "code",
   "execution_count": 19,
   "outputs": [
    {
     "name": "stdout",
     "output_type": "stream",
     "text": [
      "Lin. Reg. Score:\n",
      "              precision    recall  f1-score   support\n",
      "\n",
      "           0       0.90      0.96      0.93      1312\n",
      "           1       0.76      0.51      0.61       288\n",
      "\n",
      "    accuracy                           0.88      1600\n",
      "   macro avg       0.83      0.74      0.77      1600\n",
      "weighted avg       0.87      0.88      0.87      1600\n",
      "\n",
      "Trees Score:\n",
      "              precision    recall  f1-score   support\n",
      "\n",
      "           0       1.00      1.00      1.00      1312\n",
      "           1       1.00      1.00      1.00       288\n",
      "\n",
      "    accuracy                           1.00      1600\n",
      "   macro avg       1.00      1.00      1.00      1600\n",
      "weighted avg       1.00      1.00      1.00      1600\n"
     ]
    }
   ],
   "source": [
    "from sklearn.metrics import classification_report\n",
    "model_reg = initialize_model_pipeline(LinearRegression())\n",
    "model_tree = initialize_model_pipeline(RandomForestClassifier(n_jobs=cpu_count()))\n",
    "\n",
    "model_reg.fit(data, data['increase_stock'])\n",
    "model_tree.fit(data, data['increase_stock'])\n",
    "\n",
    "print(f'Lin. Reg. Score:')\n",
    "print(classification_report(data['increase_stock'],np.round(model_reg.predict(data)).astype(int)))\n",
    "print(f'Trees Score:')\n",
    "print(classification_report(data['increase_stock'], model_tree.predict(data)))"
   ],
   "metadata": {
    "collapsed": false,
    "ExecuteTime": {
     "end_time": "2023-12-05T01:09:53.687705800Z",
     "start_time": "2023-12-05T01:09:53.383144300Z"
    }
   },
   "id": "23aa1434214a1e56"
  },
  {
   "cell_type": "markdown",
   "source": [
    "### Want to run K folds?? Just use the utils function"
   ],
   "metadata": {
    "collapsed": false
   },
   "id": "1ba6800e7a0a7b6"
  },
  {
   "cell_type": "code",
   "execution_count": 20,
   "outputs": [
    {
     "data": {
      "text/plain": "array([0.8625  , 0.884375, 0.840625, 0.91875 , 0.878125])"
     },
     "execution_count": 20,
     "metadata": {},
     "output_type": "execute_result"
    }
   ],
   "source": [
    "from src.utils import cross_validate_model\n",
    "cross_validate_model(model_tree, data, data['increase_stock'])"
   ],
   "metadata": {
    "collapsed": false,
    "ExecuteTime": {
     "end_time": "2023-12-05T01:11:49.614360Z",
     "start_time": "2023-12-05T01:11:48.231042900Z"
    }
   },
   "id": "25c1187836a9b564"
  },
  {
   "cell_type": "markdown",
   "source": [
    "#### Want to run it with more folds?"
   ],
   "metadata": {
    "collapsed": false
   },
   "id": "668b9d9ec2c9bdb2"
  },
  {
   "cell_type": "code",
   "execution_count": 22,
   "outputs": [],
   "source": [
    "leave_out_one = cross_validate_model(model_tree, data, data['increase_stock'],n_splits=len(data))"
   ],
   "metadata": {
    "collapsed": false,
    "ExecuteTime": {
     "end_time": "2023-12-05T01:14:19.602255700Z",
     "start_time": "2023-12-05T01:13:24.821988100Z"
    }
   },
   "id": "de7ebf685a6e79b4"
  },
  {
   "cell_type": "code",
   "execution_count": 23,
   "outputs": [
    {
     "data": {
      "text/plain": "0.87"
     },
     "execution_count": 23,
     "metadata": {},
     "output_type": "execute_result"
    }
   ],
   "source": [
    "np.mean(leave_out_one)"
   ],
   "metadata": {
    "collapsed": false,
    "ExecuteTime": {
     "end_time": "2023-12-05T01:14:30.468802Z",
     "start_time": "2023-12-05T01:14:30.452565400Z"
    }
   },
   "id": "540b61e5a9f12bf5"
  },
  {
   "cell_type": "markdown",
   "source": [
    "#### Want to bootstrap your coefficients?\n",
    "##### use the bootstrap_model function and get all the ranges of your coefficients (average them to bag)D"
   ],
   "metadata": {
    "collapsed": false
   },
   "id": "4cf91c210081b271"
  },
  {
   "cell_type": "code",
   "execution_count": null,
   "outputs": [],
   "source": [],
   "metadata": {
    "collapsed": false
   },
   "id": "50232feceaea19ea"
  }
 ],
 "metadata": {
  "kernelspec": {
   "display_name": "Python 3",
   "language": "python",
   "name": "python3"
  },
  "language_info": {
   "codemirror_mode": {
    "name": "ipython",
    "version": 2
   },
   "file_extension": ".py",
   "mimetype": "text/x-python",
   "name": "python",
   "nbconvert_exporter": "python",
   "pygments_lexer": "ipython2",
   "version": "2.7.6"
  }
 },
 "nbformat": 4,
 "nbformat_minor": 5
}
