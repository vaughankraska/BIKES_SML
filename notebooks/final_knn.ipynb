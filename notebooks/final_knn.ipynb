{
 "cells": [
  {
   "cell_type": "code",
   "execution_count": 54,
   "id": "6c2357c0",
   "metadata": {
    "ExecuteTime": {
     "end_time": "2023-12-06T13:15:05.448587Z",
     "start_time": "2023-12-06T13:14:46.319912Z"
    }
   },
   "outputs": [
    {
     "name": "stdout",
     "output_type": "stream",
     "text": [
      "Best Parameters: {'metric': 'manhattan', 'n_neighbors': 2, 'weights': 'uniform'}\n",
      "Accuracy: 0.84375\n",
      "Classification Report:\n",
      "               precision    recall  f1-score   support\n",
      "\n",
      "           0       0.85      0.99      0.91       270\n",
      "           1       0.50      0.08      0.14        50\n",
      "\n",
      "    accuracy                           0.84       320\n",
      "   macro avg       0.68      0.53      0.53       320\n",
      "weighted avg       0.80      0.84      0.79       320\n"
     ]
    }
   ],
   "source": [
    "# This code conducts a grid search over a predefined set of hyperparameters for the KNN model, \n",
    "#evaluates the performance using cross-validation, and identifies the best combination of hyperparameters. \n",
    "#The model is then retrained with these optimal parameters and evaluated on the test set.\n",
    "\n",
    "from sklearn.model_selection import train_test_split, GridSearchCV\n",
    "from sklearn.preprocessing import StandardScaler\n",
    "from sklearn.neighbors import KNeighborsClassifier\n",
    "from sklearn.metrics import classification_report, accuracy_score\n",
    "from src.utils import cross_validate_model, initialize_model_pipeline, load_data\n",
    "import pandas as pd\n",
    "import numpy as np\n",
    "\n",
    "data = pd.read_csv('../data/thea.csv')\n",
    "\n",
    "# Preparing the data\n",
    "X = data.drop('increase_stock', axis=1) \n",
    "y = data['increase_stock']\n",
    "\n",
    "# Splitting the data into training and testing sets\n",
    "X_train, X_test, y_train, y_test = train_test_split(X, y, test_size=0.2, random_state=42)\n",
    "\n",
    "# K-Nearest Neighbors classifier\n",
    "knn = KNeighborsClassifier()\n",
    "\n",
    "# Parameters for grid search\n",
    "param_grid = {\n",
    "    'n_neighbors': [1, 2, 3, 4, 5, 6, 7, 8, 9, 10, 11, 12, 13, 14, 15],\n",
    "    'weights': ['uniform', 'distance'],\n",
    "    'metric': ['euclidean', 'manhattan']\n",
    "}\n",
    "\n",
    "# Grid search for hyperparameter tuning\n",
    "grid_search = GridSearchCV(knn, param_grid, cv=160, scoring='accuracy')\n",
    "\n",
    "grid_search.fit(X_train, y_train)\n",
    "\n",
    "# Best parameters\n",
    "best_params = grid_search.best_params_\n",
    "\n",
    "# Training the model with the best parameters\n",
    "knn_best = KNeighborsClassifier(**best_params)\n",
    "knn_best.fit(X_train, y_train)\n",
    "\n",
    "# Predictions and evaluation\n",
    "y_pred = knn_best.predict(X_test)\n",
    "accuracy = accuracy_score(y_test, y_pred)\n",
    "report = classification_report(y_test, y_pred)\n",
    "\n",
    "print(\"Best Parameters:\", best_params)\n",
    "print(\"Accuracy:\", accuracy)\n",
    "print(\"Classification Report:\\n\", report)"
   ]
  },
  {
   "cell_type": "code",
   "execution_count": 53,
   "id": "fe901c38",
   "metadata": {
    "ExecuteTime": {
     "end_time": "2023-12-06T12:57:09.711826Z",
     "start_time": "2023-12-06T12:57:09.320561Z"
    }
   },
   "outputs": [
    {
     "data": {
      "text/plain": "array([0.9, 0.9, 0.8, 0.9, 0.8, 1. , 0.8, 1. , 0.9, 0.8, 0.9, 0.8, 0.9,\n       0.9, 0.8, 0.8, 1. , 0.8, 1. , 0.8, 0.8, 0.7, 1. , 0.8, 0.9, 0.8,\n       0.9, 0.9, 0.9, 1. , 0.8, 0.9, 0.8, 1. , 0.6, 0.8, 1. , 0.7, 0.9,\n       0.9, 0.8, 1. , 0.8, 0.8, 1. , 0.7, 0.8, 0.9, 0.9, 0.8, 0.8, 1. ,\n       0.9, 0.7, 0.7, 1. , 0.9, 0.8, 1. , 0.8, 1. , 1. , 0.8, 1. , 0.9,\n       0.8, 0.7, 1. , 0.9, 0.8, 0.8, 0.8, 0.8, 0.9, 0.9, 1. , 1. , 0.9,\n       0.8, 0.8, 0.8, 0.8, 0.8, 0.7, 1. , 0.8, 0.5, 0.8, 0.8, 0.6, 0.8,\n       0.9, 0.9, 0.8, 0.8, 0.8, 0.9, 0.9, 0.7, 0.6, 1. , 0.7, 0.7, 0.9,\n       0.8, 1. , 0.9, 0.9, 0.9, 1. , 0.8, 0.8, 1. , 0.7, 0.9, 0.7, 0.9,\n       0.9, 0.9, 0.8, 1. , 0.8, 0.8, 1. , 0.8, 0.6, 0.7, 0.8, 0.9, 0.8,\n       0.8, 0.9, 1. , 0.9, 0.8, 0.9, 1. , 0.7, 0.8, 1. , 0.9, 0.8, 0.8,\n       0.9, 0.6, 0.8, 0.9, 0.9, 1. , 0.7, 0.9, 0.9, 0.9, 0.7, 0.8, 0.9,\n       0.9, 0.9, 0.9, 1. ])"
     },
     "execution_count": 53,
     "metadata": {},
     "output_type": "execute_result"
    }
   ],
   "source": [
    "cross_validate_model(knn_best, data, data['increase_stock'], n_splits=160)"
   ]
  },
  {
   "cell_type": "code",
   "execution_count": 27,
   "id": "07d2901b",
   "metadata": {
    "ExecuteTime": {
     "end_time": "2023-12-06T12:25:37.862801Z",
     "start_time": "2023-12-06T12:25:34.901756Z"
    }
   },
   "outputs": [],
   "source": [
    "leave_out_one = cross_validate_model(knn_best, data, data['increase_stock'],n_splits=len(data))"
   ]
  },
  {
   "cell_type": "code",
   "execution_count": null,
   "id": "6172923a",
   "metadata": {},
   "outputs": [],
   "source": []
  }
 ],
 "metadata": {
  "kernelspec": {
   "display_name": "Python 3 (ipykernel)",
   "language": "python",
   "name": "python3"
  },
  "language_info": {
   "codemirror_mode": {
    "name": "ipython",
    "version": 3
   },
   "file_extension": ".py",
   "mimetype": "text/x-python",
   "name": "python",
   "nbconvert_exporter": "python",
   "pygments_lexer": "ipython3",
   "version": "3.10.9"
  }
 },
 "nbformat": 4,
 "nbformat_minor": 5
}
