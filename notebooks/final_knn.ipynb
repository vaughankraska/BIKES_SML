{
 "cells": [
  {
   "cell_type": "code",
   "execution_count": 40,
   "id": "6c2357c0",
   "metadata": {
    "ExecuteTime": {
     "end_time": "2023-12-06T12:47:18.707432Z",
     "start_time": "2023-12-06T12:47:17.512735Z"
    }
   },
   "outputs": [
    {
     "name": "stdout",
     "output_type": "stream",
     "text": [
      "Best Parameters: {'metric': 'manhattan', 'n_neighbors': 12, 'weights': 'distance'}\n",
      "Accuracy: 0.840625\n",
      "Classification Report:\n",
      "               precision    recall  f1-score   support\n",
      "\n",
      "           0       0.88      0.93      0.91       270\n",
      "           1       0.49      0.34      0.40        50\n",
      "\n",
      "    accuracy                           0.84       320\n",
      "   macro avg       0.68      0.64      0.65       320\n",
      "weighted avg       0.82      0.84      0.83       320\n"
     ]
    }
   ],
   "source": [
    "# This code conducts a grid search over a predefined set of hyperparameters for the KNN model, \n",
    "#evaluates the performance using cross-validation, and identifies the best combination of hyperparameters. \n",
    "#The model is then retrained with these optimal parameters and evaluated on the test set.\n",
    "\n",
    "from sklearn.model_selection import train_test_split, GridSearchCV\n",
    "from sklearn.preprocessing import StandardScaler\n",
    "from sklearn.neighbors import KNeighborsClassifier\n",
    "from sklearn.metrics import classification_report, accuracy_score\n",
    "from src.utils import load_data, cross_validate_model, initialize_model_pipeline\n",
    "import pandas as pd\n",
    "import numpy as np\n",
    "\n",
    "# Load the dataset\n",
    "# data = pd.read_csv('../data/training_data.csv')\n",
    "# data = pd.read_csv('data_copy.csv')\n",
    "data = load_data()\n",
    "\n",
    "# Preparing the data\n",
    "X = data.drop('increase_stock', axis=1) \n",
    "y = data['increase_stock']\n",
    "\n",
    "# Splitting the data into training and testing sets\n",
    "X_train, X_test, y_train, y_test = train_test_split(X, y, test_size=0.2, random_state=42)\n",
    "\n",
    "# K-Nearest Neighbors classifier\n",
    "knn = KNeighborsClassifier()\n",
    "\n",
    "# Parameters for grid search\n",
    "param_grid = {\n",
    "    'n_neighbors': [1, 2, 3, 4, 5, 6, 7, 8, 9, 10, 11, 12, 13, 14, 15],\n",
    "    'weights': ['uniform', 'distance'],\n",
    "    'metric': ['euclidean', 'manhattan']\n",
    "}\n",
    "\n",
    "# Grid search for hyperparameter tuning\n",
    "grid_search = GridSearchCV(knn, param_grid, cv=5, scoring='accuracy')\n",
    "\n",
    "grid_search.fit(X_train, y_train)\n",
    "\n",
    "# Best parameters\n",
    "best_params = grid_search.best_params_\n",
    "\n",
    "# Training the model with the best parameters\n",
    "knn_best = KNeighborsClassifier(**best_params)\n",
    "knn_best.fit(X_train, y_train)\n",
    "\n",
    "# Predictions and evaluation\n",
    "y_pred = knn_best.predict(X_test)\n",
    "accuracy = accuracy_score(y_test, y_pred)\n",
    "report = classification_report(y_test, y_pred)\n",
    "\n",
    "print(\"Best Parameters:\", best_params)\n",
    "print(\"Accuracy:\", accuracy)\n",
    "print(\"Classification Report:\\n\", report)"
   ]
  },
  {
   "cell_type": "code",
   "execution_count": 42,
   "id": "fe901c38",
   "metadata": {
    "ExecuteTime": {
     "end_time": "2023-12-06T12:48:19.884211Z",
     "start_time": "2023-12-06T12:48:19.836291Z"
    }
   },
   "outputs": [
    {
     "data": {
      "text/plain": "array([0.85   , 0.8625 , 0.86875, 0.93125, 0.85625, 0.825  , 0.875  ,\n       0.85   , 0.85625, 0.8875 ])"
     },
     "execution_count": 42,
     "metadata": {},
     "output_type": "execute_result"
    }
   ],
   "source": [
    "cross_validate_model(knn_best, data, data['increase_stock'], n_splits=10)"
   ]
  },
  {
   "cell_type": "code",
   "execution_count": 27,
   "id": "07d2901b",
   "metadata": {
    "ExecuteTime": {
     "end_time": "2023-12-06T12:25:37.862801Z",
     "start_time": "2023-12-06T12:25:34.901756Z"
    }
   },
   "outputs": [],
   "source": [
    "leave_out_one = cross_validate_model(knn_best, data, data['increase_stock'],n_splits=len(data))"
   ]
  },
  {
   "cell_type": "code",
   "execution_count": 4,
   "id": "984f25e2",
   "metadata": {},
   "outputs": [
    {
     "data": {
      "text/plain": [
       "0.86875"
      ]
     },
     "execution_count": 4,
     "metadata": {},
     "output_type": "execute_result"
    }
   ],
   "source": [
    "np.mean(leave_out_one)"
   ]
  },
  {
   "cell_type": "code",
   "execution_count": 49,
   "id": "f5728d8d",
   "metadata": {
    "ExecuteTime": {
     "end_time": "2023-12-06T12:52:42.926940Z",
     "start_time": "2023-12-06T12:52:42.880730Z"
    }
   },
   "outputs": [],
   "source": [
    "test = initialize_model_pipeline(KNeighborsClassifier())\n",
    "thea_data = pd.DataFrame(test[0].fit_transform(data).toarray(), columns=test[:-1].get_feature_names_out())\n",
    "thea_data['increase_stock'] = data['increase_stock']\n",
    "thea_data.to_csv('../data/thea.csv')"
   ]
  },
  {
   "cell_type": "code",
   "execution_count": null,
   "id": "6172923a",
   "metadata": {},
   "outputs": [],
   "source": []
  }
 ],
 "metadata": {
  "kernelspec": {
   "display_name": "Python 3 (ipykernel)",
   "language": "python",
   "name": "python3"
  },
  "language_info": {
   "codemirror_mode": {
    "name": "ipython",
    "version": 3
   },
   "file_extension": ".py",
   "mimetype": "text/x-python",
   "name": "python",
   "nbconvert_exporter": "python",
   "pygments_lexer": "ipython3",
   "version": "3.10.9"
  }
 },
 "nbformat": 4,
 "nbformat_minor": 5
}
