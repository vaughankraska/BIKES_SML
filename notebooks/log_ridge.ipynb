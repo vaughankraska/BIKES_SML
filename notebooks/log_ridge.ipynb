{
 "cells": [
  {
   "cell_type": "code",
   "execution_count": 1,
   "outputs": [],
   "source": [
    "import pandas as pd\n",
    "from feature_creation import data_copy\n",
    "from sklearn.model_selection import KFold, cross_val_score, train_test_split\n",
    "from sklearn.linear_model import LogisticRegression\n",
    "from sklearn.preprocessing import OneHotEncoder\n",
    "from sklearn.preprocessing import Normalizer\n",
    "from sklearn.compose import ColumnTransformer\n",
    "from sklearn.pipeline import Pipeline\n",
    "from os import cpu_count\n",
    "import numpy as np\n",
    "import seaborn as sns"
   ],
   "metadata": {
    "collapsed": false,
    "ExecuteTime": {
     "end_time": "2023-11-27T22:58:19.879835Z",
     "start_time": "2023-11-27T22:58:19.716920Z"
    }
   },
   "id": "5dabae8e1476192f"
  },
  {
   "cell_type": "code",
   "execution_count": 2,
   "outputs": [
    {
     "data": {
      "text/plain": "           holiday      weekday  summertime         temp          dew  \\\ncount  1600.000000  1600.000000  1600.00000  1600.000000  1600.000000   \nmean      0.033125     0.710000     0.64375    15.210313     7.750750   \nstd       0.179019     0.453904     0.47904     9.264785    10.026459   \nmin       0.000000     0.000000     0.00000    -9.100000   -18.400000   \n25%       0.000000     0.000000     0.00000     7.700000    -0.800000   \n50%       0.000000     1.000000     1.00000    15.500000     8.300000   \n75%       0.000000     1.000000     1.00000    23.200000    16.800000   \nmax       1.000000     1.000000     1.00000    35.600000    24.300000   \n\n          humidity       precip    snowdepth    windspeed   cloudcover  \\\ncount  1600.000000  1600.000000  1600.000000  1600.000000  1600.000000   \nmean     63.927844     0.122042     0.042713    13.082500    64.322375   \nstd      19.079419     0.920600     0.421198     7.756652    32.748869   \nmin      15.850000     0.000000     0.000000     0.000000     0.000000   \n25%      47.845000     0.000000     0.000000     7.500000    28.800000   \n50%      65.175000     0.000000     0.000000    12.300000    79.300000   \n75%      79.955000     0.000000     0.000000    17.600000    92.800000   \nmax      99.890000    25.871000     6.710000    43.800000   100.000000   \n\n        visibility  increase_stock      daytime     rushhour  weather_score  \\\ncount  1600.000000     1600.000000  1600.000000  1600.000000    1600.000000   \nmean     15.344125        0.180000     0.543750     0.205625       0.180000   \nstd       2.323737        0.384308     0.498238     0.404284       0.184322   \nmin       0.100000        0.000000     0.000000     0.000000      -0.239787   \n25%      16.000000        0.000000     0.000000     0.000000       0.049945   \n50%      16.000000        0.000000     1.000000     0.000000       0.154343   \n75%      16.000000        0.000000     1.000000     0.000000       0.278779   \nmax      16.000000        1.000000     1.000000     1.000000       0.956538   \n\n       weather_score_daytime  \ncount            1600.000000  \nmean                0.127378  \nstd                 0.189459  \nmin                -0.160192  \n25%                 0.000000  \n50%                 0.000000  \n75%                 0.225751  \nmax                 0.956538  ",
      "text/html": "<div>\n<style scoped>\n    .dataframe tbody tr th:only-of-type {\n        vertical-align: middle;\n    }\n\n    .dataframe tbody tr th {\n        vertical-align: top;\n    }\n\n    .dataframe thead th {\n        text-align: right;\n    }\n</style>\n<table border=\"1\" class=\"dataframe\">\n  <thead>\n    <tr style=\"text-align: right;\">\n      <th></th>\n      <th>holiday</th>\n      <th>weekday</th>\n      <th>summertime</th>\n      <th>temp</th>\n      <th>dew</th>\n      <th>humidity</th>\n      <th>precip</th>\n      <th>snowdepth</th>\n      <th>windspeed</th>\n      <th>cloudcover</th>\n      <th>visibility</th>\n      <th>increase_stock</th>\n      <th>daytime</th>\n      <th>rushhour</th>\n      <th>weather_score</th>\n      <th>weather_score_daytime</th>\n    </tr>\n  </thead>\n  <tbody>\n    <tr>\n      <th>count</th>\n      <td>1600.000000</td>\n      <td>1600.000000</td>\n      <td>1600.00000</td>\n      <td>1600.000000</td>\n      <td>1600.000000</td>\n      <td>1600.000000</td>\n      <td>1600.000000</td>\n      <td>1600.000000</td>\n      <td>1600.000000</td>\n      <td>1600.000000</td>\n      <td>1600.000000</td>\n      <td>1600.000000</td>\n      <td>1600.000000</td>\n      <td>1600.000000</td>\n      <td>1600.000000</td>\n      <td>1600.000000</td>\n    </tr>\n    <tr>\n      <th>mean</th>\n      <td>0.033125</td>\n      <td>0.710000</td>\n      <td>0.64375</td>\n      <td>15.210313</td>\n      <td>7.750750</td>\n      <td>63.927844</td>\n      <td>0.122042</td>\n      <td>0.042713</td>\n      <td>13.082500</td>\n      <td>64.322375</td>\n      <td>15.344125</td>\n      <td>0.180000</td>\n      <td>0.543750</td>\n      <td>0.205625</td>\n      <td>0.180000</td>\n      <td>0.127378</td>\n    </tr>\n    <tr>\n      <th>std</th>\n      <td>0.179019</td>\n      <td>0.453904</td>\n      <td>0.47904</td>\n      <td>9.264785</td>\n      <td>10.026459</td>\n      <td>19.079419</td>\n      <td>0.920600</td>\n      <td>0.421198</td>\n      <td>7.756652</td>\n      <td>32.748869</td>\n      <td>2.323737</td>\n      <td>0.384308</td>\n      <td>0.498238</td>\n      <td>0.404284</td>\n      <td>0.184322</td>\n      <td>0.189459</td>\n    </tr>\n    <tr>\n      <th>min</th>\n      <td>0.000000</td>\n      <td>0.000000</td>\n      <td>0.00000</td>\n      <td>-9.100000</td>\n      <td>-18.400000</td>\n      <td>15.850000</td>\n      <td>0.000000</td>\n      <td>0.000000</td>\n      <td>0.000000</td>\n      <td>0.000000</td>\n      <td>0.100000</td>\n      <td>0.000000</td>\n      <td>0.000000</td>\n      <td>0.000000</td>\n      <td>-0.239787</td>\n      <td>-0.160192</td>\n    </tr>\n    <tr>\n      <th>25%</th>\n      <td>0.000000</td>\n      <td>0.000000</td>\n      <td>0.00000</td>\n      <td>7.700000</td>\n      <td>-0.800000</td>\n      <td>47.845000</td>\n      <td>0.000000</td>\n      <td>0.000000</td>\n      <td>7.500000</td>\n      <td>28.800000</td>\n      <td>16.000000</td>\n      <td>0.000000</td>\n      <td>0.000000</td>\n      <td>0.000000</td>\n      <td>0.049945</td>\n      <td>0.000000</td>\n    </tr>\n    <tr>\n      <th>50%</th>\n      <td>0.000000</td>\n      <td>1.000000</td>\n      <td>1.00000</td>\n      <td>15.500000</td>\n      <td>8.300000</td>\n      <td>65.175000</td>\n      <td>0.000000</td>\n      <td>0.000000</td>\n      <td>12.300000</td>\n      <td>79.300000</td>\n      <td>16.000000</td>\n      <td>0.000000</td>\n      <td>1.000000</td>\n      <td>0.000000</td>\n      <td>0.154343</td>\n      <td>0.000000</td>\n    </tr>\n    <tr>\n      <th>75%</th>\n      <td>0.000000</td>\n      <td>1.000000</td>\n      <td>1.00000</td>\n      <td>23.200000</td>\n      <td>16.800000</td>\n      <td>79.955000</td>\n      <td>0.000000</td>\n      <td>0.000000</td>\n      <td>17.600000</td>\n      <td>92.800000</td>\n      <td>16.000000</td>\n      <td>0.000000</td>\n      <td>1.000000</td>\n      <td>0.000000</td>\n      <td>0.278779</td>\n      <td>0.225751</td>\n    </tr>\n    <tr>\n      <th>max</th>\n      <td>1.000000</td>\n      <td>1.000000</td>\n      <td>1.00000</td>\n      <td>35.600000</td>\n      <td>24.300000</td>\n      <td>99.890000</td>\n      <td>25.871000</td>\n      <td>6.710000</td>\n      <td>43.800000</td>\n      <td>100.000000</td>\n      <td>16.000000</td>\n      <td>1.000000</td>\n      <td>1.000000</td>\n      <td>1.000000</td>\n      <td>0.956538</td>\n      <td>0.956538</td>\n    </tr>\n  </tbody>\n</table>\n</div>"
     },
     "execution_count": 2,
     "metadata": {},
     "output_type": "execute_result"
    }
   ],
   "source": [
    "data_copy['increase_stock'] = data_copy['increase_stock'].apply(lambda entity: 1 if entity == 'high_bike_demand' else 0)\n",
    "data_copy['increase_stock'] = data_copy['increase_stock'].astype('int')\n",
    "data_copy.describe()"
   ],
   "metadata": {
    "collapsed": false,
    "ExecuteTime": {
     "end_time": "2023-11-27T22:58:19.931914Z",
     "start_time": "2023-11-27T22:58:19.884571Z"
    }
   },
   "id": "9f7d427a00d9b074"
  },
  {
   "cell_type": "code",
   "execution_count": 3,
   "outputs": [
    {
     "name": "stdout",
     "output_type": "stream",
     "text": [
      "<class 'pandas.core.frame.DataFrame'>\n",
      "RangeIndex: 1600 entries, 0 to 1599\n",
      "Data columns (total 19 columns):\n",
      " #   Column                 Non-Null Count  Dtype   \n",
      "---  ------                 --------------  -----   \n",
      " 0   hour_of_day            1600 non-null   category\n",
      " 1   day_of_week            1600 non-null   category\n",
      " 2   month                  1600 non-null   category\n",
      " 3   holiday                1600 non-null   int64   \n",
      " 4   weekday                1600 non-null   int64   \n",
      " 5   summertime             1600 non-null   int64   \n",
      " 6   temp                   1600 non-null   float64 \n",
      " 7   dew                    1600 non-null   float64 \n",
      " 8   humidity               1600 non-null   float64 \n",
      " 9   precip                 1600 non-null   float64 \n",
      " 10  snowdepth              1600 non-null   float64 \n",
      " 11  windspeed              1600 non-null   float64 \n",
      " 12  cloudcover             1600 non-null   float64 \n",
      " 13  visibility             1600 non-null   float64 \n",
      " 14  increase_stock         1600 non-null   int64   \n",
      " 15  daytime                1600 non-null   int64   \n",
      " 16  rushhour               1600 non-null   int64   \n",
      " 17  weather_score          1600 non-null   float64 \n",
      " 18  weather_score_daytime  1600 non-null   float64 \n",
      "dtypes: category(3), float64(10), int64(6)\n",
      "memory usage: 206.3 KB\n"
     ]
    }
   ],
   "source": [
    "data_copy.info()"
   ],
   "metadata": {
    "collapsed": false,
    "ExecuteTime": {
     "end_time": "2023-11-27T22:58:19.933549Z",
     "start_time": "2023-11-27T22:58:19.923528Z"
    }
   },
   "id": "7da73e3d2dbc83d0"
  },
  {
   "cell_type": "code",
   "execution_count": 35,
   "outputs": [],
   "source": [
    "X_train, X_test, y_train, y_test = train_test_split(data_copy.drop('increase_stock',axis=1), data_copy['increase_stock'], test_size=0.1, random_state=123) \n",
    "\n",
    "preprocessor = ColumnTransformer([('cat',OneHotEncoder(), list(X_train.select_dtypes(include='category').columns)),\n",
    "                                  ('stand', Normalizer(), list(X_train.columns))],\n",
    "                                 remainder='passthrough')\n",
    "logreg_model = Pipeline([\n",
    "    ('preprocessor', preprocessor),\n",
    "    ('classifier', LogisticRegression(penalty='l1',C=.2,solver='liblinear',max_iter=10000))\n",
    "])"
   ],
   "metadata": {
    "collapsed": false,
    "ExecuteTime": {
     "end_time": "2023-11-27T23:06:03.444499Z",
     "start_time": "2023-11-27T23:06:03.432047Z"
    }
   },
   "id": "fd113e15b40dc173"
  },
  {
   "cell_type": "code",
   "execution_count": 39,
   "outputs": [
    {
     "name": "stdout",
     "output_type": "stream",
     "text": [
      "Cross-validation results: [0.86805556 0.90625    0.90277778 0.88194444 0.80555556]\n",
      "Mean accuracy: 0.8729166666666666\n"
     ]
    }
   ],
   "source": [
    "kf = KFold(n_splits=5, shuffle=True, random_state=123)\n",
    "cross_val_results = cross_val_score(logreg_model, X_train, y_train, cv=kf, scoring='accuracy',n_jobs=cpu_count()) #run in parallel\n",
    "\n",
    "# Print the cross-validation results\n",
    "print(f'Cross-validation results: {cross_val_results}')\n",
    "print(f'Mean accuracy: {np.mean(cross_val_results)}')"
   ],
   "metadata": {
    "collapsed": false,
    "ExecuteTime": {
     "end_time": "2023-11-27T23:06:51.375154Z",
     "start_time": "2023-11-27T23:06:51.332106Z"
    }
   },
   "id": "e8d35665b3e924a6"
  },
  {
   "cell_type": "code",
   "execution_count": 6,
   "outputs": [
    {
     "name": "stdout",
     "output_type": "stream",
     "text": [
      "col len: 61 coef len: 61\n",
      "cat__hour_of_day_0 = -2.057367310115534\n",
      "cat__hour_of_day_1 = -1.921545907130418\n",
      "cat__hour_of_day_2 = -1.3002154217536708\n",
      "cat__hour_of_day_3 = -1.5208572887903322\n",
      "cat__hour_of_day_4 = -1.8108086280082836\n",
      "cat__hour_of_day_5 = -1.4377310928947524\n",
      "cat__hour_of_day_6 = -1.2471836509064362\n",
      "cat__hour_of_day_7 = -0.7412335169665676\n",
      "cat__hour_of_day_8 = 0.885986037986444\n",
      "cat__hour_of_day_9 = 0.22294880535449826\n",
      "cat__hour_of_day_10 = 0.0\n",
      "cat__hour_of_day_11 = 0.46195735715834524\n",
      "cat__hour_of_day_12 = 0.6239506666856663\n",
      "cat__hour_of_day_13 = 0.0\n",
      "cat__hour_of_day_14 = 0.0905451912081838\n",
      "cat__hour_of_day_15 = 1.2783182465145015\n",
      "cat__hour_of_day_16 = 1.0630675838029136\n",
      "cat__hour_of_day_17 = 1.893954709736247\n",
      "cat__hour_of_day_18 = 2.528023571548708\n",
      "cat__hour_of_day_19 = 1.4071058005039647\n",
      "cat__hour_of_day_20 = -0.7826273262060724\n",
      "cat__hour_of_day_21 = -2.380840123060924\n",
      "cat__hour_of_day_22 = -1.4743879498242847\n",
      "cat__hour_of_day_23 = -2.162863922198943\n",
      "cat__day_of_week_0 = 0.0\n",
      "cat__day_of_week_1 = 0.0\n",
      "cat__day_of_week_2 = 0.0\n",
      "cat__day_of_week_3 = -0.018843922494170034\n",
      "cat__day_of_week_4 = 0.0\n",
      "cat__day_of_week_5 = 1.2953303491315868\n",
      "cat__day_of_week_6 = 0.8223707209251858\n",
      "cat__month_1 = -0.6597524730712038\n",
      "cat__month_2 = -0.7409337388866826\n",
      "cat__month_3 = 0.0\n",
      "cat__month_4 = 0.7583012177616727\n",
      "cat__month_5 = -0.4705328786789299\n",
      "cat__month_6 = 0.2561929083173568\n",
      "cat__month_7 = 0.0\n",
      "cat__month_8 = -0.030080562610389223\n",
      "cat__month_9 = 0.8181026244494499\n",
      "cat__month_10 = 0.9419562541383185\n",
      "cat__month_11 = 0.0\n",
      "cat__month_12 = -0.6801125032546405\n",
      "stand__hour_of_day = 0.0\n",
      "stand__day_of_week = 0.0\n",
      "stand__month = 0.0\n",
      "stand__holiday = 0.0\n",
      "stand__weekday = 0.0\n",
      "stand__summertime = 0.0\n",
      "stand__temp = 7.9822737202446294\n",
      "stand__dew = 0.0\n",
      "stand__humidity = -3.571887299197169\n",
      "stand__precip = 0.0\n",
      "stand__snowdepth = 0.0\n",
      "stand__windspeed = -0.3807334185233798\n",
      "stand__cloudcover = 0.0\n",
      "stand__visibility = 0.0\n",
      "stand__daytime = 0.0\n",
      "stand__rushhour = 0.0\n",
      "stand__weather_score = 0.0\n",
      "stand__weather_score_daytime = 0.0\n"
     ]
    }
   ],
   "source": [
    "logreg_model.fit(X_train,y_train)\n",
    "processed_names = logreg_model[:-1].get_feature_names_out()\n",
    "logreg_coefs = logreg_model.named_steps[\"classifier\"].coef_[0]\n",
    "print(f'col len: {len(processed_names)} coef len: {len(logreg_coefs)}')\n",
    "for item in zip(processed_names,logreg_coefs):\n",
    "    print(f'{item[0]} = {item[1]}')"
   ],
   "metadata": {
    "collapsed": false,
    "ExecuteTime": {
     "end_time": "2023-11-27T22:58:20.910653Z",
     "start_time": "2023-11-27T22:58:20.892954Z"
    }
   },
   "id": "51768682182b33a6"
  },
  {
   "cell_type": "markdown",
   "source": [
    "### Now lets optimize the C (lambda) and see if we can improve the score"
   ],
   "metadata": {
    "collapsed": false
   },
   "id": "c711942ac0c8669a"
  },
  {
   "cell_type": "code",
   "execution_count": 7,
   "outputs": [],
   "source": [
    "## NOTE! very expensive code. Uncomment for very long run time\n",
    "# mean_cross_val_scores = []\n",
    "# for i in range(1,100):\n",
    "#     result = {}\n",
    "#     C_temp = i/100\n",
    "#     logreg_model = Pipeline([\n",
    "#         ('preprocessor', preprocessor),\n",
    "#         ('classifier', LogisticRegression(penalty='l1',C=C_temp,solver='liblinear',max_iter=10000))\n",
    "#     ])\n",
    "#     cvs = cross_val_score(logreg_model, X_train, y_train, cv=kf, scoring='accuracy',n_jobs=cpu_count()) #run in parallel\n",
    "#     result['cvs'] = cvs\n",
    "#     result['mean_perf'] = np.mean(cvs)\n",
    "#     result['reg_val'] = C_temp\n",
    "#     mean_cross_val_scores.append(result)\n",
    "# performance_df = pd.DataFrame(mean_cross_val_scores)"
   ],
   "metadata": {
    "collapsed": false,
    "ExecuteTime": {
     "end_time": "2023-11-27T22:58:20.910805Z",
     "start_time": "2023-11-27T22:58:20.903666Z"
    }
   },
   "id": "567e7847481b850c"
  },
  {
   "cell_type": "code",
   "execution_count": 8,
   "outputs": [
    {
     "data": {
      "text/plain": "<Axes: xlabel='reg_val'>"
     },
     "execution_count": 8,
     "metadata": {},
     "output_type": "execute_result"
    },
    {
     "data": {
      "text/plain": "<Figure size 640x480 with 1 Axes>",
      "image/png": "[encoded data removed]"
     },
     "metadata": {},
     "output_type": "display_data"
    }
   ],
   "source": [
    "performance_df = pd.read_csv('../data/log_lasso_optimization.csv') # read file instead of running opt again\n",
    "performance_df.plot(x='reg_val',y='mean_perf')"
   ],
   "metadata": {
    "collapsed": false,
    "ExecuteTime": {
     "end_time": "2023-11-27T22:58:21.116810Z",
     "start_time": "2023-11-27T22:58:20.905578Z"
    }
   },
   "id": "4d095669e71a39af"
  },
  {
   "cell_type": "code",
   "execution_count": 19,
   "outputs": [
    {
     "name": "stdout",
     "output_type": "stream",
     "text": [
      "cvs          [1. 1. 1. ... 1. 0. 1.]\n",
      "mean_perf                     0.8875\n",
      "reg_val                         0.77\n",
      "Name: 76, dtype: object\n",
      "                        cvs  mean_perf  reg_val\n",
      "89  [1. 1. 1. ... 1. 0. 1.]   0.887500     0.90\n",
      "90  [1. 1. 1. ... 1. 0. 1.]   0.886806     0.91\n",
      "91  [1. 1. 1. ... 1. 0. 1.]   0.886806     0.92\n",
      "92  [1. 1. 1. ... 1. 0. 1.]   0.886806     0.93\n",
      "93  [1. 1. 1. ... 1. 0. 1.]   0.886806     0.94\n",
      "94  [1. 1. 1. ... 1. 0. 1.]   0.886806     0.95\n",
      "95  [1. 1. 1. ... 1. 0. 1.]   0.886806     0.96\n",
      "96  [1. 1. 1. ... 1. 0. 1.]   0.886806     0.97\n",
      "97  [1. 1. 1. ... 1. 0. 1.]   0.886806     0.98\n",
      "98  [1. 1. 1. ... 1. 0. 1.]   0.887500     0.99\n"
     ]
    }
   ],
   "source": [
    "print(performance_df.loc[performance_df['mean_perf'].idxmax()])\n",
    "print(performance_df.tail(10))"
   ],
   "metadata": {
    "collapsed": false,
    "ExecuteTime": {
     "end_time": "2023-11-27T23:00:15.542434Z",
     "start_time": "2023-11-27T23:00:15.536992Z"
    }
   },
   "id": "1c7330454326577c"
  },
  {
   "cell_type": "markdown",
   "source": [
    "# use C=.99 to retrain the model\n",
    "### lowest optimal C (1/lambda) is .77\n",
    "### highest optimal C is .99"
   ],
   "metadata": {
    "collapsed": false
   },
   "id": "1ead17626d211847"
  },
  {
   "cell_type": "code",
   "execution_count": 46,
   "outputs": [
    {
     "name": "stdout",
     "output_type": "stream",
     "text": [
      "col len: 61 coef len: 61\n",
      "cat__hour_of_day_0 = -2.334995944601642\n",
      "cat__hour_of_day_1 = -2.2357224353579035\n",
      "cat__hour_of_day_2 = -1.5916243184864305\n",
      "cat__hour_of_day_3 = -1.8125980538388202\n",
      "cat__hour_of_day_4 = -2.11451765457441\n",
      "cat__hour_of_day_5 = -1.7267624618044122\n",
      "cat__hour_of_day_6 = -1.5220573291459885\n",
      "cat__hour_of_day_7 = -0.854583093433451\n",
      "cat__hour_of_day_8 = 0.9150393951518018\n",
      "cat__hour_of_day_9 = 0.2742415330263226\n",
      "cat__hour_of_day_10 = 0.0\n",
      "cat__hour_of_day_11 = 0.49145911010786575\n",
      "cat__hour_of_day_12 = 0.6629039708876079\n",
      "cat__hour_of_day_13 = 0.0\n",
      "cat__hour_of_day_14 = 0.10785155725414089\n",
      "cat__hour_of_day_15 = 1.3323507856153074\n",
      "cat__hour_of_day_16 = 1.1075407267468358\n",
      "cat__hour_of_day_17 = 1.9504925879627093\n",
      "cat__hour_of_day_18 = 2.6024846110144155\n",
      "cat__hour_of_day_19 = 1.4569703571844725\n",
      "cat__hour_of_day_20 = -0.8801747357159521\n",
      "cat__hour_of_day_21 = -2.6762981513564603\n",
      "cat__hour_of_day_22 = -1.6775871950875214\n",
      "cat__hour_of_day_23 = -2.462343415941325\n",
      "cat__day_of_week_0 = 0.0\n",
      "cat__day_of_week_1 = -0.010151967625462714\n",
      "cat__day_of_week_2 = 0.0\n",
      "cat__day_of_week_3 = -0.03915766523475135\n",
      "cat__day_of_week_4 = 0.0\n",
      "cat__day_of_week_5 = 1.3552740683504974\n",
      "cat__day_of_week_6 = 0.8770555617262882\n",
      "cat__month_1 = -0.7139167385041878\n",
      "cat__month_2 = -0.8069818304486553\n",
      "cat__month_3 = 0.0\n",
      "cat__month_4 = 0.8198326523613546\n",
      "cat__month_5 = -0.532598984279947\n",
      "cat__month_6 = 0.2655381375938805\n",
      "cat__month_7 = 0.0\n",
      "cat__month_8 = -0.09318470522575362\n",
      "cat__month_9 = 0.8414799718895931\n",
      "cat__month_10 = 0.9759472593809259\n",
      "cat__month_11 = 0.0\n",
      "cat__month_12 = -0.7575774828871462\n",
      "stand__hour_of_day = 0.0\n",
      "stand__day_of_week = 0.0\n",
      "stand__month = 0.0\n",
      "stand__holiday = 0.0\n",
      "stand__weekday = 0.0\n",
      "stand__summertime = 0.0\n",
      "stand__temp = 8.280005705898503\n",
      "stand__dew = 0.029809405240988743\n",
      "stand__humidity = -3.6122893326143712\n",
      "stand__precip = 0.0\n",
      "stand__snowdepth = 0.0\n",
      "stand__windspeed = -0.7708737058782109\n",
      "stand__cloudcover = 0.0\n",
      "stand__visibility = 0.0\n",
      "stand__daytime = 0.0\n",
      "stand__rushhour = 0.0\n",
      "stand__weather_score = 0.0\n",
      "stand__weather_score_daytime = 0.0\n"
     ]
    }
   ],
   "source": [
    "log_lasso_model = Pipeline([\n",
    "    ('preprocessor', preprocessor),\n",
    "    ('classifier', LogisticRegression(penalty='l1',C=.99,solver='liblinear',max_iter=10000))\n",
    "])\n",
    "log_lasso_model.fit(X_train,y_train)\n",
    "processed_names = log_lasso_model[:-1].get_feature_names_out()\n",
    "logreg_coefs = log_lasso_model.named_steps[\"classifier\"].coef_[0]\n",
    "print(f'col len: {len(processed_names)} coef len: {len(logreg_coefs)}')\n",
    "for item in zip(processed_names,logreg_coefs):\n",
    "    print(f'{item[0]} = {item[1]}')"
   ],
   "metadata": {
    "collapsed": false,
    "ExecuteTime": {
     "end_time": "2023-11-27T23:07:59.553865Z",
     "start_time": "2023-11-27T23:07:59.538924Z"
    }
   },
   "id": "e511fafb522350e5"
  },
  {
   "cell_type": "code",
   "execution_count": 47,
   "outputs": [],
   "source": [
    "test_df = pd.DataFrame(\n",
    "    {'y_hat': log_lasso_model.predict(X_test),'y_true': y_test}\n",
    ")\n",
    "test_df['success_rate'] = (test_df['y_hat'] == test_df['y_true'])\n",
    "test_df['success_rate'] = test_df['success_rate'].astype('int')"
   ],
   "metadata": {
    "collapsed": false,
    "ExecuteTime": {
     "end_time": "2023-11-27T23:08:00.256693Z",
     "start_time": "2023-11-27T23:08:00.222665Z"
    }
   },
   "id": "9a926ebe7ee0bff9"
  },
  {
   "cell_type": "code",
   "execution_count": 48,
   "outputs": [
    {
     "data": {
      "text/plain": "            y_hat      y_true  success_rate\ncount  160.000000  160.000000    160.000000\nmean     0.168750    0.181250      0.875000\nstd      0.375707    0.386435      0.331757\nmin      0.000000    0.000000      0.000000\n25%      0.000000    0.000000      1.000000\n50%      0.000000    0.000000      1.000000\n75%      0.000000    0.000000      1.000000\nmax      1.000000    1.000000      1.000000",
      "text/html": "<div>\n<style scoped>\n    .dataframe tbody tr th:only-of-type {\n        vertical-align: middle;\n    }\n\n    .dataframe tbody tr th {\n        vertical-align: top;\n    }\n\n    .dataframe thead th {\n        text-align: right;\n    }\n</style>\n<table border=\"1\" class=\"dataframe\">\n  <thead>\n    <tr style=\"text-align: right;\">\n      <th></th>\n      <th>y_hat</th>\n      <th>y_true</th>\n      <th>success_rate</th>\n    </tr>\n  </thead>\n  <tbody>\n    <tr>\n      <th>count</th>\n      <td>160.000000</td>\n      <td>160.000000</td>\n      <td>160.000000</td>\n    </tr>\n    <tr>\n      <th>mean</th>\n      <td>0.168750</td>\n      <td>0.181250</td>\n      <td>0.875000</td>\n    </tr>\n    <tr>\n      <th>std</th>\n      <td>0.375707</td>\n      <td>0.386435</td>\n      <td>0.331757</td>\n    </tr>\n    <tr>\n      <th>min</th>\n      <td>0.000000</td>\n      <td>0.000000</td>\n      <td>0.000000</td>\n    </tr>\n    <tr>\n      <th>25%</th>\n      <td>0.000000</td>\n      <td>0.000000</td>\n      <td>1.000000</td>\n    </tr>\n    <tr>\n      <th>50%</th>\n      <td>0.000000</td>\n      <td>0.000000</td>\n      <td>1.000000</td>\n    </tr>\n    <tr>\n      <th>75%</th>\n      <td>0.000000</td>\n      <td>0.000000</td>\n      <td>1.000000</td>\n    </tr>\n    <tr>\n      <th>max</th>\n      <td>1.000000</td>\n      <td>1.000000</td>\n      <td>1.000000</td>\n    </tr>\n  </tbody>\n</table>\n</div>"
     },
     "execution_count": 48,
     "metadata": {},
     "output_type": "execute_result"
    }
   ],
   "source": [
    "test_df.describe()"
   ],
   "metadata": {
    "collapsed": false,
    "ExecuteTime": {
     "end_time": "2023-11-27T23:08:00.917493Z",
     "start_time": "2023-11-27T23:08:00.906068Z"
    }
   },
   "id": "f09e46fd268530c6"
  },
  {
   "cell_type": "code",
   "execution_count": 49,
   "outputs": [
    {
     "name": "stdout",
     "output_type": "stream",
     "text": [
      "model is correct 87.5% of the time (E new)\n",
      "supposed performance 88.75%\n",
      "supposed range (from k=5 split) [80.55555555555556 - 90.625]%\n"
     ]
    }
   ],
   "source": [
    "print(f'model is correct {test_df[\"success_rate\"].mean()*100}% of the time (E new)')\n",
    "print(f'supposed performance {performance_df[\"mean_perf\"].max()*100}%')\n",
    "print(f'supposed range (from k=5 split) [{np.min(cross_val_results)*100} - {np.max(cross_val_results)*100}]%')"
   ],
   "metadata": {
    "collapsed": false,
    "ExecuteTime": {
     "end_time": "2023-11-27T23:08:01.700181Z",
     "start_time": "2023-11-27T23:08:01.690005Z"
    }
   },
   "id": "6c8356a8c82fe8fc"
  },
  {
   "cell_type": "code",
   "execution_count": 27,
   "outputs": [],
   "source": [],
   "metadata": {
    "collapsed": false,
    "ExecuteTime": {
     "end_time": "2023-11-27T23:02:21.118278Z",
     "start_time": "2023-11-27T23:02:21.097218Z"
    }
   },
   "id": "d5c44c92b7f28569"
  }
 ],
 "metadata": {
  "kernelspec": {
   "display_name": "Python 3",
   "language": "python",
   "name": "python3"
  },
  "language_info": {
   "codemirror_mode": {
    "name": "ipython",
    "version": 2
   },
   "file_extension": ".py",
   "mimetype": "text/x-python",
   "name": "python",
   "nbconvert_exporter": "python",
   "pygments_lexer": "ipython2",
   "version": "2.7.6"
  }
 },
 "nbformat": 4,
 "nbformat_minor": 5
}
