{
 "cells": [
  {
   "cell_type": "code",
   "execution_count": 1,
   "outputs": [],
   "source": [
    "import pandas as pd\n",
    "from feature_creation import data_copy\n",
    "from sklearn.model_selection import KFold, cross_val_score, train_test_split, cross_val_predict\n",
    "from sklearn.metrics import classification_report\n",
    "from sklearn.linear_model import LogisticRegression\n",
    "from sklearn.preprocessing import LabelEncoder, PolynomialFeatures, Normalizer,StandardScaler\n",
    "from sklearn.compose import ColumnTransformer\n",
    "from sklearn.pipeline import Pipeline\n",
    "from os import cpu_count\n",
    "import numpy as np\n",
    "import seaborn as sns"
   ],
   "metadata": {
    "collapsed": false,
    "ExecuteTime": {
     "end_time": "2023-11-29T15:51:40.488368Z",
     "start_time": "2023-11-29T15:51:40.366549Z"
    }
   },
   "id": "5dabae8e1476192f"
  },
  {
   "cell_type": "markdown",
   "source": [
    "# Build model for Logistic lasso regression"
   ],
   "metadata": {
    "collapsed": false
   },
   "id": "3195c7e78db0ee60"
  },
  {
   "cell_type": "code",
   "execution_count": 2,
   "outputs": [
    {
     "data": {
      "text/plain": "           weekday  summertime         temp          dew     humidity  \\\ncount  1600.000000  1600.00000  1600.000000  1600.000000  1600.000000   \nmean      0.710000     0.64375    15.210313     7.750750    63.927844   \nstd       0.453904     0.47904     9.264785    10.026459    19.079419   \nmin       0.000000     0.00000    -9.100000   -18.400000    15.850000   \n25%       0.000000     0.00000     7.700000    -0.800000    47.845000   \n50%       1.000000     1.00000    15.500000     8.300000    65.175000   \n75%       1.000000     1.00000    23.200000    16.800000    79.955000   \nmax       1.000000     1.00000    35.600000    24.300000    99.890000   \n\n            precip    windspeed   cloudcover  increase_stock      daytime  \\\ncount  1600.000000  1600.000000  1600.000000     1600.000000  1600.000000   \nmean      0.122042    13.082500    64.322375        0.180000     0.543750   \nstd       0.920600     7.756652    32.748869        0.384308     0.498238   \nmin       0.000000     0.000000     0.000000        0.000000     0.000000   \n25%       0.000000     7.500000    28.800000        0.000000     0.000000   \n50%       0.000000    12.300000    79.300000        0.000000     1.000000   \n75%       0.000000    17.600000    92.800000        0.000000     1.000000   \nmax      25.871000    43.800000   100.000000        1.000000     1.000000   \n\n          rushhour  weather_score  weather_score_daytime  \ncount  1600.000000    1600.000000            1600.000000  \nmean      0.205625       0.180000               0.127378  \nstd       0.404284       0.184322               0.189459  \nmin       0.000000      -0.239787              -0.160192  \n25%       0.000000       0.049945               0.000000  \n50%       0.000000       0.154343               0.000000  \n75%       0.000000       0.278779               0.225751  \nmax       1.000000       0.956538               0.956538  ",
      "text/html": "<div>\n<style scoped>\n    .dataframe tbody tr th:only-of-type {\n        vertical-align: middle;\n    }\n\n    .dataframe tbody tr th {\n        vertical-align: top;\n    }\n\n    .dataframe thead th {\n        text-align: right;\n    }\n</style>\n<table border=\"1\" class=\"dataframe\">\n  <thead>\n    <tr style=\"text-align: right;\">\n      <th></th>\n      <th>weekday</th>\n      <th>summertime</th>\n      <th>temp</th>\n      <th>dew</th>\n      <th>humidity</th>\n      <th>precip</th>\n      <th>windspeed</th>\n      <th>cloudcover</th>\n      <th>increase_stock</th>\n      <th>daytime</th>\n      <th>rushhour</th>\n      <th>weather_score</th>\n      <th>weather_score_daytime</th>\n    </tr>\n  </thead>\n  <tbody>\n    <tr>\n      <th>count</th>\n      <td>1600.000000</td>\n      <td>1600.00000</td>\n      <td>1600.000000</td>\n      <td>1600.000000</td>\n      <td>1600.000000</td>\n      <td>1600.000000</td>\n      <td>1600.000000</td>\n      <td>1600.000000</td>\n      <td>1600.000000</td>\n      <td>1600.000000</td>\n      <td>1600.000000</td>\n      <td>1600.000000</td>\n      <td>1600.000000</td>\n    </tr>\n    <tr>\n      <th>mean</th>\n      <td>0.710000</td>\n      <td>0.64375</td>\n      <td>15.210313</td>\n      <td>7.750750</td>\n      <td>63.927844</td>\n      <td>0.122042</td>\n      <td>13.082500</td>\n      <td>64.322375</td>\n      <td>0.180000</td>\n      <td>0.543750</td>\n      <td>0.205625</td>\n      <td>0.180000</td>\n      <td>0.127378</td>\n    </tr>\n    <tr>\n      <th>std</th>\n      <td>0.453904</td>\n      <td>0.47904</td>\n      <td>9.264785</td>\n      <td>10.026459</td>\n      <td>19.079419</td>\n      <td>0.920600</td>\n      <td>7.756652</td>\n      <td>32.748869</td>\n      <td>0.384308</td>\n      <td>0.498238</td>\n      <td>0.404284</td>\n      <td>0.184322</td>\n      <td>0.189459</td>\n    </tr>\n    <tr>\n      <th>min</th>\n      <td>0.000000</td>\n      <td>0.00000</td>\n      <td>-9.100000</td>\n      <td>-18.400000</td>\n      <td>15.850000</td>\n      <td>0.000000</td>\n      <td>0.000000</td>\n      <td>0.000000</td>\n      <td>0.000000</td>\n      <td>0.000000</td>\n      <td>0.000000</td>\n      <td>-0.239787</td>\n      <td>-0.160192</td>\n    </tr>\n    <tr>\n      <th>25%</th>\n      <td>0.000000</td>\n      <td>0.00000</td>\n      <td>7.700000</td>\n      <td>-0.800000</td>\n      <td>47.845000</td>\n      <td>0.000000</td>\n      <td>7.500000</td>\n      <td>28.800000</td>\n      <td>0.000000</td>\n      <td>0.000000</td>\n      <td>0.000000</td>\n      <td>0.049945</td>\n      <td>0.000000</td>\n    </tr>\n    <tr>\n      <th>50%</th>\n      <td>1.000000</td>\n      <td>1.00000</td>\n      <td>15.500000</td>\n      <td>8.300000</td>\n      <td>65.175000</td>\n      <td>0.000000</td>\n      <td>12.300000</td>\n      <td>79.300000</td>\n      <td>0.000000</td>\n      <td>1.000000</td>\n      <td>0.000000</td>\n      <td>0.154343</td>\n      <td>0.000000</td>\n    </tr>\n    <tr>\n      <th>75%</th>\n      <td>1.000000</td>\n      <td>1.00000</td>\n      <td>23.200000</td>\n      <td>16.800000</td>\n      <td>79.955000</td>\n      <td>0.000000</td>\n      <td>17.600000</td>\n      <td>92.800000</td>\n      <td>0.000000</td>\n      <td>1.000000</td>\n      <td>0.000000</td>\n      <td>0.278779</td>\n      <td>0.225751</td>\n    </tr>\n    <tr>\n      <th>max</th>\n      <td>1.000000</td>\n      <td>1.00000</td>\n      <td>35.600000</td>\n      <td>24.300000</td>\n      <td>99.890000</td>\n      <td>25.871000</td>\n      <td>43.800000</td>\n      <td>100.000000</td>\n      <td>1.000000</td>\n      <td>1.000000</td>\n      <td>1.000000</td>\n      <td>0.956538</td>\n      <td>0.956538</td>\n    </tr>\n  </tbody>\n</table>\n</div>"
     },
     "execution_count": 2,
     "metadata": {},
     "output_type": "execute_result"
    }
   ],
   "source": [
    "data_copy['increase_stock'] = data_copy['increase_stock'].apply(lambda entity: 1 if entity == 'high_bike_demand' else 0)\n",
    "data_copy['increase_stock'] = data_copy['increase_stock'].astype('int')\n",
    "data_copy = data_copy.drop('holiday',axis=1)\n",
    "data_copy = data_copy.drop('snowdepth',axis=1)\n",
    "data_copy = data_copy.drop('visibility',axis=1)\n",
    "data_copy.describe()"
   ],
   "metadata": {
    "collapsed": false,
    "ExecuteTime": {
     "end_time": "2023-11-29T15:51:40.540460Z",
     "start_time": "2023-11-29T15:51:40.494379Z"
    }
   },
   "id": "9f7d427a00d9b074"
  },
  {
   "cell_type": "code",
   "execution_count": 3,
   "outputs": [
    {
     "name": "stdout",
     "output_type": "stream",
     "text": [
      "<class 'pandas.core.frame.DataFrame'>\n",
      "RangeIndex: 1600 entries, 0 to 1599\n",
      "Data columns (total 16 columns):\n",
      " #   Column                 Non-Null Count  Dtype   \n",
      "---  ------                 --------------  -----   \n",
      " 0   hour_of_day            1600 non-null   category\n",
      " 1   day_of_week            1600 non-null   category\n",
      " 2   month                  1600 non-null   category\n",
      " 3   weekday                1600 non-null   int64   \n",
      " 4   summertime             1600 non-null   int64   \n",
      " 5   temp                   1600 non-null   float64 \n",
      " 6   dew                    1600 non-null   float64 \n",
      " 7   humidity               1600 non-null   float64 \n",
      " 8   precip                 1600 non-null   float64 \n",
      " 9   windspeed              1600 non-null   float64 \n",
      " 10  cloudcover             1600 non-null   float64 \n",
      " 11  increase_stock         1600 non-null   int64   \n",
      " 12  daytime                1600 non-null   int64   \n",
      " 13  rushhour               1600 non-null   int64   \n",
      " 14  weather_score          1600 non-null   float64 \n",
      " 15  weather_score_daytime  1600 non-null   float64 \n",
      "dtypes: category(3), float64(8), int64(5)\n",
      "memory usage: 168.8 KB\n"
     ]
    }
   ],
   "source": [
    "data_copy.info()"
   ],
   "metadata": {
    "collapsed": false,
    "ExecuteTime": {
     "end_time": "2023-11-29T15:51:41.262040Z",
     "start_time": "2023-11-29T15:51:41.252468Z"
    }
   },
   "id": "7da73e3d2dbc83d0"
  },
  {
   "cell_type": "code",
   "execution_count": 32,
   "outputs": [],
   "source": [
    "X_train, X_test, y_train, y_test = train_test_split(data_copy.drop('increase_stock',axis=1), data_copy['increase_stock'], test_size=0.1, random_state=123) \n",
    "\n",
    "preprocessor = ColumnTransformer([\n",
    "    ('poly', PolynomialFeatures(include_bias=False), list(X_train.select_dtypes(include='number').columns)),\n",
    "    ('cat',LabelEncoder(), list(X_train.select_dtypes(include='category').columns))\n",
    "],\n",
    "    remainder='passthrough')\n",
    "logreg_model = Pipeline([\n",
    "    ('preprocessor', preprocessor),\n",
    "    ('norm', Normalizer()),\n",
    "    ('classifier', LogisticRegression(penalty='l1',C=.66,solver='liblinear',max_iter=10000))\n",
    "])"
   ],
   "metadata": {
    "collapsed": false,
    "ExecuteTime": {
     "end_time": "2023-11-29T16:01:23.651892Z",
     "start_time": "2023-11-29T16:01:23.633709Z"
    }
   },
   "id": "fd113e15b40dc173"
  },
  {
   "cell_type": "code",
   "execution_count": 33,
   "outputs": [
    {
     "name": "stdout",
     "output_type": "stream",
     "text": [
      "Cross-validation results: [0.85416667 0.82638889 0.84722222 0.88888889 0.86805556 0.86805556\n",
      " 0.82638889 0.88194444 0.77777778 0.77083333]\n",
      "Mean accuracy: 0.8409722222222221\n"
     ]
    }
   ],
   "source": [
    "kf = KFold(n_splits=10, shuffle=True, random_state=123)\n",
    "cross_val_results = cross_val_score(logreg_model, X_train, y_train, cv=kf, scoring='accuracy',n_jobs=cpu_count()) #run in parallel\n",
    "\n",
    "# Print the cross-validation results\n",
    "print(f'Cross-validation results: {cross_val_results}')\n",
    "print(f'Mean accuracy: {np.mean(cross_val_results)}')"
   ],
   "metadata": {
    "collapsed": false,
    "ExecuteTime": {
     "end_time": "2023-11-29T16:01:25.542595Z",
     "start_time": "2023-11-29T16:01:24.293580Z"
    }
   },
   "id": "e8d35665b3e924a6"
  },
  {
   "cell_type": "code",
   "execution_count": 34,
   "outputs": [
    {
     "name": "stdout",
     "output_type": "stream",
     "text": [
      "col len: 133 coef len: 133\n",
      "poly__weekday = 0.0\n",
      "poly__summertime = 0.0\n",
      "poly__temp = 0.0\n",
      "poly__dew = 0.0\n",
      "poly__humidity = 0.0\n",
      "poly__precip = 0.0\n",
      "poly__windspeed = 0.0\n",
      "poly__cloudcover = 0.0\n",
      "poly__daytime = 0.0\n",
      "poly__rushhour = 0.0\n",
      "poly__weather_score = 0.0\n",
      "poly__weather_score_daytime = 0.0\n",
      "poly__weekday^2 = 0.0\n",
      "poly__weekday summertime = 0.0\n",
      "poly__weekday temp = 0.0\n",
      "poly__weekday dew = 0.0\n",
      "poly__weekday humidity = 0.0\n",
      "poly__weekday precip = 0.0\n",
      "poly__weekday windspeed = 0.0\n",
      "poly__weekday cloudcover = 0.0\n",
      "poly__weekday daytime = 0.0\n",
      "poly__weekday rushhour = 0.0\n",
      "poly__weekday weather_score = 0.0\n",
      "poly__weekday weather_score_daytime = 0.0\n",
      "poly__summertime^2 = 0.0\n",
      "poly__summertime temp = 0.0\n",
      "poly__summertime dew = 0.0\n",
      "poly__summertime humidity = 0.0\n",
      "poly__summertime precip = 0.0\n",
      "poly__summertime windspeed = 0.0\n",
      "poly__summertime cloudcover = 0.0\n",
      "poly__summertime daytime = 0.0\n",
      "poly__summertime rushhour = 0.0\n",
      "poly__summertime weather_score = 0.0\n",
      "poly__summertime weather_score_daytime = 0.0\n",
      "poly__temp^2 = 0.0\n",
      "poly__temp dew = 0.0\n",
      "poly__temp humidity = 4.699225848562682\n",
      "poly__temp precip = 0.0\n",
      "poly__temp windspeed = 0.0\n",
      "poly__temp cloudcover = 8.940375701329433\n",
      "poly__temp daytime = 0.0\n",
      "poly__temp rushhour = 0.0\n",
      "poly__temp weather_score = 0.0\n",
      "poly__temp weather_score_daytime = 0.0\n",
      "poly__dew^2 = 0.0\n",
      "poly__dew humidity = 0.0\n",
      "poly__dew precip = 0.0\n",
      "poly__dew windspeed = 0.0\n",
      "poly__dew cloudcover = 0.0\n",
      "poly__dew daytime = 0.0\n",
      "poly__dew rushhour = 0.0\n",
      "poly__dew weather_score = 0.0\n",
      "poly__dew weather_score_daytime = 0.0\n",
      "poly__humidity^2 = -2.906330031993781\n",
      "poly__humidity precip = 0.0\n",
      "poly__humidity windspeed = 0.0\n",
      "poly__humidity cloudcover = -2.5652265921998887\n",
      "poly__humidity daytime = 0.0\n",
      "poly__humidity rushhour = 0.0\n",
      "poly__humidity weather_score = 0.0\n",
      "poly__humidity weather_score_daytime = 0.0\n",
      "poly__precip^2 = 0.0\n",
      "poly__precip windspeed = 0.0\n",
      "poly__precip cloudcover = 0.0\n",
      "poly__precip daytime = 0.0\n",
      "poly__precip rushhour = 0.0\n",
      "poly__precip weather_score = 0.0\n",
      "poly__precip weather_score_daytime = 0.0\n",
      "poly__windspeed^2 = 0.0\n",
      "poly__windspeed cloudcover = 0.0\n",
      "poly__windspeed daytime = 0.0\n",
      "poly__windspeed rushhour = 0.0\n",
      "poly__windspeed weather_score = 0.0\n",
      "poly__windspeed weather_score_daytime = 0.0\n",
      "poly__cloudcover^2 = 0.0\n",
      "poly__cloudcover daytime = 0.0\n",
      "poly__cloudcover rushhour = 0.0\n",
      "poly__cloudcover weather_score = 0.0\n",
      "poly__cloudcover weather_score_daytime = 0.0\n",
      "poly__daytime^2 = 0.0\n",
      "poly__daytime rushhour = 0.0\n",
      "poly__daytime weather_score = 0.0\n",
      "poly__daytime weather_score_daytime = 0.0\n",
      "poly__rushhour^2 = 0.0\n",
      "poly__rushhour weather_score = 0.0\n",
      "poly__rushhour weather_score_daytime = 0.0\n",
      "poly__weather_score^2 = 0.0\n",
      "poly__weather_score weather_score_daytime = 0.0\n",
      "poly__weather_score_daytime^2 = 0.0\n",
      "cat__hour_of_day_0 = 0.0\n",
      "cat__hour_of_day_1 = 0.0\n",
      "cat__hour_of_day_2 = 0.0\n",
      "cat__hour_of_day_3 = 0.0\n",
      "cat__hour_of_day_4 = 0.0\n",
      "cat__hour_of_day_5 = 0.0\n",
      "cat__hour_of_day_6 = 0.0\n",
      "cat__hour_of_day_7 = 0.0\n",
      "cat__hour_of_day_8 = 0.0\n",
      "cat__hour_of_day_9 = 0.0\n",
      "cat__hour_of_day_10 = 0.0\n",
      "cat__hour_of_day_11 = 0.0\n",
      "cat__hour_of_day_12 = 0.0\n",
      "cat__hour_of_day_13 = 0.0\n",
      "cat__hour_of_day_14 = 0.0\n",
      "cat__hour_of_day_15 = 0.0\n",
      "cat__hour_of_day_16 = 0.0\n",
      "cat__hour_of_day_17 = 0.0\n",
      "cat__hour_of_day_18 = 0.0\n",
      "cat__hour_of_day_19 = 0.0\n",
      "cat__hour_of_day_20 = 0.0\n",
      "cat__hour_of_day_21 = 0.0\n",
      "cat__hour_of_day_22 = 0.0\n",
      "cat__hour_of_day_23 = 0.0\n",
      "cat__day_of_week_0 = 0.0\n",
      "cat__day_of_week_1 = 0.0\n",
      "cat__day_of_week_2 = 0.0\n",
      "cat__day_of_week_3 = 0.0\n",
      "cat__day_of_week_4 = 0.0\n",
      "cat__day_of_week_5 = 0.0\n",
      "cat__day_of_week_6 = 0.0\n",
      "cat__month_1 = 0.0\n",
      "cat__month_2 = 0.0\n",
      "cat__month_3 = 0.0\n",
      "cat__month_4 = 0.0\n",
      "cat__month_5 = 0.0\n",
      "cat__month_6 = 0.0\n",
      "cat__month_7 = 0.0\n",
      "cat__month_8 = 0.0\n",
      "cat__month_9 = 0.0\n",
      "cat__month_10 = 0.0\n",
      "cat__month_11 = 0.0\n",
      "cat__month_12 = 0.0\n"
     ]
    }
   ],
   "source": [
    "logreg_model.fit(X_train,y_train)\n",
    "processed_names = logreg_model[:-1].get_feature_names_out()\n",
    "logreg_coefs = logreg_model.named_steps[\"classifier\"].coef_[0]\n",
    "print(f'col len: {len(processed_names)} coef len: {len(logreg_coefs)}')\n",
    "for item in zip(processed_names,logreg_coefs):\n",
    "    print(f'{item[0]} = {item[1]}')"
   ],
   "metadata": {
    "collapsed": false,
    "ExecuteTime": {
     "end_time": "2023-11-29T16:01:25.559430Z",
     "start_time": "2023-11-29T16:01:25.540677Z"
    }
   },
   "id": "51768682182b33a6"
  },
  {
   "cell_type": "markdown",
   "source": [
    "### Now lets optimize the C (lambda) and see if we can improve the score"
   ],
   "metadata": {
    "collapsed": false
   },
   "id": "c711942ac0c8669a"
  },
  {
   "cell_type": "code",
   "execution_count": 37,
   "outputs": [],
   "source": [
    "# NOTE! very expensive code. Uncomment for very long run time\n",
    "mean_cross_val_scores = []\n",
    "for i in range(1,100):\n",
    "    result = {}\n",
    "    C_temp = i/100\n",
    "    \n",
    "    logreg_model = Pipeline([\n",
    "        ('preprocessor', preprocessor),\n",
    "        ('norm', StandardScaler()),\n",
    "        ('classifier', LogisticRegression(penalty='l1',C=C_temp,solver='liblinear',max_iter=10000))\n",
    "    ])\n",
    "    cvs = cross_val_score(logreg_model, X_train, y_train, cv=kf, scoring='accuracy',n_jobs=cpu_count()) #run in parallel\n",
    "    result['cvs'] = cvs\n",
    "    result['mean_perf'] = np.mean(cvs)\n",
    "    result['reg_val'] = C_temp\n",
    "    mean_cross_val_scores.append(result)\n",
    "performance_df = pd.DataFrame(mean_cross_val_scores)"
   ],
   "metadata": {
    "collapsed": false,
    "ExecuteTime": {
     "end_time": "2023-11-29T16:02:29.658992Z",
     "start_time": "2023-11-29T16:02:12.258282Z"
    }
   },
   "id": "567e7847481b850c"
  },
  {
   "cell_type": "code",
   "execution_count": 45,
   "outputs": [
    {
     "name": "stdout",
     "output_type": "stream",
     "text": [
      "cvs          [0.9444444444444444, 0.9305555555555556, 0.888...\n",
      "mean_perf                                             0.915972\n",
      "reg_val                                                   0.14\n",
      "Name: 13, dtype: object\n"
     ]
    },
    {
     "data": {
      "text/plain": "<Axes: ylabel='mean_perf'>"
     },
     "execution_count": 45,
     "metadata": {},
     "output_type": "execute_result"
    },
    {
     "data": {
      "text/plain": "<Figure size 640x480 with 1 Axes>",
      "image/png": "[encoded data removed]"
     },
     "metadata": {},
     "output_type": "display_data"
    }
   ],
   "source": [
    "print(performance_df.loc[performance_df['mean_perf'].idxmax()])\n",
    "# print(performance_df[55:70])\n",
    "sns.lineplot(performance_df['mean_perf'])"
   ],
   "metadata": {
    "collapsed": false,
    "ExecuteTime": {
     "end_time": "2023-11-29T16:04:54.198423Z",
     "start_time": "2023-11-29T16:04:54.128370Z"
    }
   },
   "id": "1c7330454326577c"
  },
  {
   "cell_type": "markdown",
   "source": [
    "# use C=.99 to retrain the model\n",
    "### lowest optimal C (1/lambda) is .77\n",
    "### highest optimal C is .99"
   ],
   "metadata": {
    "collapsed": false
   },
   "id": "1ead17626d211847"
  },
  {
   "cell_type": "code",
   "execution_count": 46,
   "outputs": [
    {
     "name": "stdout",
     "output_type": "stream",
     "text": [
      "col len: 133 coef len: 133\n",
      "poly__weekday = 0.0\n",
      "poly__summertime = 0.0\n",
      "poly__temp = 0.3779750289733303\n",
      "poly__dew = 0.0\n",
      "poly__humidity = 0.0\n",
      "poly__precip = 0.0\n",
      "poly__windspeed = 0.0\n",
      "poly__cloudcover = 0.0\n",
      "poly__daytime = 0.21712887689754032\n",
      "poly__rushhour = 0.0\n",
      "poly__weather_score = 0.3533203674742245\n",
      "poly__weather_score_daytime = 0.16189685093523243\n",
      "poly__weekday^2 = 0.0\n",
      "poly__weekday summertime = 0.0\n",
      "poly__weekday temp = 0.0\n",
      "poly__weekday dew = 0.0\n",
      "poly__weekday humidity = 0.0\n",
      "poly__weekday precip = 0.0\n",
      "poly__weekday windspeed = -0.12302521444741377\n",
      "poly__weekday cloudcover = 0.0\n",
      "poly__weekday daytime = 0.0\n",
      "poly__weekday rushhour = 0.372125807216174\n",
      "poly__weekday weather_score = 0.0\n",
      "poly__weekday weather_score_daytime = -0.8663010308923772\n",
      "poly__summertime^2 = 0.0\n",
      "poly__summertime temp = 0.0\n",
      "poly__summertime dew = 0.0\n",
      "poly__summertime humidity = 0.0\n",
      "poly__summertime precip = 0.0\n",
      "poly__summertime windspeed = 0.0\n",
      "poly__summertime cloudcover = 0.0\n",
      "poly__summertime daytime = 0.4806776241970901\n",
      "poly__summertime rushhour = 0.0\n",
      "poly__summertime weather_score = 0.18882976083812852\n",
      "poly__summertime weather_score_daytime = 0.0\n",
      "poly__temp^2 = 0.0\n",
      "poly__temp dew = 0.0\n",
      "poly__temp humidity = 0.0\n",
      "poly__temp precip = 0.0\n",
      "poly__temp windspeed = 0.0\n",
      "poly__temp cloudcover = 0.0\n",
      "poly__temp daytime = 0.7243877414369793\n",
      "poly__temp rushhour = 0.04745830767205748\n",
      "poly__temp weather_score = 0.0\n",
      "poly__temp weather_score_daytime = 0.0\n",
      "poly__dew^2 = -0.6019699565633063\n",
      "poly__dew humidity = 0.0\n",
      "poly__dew precip = 0.0\n",
      "poly__dew windspeed = 0.0\n",
      "poly__dew cloudcover = 0.06413983085181146\n",
      "poly__dew daytime = 0.0\n",
      "poly__dew rushhour = 0.0\n",
      "poly__dew weather_score = 0.0\n",
      "poly__dew weather_score_daytime = 0.0\n",
      "poly__humidity^2 = 0.0\n",
      "poly__humidity precip = 0.0\n",
      "poly__humidity windspeed = 0.0\n",
      "poly__humidity cloudcover = 0.0\n",
      "poly__humidity daytime = 0.0\n",
      "poly__humidity rushhour = 0.0\n",
      "poly__humidity weather_score = 0.0\n",
      "poly__humidity weather_score_daytime = 0.0\n",
      "poly__precip^2 = 0.0\n",
      "poly__precip windspeed = 0.0\n",
      "poly__precip cloudcover = 0.0\n",
      "poly__precip daytime = -0.17357575429076\n",
      "poly__precip rushhour = -0.04139613162397788\n",
      "poly__precip weather_score = 0.0\n",
      "poly__precip weather_score_daytime = -0.05680181030095038\n",
      "poly__windspeed^2 = -0.0652752767457627\n",
      "poly__windspeed cloudcover = 0.0\n",
      "poly__windspeed daytime = 0.0\n",
      "poly__windspeed rushhour = 0.0\n",
      "poly__windspeed weather_score = 0.0\n",
      "poly__windspeed weather_score_daytime = 0.0\n",
      "poly__cloudcover^2 = 0.0\n",
      "poly__cloudcover daytime = 0.0\n",
      "poly__cloudcover rushhour = 0.0\n",
      "poly__cloudcover weather_score = 0.0\n",
      "poly__cloudcover weather_score_daytime = 0.07499236003371587\n",
      "poly__daytime^2 = 0.1811994056030365\n",
      "poly__daytime rushhour = 0.0\n",
      "poly__daytime weather_score = 0.1484281286663693\n",
      "poly__daytime weather_score_daytime = 0.10110341659153056\n",
      "poly__rushhour^2 = 0.0\n",
      "poly__rushhour weather_score = 0.17901439202513536\n",
      "poly__rushhour weather_score_daytime = 0.08873497113135166\n",
      "poly__weather_score^2 = 0.0\n",
      "poly__weather_score weather_score_daytime = 0.0\n",
      "poly__weather_score_daytime^2 = 0.0\n",
      "cat__hour_of_day_0 = 0.0\n",
      "cat__hour_of_day_1 = 0.0\n",
      "cat__hour_of_day_2 = 0.0\n",
      "cat__hour_of_day_3 = 0.0\n",
      "cat__hour_of_day_4 = 0.0\n",
      "cat__hour_of_day_5 = 0.0\n",
      "cat__hour_of_day_6 = 0.0\n",
      "cat__hour_of_day_7 = -0.2101936767972453\n",
      "cat__hour_of_day_8 = 0.0885842931464167\n",
      "cat__hour_of_day_9 = 0.0\n",
      "cat__hour_of_day_10 = -0.028152517598549368\n",
      "cat__hour_of_day_11 = 0.005331549570785536\n",
      "cat__hour_of_day_12 = 0.0900630310705376\n",
      "cat__hour_of_day_13 = 0.0\n",
      "cat__hour_of_day_14 = 0.007151277229671463\n",
      "cat__hour_of_day_15 = 0.0\n",
      "cat__hour_of_day_16 = 0.0\n",
      "cat__hour_of_day_17 = 0.13155797109237205\n",
      "cat__hour_of_day_18 = 0.20508557115105838\n",
      "cat__hour_of_day_19 = 0.0\n",
      "cat__hour_of_day_20 = 0.17741517108521582\n",
      "cat__hour_of_day_21 = 0.0\n",
      "cat__hour_of_day_22 = 0.0\n",
      "cat__hour_of_day_23 = 0.0\n",
      "cat__day_of_week_0 = 0.0\n",
      "cat__day_of_week_1 = -0.006501850013782306\n",
      "cat__day_of_week_2 = 0.0\n",
      "cat__day_of_week_3 = 0.0\n",
      "cat__day_of_week_4 = 0.0\n",
      "cat__day_of_week_5 = 0.11731713957905744\n",
      "cat__day_of_week_6 = 0.0\n",
      "cat__month_1 = 0.0\n",
      "cat__month_2 = 0.0\n",
      "cat__month_3 = 0.0\n",
      "cat__month_4 = 0.05436872677523384\n",
      "cat__month_5 = -0.31695375686893057\n",
      "cat__month_6 = 0.0\n",
      "cat__month_7 = -0.02549600924155401\n",
      "cat__month_8 = -0.09681897832648172\n",
      "cat__month_9 = 0.10658098586470684\n",
      "cat__month_10 = 0.0703450193405973\n",
      "cat__month_11 = 0.046561787515494384\n",
      "cat__month_12 = 0.0\n"
     ]
    }
   ],
   "source": [
    "log_lasso_model = Pipeline([\n",
    "    ('preprocessor', preprocessor),\n",
    "    # ('norm', StandardScaler()),\n",
    "    ('classifier', LogisticRegression(penalty='l1',C=.14,solver='liblinear',max_iter=10000))\n",
    "])\n",
    "log_lasso_model.fit(X_train,y_train)\n",
    "processed_names = log_lasso_model[:-1].get_feature_names_out()\n",
    "logreg_coefs = log_lasso_model.named_steps[\"classifier\"].coef_[0]\n",
    "print(f'col len: {len(processed_names)} coef len: {len(logreg_coefs)}')\n",
    "for item in zip(processed_names,logreg_coefs):\n",
    "    print(f'{item[0]} = {item[1]}')"
   ],
   "metadata": {
    "collapsed": false,
    "ExecuteTime": {
     "end_time": "2023-11-29T16:05:47.284923Z",
     "start_time": "2023-11-29T16:05:47.234445Z"
    }
   },
   "id": "e511fafb522350e5"
  },
  {
   "cell_type": "code",
   "execution_count": 47,
   "outputs": [],
   "source": [
    "test_df = pd.DataFrame(\n",
    "    {'y_hat': log_lasso_model.predict(X_test),'y_true': y_test}\n",
    ")\n",
    "test_df['success_rate'] = (test_df['y_hat'] == test_df['y_true'])\n",
    "test_df['success_rate'] = test_df['success_rate'].astype('int')"
   ],
   "metadata": {
    "collapsed": false,
    "ExecuteTime": {
     "end_time": "2023-11-29T16:05:51.080061Z",
     "start_time": "2023-11-29T16:05:51.036914Z"
    }
   },
   "id": "9a926ebe7ee0bff9"
  },
  {
   "cell_type": "code",
   "execution_count": 48,
   "outputs": [
    {
     "data": {
      "text/plain": "            y_hat      y_true  success_rate\ncount  160.000000  160.000000    160.000000\nmean     0.156250    0.181250      0.862500\nstd      0.364232    0.386435      0.345456\nmin      0.000000    0.000000      0.000000\n25%      0.000000    0.000000      1.000000\n50%      0.000000    0.000000      1.000000\n75%      0.000000    0.000000      1.000000\nmax      1.000000    1.000000      1.000000",
      "text/html": "<div>\n<style scoped>\n    .dataframe tbody tr th:only-of-type {\n        vertical-align: middle;\n    }\n\n    .dataframe tbody tr th {\n        vertical-align: top;\n    }\n\n    .dataframe thead th {\n        text-align: right;\n    }\n</style>\n<table border=\"1\" class=\"dataframe\">\n  <thead>\n    <tr style=\"text-align: right;\">\n      <th></th>\n      <th>y_hat</th>\n      <th>y_true</th>\n      <th>success_rate</th>\n    </tr>\n  </thead>\n  <tbody>\n    <tr>\n      <th>count</th>\n      <td>160.000000</td>\n      <td>160.000000</td>\n      <td>160.000000</td>\n    </tr>\n    <tr>\n      <th>mean</th>\n      <td>0.156250</td>\n      <td>0.181250</td>\n      <td>0.862500</td>\n    </tr>\n    <tr>\n      <th>std</th>\n      <td>0.364232</td>\n      <td>0.386435</td>\n      <td>0.345456</td>\n    </tr>\n    <tr>\n      <th>min</th>\n      <td>0.000000</td>\n      <td>0.000000</td>\n      <td>0.000000</td>\n    </tr>\n    <tr>\n      <th>25%</th>\n      <td>0.000000</td>\n      <td>0.000000</td>\n      <td>1.000000</td>\n    </tr>\n    <tr>\n      <th>50%</th>\n      <td>0.000000</td>\n      <td>0.000000</td>\n      <td>1.000000</td>\n    </tr>\n    <tr>\n      <th>75%</th>\n      <td>0.000000</td>\n      <td>0.000000</td>\n      <td>1.000000</td>\n    </tr>\n    <tr>\n      <th>max</th>\n      <td>1.000000</td>\n      <td>1.000000</td>\n      <td>1.000000</td>\n    </tr>\n  </tbody>\n</table>\n</div>"
     },
     "execution_count": 48,
     "metadata": {},
     "output_type": "execute_result"
    }
   ],
   "source": [
    "test_df.describe()"
   ],
   "metadata": {
    "collapsed": false,
    "ExecuteTime": {
     "end_time": "2023-11-29T16:05:53.388533Z",
     "start_time": "2023-11-29T16:05:53.380253Z"
    }
   },
   "id": "f09e46fd268530c6"
  },
  {
   "cell_type": "code",
   "execution_count": 49,
   "outputs": [
    {
     "name": "stdout",
     "output_type": "stream",
     "text": [
      "model is correct 86.25% of the time (E new)\n",
      "supposed performance 91.59722222222223%\n",
      "supposed range (from k=5 split) [77.08333333333334 - 88.88888888888889]%\n"
     ]
    }
   ],
   "source": [
    "print(f'model is correct {test_df[\"success_rate\"].mean()*100}% of the time (E new)')\n",
    "print(f'supposed performance {performance_df[\"mean_perf\"].max()*100}%')\n",
    "print(f'supposed range (from k=5 split) [{np.min(cross_val_results)*100} - {np.max(cross_val_results)*100}]%')"
   ],
   "metadata": {
    "collapsed": false,
    "ExecuteTime": {
     "end_time": "2023-11-29T16:05:55.531451Z",
     "start_time": "2023-11-29T16:05:55.523619Z"
    }
   },
   "id": "6c8356a8c82fe8fc"
  },
  {
   "cell_type": "code",
   "execution_count": 50,
   "outputs": [],
   "source": [
    "y_hats = cross_val_predict(log_lasso_model,X=data_copy.drop('increase_stock',axis=1),y=data_copy['increase_stock'],cv=160, n_jobs=cpu_count())"
   ],
   "metadata": {
    "collapsed": false,
    "ExecuteTime": {
     "end_time": "2023-11-29T16:05:59.392130Z",
     "start_time": "2023-11-29T16:05:57.636526Z"
    }
   },
   "id": "d5c44c92b7f28569"
  },
  {
   "cell_type": "code",
   "execution_count": 51,
   "outputs": [
    {
     "name": "stdout",
     "output_type": "stream",
     "text": [
      "              precision    recall  f1-score   support\n",
      "\n",
      "           0       0.93      0.96      0.94      1312\n",
      "           1       0.79      0.66      0.72       288\n",
      "\n",
      "    accuracy                           0.91      1600\n",
      "   macro avg       0.86      0.81      0.83      1600\n",
      "weighted avg       0.90      0.91      0.90      1600\n"
     ]
    }
   ],
   "source": [
    "print(classification_report(data_copy['increase_stock'],y_hats))"
   ],
   "metadata": {
    "collapsed": false,
    "ExecuteTime": {
     "end_time": "2023-11-29T16:06:01.707228Z",
     "start_time": "2023-11-29T16:06:01.696399Z"
    }
   },
   "id": "3ee69590316fd8e9"
  },
  {
   "cell_type": "code",
   "execution_count": 52,
   "outputs": [
    {
     "name": "stdout",
     "output_type": "stream",
     "text": [
      "col len: 133 coef len: 133\n",
      "poly__weekday = 0.0\n",
      "poly__summertime = 0.0\n",
      "poly__temp = 0.30659176217629497\n",
      "poly__dew = 0.0\n",
      "poly__humidity = 0.0\n",
      "poly__precip = 0.0\n",
      "poly__windspeed = 0.0\n",
      "poly__cloudcover = 0.0\n",
      "poly__daytime = 0.42678139209149024\n",
      "poly__rushhour = 0.0\n",
      "poly__weather_score = 0.3692901163007276\n",
      "poly__weather_score_daytime = 0.08251292882973968\n",
      "poly__weekday^2 = 0.0\n",
      "poly__weekday summertime = 0.0\n",
      "poly__weekday temp = 0.0\n",
      "poly__weekday dew = 0.0\n",
      "poly__weekday humidity = 0.0\n",
      "poly__weekday precip = 0.0\n",
      "poly__weekday windspeed = -0.1332084652780254\n",
      "poly__weekday cloudcover = 0.0\n",
      "poly__weekday daytime = 0.0\n",
      "poly__weekday rushhour = 0.47007623855929376\n",
      "poly__weekday weather_score = 0.0\n",
      "poly__weekday weather_score_daytime = -0.7899709686625175\n",
      "poly__summertime^2 = 0.0\n",
      "poly__summertime temp = 0.0\n",
      "poly__summertime dew = 0.0\n",
      "poly__summertime humidity = 0.0\n",
      "poly__summertime precip = 0.0\n",
      "poly__summertime windspeed = 0.0\n",
      "poly__summertime cloudcover = 0.0\n",
      "poly__summertime daytime = 0.3925854030955201\n",
      "poly__summertime rushhour = 0.0\n",
      "poly__summertime weather_score = 0.1895648089856004\n",
      "poly__summertime weather_score_daytime = 0.0\n",
      "poly__temp^2 = 0.0\n",
      "poly__temp dew = 0.0\n",
      "poly__temp humidity = 0.0\n",
      "poly__temp precip = 0.0\n",
      "poly__temp windspeed = 0.0\n",
      "poly__temp cloudcover = 0.0\n",
      "poly__temp daytime = 0.8778832604121187\n",
      "poly__temp rushhour = 0.0\n",
      "poly__temp weather_score = 0.0\n",
      "poly__temp weather_score_daytime = 0.0\n",
      "poly__dew^2 = -0.6665359588048331\n",
      "poly__dew humidity = 0.0\n",
      "poly__dew precip = 0.0\n",
      "poly__dew windspeed = 0.0\n",
      "poly__dew cloudcover = 0.18136652582893603\n",
      "poly__dew daytime = 0.0\n",
      "poly__dew rushhour = 0.0\n",
      "poly__dew weather_score = 0.0\n",
      "poly__dew weather_score_daytime = -0.0822299058146431\n",
      "poly__humidity^2 = -0.09550250497949853\n",
      "poly__humidity precip = 0.0\n",
      "poly__humidity windspeed = 0.0\n",
      "poly__humidity cloudcover = 0.0\n",
      "poly__humidity daytime = 0.0\n",
      "poly__humidity rushhour = 0.0\n",
      "poly__humidity weather_score = 0.0\n",
      "poly__humidity weather_score_daytime = 0.0\n",
      "poly__precip^2 = 0.0\n",
      "poly__precip windspeed = 0.0\n",
      "poly__precip cloudcover = 0.0\n",
      "poly__precip daytime = -0.20648359418506246\n",
      "poly__precip rushhour = -0.047169151010229726\n",
      "poly__precip weather_score = 0.0\n",
      "poly__precip weather_score_daytime = -0.04297583278617306\n",
      "poly__windspeed^2 = -0.055492281980652994\n",
      "poly__windspeed cloudcover = 0.0\n",
      "poly__windspeed daytime = 0.0\n",
      "poly__windspeed rushhour = 0.0\n",
      "poly__windspeed weather_score = 0.0\n",
      "poly__windspeed weather_score_daytime = 0.0\n",
      "poly__cloudcover^2 = -0.016842459474745542\n",
      "poly__cloudcover daytime = 0.0\n",
      "poly__cloudcover rushhour = 0.0\n",
      "poly__cloudcover weather_score = 0.0\n",
      "poly__cloudcover weather_score_daytime = 0.11515898347855294\n",
      "poly__daytime^2 = 0.04502877913794128\n",
      "poly__daytime rushhour = 0.0\n",
      "poly__daytime weather_score = 0.05807185234815647\n",
      "poly__daytime weather_score_daytime = 0.08592118538852224\n",
      "poly__rushhour^2 = 0.0\n",
      "poly__rushhour weather_score = 0.1046495992650822\n",
      "poly__rushhour weather_score_daytime = 0.08969051856958034\n",
      "poly__weather_score^2 = 0.0\n",
      "poly__weather_score weather_score_daytime = 0.0\n",
      "poly__weather_score_daytime^2 = 0.0\n",
      "cat__hour_of_day_0 = 0.0\n",
      "cat__hour_of_day_1 = 0.0\n",
      "cat__hour_of_day_2 = 0.0\n",
      "cat__hour_of_day_3 = 0.0\n",
      "cat__hour_of_day_4 = 0.0\n",
      "cat__hour_of_day_5 = 0.0\n",
      "cat__hour_of_day_6 = 0.0\n",
      "cat__hour_of_day_7 = -0.22036556437880112\n",
      "cat__hour_of_day_8 = 0.09898296682567548\n",
      "cat__hour_of_day_9 = 0.027877899471290653\n",
      "cat__hour_of_day_10 = -0.03602457778847908\n",
      "cat__hour_of_day_11 = 0.0\n",
      "cat__hour_of_day_12 = 0.09193010292316223\n",
      "cat__hour_of_day_13 = 0.0\n",
      "cat__hour_of_day_14 = 0.0\n",
      "cat__hour_of_day_15 = -0.025634034827342424\n",
      "cat__hour_of_day_16 = 0.0\n",
      "cat__hour_of_day_17 = 0.13811264292658948\n",
      "cat__hour_of_day_18 = 0.20016054745479975\n",
      "cat__hour_of_day_19 = 0.0\n",
      "cat__hour_of_day_20 = 0.1578865480744915\n",
      "cat__hour_of_day_21 = 0.0\n",
      "cat__hour_of_day_22 = 0.0\n",
      "cat__hour_of_day_23 = 0.0\n",
      "cat__day_of_week_0 = 0.0\n",
      "cat__day_of_week_1 = -0.004096870138301296\n",
      "cat__day_of_week_2 = 0.0\n",
      "cat__day_of_week_3 = 0.0\n",
      "cat__day_of_week_4 = 0.0\n",
      "cat__day_of_week_5 = 0.1419565312803168\n",
      "cat__day_of_week_6 = 0.0\n",
      "cat__month_1 = 0.0\n",
      "cat__month_2 = 0.0\n",
      "cat__month_3 = 0.0\n",
      "cat__month_4 = 0.05133020460045848\n",
      "cat__month_5 = -0.27561968607195203\n",
      "cat__month_6 = 0.0\n",
      "cat__month_7 = -0.06161133237938087\n",
      "cat__month_8 = -0.041033593111608604\n",
      "cat__month_9 = 0.1537759110707692\n",
      "cat__month_10 = 0.10103834722426383\n",
      "cat__month_11 = 0.051508328634413146\n",
      "cat__month_12 = -0.0277626447009452\n"
     ]
    }
   ],
   "source": [
    "log_lasso_model.fit(data_copy.drop('increase_stock',axis=1),data_copy['increase_stock'])\n",
    "processed_names = log_lasso_model[:-1].get_feature_names_out()\n",
    "logreg_coefs = log_lasso_model.named_steps[\"classifier\"].coef_[0]\n",
    "print(f'col len: {len(processed_names)} coef len: {len(logreg_coefs)}')\n",
    "for item in zip(processed_names,logreg_coefs):\n",
    "    print(f'{item[0]} = {item[1]}')"
   ],
   "metadata": {
    "collapsed": false,
    "ExecuteTime": {
     "end_time": "2023-11-29T16:06:02.944266Z",
     "start_time": "2023-11-29T16:06:02.868129Z"
    }
   },
   "id": "b874dd1a93b04abc"
  },
  {
   "cell_type": "code",
   "execution_count": 65,
   "outputs": [
    {
     "data": {
      "text/plain": "      poly__weekday  poly__summertime  poly__temp  poly__dew  poly__humidity  \\\n0         -1.564697         -1.344254   -2.419627  -2.269781       -0.537283   \n1          0.639101         -1.344254   -1.782607  -2.050293       -1.203654   \n2          0.639101          0.743907    1.262128   1.401656        0.496090   \n3         -1.564697         -1.344254   -1.307542  -1.172340       -0.219564   \n4          0.639101         -1.344254   -0.379006  -1.910618       -2.370721   \n...             ...               ...         ...        ...             ...   \n1595      -1.564697          0.743907    0.679093   1.162214        1.245299   \n1596       0.639101          0.743907    0.862641   1.232051        0.970047   \n1597       0.639101          0.743907   -0.141474  -0.992759       -1.625182   \n1598      -1.564697          0.743907   -0.379006  -1.701107       -2.193511   \n1599      -1.564697         -1.344254   -1.188776  -0.603667        1.058128   \n\n      poly__precip  poly__windspeed  poly__cloudcover  poly__daytime  \\\n0        -0.132609         0.414935         -0.999503      -1.091687   \n1        -0.132609         1.395045          0.652979      -1.091687   \n2        -0.132609        -1.687144          0.512472      -1.091687   \n3        -0.132609         0.788924         -1.964724      -1.091687   \n4        -0.132609        -0.333044         -0.602419       0.916013   \n...            ...              ...               ...            ...   \n1595     -0.132609        -0.320148         -1.219427      -1.091687   \n1596      2.276357        -0.423317          0.848466       0.916013   \n1597     -0.132609         0.659963          0.457491       0.916013   \n1598     -0.132609        -0.939165         -1.219427       0.916013   \n1599      1.041992         1.137122          1.010354      -1.091687   \n\n      poly__rushhour  ...  cat__month_3  cat__month_4  cat__month_5  \\\n0          -0.508774  ...     -0.318072     -0.309662       -0.3011   \n1          -0.508774  ...     -0.318072     -0.309662       -0.3011   \n2          -0.508774  ...     -0.318072     -0.309662       -0.3011   \n3          -0.508774  ...     -0.318072     -0.309662       -0.3011   \n4           1.965508  ...      3.143939     -0.309662       -0.3011   \n...              ...  ...           ...           ...           ...   \n1595       -0.508774  ...     -0.318072     -0.309662       -0.3011   \n1596       -0.508774  ...     -0.318072     -0.309662       -0.3011   \n1597       -0.508774  ...      3.143939     -0.309662       -0.3011   \n1598       -0.508774  ...      3.143939     -0.309662       -0.3011   \n1599       -0.508774  ...     -0.318072     -0.309662       -0.3011   \n\n      cat__month_6  cat__month_7  cat__month_8  cat__month_9  cat__month_10  \\\n0        -0.306012     -0.304789     -0.286028     -0.298624      -0.283463   \n1        -0.306012     -0.304789     -0.286028     -0.298624      -0.283463   \n2        -0.306012     -0.304789      3.496161     -0.298624      -0.283463   \n3        -0.306012     -0.304789     -0.286028     -0.298624      -0.283463   \n4        -0.306012     -0.304789     -0.286028     -0.298624      -0.283463   \n...            ...           ...           ...           ...            ...   \n1595      3.267848     -0.304789     -0.286028     -0.298624      -0.283463   \n1596      3.267848     -0.304789     -0.286028     -0.298624      -0.283463   \n1597     -0.306012     -0.304789     -0.286028     -0.298624      -0.283463   \n1598     -0.306012     -0.304789     -0.286028     -0.298624      -0.283463   \n1599     -0.306012     -0.304789     -0.286028     -0.298624      -0.283463   \n\n      cat__month_11  cat__month_12  \n0         -0.310872      -0.304789  \n1         -0.310872      -0.304789  \n2         -0.310872      -0.304789  \n3         -0.310872      -0.304789  \n4         -0.310872      -0.304789  \n...             ...            ...  \n1595      -0.310872      -0.304789  \n1596      -0.310872      -0.304789  \n1597      -0.310872      -0.304789  \n1598      -0.310872      -0.304789  \n1599      -0.310872      -0.304789  \n\n[1600 rows x 133 columns]",
      "text/html": "<div>\n<style scoped>\n    .dataframe tbody tr th:only-of-type {\n        vertical-align: middle;\n    }\n\n    .dataframe tbody tr th {\n        vertical-align: top;\n    }\n\n    .dataframe thead th {\n        text-align: right;\n    }\n</style>\n<table border=\"1\" class=\"dataframe\">\n  <thead>\n    <tr style=\"text-align: right;\">\n      <th></th>\n      <th>poly__weekday</th>\n      <th>poly__summertime</th>\n      <th>poly__temp</th>\n      <th>poly__dew</th>\n      <th>poly__humidity</th>\n      <th>poly__precip</th>\n      <th>poly__windspeed</th>\n      <th>poly__cloudcover</th>\n      <th>poly__daytime</th>\n      <th>poly__rushhour</th>\n      <th>...</th>\n      <th>cat__month_3</th>\n      <th>cat__month_4</th>\n      <th>cat__month_5</th>\n      <th>cat__month_6</th>\n      <th>cat__month_7</th>\n      <th>cat__month_8</th>\n      <th>cat__month_9</th>\n      <th>cat__month_10</th>\n      <th>cat__month_11</th>\n      <th>cat__month_12</th>\n    </tr>\n  </thead>\n  <tbody>\n    <tr>\n      <th>0</th>\n      <td>-1.564697</td>\n      <td>-1.344254</td>\n      <td>-2.419627</td>\n      <td>-2.269781</td>\n      <td>-0.537283</td>\n      <td>-0.132609</td>\n      <td>0.414935</td>\n      <td>-0.999503</td>\n      <td>-1.091687</td>\n      <td>-0.508774</td>\n      <td>...</td>\n      <td>-0.318072</td>\n      <td>-0.309662</td>\n      <td>-0.3011</td>\n      <td>-0.306012</td>\n      <td>-0.304789</td>\n      <td>-0.286028</td>\n      <td>-0.298624</td>\n      <td>-0.283463</td>\n      <td>-0.310872</td>\n      <td>-0.304789</td>\n    </tr>\n    <tr>\n      <th>1</th>\n      <td>0.639101</td>\n      <td>-1.344254</td>\n      <td>-1.782607</td>\n      <td>-2.050293</td>\n      <td>-1.203654</td>\n      <td>-0.132609</td>\n      <td>1.395045</td>\n      <td>0.652979</td>\n      <td>-1.091687</td>\n      <td>-0.508774</td>\n      <td>...</td>\n      <td>-0.318072</td>\n      <td>-0.309662</td>\n      <td>-0.3011</td>\n      <td>-0.306012</td>\n      <td>-0.304789</td>\n      <td>-0.286028</td>\n      <td>-0.298624</td>\n      <td>-0.283463</td>\n      <td>-0.310872</td>\n      <td>-0.304789</td>\n    </tr>\n    <tr>\n      <th>2</th>\n      <td>0.639101</td>\n      <td>0.743907</td>\n      <td>1.262128</td>\n      <td>1.401656</td>\n      <td>0.496090</td>\n      <td>-0.132609</td>\n      <td>-1.687144</td>\n      <td>0.512472</td>\n      <td>-1.091687</td>\n      <td>-0.508774</td>\n      <td>...</td>\n      <td>-0.318072</td>\n      <td>-0.309662</td>\n      <td>-0.3011</td>\n      <td>-0.306012</td>\n      <td>-0.304789</td>\n      <td>3.496161</td>\n      <td>-0.298624</td>\n      <td>-0.283463</td>\n      <td>-0.310872</td>\n      <td>-0.304789</td>\n    </tr>\n    <tr>\n      <th>3</th>\n      <td>-1.564697</td>\n      <td>-1.344254</td>\n      <td>-1.307542</td>\n      <td>-1.172340</td>\n      <td>-0.219564</td>\n      <td>-0.132609</td>\n      <td>0.788924</td>\n      <td>-1.964724</td>\n      <td>-1.091687</td>\n      <td>-0.508774</td>\n      <td>...</td>\n      <td>-0.318072</td>\n      <td>-0.309662</td>\n      <td>-0.3011</td>\n      <td>-0.306012</td>\n      <td>-0.304789</td>\n      <td>-0.286028</td>\n      <td>-0.298624</td>\n      <td>-0.283463</td>\n      <td>-0.310872</td>\n      <td>-0.304789</td>\n    </tr>\n    <tr>\n      <th>4</th>\n      <td>0.639101</td>\n      <td>-1.344254</td>\n      <td>-0.379006</td>\n      <td>-1.910618</td>\n      <td>-2.370721</td>\n      <td>-0.132609</td>\n      <td>-0.333044</td>\n      <td>-0.602419</td>\n      <td>0.916013</td>\n      <td>1.965508</td>\n      <td>...</td>\n      <td>3.143939</td>\n      <td>-0.309662</td>\n      <td>-0.3011</td>\n      <td>-0.306012</td>\n      <td>-0.304789</td>\n      <td>-0.286028</td>\n      <td>-0.298624</td>\n      <td>-0.283463</td>\n      <td>-0.310872</td>\n      <td>-0.304789</td>\n    </tr>\n    <tr>\n      <th>...</th>\n      <td>...</td>\n      <td>...</td>\n      <td>...</td>\n      <td>...</td>\n      <td>...</td>\n      <td>...</td>\n      <td>...</td>\n      <td>...</td>\n      <td>...</td>\n      <td>...</td>\n      <td>...</td>\n      <td>...</td>\n      <td>...</td>\n      <td>...</td>\n      <td>...</td>\n      <td>...</td>\n      <td>...</td>\n      <td>...</td>\n      <td>...</td>\n      <td>...</td>\n      <td>...</td>\n    </tr>\n    <tr>\n      <th>1595</th>\n      <td>-1.564697</td>\n      <td>0.743907</td>\n      <td>0.679093</td>\n      <td>1.162214</td>\n      <td>1.245299</td>\n      <td>-0.132609</td>\n      <td>-0.320148</td>\n      <td>-1.219427</td>\n      <td>-1.091687</td>\n      <td>-0.508774</td>\n      <td>...</td>\n      <td>-0.318072</td>\n      <td>-0.309662</td>\n      <td>-0.3011</td>\n      <td>3.267848</td>\n      <td>-0.304789</td>\n      <td>-0.286028</td>\n      <td>-0.298624</td>\n      <td>-0.283463</td>\n      <td>-0.310872</td>\n      <td>-0.304789</td>\n    </tr>\n    <tr>\n      <th>1596</th>\n      <td>0.639101</td>\n      <td>0.743907</td>\n      <td>0.862641</td>\n      <td>1.232051</td>\n      <td>0.970047</td>\n      <td>2.276357</td>\n      <td>-0.423317</td>\n      <td>0.848466</td>\n      <td>0.916013</td>\n      <td>-0.508774</td>\n      <td>...</td>\n      <td>-0.318072</td>\n      <td>-0.309662</td>\n      <td>-0.3011</td>\n      <td>3.267848</td>\n      <td>-0.304789</td>\n      <td>-0.286028</td>\n      <td>-0.298624</td>\n      <td>-0.283463</td>\n      <td>-0.310872</td>\n      <td>-0.304789</td>\n    </tr>\n    <tr>\n      <th>1597</th>\n      <td>0.639101</td>\n      <td>0.743907</td>\n      <td>-0.141474</td>\n      <td>-0.992759</td>\n      <td>-1.625182</td>\n      <td>-0.132609</td>\n      <td>0.659963</td>\n      <td>0.457491</td>\n      <td>0.916013</td>\n      <td>-0.508774</td>\n      <td>...</td>\n      <td>3.143939</td>\n      <td>-0.309662</td>\n      <td>-0.3011</td>\n      <td>-0.306012</td>\n      <td>-0.304789</td>\n      <td>-0.286028</td>\n      <td>-0.298624</td>\n      <td>-0.283463</td>\n      <td>-0.310872</td>\n      <td>-0.304789</td>\n    </tr>\n    <tr>\n      <th>1598</th>\n      <td>-1.564697</td>\n      <td>0.743907</td>\n      <td>-0.379006</td>\n      <td>-1.701107</td>\n      <td>-2.193511</td>\n      <td>-0.132609</td>\n      <td>-0.939165</td>\n      <td>-1.219427</td>\n      <td>0.916013</td>\n      <td>-0.508774</td>\n      <td>...</td>\n      <td>3.143939</td>\n      <td>-0.309662</td>\n      <td>-0.3011</td>\n      <td>-0.306012</td>\n      <td>-0.304789</td>\n      <td>-0.286028</td>\n      <td>-0.298624</td>\n      <td>-0.283463</td>\n      <td>-0.310872</td>\n      <td>-0.304789</td>\n    </tr>\n    <tr>\n      <th>1599</th>\n      <td>-1.564697</td>\n      <td>-1.344254</td>\n      <td>-1.188776</td>\n      <td>-0.603667</td>\n      <td>1.058128</td>\n      <td>1.041992</td>\n      <td>1.137122</td>\n      <td>1.010354</td>\n      <td>-1.091687</td>\n      <td>-0.508774</td>\n      <td>...</td>\n      <td>-0.318072</td>\n      <td>-0.309662</td>\n      <td>-0.3011</td>\n      <td>-0.306012</td>\n      <td>-0.304789</td>\n      <td>-0.286028</td>\n      <td>-0.298624</td>\n      <td>-0.283463</td>\n      <td>-0.310872</td>\n      <td>-0.304789</td>\n    </tr>\n  </tbody>\n</table>\n<p>1600 rows × 133 columns</p>\n</div>"
     },
     "execution_count": 65,
     "metadata": {},
     "output_type": "execute_result"
    }
   ],
   "source": [
    "pd.DataFrame(log_lasso_model[1].transform(\n",
    "    log_lasso_model[0].transform(data_copy.drop('increase_stock',axis=1))\n",
    "),columns=list(log_lasso_model[:-1].get_feature_names_out()))"
   ],
   "metadata": {
    "collapsed": false,
    "ExecuteTime": {
     "end_time": "2023-11-29T16:15:21.186005Z",
     "start_time": "2023-11-29T16:15:21.149814Z"
    }
   },
   "id": "49a2387e6c2d3670"
  },
  {
   "cell_type": "code",
   "execution_count": 66,
   "outputs": [
    {
     "data": {
      "text/plain": "ColumnTransformer(remainder='passthrough',\n                  transformers=[('poly', PolynomialFeatures(include_bias=False),\n                                 ['weekday', 'summertime', 'temp', 'dew',\n                                  'humidity', 'precip', 'windspeed',\n                                  'cloudcover', 'daytime', 'rushhour',\n                                  'weather_score', 'weather_score_daytime']),\n                                ('cat', OneHotEncoder(),\n                                 ['hour_of_day', 'day_of_week', 'month'])])",
      "text/html": "<style>#sk-container-id-3 {color: black;}#sk-container-id-3 pre{padding: 0;}#sk-container-id-3 div.sk-toggleable {background-color: white;}#sk-container-id-3 label.sk-toggleable__label {cursor: pointer;display: block;width: 100%;margin-bottom: 0;padding: 0.3em;box-sizing: border-box;text-align: center;}#sk-container-id-3 label.sk-toggleable__label-arrow:before {content: \"▸\";float: left;margin-right: 0.25em;color: #696969;}#sk-container-id-3 label.sk-toggleable__label-arrow:hover:before {color: black;}#sk-container-id-3 div.sk-estimator:hover label.sk-toggleable__label-arrow:before {color: black;}#sk-container-id-3 div.sk-toggleable__content {max-height: 0;max-width: 0;overflow: hidden;text-align: left;background-color: #f0f8ff;}#sk-container-id-3 div.sk-toggleable__content pre {margin: 0.2em;color: black;border-radius: 0.25em;background-color: #f0f8ff;}#sk-container-id-3 input.sk-toggleable__control:checked~div.sk-toggleable__content {max-height: 200px;max-width: 100%;overflow: auto;}#sk-container-id-3 input.sk-toggleable__control:checked~label.sk-toggleable__label-arrow:before {content: \"▾\";}#sk-container-id-3 div.sk-estimator input.sk-toggleable__control:checked~label.sk-toggleable__label {background-color: #d4ebff;}#sk-container-id-3 div.sk-label input.sk-toggleable__control:checked~label.sk-toggleable__label {background-color: #d4ebff;}#sk-container-id-3 input.sk-hidden--visually {border: 0;clip: rect(1px 1px 1px 1px);clip: rect(1px, 1px, 1px, 1px);height: 1px;margin: -1px;overflow: hidden;padding: 0;position: absolute;width: 1px;}#sk-container-id-3 div.sk-estimator {font-family: monospace;background-color: #f0f8ff;border: 1px dotted black;border-radius: 0.25em;box-sizing: border-box;margin-bottom: 0.5em;}#sk-container-id-3 div.sk-estimator:hover {background-color: #d4ebff;}#sk-container-id-3 div.sk-parallel-item::after {content: \"\";width: 100%;border-bottom: 1px solid gray;flex-grow: 1;}#sk-container-id-3 div.sk-label:hover label.sk-toggleable__label {background-color: #d4ebff;}#sk-container-id-3 div.sk-serial::before {content: \"\";position: absolute;border-left: 1px solid gray;box-sizing: border-box;top: 0;bottom: 0;left: 50%;z-index: 0;}#sk-container-id-3 div.sk-serial {display: flex;flex-direction: column;align-items: center;background-color: white;padding-right: 0.2em;padding-left: 0.2em;position: relative;}#sk-container-id-3 div.sk-item {position: relative;z-index: 1;}#sk-container-id-3 div.sk-parallel {display: flex;align-items: stretch;justify-content: center;background-color: white;position: relative;}#sk-container-id-3 div.sk-item::before, #sk-container-id-3 div.sk-parallel-item::before {content: \"\";position: absolute;border-left: 1px solid gray;box-sizing: border-box;top: 0;bottom: 0;left: 50%;z-index: -1;}#sk-container-id-3 div.sk-parallel-item {display: flex;flex-direction: column;z-index: 1;position: relative;background-color: white;}#sk-container-id-3 div.sk-parallel-item:first-child::after {align-self: flex-end;width: 50%;}#sk-container-id-3 div.sk-parallel-item:last-child::after {align-self: flex-start;width: 50%;}#sk-container-id-3 div.sk-parallel-item:only-child::after {width: 0;}#sk-container-id-3 div.sk-dashed-wrapped {border: 1px dashed gray;margin: 0 0.4em 0.5em 0.4em;box-sizing: border-box;padding-bottom: 0.4em;background-color: white;}#sk-container-id-3 div.sk-label label {font-family: monospace;font-weight: bold;display: inline-block;line-height: 1.2em;}#sk-container-id-3 div.sk-label-container {text-align: center;}#sk-container-id-3 div.sk-container {/* jupyter's `normalize.less` sets `[hidden] { display: none; }` but bootstrap.min.css set `[hidden] { display: none !important; }` so we also need the `!important` here to be able to override the default hidden behavior on the sphinx rendered scikit-learn.org. See: https://github.com/scikit-learn/scikit-learn/issues/21755 */display: inline-block !important;position: relative;}#sk-container-id-3 div.sk-text-repr-fallback {display: none;}</style><div id=\"sk-container-id-3\" class=\"sk-top-container\"><div class=\"sk-text-repr-fallback\"><pre>ColumnTransformer(remainder=&#x27;passthrough&#x27;,\n                  transformers=[(&#x27;poly&#x27;, PolynomialFeatures(include_bias=False),\n                                 [&#x27;weekday&#x27;, &#x27;summertime&#x27;, &#x27;temp&#x27;, &#x27;dew&#x27;,\n                                  &#x27;humidity&#x27;, &#x27;precip&#x27;, &#x27;windspeed&#x27;,\n                                  &#x27;cloudcover&#x27;, &#x27;daytime&#x27;, &#x27;rushhour&#x27;,\n                                  &#x27;weather_score&#x27;, &#x27;weather_score_daytime&#x27;]),\n                                (&#x27;cat&#x27;, OneHotEncoder(),\n                                 [&#x27;hour_of_day&#x27;, &#x27;day_of_week&#x27;, &#x27;month&#x27;])])</pre><b>In a Jupyter environment, please rerun this cell to show the HTML representation or trust the notebook. <br />On GitHub, the HTML representation is unable to render, please try loading this page with nbviewer.org.</b></div><div class=\"sk-container\" hidden><div class=\"sk-item sk-dashed-wrapped\"><div class=\"sk-label-container\"><div class=\"sk-label sk-toggleable\"><input class=\"sk-toggleable__control sk-hidden--visually\" id=\"sk-estimator-id-15\" type=\"checkbox\" ><label for=\"sk-estimator-id-15\" class=\"sk-toggleable__label sk-toggleable__label-arrow\">ColumnTransformer</label><div class=\"sk-toggleable__content\"><pre>ColumnTransformer(remainder=&#x27;passthrough&#x27;,\n                  transformers=[(&#x27;poly&#x27;, PolynomialFeatures(include_bias=False),\n                                 [&#x27;weekday&#x27;, &#x27;summertime&#x27;, &#x27;temp&#x27;, &#x27;dew&#x27;,\n                                  &#x27;humidity&#x27;, &#x27;precip&#x27;, &#x27;windspeed&#x27;,\n                                  &#x27;cloudcover&#x27;, &#x27;daytime&#x27;, &#x27;rushhour&#x27;,\n                                  &#x27;weather_score&#x27;, &#x27;weather_score_daytime&#x27;]),\n                                (&#x27;cat&#x27;, OneHotEncoder(),\n                                 [&#x27;hour_of_day&#x27;, &#x27;day_of_week&#x27;, &#x27;month&#x27;])])</pre></div></div></div><div class=\"sk-parallel\"><div class=\"sk-parallel-item\"><div class=\"sk-item\"><div class=\"sk-label-container\"><div class=\"sk-label sk-toggleable\"><input class=\"sk-toggleable__control sk-hidden--visually\" id=\"sk-estimator-id-16\" type=\"checkbox\" ><label for=\"sk-estimator-id-16\" class=\"sk-toggleable__label sk-toggleable__label-arrow\">poly</label><div class=\"sk-toggleable__content\"><pre>[&#x27;weekday&#x27;, &#x27;summertime&#x27;, &#x27;temp&#x27;, &#x27;dew&#x27;, &#x27;humidity&#x27;, &#x27;precip&#x27;, &#x27;windspeed&#x27;, &#x27;cloudcover&#x27;, &#x27;daytime&#x27;, &#x27;rushhour&#x27;, &#x27;weather_score&#x27;, &#x27;weather_score_daytime&#x27;]</pre></div></div></div><div class=\"sk-serial\"><div class=\"sk-item\"><div class=\"sk-estimator sk-toggleable\"><input class=\"sk-toggleable__control sk-hidden--visually\" id=\"sk-estimator-id-17\" type=\"checkbox\" ><label for=\"sk-estimator-id-17\" class=\"sk-toggleable__label sk-toggleable__label-arrow\">PolynomialFeatures</label><div class=\"sk-toggleable__content\"><pre>PolynomialFeatures(include_bias=False)</pre></div></div></div></div></div></div><div class=\"sk-parallel-item\"><div class=\"sk-item\"><div class=\"sk-label-container\"><div class=\"sk-label sk-toggleable\"><input class=\"sk-toggleable__control sk-hidden--visually\" id=\"sk-estimator-id-18\" type=\"checkbox\" ><label for=\"sk-estimator-id-18\" class=\"sk-toggleable__label sk-toggleable__label-arrow\">cat</label><div class=\"sk-toggleable__content\"><pre>[&#x27;hour_of_day&#x27;, &#x27;day_of_week&#x27;, &#x27;month&#x27;]</pre></div></div></div><div class=\"sk-serial\"><div class=\"sk-item\"><div class=\"sk-estimator sk-toggleable\"><input class=\"sk-toggleable__control sk-hidden--visually\" id=\"sk-estimator-id-19\" type=\"checkbox\" ><label for=\"sk-estimator-id-19\" class=\"sk-toggleable__label sk-toggleable__label-arrow\">OneHotEncoder</label><div class=\"sk-toggleable__content\"><pre>OneHotEncoder()</pre></div></div></div></div></div></div><div class=\"sk-parallel-item\"><div class=\"sk-item\"><div class=\"sk-label-container\"><div class=\"sk-label sk-toggleable\"><input class=\"sk-toggleable__control sk-hidden--visually\" id=\"sk-estimator-id-20\" type=\"checkbox\" ><label for=\"sk-estimator-id-20\" class=\"sk-toggleable__label sk-toggleable__label-arrow\">remainder</label><div class=\"sk-toggleable__content\"><pre>[]</pre></div></div></div><div class=\"sk-serial\"><div class=\"sk-item\"><div class=\"sk-estimator sk-toggleable\"><input class=\"sk-toggleable__control sk-hidden--visually\" id=\"sk-estimator-id-21\" type=\"checkbox\" ><label for=\"sk-estimator-id-21\" class=\"sk-toggleable__label sk-toggleable__label-arrow\">passthrough</label><div class=\"sk-toggleable__content\"><pre>passthrough</pre></div></div></div></div></div></div></div></div></div></div>"
     },
     "execution_count": 66,
     "metadata": {},
     "output_type": "execute_result"
    }
   ],
   "source": [
    "log_lasso_model[0]"
   ],
   "metadata": {
    "collapsed": false,
    "ExecuteTime": {
     "end_time": "2023-11-29T16:17:21.895082Z",
     "start_time": "2023-11-29T16:17:21.871710Z"
    }
   },
   "id": "49de9f4e43168ce5"
  },
  {
   "cell_type": "code",
   "execution_count": null,
   "outputs": [],
   "source": [],
   "metadata": {
    "collapsed": false
   },
   "id": "af0ddec48401a4eb"
  }
 ],
 "metadata": {
  "kernelspec": {
   "display_name": "Python 3",
   "language": "python",
   "name": "python3"
  },
  "language_info": {
   "codemirror_mode": {
    "name": "ipython",
    "version": 2
   },
   "file_extension": ".py",
   "mimetype": "text/x-python",
   "name": "python",
   "nbconvert_exporter": "python",
   "pygments_lexer": "ipython2",
   "version": "2.7.6"
  }
 },
 "nbformat": 4,
 "nbformat_minor": 5
}
