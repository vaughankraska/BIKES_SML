{
 "cells": [
  {
   "cell_type": "code",
   "execution_count": 2,
   "id": "initial_id",
   "metadata": {
    "collapsed": true,
    "ExecuteTime": {
     "end_time": "2023-12-07T15:19:53.380106Z",
     "start_time": "2023-12-07T15:19:53.250435Z"
    }
   },
   "outputs": [],
   "source": [
    "import matplotlib.pyplot as plt\n",
    "import pandas as pd\n",
    "import numpy as np\n",
    "from os import cpu_count\n",
    "from sklearn.ensemble import RandomForestClassifier\n",
    "from sklearn.experimental import enable_halving_search_cv\n",
    "from sklearn.model_selection import train_test_split, KFold, GridSearchCV, HalvingGridSearchCV\n",
    "from src.utils import load_data, initialize_model_pipeline, cross_validate_model\n",
    "from sklearn.metrics import accuracy_score, classification_report\n",
    "from os import cpu_count"
   ]
  },
  {
   "cell_type": "code",
   "execution_count": 3,
   "outputs": [
    {
     "data": {
      "text/plain": "(1600, 43)"
     },
     "execution_count": 3,
     "metadata": {},
     "output_type": "execute_result"
    }
   ],
   "source": [
    "data = pd.read_csv('../data/thea.csv')\n",
    "X = data.drop('increase_stock', axis=1)\n",
    "Y = data['increase_stock']\n",
    "data.shape"
   ],
   "metadata": {
    "collapsed": false,
    "ExecuteTime": {
     "end_time": "2023-12-07T15:19:54.161733Z",
     "start_time": "2023-12-07T15:19:54.150244Z"
    }
   },
   "id": "aeae8dce4a699c4c"
  },
  {
   "cell_type": "code",
   "execution_count": 4,
   "outputs": [
    {
     "name": "stdout",
     "output_type": "stream",
     "text": [
      "1/100\n",
      "2/100\n",
      "3/100\n",
      "4/100\n",
      "5/100\n",
      "6/100\n",
      "7/100\n",
      "8/100\n",
      "9/100\n",
      "10/100\n",
      "11/100\n",
      "12/100\n",
      "13/100\n",
      "14/100\n",
      "15/100\n",
      "16/100\n",
      "17/100\n",
      "18/100\n",
      "19/100\n",
      "20/100\n",
      "21/100\n",
      "22/100\n",
      "23/100\n",
      "24/100\n",
      "25/100\n",
      "26/100\n",
      "27/100\n",
      "28/100\n",
      "29/100\n",
      "30/100\n",
      "31/100\n",
      "32/100\n",
      "33/100\n",
      "34/100\n",
      "35/100\n",
      "36/100\n",
      "37/100\n",
      "38/100\n",
      "39/100\n",
      "40/100\n",
      "41/100\n",
      "42/100\n",
      "43/100\n",
      "44/100\n",
      "45/100\n",
      "46/100\n",
      "47/100\n",
      "48/100\n",
      "49/100\n",
      "50/100\n",
      "51/100\n",
      "52/100\n",
      "53/100\n",
      "54/100\n",
      "55/100\n",
      "56/100\n",
      "57/100\n",
      "58/100\n",
      "59/100\n",
      "60/100\n",
      "61/100\n",
      "62/100\n",
      "63/100\n",
      "64/100\n",
      "65/100\n",
      "66/100\n",
      "67/100\n",
      "68/100\n",
      "69/100\n",
      "70/100\n",
      "71/100\n",
      "72/100\n",
      "73/100\n",
      "74/100\n",
      "75/100\n",
      "76/100\n",
      "77/100\n",
      "78/100\n",
      "79/100\n",
      "80/100\n",
      "81/100\n",
      "82/100\n",
      "83/100\n",
      "84/100\n",
      "85/100\n",
      "86/100\n",
      "87/100\n",
      "88/100\n",
      "89/100\n",
      "90/100\n",
      "91/100\n",
      "92/100\n",
      "93/100\n",
      "94/100\n",
      "95/100\n",
      "96/100\n",
      "97/100\n",
      "98/100\n",
      "99/100\n",
      "100/100\n"
     ]
    }
   ],
   "source": [
    "bs_results = []\n",
    "param_grid = {\n",
    "    'max_depth': [7],\n",
    "    'min_samples_split': [3, 5, 8],\n",
    "    'criterion': ['gini', 'entropy']\n",
    "}\n",
    "for i in range(100):\n",
    "    print(f'{i+1}/100')\n",
    "    result = {}\n",
    "    x_train, x_test, y_train, y_test = train_test_split(X, Y, \n",
    "                                                        test_size=1/16,\n",
    "                                                        random_state=i+1)\n",
    "\n",
    "    kf = KFold(n_splits=150, shuffle=False)\n",
    "    model = RandomForestClassifier(n_estimators=200)\n",
    "    search = HalvingGridSearchCV(model, param_grid=param_grid, cv=kf,\n",
    "                                 scoring='accuracy', n_jobs=cpu_count())\n",
    "    search.fit(x_train, y_train)\n",
    "    result['accuracy'] = accuracy_score(y_test, search.best_estimator_.predict(x_test))\n",
    "    result['optimistic_accuracy'] = search.best_score_\n",
    "    result['class_report'] = classification_report(y_test, search.best_estimator_.predict(x_test))\n",
    "    result['best_params'] = search.best_params_\n",
    "    result['model'] = search.best_estimator_\n",
    "    bs_results.append(result)"
   ],
   "metadata": {
    "collapsed": false,
    "ExecuteTime": {
     "end_time": "2023-12-07T15:57:01.365973Z",
     "start_time": "2023-12-07T15:19:59.478113Z"
    }
   },
   "id": "9a001c3760340e23"
  },
  {
   "cell_type": "code",
   "execution_count": 5,
   "outputs": [
    {
     "data": {
      "text/plain": "    accuracy  optimistic_accuracy  \\\n0       0.92             0.863333   \n1       0.82             0.898333   \n2       0.91             0.873333   \n3       0.89             0.871667   \n4       0.87             0.901667   \n..       ...                  ...   \n95      0.84             0.873333   \n96      0.88             0.863333   \n97      0.86             0.883333   \n98      0.91             0.861667   \n99      0.87             0.893333   \n\n                                         class_report  \\\n0                 precision    recall  f1-score   ...   \n1                 precision    recall  f1-score   ...   \n2                 precision    recall  f1-score   ...   \n3                 precision    recall  f1-score   ...   \n4                 precision    recall  f1-score   ...   \n..                                                ...   \n95                precision    recall  f1-score   ...   \n96                precision    recall  f1-score   ...   \n97                precision    recall  f1-score   ...   \n98                precision    recall  f1-score   ...   \n99                precision    recall  f1-score   ...   \n\n                                          best_params  \\\n0   {'criterion': 'gini', 'max_depth': 7, 'min_sam...   \n1   {'criterion': 'entropy', 'max_depth': 7, 'min_...   \n2   {'criterion': 'gini', 'max_depth': 7, 'min_sam...   \n3   {'criterion': 'gini', 'max_depth': 7, 'min_sam...   \n4   {'criterion': 'gini', 'max_depth': 7, 'min_sam...   \n..                                                ...   \n95  {'criterion': 'entropy', 'max_depth': 7, 'min_...   \n96  {'criterion': 'gini', 'max_depth': 7, 'min_sam...   \n97  {'criterion': 'gini', 'max_depth': 7, 'min_sam...   \n98  {'criterion': 'gini', 'max_depth': 7, 'min_sam...   \n99  {'criterion': 'gini', 'max_depth': 7, 'min_sam...   \n\n                                                model  \n0   (DecisionTreeClassifier(max_depth=7, max_featu...  \n1   (DecisionTreeClassifier(criterion='entropy', m...  \n2   (DecisionTreeClassifier(max_depth=7, max_featu...  \n3   (DecisionTreeClassifier(max_depth=7, max_featu...  \n4   (DecisionTreeClassifier(max_depth=7, max_featu...  \n..                                                ...  \n95  (DecisionTreeClassifier(criterion='entropy', m...  \n96  (DecisionTreeClassifier(max_depth=7, max_featu...  \n97  (DecisionTreeClassifier(max_depth=7, max_featu...  \n98  (DecisionTreeClassifier(max_depth=7, max_featu...  \n99  (DecisionTreeClassifier(max_depth=7, max_featu...  \n\n[100 rows x 5 columns]",
      "text/html": "<div>\n<style scoped>\n    .dataframe tbody tr th:only-of-type {\n        vertical-align: middle;\n    }\n\n    .dataframe tbody tr th {\n        vertical-align: top;\n    }\n\n    .dataframe thead th {\n        text-align: right;\n    }\n</style>\n<table border=\"1\" class=\"dataframe\">\n  <thead>\n    <tr style=\"text-align: right;\">\n      <th></th>\n      <th>accuracy</th>\n      <th>optimistic_accuracy</th>\n      <th>class_report</th>\n      <th>best_params</th>\n      <th>model</th>\n    </tr>\n  </thead>\n  <tbody>\n    <tr>\n      <th>0</th>\n      <td>0.92</td>\n      <td>0.863333</td>\n      <td>precision    recall  f1-score   ...</td>\n      <td>{'criterion': 'gini', 'max_depth': 7, 'min_sam...</td>\n      <td>(DecisionTreeClassifier(max_depth=7, max_featu...</td>\n    </tr>\n    <tr>\n      <th>1</th>\n      <td>0.82</td>\n      <td>0.898333</td>\n      <td>precision    recall  f1-score   ...</td>\n      <td>{'criterion': 'entropy', 'max_depth': 7, 'min_...</td>\n      <td>(DecisionTreeClassifier(criterion='entropy', m...</td>\n    </tr>\n    <tr>\n      <th>2</th>\n      <td>0.91</td>\n      <td>0.873333</td>\n      <td>precision    recall  f1-score   ...</td>\n      <td>{'criterion': 'gini', 'max_depth': 7, 'min_sam...</td>\n      <td>(DecisionTreeClassifier(max_depth=7, max_featu...</td>\n    </tr>\n    <tr>\n      <th>3</th>\n      <td>0.89</td>\n      <td>0.871667</td>\n      <td>precision    recall  f1-score   ...</td>\n      <td>{'criterion': 'gini', 'max_depth': 7, 'min_sam...</td>\n      <td>(DecisionTreeClassifier(max_depth=7, max_featu...</td>\n    </tr>\n    <tr>\n      <th>4</th>\n      <td>0.87</td>\n      <td>0.901667</td>\n      <td>precision    recall  f1-score   ...</td>\n      <td>{'criterion': 'gini', 'max_depth': 7, 'min_sam...</td>\n      <td>(DecisionTreeClassifier(max_depth=7, max_featu...</td>\n    </tr>\n    <tr>\n      <th>...</th>\n      <td>...</td>\n      <td>...</td>\n      <td>...</td>\n      <td>...</td>\n      <td>...</td>\n    </tr>\n    <tr>\n      <th>95</th>\n      <td>0.84</td>\n      <td>0.873333</td>\n      <td>precision    recall  f1-score   ...</td>\n      <td>{'criterion': 'entropy', 'max_depth': 7, 'min_...</td>\n      <td>(DecisionTreeClassifier(criterion='entropy', m...</td>\n    </tr>\n    <tr>\n      <th>96</th>\n      <td>0.88</td>\n      <td>0.863333</td>\n      <td>precision    recall  f1-score   ...</td>\n      <td>{'criterion': 'gini', 'max_depth': 7, 'min_sam...</td>\n      <td>(DecisionTreeClassifier(max_depth=7, max_featu...</td>\n    </tr>\n    <tr>\n      <th>97</th>\n      <td>0.86</td>\n      <td>0.883333</td>\n      <td>precision    recall  f1-score   ...</td>\n      <td>{'criterion': 'gini', 'max_depth': 7, 'min_sam...</td>\n      <td>(DecisionTreeClassifier(max_depth=7, max_featu...</td>\n    </tr>\n    <tr>\n      <th>98</th>\n      <td>0.91</td>\n      <td>0.861667</td>\n      <td>precision    recall  f1-score   ...</td>\n      <td>{'criterion': 'gini', 'max_depth': 7, 'min_sam...</td>\n      <td>(DecisionTreeClassifier(max_depth=7, max_featu...</td>\n    </tr>\n    <tr>\n      <th>99</th>\n      <td>0.87</td>\n      <td>0.893333</td>\n      <td>precision    recall  f1-score   ...</td>\n      <td>{'criterion': 'gini', 'max_depth': 7, 'min_sam...</td>\n      <td>(DecisionTreeClassifier(max_depth=7, max_featu...</td>\n    </tr>\n  </tbody>\n</table>\n<p>100 rows × 5 columns</p>\n</div>"
     },
     "execution_count": 5,
     "metadata": {},
     "output_type": "execute_result"
    }
   ],
   "source": [
    "results_df = pd.DataFrame(bs_results)\n",
    "# results_df.to_pickle('../data/forest_optimal_results.pkl')\n",
    "results_df"
   ],
   "metadata": {
    "collapsed": false,
    "ExecuteTime": {
     "end_time": "2023-12-07T16:03:39.979474Z",
     "start_time": "2023-12-07T16:03:39.197282Z"
    }
   },
   "id": "25fe106481a9fef9"
  },
  {
   "cell_type": "code",
   "execution_count": 6,
   "outputs": [
    {
     "data": {
      "text/plain": "         accuracy  optimistic_accuracy\ncount  100.000000           100.000000\nmean     0.873900             0.874800\nstd      0.031298             0.011066\nmin      0.780000             0.845000\n25%      0.850000             0.868333\n50%      0.880000             0.875000\n75%      0.892500             0.881667\nmax      0.940000             0.901667",
      "text/html": "<div>\n<style scoped>\n    .dataframe tbody tr th:only-of-type {\n        vertical-align: middle;\n    }\n\n    .dataframe tbody tr th {\n        vertical-align: top;\n    }\n\n    .dataframe thead th {\n        text-align: right;\n    }\n</style>\n<table border=\"1\" class=\"dataframe\">\n  <thead>\n    <tr style=\"text-align: right;\">\n      <th></th>\n      <th>accuracy</th>\n      <th>optimistic_accuracy</th>\n    </tr>\n  </thead>\n  <tbody>\n    <tr>\n      <th>count</th>\n      <td>100.000000</td>\n      <td>100.000000</td>\n    </tr>\n    <tr>\n      <th>mean</th>\n      <td>0.873900</td>\n      <td>0.874800</td>\n    </tr>\n    <tr>\n      <th>std</th>\n      <td>0.031298</td>\n      <td>0.011066</td>\n    </tr>\n    <tr>\n      <th>min</th>\n      <td>0.780000</td>\n      <td>0.845000</td>\n    </tr>\n    <tr>\n      <th>25%</th>\n      <td>0.850000</td>\n      <td>0.868333</td>\n    </tr>\n    <tr>\n      <th>50%</th>\n      <td>0.880000</td>\n      <td>0.875000</td>\n    </tr>\n    <tr>\n      <th>75%</th>\n      <td>0.892500</td>\n      <td>0.881667</td>\n    </tr>\n    <tr>\n      <th>max</th>\n      <td>0.940000</td>\n      <td>0.901667</td>\n    </tr>\n  </tbody>\n</table>\n</div>"
     },
     "execution_count": 6,
     "metadata": {},
     "output_type": "execute_result"
    }
   ],
   "source": [
    "results_df.describe()"
   ],
   "metadata": {
    "collapsed": false,
    "ExecuteTime": {
     "end_time": "2023-12-07T16:04:03.136513Z",
     "start_time": "2023-12-07T16:04:03.129566Z"
    }
   },
   "id": "fd2f44db26f1a13"
  },
  {
   "cell_type": "code",
   "execution_count": 7,
   "outputs": [
    {
     "name": "stdout",
     "output_type": "stream",
     "text": [
      "mew out of sample accuracy - mew optimistic accuracy = -0.0008999999999999975\n"
     ]
    },
    {
     "data": {
      "text/plain": "accuracy               0.8739\noptimistic_accuracy    0.8748\ndtype: float64"
     },
     "execution_count": 7,
     "metadata": {},
     "output_type": "execute_result"
    }
   ],
   "source": [
    "print(f'mew out of sample accuracy - mew optimistic accuracy = {np.mean(results_df[\"accuracy\"] - results_df[\"optimistic_accuracy\"])}')\n",
    "results_df[['accuracy','optimistic_accuracy']].mean()"
   ],
   "metadata": {
    "collapsed": false,
    "ExecuteTime": {
     "end_time": "2023-12-07T16:04:46.857981Z",
     "start_time": "2023-12-07T16:04:46.838667Z"
    }
   },
   "id": "6d09ff3707c1287c"
  },
  {
   "cell_type": "code",
   "execution_count": 8,
   "outputs": [
    {
     "name": "stdout",
     "output_type": "stream",
     "text": [
      "~95% CI on out of sample accuracy [0.82, 0.93]\n"
     ]
    }
   ],
   "source": [
    "# noinspection PyArgumentList\n",
    "quantile_5 = np.percentile(results_df['accuracy'], 5, interpolation=\"linear\")\n",
    "# noinspection PyArgumentList\n",
    "quantile_95 = np.percentile(results_df['accuracy'], 95, interpolation=\"linear\")\n",
    "print(f'~95% CI on out of sample accuracy [{quantile_5}, {quantile_95}]')"
   ],
   "metadata": {
    "collapsed": false,
    "ExecuteTime": {
     "end_time": "2023-12-07T16:04:52.397657Z",
     "start_time": "2023-12-07T16:04:52.390509Z"
    }
   },
   "id": "500575fcd5cb94e0"
  },
  {
   "cell_type": "code",
   "execution_count": 9,
   "outputs": [
    {
     "data": {
      "text/plain": "Text(0.5, 1.0, 'Density: Out of Sample Accuracy vs. Optimistic Accuracy')"
     },
     "execution_count": 9,
     "metadata": {},
     "output_type": "execute_result"
    },
    {
     "data": {
      "text/plain": "<Figure size 640x480 with 1 Axes>",
      "image/png": "[encoded data removed]"
     },
     "metadata": {},
     "output_type": "display_data"
    }
   ],
   "source": [
    "from seaborn import histplot\n",
    "import matplotlib.pyplot as plt\n",
    "\n",
    "histplot(data=results_df[['accuracy', 'optimistic_accuracy']], kde=True, palette='viridis')\n",
    "plt.title('Density: Out of Sample Accuracy vs. Optimistic Accuracy')"
   ],
   "metadata": {
    "collapsed": false,
    "ExecuteTime": {
     "end_time": "2023-12-07T16:05:05.584322Z",
     "start_time": "2023-12-07T16:05:05.264344Z"
    }
   },
   "id": "66d475ec8eaba717"
  },
  {
   "cell_type": "code",
   "execution_count": 15,
   "outputs": [
    {
     "data": {
      "text/plain": "criterion\ngini       68\nentropy    32\nName: count, dtype: int64"
     },
     "execution_count": 15,
     "metadata": {},
     "output_type": "execute_result"
    }
   ],
   "source": [
    "hyper_params_df = pd.DataFrame(results_df['best_params'].tolist())\n",
    "hyper_params_df.value_counts('criterion')"
   ],
   "metadata": {
    "collapsed": false,
    "ExecuteTime": {
     "end_time": "2023-12-07T16:08:02.454876Z",
     "start_time": "2023-12-07T16:08:02.441285Z"
    }
   },
   "id": "62aeb97ecb3eff7a"
  },
  {
   "cell_type": "code",
   "execution_count": null,
   "outputs": [],
   "source": [
    "# Score: 0.875\n",
    "# {'criterion': 'gini', 'max_depth': 10, 'min_samples_split': 5}\n",
    "\n",
    "# Score: 0.8796875\n",
    "# {'criterion': 'entropy', 'max_depth': 10, 'min_samples_split': 2}\n",
    "\n",
    "# Score: 0.8859375\n",
    "# {'criterion': 'entropy', 'max_depth': 200, 'min_samples_split': 3}\n",
    "\n",
    "# Score: 0.884375\n",
    "# {'criterion': 'entropy', 'max_depth': 7, 'min_samples_split': 5}"
   ],
   "metadata": {
    "collapsed": false
   },
   "id": "d035ba45d24dc926"
  }
 ],
 "metadata": {
  "kernelspec": {
   "display_name": "Python 3",
   "language": "python",
   "name": "python3"
  },
  "language_info": {
   "codemirror_mode": {
    "name": "ipython",
    "version": 2
   },
   "file_extension": ".py",
   "mimetype": "text/x-python",
   "name": "python",
   "nbconvert_exporter": "python",
   "pygments_lexer": "ipython2",
   "version": "2.7.6"
  }
 },
 "nbformat": 4,
 "nbformat_minor": 5
}
