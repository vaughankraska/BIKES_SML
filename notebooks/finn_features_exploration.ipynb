{
 "cells": [
  {
   "cell_type": "code",
   "execution_count": 181,
   "outputs": [],
   "source": [
    "import pandas as pd\n",
    "import numpy as np\n",
    "import matplotlib.pyplot as plt\n",
    "import seaborn as sns"
   ],
   "metadata": {
    "collapsed": false,
    "ExecuteTime": {
     "end_time": "2023-11-27T15:11:51.255476Z",
     "start_time": "2023-11-27T15:11:51.250739Z"
    }
   },
   "id": "b4e862f7000ccb58"
  },
  {
   "cell_type": "code",
   "execution_count": 182,
   "outputs": [
    {
     "name": "stdout",
     "output_type": "stream",
     "text": [
      "<class 'pandas.core.frame.DataFrame'>\n",
      "RangeIndex: 1600 entries, 0 to 1599\n",
      "Data columns (total 18 columns):\n",
      " #   Column          Non-Null Count  Dtype   \n",
      "---  ------          --------------  -----   \n",
      " 0   hour_of_day     1600 non-null   int64   \n",
      " 1   day_of_week     1600 non-null   category\n",
      " 2   month           1600 non-null   category\n",
      " 3   holiday         1600 non-null   category\n",
      " 4   weekday         1600 non-null   category\n",
      " 5   summertime      1600 non-null   int64   \n",
      " 6   temp            1600 non-null   float64 \n",
      " 7   dew             1600 non-null   float64 \n",
      " 8   humidity        1600 non-null   float64 \n",
      " 9   precip          1600 non-null   float64 \n",
      " 10  snowdepth       1600 non-null   float64 \n",
      " 11  windspeed       1600 non-null   float64 \n",
      " 12  cloudcover      1600 non-null   float64 \n",
      " 13  visibility      1600 non-null   float64 \n",
      " 14  increase_stock  1600 non-null   category\n",
      " 15  is_high_demand  1600 non-null   int64   \n",
      " 16  daytime         1600 non-null   int64   \n",
      " 17  rushhour        1600 non-null   int64   \n",
      "dtypes: category(5), float64(8), int64(5)\n",
      "memory usage: 171.5 KB\n"
     ]
    }
   ],
   "source": [
    "data = pd.read_csv('../data/training_data.csv')\n",
    "data['month'] = data['month'].astype('category')\n",
    "data['day_of_week'] = data['day_of_week'].astype('category')\n",
    "# data[\"hour_of_day\"] = data[\"hour_of_day\"].astype('category')\n",
    "data[\"holiday\"] = data[\"holiday\"].astype('category')\n",
    "data[\"weekday\"] = data[\"weekday\"].astype('category')\n",
    "data[\"summertime\"] = data[\"summertime\"].astype('category')\n",
    "data['increase_stock'] = data['increase_stock'].astype('category')\n",
    "data['is_high_demand'] = data['increase_stock'].apply(lambda entity: 1 if entity == 'high_bike_demand' else 0)\n",
    "data['is_high_demand'] = data['is_high_demand'].astype('int')\n",
    "\n",
    "data[\"daytime\"] = data.hour_of_day.apply(lambda h: 1 if h in range(7, 20) else 0)\n",
    "data[\"rushhour\"] = data.hour_of_day.apply(lambda h: 1 if h in range(15, 20) else 0)\n",
    "\n",
    "data = data.drop('snow', axis=1) #no information in this column\n",
    "data.info()"
   ],
   "metadata": {
    "collapsed": false,
    "ExecuteTime": {
     "end_time": "2023-11-27T15:11:51.674791Z",
     "start_time": "2023-11-27T15:11:51.665685Z"
    }
   },
   "id": "c470c8c9659cd627"
  },
  {
   "cell_type": "code",
   "execution_count": 183,
   "outputs": [
    {
     "name": "stdout",
     "output_type": "stream",
     "text": [
      "<class 'pandas.core.frame.DataFrame'>\n",
      "RangeIndex: 1600 entries, 0 to 1599\n",
      "Data columns (total 9 columns):\n",
      " #   Column      Non-Null Count  Dtype  \n",
      "---  ------      --------------  -----  \n",
      " 0   summertime  1600 non-null   int64  \n",
      " 1   temp        1600 non-null   float64\n",
      " 2   dew         1600 non-null   float64\n",
      " 3   humidity    1600 non-null   float64\n",
      " 4   precip      1600 non-null   float64\n",
      " 5   snowdepth   1600 non-null   float64\n",
      " 6   windspeed   1600 non-null   float64\n",
      " 7   cloudcover  1600 non-null   float64\n",
      " 8   visibility  1600 non-null   float64\n",
      "dtypes: float64(8), int64(1)\n",
      "memory usage: 112.6 KB\n",
      "None\n"
     ]
    }
   ],
   "source": [
    "from sklearn.linear_model import LinearRegression\n",
    "from sklearn.model_selection import train_test_split\n",
    "from sklearn.preprocessing import MinMaxScaler\n",
    "\n",
    "scaler = MinMaxScaler()\n",
    "y = data['is_high_demand']\n",
    "data_weather = data.drop(\n",
    "    columns=['is_high_demand', 'increase_stock', 'hour_of_day', 'day_of_week', 'month', 'holiday', 'weekday','daytime','rushhour'])\n",
    "X = scaler.fit_transform(data_weather)\n",
    "X_train, X_test, y_train, y_test = train_test_split(X, y, test_size=.1, random_state=123)\n",
    "\n",
    "weather_model = LinearRegression()\n",
    "weather_model.fit(X_train, y_train)\n",
    "print(pd.DataFrame(X).describe())"
   ],
   "metadata": {
    "collapsed": false,
    "ExecuteTime": {
     "end_time": "2023-11-27T15:11:52.446217Z",
     "start_time": "2023-11-27T15:11:52.435404Z"
    }
   },
   "id": "217254e40db2867f"
  },
  {
   "cell_type": "code",
   "execution_count": 184,
   "outputs": [
    {
     "name": "stdout",
     "output_type": "stream",
     "text": [
      "ceofs\n",
      "-0.8138192466580598\n",
      "[-5.56042822e-04  6.31851025e-02 -5.21309866e-02  6.49687899e-03\n",
      " -1.10383706e-02  6.86816015e-03 -5.95565495e-05  7.78956846e-04\n",
      " -1.72291318e-03]\n",
      "-0.0017229131847425094\n"
     ]
    }
   ],
   "source": [
    "print(f'ceofs')\n",
    "print(weather_model.intercept_)\n",
    "print(weather_model.coef_)"
   ],
   "metadata": {
    "collapsed": false,
    "ExecuteTime": {
     "end_time": "2023-11-27T15:11:52.953138Z",
     "start_time": "2023-11-27T15:11:52.948811Z"
    }
   },
   "id": "6cfdee3880fb7080"
  },
  {
   "cell_type": "code",
   "execution_count": 185,
   "outputs": [
    {
     "name": "stdout",
     "output_type": "stream",
     "text": [
      "-0.1355069622538172\n"
     ]
    }
   ],
   "source": [
    "predictions = weather_model.predict(X_test)\n",
    "pd.DataFrame(predictions).describe()"
   ],
   "metadata": {
    "collapsed": false,
    "ExecuteTime": {
     "end_time": "2023-11-27T15:11:53.474505Z",
     "start_time": "2023-11-27T15:11:53.470896Z"
    }
   },
   "id": "527b3f09688c7045"
  },
  {
   "cell_type": "code",
   "execution_count": 190,
   "outputs": [
    {
     "data": {
      "text/plain": "array([-0.13550696,  0.440059  ,  0.12344861,  0.21471269])"
     },
     "execution_count": 190,
     "metadata": {},
     "output_type": "execute_result"
    }
   ],
   "source": [
    "errors = y_test - predictions\n",
    "sns.histplot(errors)"
   ],
   "metadata": {
    "collapsed": false,
    "ExecuteTime": {
     "end_time": "2023-11-27T15:12:41.543032Z",
     "start_time": "2023-11-27T15:12:41.539554Z"
    }
   },
   "id": "de058edde742a165"
  },
  {
   "cell_type": "code",
   "execution_count": null,
   "outputs": [],
   "source": [
    "data['weather_score'] = weather_model.predict(X)\n",
    "data.describe()"
   ],
   "metadata": {
    "collapsed": false,
    "ExecuteTime": {
     "start_time": "2023-11-27T15:11:46.861560Z"
    }
   },
   "id": "b7f20cdf71ba56ac"
  },
  {
   "cell_type": "code",
   "execution_count": null,
   "outputs": [],
   "source": [
    "\n",
    "data_subset = data[['is_high_demand','temp','weather_score','hour_of_day','rushhour','daytime']]\n",
    "covariates = data_subset.columns[data_subset.columns != 'is_high_demand']\n",
    "plt.figure(figsize=(10, 10), dpi=500)\n",
    "sns.set(style=\"ticks\")\n",
    "pp = sns.pairplot(data_subset,\n",
    "                  vars=covariates,\n",
    "                  hue='is_high_demand',\n",
    "                  markers=[\"o\", \"s\"],\n",
    "                  plot_kws={\"s\":8},\n",
    "                  palette=\"viridis\")\n",
    "pp.map_lower(sns.kdeplot, fill=True)\n",
    "pp.map_diag(sns.histplot, kde=True)"
   ],
   "metadata": {
    "collapsed": false,
    "ExecuteTime": {
     "start_time": "2023-11-27T15:11:46.862316Z"
    }
   },
   "id": "14995eab6bcd6685"
  },
  {
   "cell_type": "code",
   "execution_count": null,
   "outputs": [],
   "source": [
    "corr_matrix = data_subset.corr()\n",
    "cmap = sns.color_palette('viridis', as_cmap=True)\n",
    "mask = np.triu(np.ones_like(corr_matrix, dtype=bool))\n",
    "# Draw the heatmap with the mask and aspect ratio\n",
    "sns.heatmap(corr_matrix, \n",
    "            mask=mask, \n",
    "            cmap=cmap, \n",
    "            vmax=.3,\n",
    "            center=0,\n",
    "            square=True, \n",
    "            linewidths=.5, \n",
    "            cbar_kws={\"shrink\": .5}, annot=True)"
   ],
   "metadata": {
    "collapsed": false,
    "ExecuteTime": {
     "start_time": "2023-11-27T15:11:46.863141Z"
    }
   },
   "id": "5c93c422682256ab"
  },
  {
   "cell_type": "code",
   "execution_count": null,
   "outputs": [],
   "source": [
    "sns.violinplot(data=data_subset,x='daytime',y='temp', hue='is_high_demand', palette='viridis', linewidth=.8)"
   ],
   "metadata": {
    "collapsed": false,
    "ExecuteTime": {
     "start_time": "2023-11-27T15:11:46.864142Z"
    }
   },
   "id": "53953e7bd6bf82e3"
  },
  {
   "cell_type": "code",
   "execution_count": null,
   "outputs": [],
   "source": [],
   "metadata": {
    "collapsed": false,
    "ExecuteTime": {
     "start_time": "2023-11-27T15:11:46.864753Z"
    }
   },
   "id": "1f38d4cf36ced69f"
  }
 ],
 "metadata": {
  "kernelspec": {
   "display_name": "Python 3",
   "language": "python",
   "name": "python3"
  },
  "language_info": {
   "codemirror_mode": {
    "name": "ipython",
    "version": 2
   },
   "file_extension": ".py",
   "mimetype": "text/x-python",
   "name": "python",
   "nbconvert_exporter": "python",
   "pygments_lexer": "ipython2",
   "version": "2.7.6"
  }
 },
 "nbformat": 4,
 "nbformat_minor": 5
}
