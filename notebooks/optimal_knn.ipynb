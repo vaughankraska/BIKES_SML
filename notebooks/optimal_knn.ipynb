{
 "cells": [
  {
   "cell_type": "code",
   "execution_count": 12,
   "id": "initial_id",
   "metadata": {
    "collapsed": true,
    "ExecuteTime": {
     "end_time": "2023-12-06T13:09:21.679465Z",
     "start_time": "2023-12-06T13:09:21.654602Z"
    }
   },
   "outputs": [],
   "source": [
    "from sklearn.neighbors import KNeighborsClassifier\n",
    "from sklearn.metrics import classification_report\n",
    "from sklearn.model_selection import GridSearchCV, train_test_split\n",
    "import pandas as pd"
   ]
  },
  {
   "cell_type": "code",
   "execution_count": 13,
   "outputs": [
    {
     "data": {
      "text/plain": "      Unnamed: 0  cat__hour_of_day_0  cat__hour_of_day_1  cat__hour_of_day_2  \\\n0              0                 0.0                 0.0                 0.0   \n1              1                 0.0                 0.0                 0.0   \n2              2                 0.0                 0.0                 0.0   \n3              3                 0.0                 1.0                 0.0   \n4              4                 0.0                 0.0                 0.0   \n...          ...                 ...                 ...                 ...   \n1595        1595                 0.0                 0.0                 0.0   \n1596        1596                 0.0                 0.0                 0.0   \n1597        1597                 0.0                 0.0                 0.0   \n1598        1598                 0.0                 0.0                 0.0   \n1599        1599                 0.0                 0.0                 0.0   \n\n      cat__hour_of_day_3  cat__hour_of_day_4  cat__hour_of_day_5  \\\n0                    0.0                 0.0                 1.0   \n1                    0.0                 0.0                 0.0   \n2                    0.0                 0.0                 0.0   \n3                    0.0                 0.0                 0.0   \n4                    0.0                 0.0                 0.0   \n...                  ...                 ...                 ...   \n1595                 1.0                 0.0                 0.0   \n1596                 0.0                 0.0                 0.0   \n1597                 0.0                 0.0                 0.0   \n1598                 0.0                 0.0                 0.0   \n1599                 0.0                 0.0                 0.0   \n\n      cat__hour_of_day_6  cat__hour_of_day_7  cat__hour_of_day_8  ...  \\\n0                    0.0                 0.0                 0.0  ...   \n1                    0.0                 0.0                 0.0  ...   \n2                    0.0                 0.0                 0.0  ...   \n3                    0.0                 0.0                 0.0  ...   \n4                    0.0                 0.0                 0.0  ...   \n...                  ...                 ...                 ...  ...   \n1595                 0.0                 0.0                 0.0  ...   \n1596                 0.0                 0.0                 0.0  ...   \n1597                 0.0                 0.0                 0.0  ...   \n1598                 0.0                 0.0                 0.0  ...   \n1599                 0.0                 0.0                 0.0  ...   \n\n      cat__month_9  cat__month_10  cat__month_11  cat__month_12  gen__daytime  \\\n0              0.0            0.0            0.0            0.0           0.0   \n1              0.0            0.0            0.0            0.0           0.0   \n2              0.0            0.0            0.0            0.0           0.0   \n3              0.0            0.0            0.0            0.0           0.0   \n4              0.0            0.0            0.0            0.0           1.0   \n...            ...            ...            ...            ...           ...   \n1595           0.0            0.0            0.0            0.0           0.0   \n1596           0.0            0.0            0.0            0.0           1.0   \n1597           0.0            0.0            0.0            0.0           1.0   \n1598           0.0            0.0            0.0            0.0           1.0   \n1599           0.0            0.0            0.0            0.0           0.0   \n\n      gen__rushhour  bin__weekday  bin__summertime  weather__score  \\\n0               0.0           0.0              0.0       -1.746710   \n1               0.0           1.0              0.0       -0.568242   \n2               0.0           1.0              1.0        0.440865   \n3               0.0           0.0              0.0       -1.247860   \n4               1.0           1.0              0.0        2.538199   \n...             ...           ...              ...             ...   \n1595            0.0           0.0              1.0       -0.470816   \n1596            0.0           1.0              1.0       -0.065147   \n1597            0.0           1.0              1.0        1.407239   \n1598            0.0           0.0              1.0        1.976536   \n1599            0.0           0.0              0.0       -1.277899   \n\n      increase_stock  \n0                  0  \n1                  0  \n2                  0  \n3                  0  \n4                  0  \n...              ...  \n1595               0  \n1596               0  \n1597               0  \n1598               1  \n1599               0  \n\n[1600 rows x 43 columns]",
      "text/html": "<div>\n<style scoped>\n    .dataframe tbody tr th:only-of-type {\n        vertical-align: middle;\n    }\n\n    .dataframe tbody tr th {\n        vertical-align: top;\n    }\n\n    .dataframe thead th {\n        text-align: right;\n    }\n</style>\n<table border=\"1\" class=\"dataframe\">\n  <thead>\n    <tr style=\"text-align: right;\">\n      <th></th>\n      <th>Unnamed: 0</th>\n      <th>cat__hour_of_day_0</th>\n      <th>cat__hour_of_day_1</th>\n      <th>cat__hour_of_day_2</th>\n      <th>cat__hour_of_day_3</th>\n      <th>cat__hour_of_day_4</th>\n      <th>cat__hour_of_day_5</th>\n      <th>cat__hour_of_day_6</th>\n      <th>cat__hour_of_day_7</th>\n      <th>cat__hour_of_day_8</th>\n      <th>...</th>\n      <th>cat__month_9</th>\n      <th>cat__month_10</th>\n      <th>cat__month_11</th>\n      <th>cat__month_12</th>\n      <th>gen__daytime</th>\n      <th>gen__rushhour</th>\n      <th>bin__weekday</th>\n      <th>bin__summertime</th>\n      <th>weather__score</th>\n      <th>increase_stock</th>\n    </tr>\n  </thead>\n  <tbody>\n    <tr>\n      <th>0</th>\n      <td>0</td>\n      <td>0.0</td>\n      <td>0.0</td>\n      <td>0.0</td>\n      <td>0.0</td>\n      <td>0.0</td>\n      <td>1.0</td>\n      <td>0.0</td>\n      <td>0.0</td>\n      <td>0.0</td>\n      <td>...</td>\n      <td>0.0</td>\n      <td>0.0</td>\n      <td>0.0</td>\n      <td>0.0</td>\n      <td>0.0</td>\n      <td>0.0</td>\n      <td>0.0</td>\n      <td>0.0</td>\n      <td>-1.746710</td>\n      <td>0</td>\n    </tr>\n    <tr>\n      <th>1</th>\n      <td>1</td>\n      <td>0.0</td>\n      <td>0.0</td>\n      <td>0.0</td>\n      <td>0.0</td>\n      <td>0.0</td>\n      <td>0.0</td>\n      <td>0.0</td>\n      <td>0.0</td>\n      <td>0.0</td>\n      <td>...</td>\n      <td>0.0</td>\n      <td>0.0</td>\n      <td>0.0</td>\n      <td>0.0</td>\n      <td>0.0</td>\n      <td>0.0</td>\n      <td>1.0</td>\n      <td>0.0</td>\n      <td>-0.568242</td>\n      <td>0</td>\n    </tr>\n    <tr>\n      <th>2</th>\n      <td>2</td>\n      <td>0.0</td>\n      <td>0.0</td>\n      <td>0.0</td>\n      <td>0.0</td>\n      <td>0.0</td>\n      <td>0.0</td>\n      <td>0.0</td>\n      <td>0.0</td>\n      <td>0.0</td>\n      <td>...</td>\n      <td>0.0</td>\n      <td>0.0</td>\n      <td>0.0</td>\n      <td>0.0</td>\n      <td>0.0</td>\n      <td>0.0</td>\n      <td>1.0</td>\n      <td>1.0</td>\n      <td>0.440865</td>\n      <td>0</td>\n    </tr>\n    <tr>\n      <th>3</th>\n      <td>3</td>\n      <td>0.0</td>\n      <td>1.0</td>\n      <td>0.0</td>\n      <td>0.0</td>\n      <td>0.0</td>\n      <td>0.0</td>\n      <td>0.0</td>\n      <td>0.0</td>\n      <td>0.0</td>\n      <td>...</td>\n      <td>0.0</td>\n      <td>0.0</td>\n      <td>0.0</td>\n      <td>0.0</td>\n      <td>0.0</td>\n      <td>0.0</td>\n      <td>0.0</td>\n      <td>0.0</td>\n      <td>-1.247860</td>\n      <td>0</td>\n    </tr>\n    <tr>\n      <th>4</th>\n      <td>4</td>\n      <td>0.0</td>\n      <td>0.0</td>\n      <td>0.0</td>\n      <td>0.0</td>\n      <td>0.0</td>\n      <td>0.0</td>\n      <td>0.0</td>\n      <td>0.0</td>\n      <td>0.0</td>\n      <td>...</td>\n      <td>0.0</td>\n      <td>0.0</td>\n      <td>0.0</td>\n      <td>0.0</td>\n      <td>1.0</td>\n      <td>1.0</td>\n      <td>1.0</td>\n      <td>0.0</td>\n      <td>2.538199</td>\n      <td>0</td>\n    </tr>\n    <tr>\n      <th>...</th>\n      <td>...</td>\n      <td>...</td>\n      <td>...</td>\n      <td>...</td>\n      <td>...</td>\n      <td>...</td>\n      <td>...</td>\n      <td>...</td>\n      <td>...</td>\n      <td>...</td>\n      <td>...</td>\n      <td>...</td>\n      <td>...</td>\n      <td>...</td>\n      <td>...</td>\n      <td>...</td>\n      <td>...</td>\n      <td>...</td>\n      <td>...</td>\n      <td>...</td>\n      <td>...</td>\n    </tr>\n    <tr>\n      <th>1595</th>\n      <td>1595</td>\n      <td>0.0</td>\n      <td>0.0</td>\n      <td>0.0</td>\n      <td>1.0</td>\n      <td>0.0</td>\n      <td>0.0</td>\n      <td>0.0</td>\n      <td>0.0</td>\n      <td>0.0</td>\n      <td>...</td>\n      <td>0.0</td>\n      <td>0.0</td>\n      <td>0.0</td>\n      <td>0.0</td>\n      <td>0.0</td>\n      <td>0.0</td>\n      <td>0.0</td>\n      <td>1.0</td>\n      <td>-0.470816</td>\n      <td>0</td>\n    </tr>\n    <tr>\n      <th>1596</th>\n      <td>1596</td>\n      <td>0.0</td>\n      <td>0.0</td>\n      <td>0.0</td>\n      <td>0.0</td>\n      <td>0.0</td>\n      <td>0.0</td>\n      <td>0.0</td>\n      <td>0.0</td>\n      <td>0.0</td>\n      <td>...</td>\n      <td>0.0</td>\n      <td>0.0</td>\n      <td>0.0</td>\n      <td>0.0</td>\n      <td>1.0</td>\n      <td>0.0</td>\n      <td>1.0</td>\n      <td>1.0</td>\n      <td>-0.065147</td>\n      <td>0</td>\n    </tr>\n    <tr>\n      <th>1597</th>\n      <td>1597</td>\n      <td>0.0</td>\n      <td>0.0</td>\n      <td>0.0</td>\n      <td>0.0</td>\n      <td>0.0</td>\n      <td>0.0</td>\n      <td>0.0</td>\n      <td>0.0</td>\n      <td>0.0</td>\n      <td>...</td>\n      <td>0.0</td>\n      <td>0.0</td>\n      <td>0.0</td>\n      <td>0.0</td>\n      <td>1.0</td>\n      <td>0.0</td>\n      <td>1.0</td>\n      <td>1.0</td>\n      <td>1.407239</td>\n      <td>0</td>\n    </tr>\n    <tr>\n      <th>1598</th>\n      <td>1598</td>\n      <td>0.0</td>\n      <td>0.0</td>\n      <td>0.0</td>\n      <td>0.0</td>\n      <td>0.0</td>\n      <td>0.0</td>\n      <td>0.0</td>\n      <td>0.0</td>\n      <td>0.0</td>\n      <td>...</td>\n      <td>0.0</td>\n      <td>0.0</td>\n      <td>0.0</td>\n      <td>0.0</td>\n      <td>1.0</td>\n      <td>0.0</td>\n      <td>0.0</td>\n      <td>1.0</td>\n      <td>1.976536</td>\n      <td>1</td>\n    </tr>\n    <tr>\n      <th>1599</th>\n      <td>1599</td>\n      <td>0.0</td>\n      <td>0.0</td>\n      <td>0.0</td>\n      <td>0.0</td>\n      <td>0.0</td>\n      <td>0.0</td>\n      <td>0.0</td>\n      <td>0.0</td>\n      <td>0.0</td>\n      <td>...</td>\n      <td>0.0</td>\n      <td>0.0</td>\n      <td>0.0</td>\n      <td>0.0</td>\n      <td>0.0</td>\n      <td>0.0</td>\n      <td>0.0</td>\n      <td>0.0</td>\n      <td>-1.277899</td>\n      <td>0</td>\n    </tr>\n  </tbody>\n</table>\n<p>1600 rows × 43 columns</p>\n</div>"
     },
     "execution_count": 13,
     "metadata": {},
     "output_type": "execute_result"
    }
   ],
   "source": [
    "data = pd.read_csv('../data/thea.csv')"
   ],
   "metadata": {
    "collapsed": false,
    "ExecuteTime": {
     "end_time": "2023-12-06T13:09:22.024959Z",
     "start_time": "2023-12-06T13:09:21.998405Z"
    }
   },
   "id": "88374bb28f267a0e"
  },
  {
   "cell_type": "code",
   "execution_count": 15,
   "outputs": [
    {
     "data": {
      "text/plain": "GridSearchCV(cv=160, estimator=KNeighborsClassifier(),\n             param_grid={'metric': ['euclidean', 'manhattan'],\n                         'n_neighbors': [1, 2, 3, 4, 5, 6, 7, 8, 9, 10, 11, 12,\n                                         13, 14, 15],\n                         'weights': ['uniform', 'distance']})",
      "text/html": "<style>#sk-container-id-1 {color: black;}#sk-container-id-1 pre{padding: 0;}#sk-container-id-1 div.sk-toggleable {background-color: white;}#sk-container-id-1 label.sk-toggleable__label {cursor: pointer;display: block;width: 100%;margin-bottom: 0;padding: 0.3em;box-sizing: border-box;text-align: center;}#sk-container-id-1 label.sk-toggleable__label-arrow:before {content: \"▸\";float: left;margin-right: 0.25em;color: #696969;}#sk-container-id-1 label.sk-toggleable__label-arrow:hover:before {color: black;}#sk-container-id-1 div.sk-estimator:hover label.sk-toggleable__label-arrow:before {color: black;}#sk-container-id-1 div.sk-toggleable__content {max-height: 0;max-width: 0;overflow: hidden;text-align: left;background-color: #f0f8ff;}#sk-container-id-1 div.sk-toggleable__content pre {margin: 0.2em;color: black;border-radius: 0.25em;background-color: #f0f8ff;}#sk-container-id-1 input.sk-toggleable__control:checked~div.sk-toggleable__content {max-height: 200px;max-width: 100%;overflow: auto;}#sk-container-id-1 input.sk-toggleable__control:checked~label.sk-toggleable__label-arrow:before {content: \"▾\";}#sk-container-id-1 div.sk-estimator input.sk-toggleable__control:checked~label.sk-toggleable__label {background-color: #d4ebff;}#sk-container-id-1 div.sk-label input.sk-toggleable__control:checked~label.sk-toggleable__label {background-color: #d4ebff;}#sk-container-id-1 input.sk-hidden--visually {border: 0;clip: rect(1px 1px 1px 1px);clip: rect(1px, 1px, 1px, 1px);height: 1px;margin: -1px;overflow: hidden;padding: 0;position: absolute;width: 1px;}#sk-container-id-1 div.sk-estimator {font-family: monospace;background-color: #f0f8ff;border: 1px dotted black;border-radius: 0.25em;box-sizing: border-box;margin-bottom: 0.5em;}#sk-container-id-1 div.sk-estimator:hover {background-color: #d4ebff;}#sk-container-id-1 div.sk-parallel-item::after {content: \"\";width: 100%;border-bottom: 1px solid gray;flex-grow: 1;}#sk-container-id-1 div.sk-label:hover label.sk-toggleable__label {background-color: #d4ebff;}#sk-container-id-1 div.sk-serial::before {content: \"\";position: absolute;border-left: 1px solid gray;box-sizing: border-box;top: 0;bottom: 0;left: 50%;z-index: 0;}#sk-container-id-1 div.sk-serial {display: flex;flex-direction: column;align-items: center;background-color: white;padding-right: 0.2em;padding-left: 0.2em;position: relative;}#sk-container-id-1 div.sk-item {position: relative;z-index: 1;}#sk-container-id-1 div.sk-parallel {display: flex;align-items: stretch;justify-content: center;background-color: white;position: relative;}#sk-container-id-1 div.sk-item::before, #sk-container-id-1 div.sk-parallel-item::before {content: \"\";position: absolute;border-left: 1px solid gray;box-sizing: border-box;top: 0;bottom: 0;left: 50%;z-index: -1;}#sk-container-id-1 div.sk-parallel-item {display: flex;flex-direction: column;z-index: 1;position: relative;background-color: white;}#sk-container-id-1 div.sk-parallel-item:first-child::after {align-self: flex-end;width: 50%;}#sk-container-id-1 div.sk-parallel-item:last-child::after {align-self: flex-start;width: 50%;}#sk-container-id-1 div.sk-parallel-item:only-child::after {width: 0;}#sk-container-id-1 div.sk-dashed-wrapped {border: 1px dashed gray;margin: 0 0.4em 0.5em 0.4em;box-sizing: border-box;padding-bottom: 0.4em;background-color: white;}#sk-container-id-1 div.sk-label label {font-family: monospace;font-weight: bold;display: inline-block;line-height: 1.2em;}#sk-container-id-1 div.sk-label-container {text-align: center;}#sk-container-id-1 div.sk-container {/* jupyter's `normalize.less` sets `[hidden] { display: none; }` but bootstrap.min.css set `[hidden] { display: none !important; }` so we also need the `!important` here to be able to override the default hidden behavior on the sphinx rendered scikit-learn.org. See: https://github.com/scikit-learn/scikit-learn/issues/21755 */display: inline-block !important;position: relative;}#sk-container-id-1 div.sk-text-repr-fallback {display: none;}</style><div id=\"sk-container-id-1\" class=\"sk-top-container\"><div class=\"sk-text-repr-fallback\"><pre>GridSearchCV(cv=160, estimator=KNeighborsClassifier(),\n             param_grid={&#x27;metric&#x27;: [&#x27;euclidean&#x27;, &#x27;manhattan&#x27;],\n                         &#x27;n_neighbors&#x27;: [1, 2, 3, 4, 5, 6, 7, 8, 9, 10, 11, 12,\n                                         13, 14, 15],\n                         &#x27;weights&#x27;: [&#x27;uniform&#x27;, &#x27;distance&#x27;]})</pre><b>In a Jupyter environment, please rerun this cell to show the HTML representation or trust the notebook. <br />On GitHub, the HTML representation is unable to render, please try loading this page with nbviewer.org.</b></div><div class=\"sk-container\" hidden><div class=\"sk-item sk-dashed-wrapped\"><div class=\"sk-label-container\"><div class=\"sk-label sk-toggleable\"><input class=\"sk-toggleable__control sk-hidden--visually\" id=\"sk-estimator-id-1\" type=\"checkbox\" ><label for=\"sk-estimator-id-1\" class=\"sk-toggleable__label sk-toggleable__label-arrow\">GridSearchCV</label><div class=\"sk-toggleable__content\"><pre>GridSearchCV(cv=160, estimator=KNeighborsClassifier(),\n             param_grid={&#x27;metric&#x27;: [&#x27;euclidean&#x27;, &#x27;manhattan&#x27;],\n                         &#x27;n_neighbors&#x27;: [1, 2, 3, 4, 5, 6, 7, 8, 9, 10, 11, 12,\n                                         13, 14, 15],\n                         &#x27;weights&#x27;: [&#x27;uniform&#x27;, &#x27;distance&#x27;]})</pre></div></div></div><div class=\"sk-parallel\"><div class=\"sk-parallel-item\"><div class=\"sk-item\"><div class=\"sk-label-container\"><div class=\"sk-label sk-toggleable\"><input class=\"sk-toggleable__control sk-hidden--visually\" id=\"sk-estimator-id-2\" type=\"checkbox\" ><label for=\"sk-estimator-id-2\" class=\"sk-toggleable__label sk-toggleable__label-arrow\">estimator: KNeighborsClassifier</label><div class=\"sk-toggleable__content\"><pre>KNeighborsClassifier()</pre></div></div></div><div class=\"sk-serial\"><div class=\"sk-item\"><div class=\"sk-estimator sk-toggleable\"><input class=\"sk-toggleable__control sk-hidden--visually\" id=\"sk-estimator-id-3\" type=\"checkbox\" ><label for=\"sk-estimator-id-3\" class=\"sk-toggleable__label sk-toggleable__label-arrow\">KNeighborsClassifier</label><div class=\"sk-toggleable__content\"><pre>KNeighborsClassifier()</pre></div></div></div></div></div></div></div></div></div></div>"
     },
     "execution_count": 15,
     "metadata": {},
     "output_type": "execute_result"
    }
   ],
   "source": [
    "knn = KNeighborsClassifier()\n",
    "param_grid = {\n",
    "    'n_neighbors': [1, 2, 3, 4, 5, 6, 7, 8, 9, 10, 11, 12, 13, 14, 15],\n",
    "    'weights': ['uniform', 'distance'],\n",
    "    'metric': ['euclidean', 'manhattan']\n",
    "}\n",
    "\n",
    "search = GridSearchCV(knn, param_grid=param_grid, cv=160)\n",
    "search.fit(data.drop('increase_stock', axis=1), data['increase_stock'])"
   ],
   "metadata": {
    "collapsed": false,
    "ExecuteTime": {
     "end_time": "2023-12-06T13:13:54.961636Z",
     "start_time": "2023-12-06T13:13:35.198576Z"
    }
   },
   "id": "e59e34d0cdbebce0"
  },
  {
   "cell_type": "code",
   "execution_count": 17,
   "outputs": [
    {
     "data": {
      "text/plain": "{'metric': 'manhattan', 'n_neighbors': 14, 'weights': 'uniform'}"
     },
     "execution_count": 17,
     "metadata": {},
     "output_type": "execute_result"
    }
   ],
   "source": [
    "search.best_params_"
   ],
   "metadata": {
    "collapsed": false,
    "ExecuteTime": {
     "end_time": "2023-12-06T13:14:20.114187Z",
     "start_time": "2023-12-06T13:14:20.109859Z"
    }
   },
   "id": "39b73640e9f66fc4"
  },
  {
   "cell_type": "code",
   "execution_count": 18,
   "outputs": [],
   "source": [
    "from src.utils import load_data, initialize_model_pipeline,cross_validate_model\n",
    "data = load_data()\n",
    "model = initialize_model_pipeline(KNeighborsClassifier(metric='manhattan', n_neighbors=14, weights='uniform'))"
   ],
   "metadata": {
    "collapsed": false,
    "ExecuteTime": {
     "end_time": "2023-12-06T13:17:48.819741Z",
     "start_time": "2023-12-06T13:17:48.808348Z"
    }
   },
   "id": "c33a26ce37e06f01"
  },
  {
   "cell_type": "code",
   "execution_count": 19,
   "outputs": [],
   "source": [
    "cvs = cross_validate_model(model, X=data, y=data['increase_stock'], n_splits=160)"
   ],
   "metadata": {
    "collapsed": false,
    "ExecuteTime": {
     "end_time": "2023-12-06T13:19:18.469800Z",
     "start_time": "2023-12-06T13:19:15.185247Z"
    }
   },
   "id": "e89246090fde8f3e"
  },
  {
   "cell_type": "code",
   "execution_count": 20,
   "outputs": [
    {
     "data": {
      "text/plain": "array([0.7, 0.8, 0.8, 0.8, 0.9, 0.9, 0.6, 1. , 0.8, 0.8, 0.9, 0.8, 0.9,\n       0.9, 0.9, 0.8, 0.9, 0.9, 1. , 0.9, 0.9, 0.8, 1. , 0.9, 1. , 0.8,\n       0.9, 0.9, 0.9, 0.9, 0.8, 0.9, 1. , 1. , 0.7, 0.7, 1. , 0.9, 1. ,\n       0.8, 0.8, 1. , 0.7, 0.9, 0.9, 0.9, 0.4, 0.9, 0.8, 0.9, 1. , 1. ,\n       0.8, 0.8, 0.8, 0.9, 0.9, 0.9, 1. , 0.9, 1. , 0.9, 1. , 0.8, 1. ,\n       0.8, 0.8, 1. , 1. , 0.8, 0.9, 0.9, 0.9, 1. , 0.9, 0.9, 0.9, 0.9,\n       0.9, 0.7, 0.8, 0.8, 0.8, 0.7, 0.9, 0.7, 0.8, 0.8, 0.9, 0.6, 0.8,\n       0.8, 1. , 0.9, 0.8, 0.7, 0.9, 0.9, 0.9, 0.7, 1. , 0.9, 0.8, 1. ,\n       0.9, 0.8, 0.9, 0.7, 1. , 0.9, 0.9, 0.8, 0.8, 0.8, 0.9, 0.8, 0.9,\n       1. , 1. , 0.8, 0.9, 0.7, 0.8, 1. , 0.9, 0.8, 1. , 0.9, 0.9, 0.7,\n       0.8, 0.9, 1. , 0.9, 0.8, 0.9, 1. , 0.9, 0.9, 0.8, 0.9, 0.9, 1. ,\n       0.8, 0.6, 0.7, 1. , 0.9, 1. , 0.8, 0.9, 1. , 0.9, 1. , 0.9, 0.9,\n       0.9, 1. , 0.9, 1. ])"
     },
     "execution_count": 20,
     "metadata": {},
     "output_type": "execute_result"
    }
   ],
   "source": [
    "cvs"
   ],
   "metadata": {
    "collapsed": false,
    "ExecuteTime": {
     "end_time": "2023-12-06T13:19:24.040842Z",
     "start_time": "2023-12-06T13:19:24.033873Z"
    }
   },
   "id": "53cce9c344d89323"
  },
  {
   "cell_type": "code",
   "execution_count": 21,
   "outputs": [
    {
     "data": {
      "text/plain": "0.8706250000000001"
     },
     "execution_count": 21,
     "metadata": {},
     "output_type": "execute_result"
    }
   ],
   "source": [
    "import numpy as np\n",
    "np.mean(cvs)"
   ],
   "metadata": {
    "collapsed": false,
    "ExecuteTime": {
     "end_time": "2023-12-06T13:19:56.921591Z",
     "start_time": "2023-12-06T13:19:56.915541Z"
    }
   },
   "id": "fb06c4bb15abaaf1"
  },
  {
   "cell_type": "code",
   "execution_count": null,
   "outputs": [],
   "source": [],
   "metadata": {
    "collapsed": false
   },
   "id": "2acff821eb60acea"
  }
 ],
 "metadata": {
  "kernelspec": {
   "display_name": "Python 3",
   "language": "python",
   "name": "python3"
  },
  "language_info": {
   "codemirror_mode": {
    "name": "ipython",
    "version": 2
   },
   "file_extension": ".py",
   "mimetype": "text/x-python",
   "name": "python",
   "nbconvert_exporter": "python",
   "pygments_lexer": "ipython2",
   "version": "2.7.6"
  }
 },
 "nbformat": 4,
 "nbformat_minor": 5
}
