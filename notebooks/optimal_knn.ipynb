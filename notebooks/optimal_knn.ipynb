{
 "cells": [
  {
   "cell_type": "code",
   "execution_count": 5,
   "id": "initial_id",
   "metadata": {
    "collapsed": true,
    "ExecuteTime": {
     "end_time": "2023-12-06T20:52:14.189400Z",
     "start_time": "2023-12-06T20:52:14.186419Z"
    }
   },
   "outputs": [],
   "source": [
    "from sklearn.neighbors import KNeighborsClassifier\n",
    "from sklearn.metrics import classification_report, accuracy_score\n",
    "from sklearn.model_selection import GridSearchCV, train_test_split, KFold\n",
    "from os import cpu_count\n",
    "import pandas as pd"
   ]
  },
  {
   "cell_type": "code",
   "execution_count": 6,
   "outputs": [],
   "source": [
    "data = pd.read_csv('../data/thea.csv')\n",
    "X = data.drop('increase_stock', axis=1)\n",
    "Y = data['increase_stock']"
   ],
   "metadata": {
    "collapsed": false,
    "ExecuteTime": {
     "end_time": "2023-12-06T20:52:14.965269Z",
     "start_time": "2023-12-06T20:52:14.955339Z"
    }
   },
   "id": "88374bb28f267a0e"
  },
  {
   "cell_type": "code",
   "execution_count": 7,
   "outputs": [
    {
     "name": "stdout",
     "output_type": "stream",
     "text": [
      "1/100\n",
      "2/100\n",
      "3/100\n"
     ]
    },
    {
     "name": "stderr",
     "output_type": "stream",
     "text": [
      "/Users/finnvaughankraska/IdeaProjects/BIKES_SML/venv/lib/python3.11/site-packages/sklearn/metrics/_classification.py:1471: UndefinedMetricWarning: Precision and F-score are ill-defined and being set to 0.0 in labels with no predicted samples. Use `zero_division` parameter to control this behavior.\n",
      "  _warn_prf(average, modifier, msg_start, len(result))\n",
      "/Users/finnvaughankraska/IdeaProjects/BIKES_SML/venv/lib/python3.11/site-packages/sklearn/metrics/_classification.py:1471: UndefinedMetricWarning: Precision and F-score are ill-defined and being set to 0.0 in labels with no predicted samples. Use `zero_division` parameter to control this behavior.\n",
      "  _warn_prf(average, modifier, msg_start, len(result))\n",
      "/Users/finnvaughankraska/IdeaProjects/BIKES_SML/venv/lib/python3.11/site-packages/sklearn/metrics/_classification.py:1471: UndefinedMetricWarning: Precision and F-score are ill-defined and being set to 0.0 in labels with no predicted samples. Use `zero_division` parameter to control this behavior.\n",
      "  _warn_prf(average, modifier, msg_start, len(result))\n"
     ]
    },
    {
     "name": "stdout",
     "output_type": "stream",
     "text": [
      "4/100\n",
      "5/100\n",
      "6/100\n",
      "7/100\n",
      "8/100\n",
      "9/100\n",
      "10/100\n",
      "11/100\n",
      "12/100\n",
      "13/100\n",
      "14/100\n",
      "15/100\n",
      "16/100\n",
      "17/100\n",
      "18/100\n",
      "19/100\n",
      "20/100\n"
     ]
    },
    {
     "name": "stderr",
     "output_type": "stream",
     "text": [
      "/Users/finnvaughankraska/IdeaProjects/BIKES_SML/venv/lib/python3.11/site-packages/sklearn/metrics/_classification.py:1471: UndefinedMetricWarning: Precision and F-score are ill-defined and being set to 0.0 in labels with no predicted samples. Use `zero_division` parameter to control this behavior.\n",
      "  _warn_prf(average, modifier, msg_start, len(result))\n",
      "/Users/finnvaughankraska/IdeaProjects/BIKES_SML/venv/lib/python3.11/site-packages/sklearn/metrics/_classification.py:1471: UndefinedMetricWarning: Precision and F-score are ill-defined and being set to 0.0 in labels with no predicted samples. Use `zero_division` parameter to control this behavior.\n",
      "  _warn_prf(average, modifier, msg_start, len(result))\n",
      "/Users/finnvaughankraska/IdeaProjects/BIKES_SML/venv/lib/python3.11/site-packages/sklearn/metrics/_classification.py:1471: UndefinedMetricWarning: Precision and F-score are ill-defined and being set to 0.0 in labels with no predicted samples. Use `zero_division` parameter to control this behavior.\n",
      "  _warn_prf(average, modifier, msg_start, len(result))\n"
     ]
    },
    {
     "name": "stdout",
     "output_type": "stream",
     "text": [
      "21/100\n",
      "22/100\n",
      "23/100\n",
      "24/100\n",
      "25/100\n",
      "26/100\n",
      "27/100\n",
      "28/100\n",
      "29/100\n",
      "30/100\n",
      "31/100\n",
      "32/100\n",
      "33/100\n",
      "34/100\n",
      "35/100\n",
      "36/100\n",
      "37/100\n",
      "38/100\n",
      "39/100\n",
      "40/100\n",
      "41/100\n",
      "42/100\n",
      "43/100\n",
      "44/100\n",
      "45/100\n",
      "46/100\n",
      "47/100\n",
      "48/100\n",
      "49/100\n",
      "50/100\n",
      "51/100\n",
      "52/100\n",
      "53/100\n",
      "54/100\n",
      "55/100\n",
      "56/100\n",
      "57/100\n",
      "58/100\n",
      "59/100\n",
      "60/100\n",
      "61/100\n",
      "62/100\n",
      "63/100\n",
      "64/100\n",
      "65/100\n",
      "66/100\n",
      "67/100\n",
      "68/100\n",
      "69/100\n",
      "70/100\n",
      "71/100\n",
      "72/100\n",
      "73/100\n",
      "74/100\n",
      "75/100\n",
      "76/100\n",
      "77/100\n",
      "78/100\n",
      "79/100\n",
      "80/100\n",
      "81/100\n",
      "82/100\n",
      "83/100\n",
      "84/100\n",
      "85/100\n",
      "86/100\n",
      "87/100\n",
      "88/100\n",
      "89/100\n",
      "90/100\n",
      "91/100\n",
      "92/100\n",
      "93/100\n",
      "94/100\n",
      "95/100\n",
      "96/100\n",
      "97/100\n",
      "98/100\n",
      "99/100\n",
      "100/100\n"
     ]
    }
   ],
   "source": [
    "bs_results = []\n",
    "param_grid = {\n",
    "    'n_neighbors': [1, 2, 3, 4, 5, 6, 7, 8, 9, 10, 11, 12, 13, 14, 15],\n",
    "    'weights': ['uniform', 'distance'],\n",
    "    'metric': ['euclidean', 'manhattan']\n",
    "}\n",
    "\n",
    "for i in range(100):\n",
    "    print(f'{i+1}/100')\n",
    "    result = {}\n",
    "    x_train, x_test, y_train, y_test = train_test_split(X,Y,\n",
    "                                                        test_size=1/16,\n",
    "                                                        random_state=i+1)\n",
    "    knn = KNeighborsClassifier()\n",
    "    kf = KFold(n_splits=150, shuffle=True)\n",
    "    search = GridSearchCV(knn, param_grid=param_grid, cv=kf, scoring='accuracy', n_jobs=cpu_count())\n",
    "    search.fit(x_train, y_train)\n",
    "    result['accuracy'] = accuracy_score(y_test,search.best_estimator_.predict(x_test))\n",
    "    result['optimistic_accuracy'] = search.best_score_\n",
    "    result['class_report'] = classification_report(y_test, search.best_estimator_.predict(x_test))\n",
    "    result['best_params'] = search.best_params_\n",
    "    result['model'] = search.best_estimator_\n",
    "    bs_results.append(result)"
   ],
   "metadata": {
    "collapsed": false,
    "ExecuteTime": {
     "end_time": "2023-12-06T21:01:46.022674Z",
     "start_time": "2023-12-06T20:52:16.191916Z"
    }
   },
   "id": "e59e34d0cdbebce0"
  },
  {
   "cell_type": "code",
   "execution_count": 9,
   "outputs": [
    {
     "data": {
      "text/plain": "    accuracy  optimistic_accuracy  \\\n0       0.84             0.828000   \n1       0.71             0.834000   \n2       0.86             0.821333   \n3       0.82             0.826667   \n4       0.86             0.825333   \n..       ...                  ...   \n95      0.75             0.830000   \n96      0.82             0.825333   \n97      0.79             0.829333   \n98      0.82             0.824667   \n99      0.82             0.831333   \n\n                                         class_report  \\\n0                 precision    recall  f1-score   ...   \n1                 precision    recall  f1-score   ...   \n2                 precision    recall  f1-score   ...   \n3                 precision    recall  f1-score   ...   \n4                 precision    recall  f1-score   ...   \n..                                                ...   \n95                precision    recall  f1-score   ...   \n96                precision    recall  f1-score   ...   \n97                precision    recall  f1-score   ...   \n98                precision    recall  f1-score   ...   \n99                precision    recall  f1-score   ...   \n\n                                          best_params  \\\n0   {'metric': 'manhattan', 'n_neighbors': 3, 'wei...   \n1   {'metric': 'manhattan', 'n_neighbors': 3, 'wei...   \n2   {'metric': 'manhattan', 'n_neighbors': 12, 'we...   \n3   {'metric': 'manhattan', 'n_neighbors': 2, 'wei...   \n4   {'metric': 'manhattan', 'n_neighbors': 4, 'wei...   \n..                                                ...   \n95  {'metric': 'manhattan', 'n_neighbors': 3, 'wei...   \n96  {'metric': 'manhattan', 'n_neighbors': 8, 'wei...   \n97  {'metric': 'manhattan', 'n_neighbors': 2, 'wei...   \n98  {'metric': 'manhattan', 'n_neighbors': 4, 'wei...   \n99  {'metric': 'manhattan', 'n_neighbors': 3, 'wei...   \n\n                                                model  \n0   KNeighborsClassifier(metric='manhattan', n_nei...  \n1   KNeighborsClassifier(metric='manhattan', n_nei...  \n2   KNeighborsClassifier(metric='manhattan', n_nei...  \n3   KNeighborsClassifier(metric='manhattan', n_nei...  \n4   KNeighborsClassifier(metric='manhattan', n_nei...  \n..                                                ...  \n95  KNeighborsClassifier(metric='manhattan', n_nei...  \n96  KNeighborsClassifier(metric='manhattan', n_nei...  \n97  KNeighborsClassifier(metric='manhattan', n_nei...  \n98  KNeighborsClassifier(metric='manhattan', n_nei...  \n99  KNeighborsClassifier(metric='manhattan', n_nei...  \n\n[100 rows x 5 columns]",
      "text/html": "<div>\n<style scoped>\n    .dataframe tbody tr th:only-of-type {\n        vertical-align: middle;\n    }\n\n    .dataframe tbody tr th {\n        vertical-align: top;\n    }\n\n    .dataframe thead th {\n        text-align: right;\n    }\n</style>\n<table border=\"1\" class=\"dataframe\">\n  <thead>\n    <tr style=\"text-align: right;\">\n      <th></th>\n      <th>accuracy</th>\n      <th>optimistic_accuracy</th>\n      <th>class_report</th>\n      <th>best_params</th>\n      <th>model</th>\n    </tr>\n  </thead>\n  <tbody>\n    <tr>\n      <th>0</th>\n      <td>0.84</td>\n      <td>0.828000</td>\n      <td>precision    recall  f1-score   ...</td>\n      <td>{'metric': 'manhattan', 'n_neighbors': 3, 'wei...</td>\n      <td>KNeighborsClassifier(metric='manhattan', n_nei...</td>\n    </tr>\n    <tr>\n      <th>1</th>\n      <td>0.71</td>\n      <td>0.834000</td>\n      <td>precision    recall  f1-score   ...</td>\n      <td>{'metric': 'manhattan', 'n_neighbors': 3, 'wei...</td>\n      <td>KNeighborsClassifier(metric='manhattan', n_nei...</td>\n    </tr>\n    <tr>\n      <th>2</th>\n      <td>0.86</td>\n      <td>0.821333</td>\n      <td>precision    recall  f1-score   ...</td>\n      <td>{'metric': 'manhattan', 'n_neighbors': 12, 'we...</td>\n      <td>KNeighborsClassifier(metric='manhattan', n_nei...</td>\n    </tr>\n    <tr>\n      <th>3</th>\n      <td>0.82</td>\n      <td>0.826667</td>\n      <td>precision    recall  f1-score   ...</td>\n      <td>{'metric': 'manhattan', 'n_neighbors': 2, 'wei...</td>\n      <td>KNeighborsClassifier(metric='manhattan', n_nei...</td>\n    </tr>\n    <tr>\n      <th>4</th>\n      <td>0.86</td>\n      <td>0.825333</td>\n      <td>precision    recall  f1-score   ...</td>\n      <td>{'metric': 'manhattan', 'n_neighbors': 4, 'wei...</td>\n      <td>KNeighborsClassifier(metric='manhattan', n_nei...</td>\n    </tr>\n    <tr>\n      <th>...</th>\n      <td>...</td>\n      <td>...</td>\n      <td>...</td>\n      <td>...</td>\n      <td>...</td>\n    </tr>\n    <tr>\n      <th>95</th>\n      <td>0.75</td>\n      <td>0.830000</td>\n      <td>precision    recall  f1-score   ...</td>\n      <td>{'metric': 'manhattan', 'n_neighbors': 3, 'wei...</td>\n      <td>KNeighborsClassifier(metric='manhattan', n_nei...</td>\n    </tr>\n    <tr>\n      <th>96</th>\n      <td>0.82</td>\n      <td>0.825333</td>\n      <td>precision    recall  f1-score   ...</td>\n      <td>{'metric': 'manhattan', 'n_neighbors': 8, 'wei...</td>\n      <td>KNeighborsClassifier(metric='manhattan', n_nei...</td>\n    </tr>\n    <tr>\n      <th>97</th>\n      <td>0.79</td>\n      <td>0.829333</td>\n      <td>precision    recall  f1-score   ...</td>\n      <td>{'metric': 'manhattan', 'n_neighbors': 2, 'wei...</td>\n      <td>KNeighborsClassifier(metric='manhattan', n_nei...</td>\n    </tr>\n    <tr>\n      <th>98</th>\n      <td>0.82</td>\n      <td>0.824667</td>\n      <td>precision    recall  f1-score   ...</td>\n      <td>{'metric': 'manhattan', 'n_neighbors': 4, 'wei...</td>\n      <td>KNeighborsClassifier(metric='manhattan', n_nei...</td>\n    </tr>\n    <tr>\n      <th>99</th>\n      <td>0.82</td>\n      <td>0.831333</td>\n      <td>precision    recall  f1-score   ...</td>\n      <td>{'metric': 'manhattan', 'n_neighbors': 3, 'wei...</td>\n      <td>KNeighborsClassifier(metric='manhattan', n_nei...</td>\n    </tr>\n  </tbody>\n</table>\n<p>100 rows × 5 columns</p>\n</div>"
     },
     "execution_count": 9,
     "metadata": {},
     "output_type": "execute_result"
    }
   ],
   "source": [
    "results_df = pd.DataFrame(bs_results)\n",
    "results_df"
   ],
   "metadata": {
    "collapsed": false,
    "ExecuteTime": {
     "end_time": "2023-12-06T21:27:09.034999Z",
     "start_time": "2023-12-06T21:27:09.027719Z"
    }
   },
   "id": "39b73640e9f66fc4"
  },
  {
   "cell_type": "code",
   "execution_count": 10,
   "outputs": [],
   "source": [
    "# results_df.to_pickle('../data/knn_optimal_results.pkl')"
   ],
   "metadata": {
    "collapsed": false,
    "ExecuteTime": {
     "end_time": "2023-12-06T21:54:33.026130Z",
     "start_time": "2023-12-06T21:54:32.999195Z"
    }
   },
   "id": "ca0043d8cb5b694a"
  },
  {
   "cell_type": "code",
   "execution_count": 18,
   "outputs": [],
   "source": [
    "from src.utils import load_data, initialize_model_pipeline, cross_validate_model\n",
    "\n",
    "data = load_data()\n",
    "model = initialize_model_pipeline(KNeighborsClassifier(metric='manhattan', n_neighbors=14, weights='uniform'))"
   ],
   "metadata": {
    "collapsed": false,
    "ExecuteTime": {
     "end_time": "2023-12-06T13:17:48.819741Z",
     "start_time": "2023-12-06T13:17:48.808348Z"
    }
   },
   "id": "c33a26ce37e06f01"
  },
  {
   "cell_type": "code",
   "execution_count": 19,
   "outputs": [],
   "source": [
    "cvs = cross_validate_model(model, X=data, y=data['increase_stock'], n_splits=160)"
   ],
   "metadata": {
    "collapsed": false,
    "ExecuteTime": {
     "end_time": "2023-12-06T13:19:18.469800Z",
     "start_time": "2023-12-06T13:19:15.185247Z"
    }
   },
   "id": "e89246090fde8f3e"
  },
  {
   "cell_type": "code",
   "execution_count": 20,
   "outputs": [
    {
     "data": {
      "text/plain": "array([0.7, 0.8, 0.8, 0.8, 0.9, 0.9, 0.6, 1. , 0.8, 0.8, 0.9, 0.8, 0.9,\n       0.9, 0.9, 0.8, 0.9, 0.9, 1. , 0.9, 0.9, 0.8, 1. , 0.9, 1. , 0.8,\n       0.9, 0.9, 0.9, 0.9, 0.8, 0.9, 1. , 1. , 0.7, 0.7, 1. , 0.9, 1. ,\n       0.8, 0.8, 1. , 0.7, 0.9, 0.9, 0.9, 0.4, 0.9, 0.8, 0.9, 1. , 1. ,\n       0.8, 0.8, 0.8, 0.9, 0.9, 0.9, 1. , 0.9, 1. , 0.9, 1. , 0.8, 1. ,\n       0.8, 0.8, 1. , 1. , 0.8, 0.9, 0.9, 0.9, 1. , 0.9, 0.9, 0.9, 0.9,\n       0.9, 0.7, 0.8, 0.8, 0.8, 0.7, 0.9, 0.7, 0.8, 0.8, 0.9, 0.6, 0.8,\n       0.8, 1. , 0.9, 0.8, 0.7, 0.9, 0.9, 0.9, 0.7, 1. , 0.9, 0.8, 1. ,\n       0.9, 0.8, 0.9, 0.7, 1. , 0.9, 0.9, 0.8, 0.8, 0.8, 0.9, 0.8, 0.9,\n       1. , 1. , 0.8, 0.9, 0.7, 0.8, 1. , 0.9, 0.8, 1. , 0.9, 0.9, 0.7,\n       0.8, 0.9, 1. , 0.9, 0.8, 0.9, 1. , 0.9, 0.9, 0.8, 0.9, 0.9, 1. ,\n       0.8, 0.6, 0.7, 1. , 0.9, 1. , 0.8, 0.9, 1. , 0.9, 1. , 0.9, 0.9,\n       0.9, 1. , 0.9, 1. ])"
     },
     "execution_count": 20,
     "metadata": {},
     "output_type": "execute_result"
    }
   ],
   "source": [
    "cvs"
   ],
   "metadata": {
    "collapsed": false,
    "ExecuteTime": {
     "end_time": "2023-12-06T13:19:24.040842Z",
     "start_time": "2023-12-06T13:19:24.033873Z"
    }
   },
   "id": "53cce9c344d89323"
  },
  {
   "cell_type": "code",
   "execution_count": 21,
   "outputs": [
    {
     "data": {
      "text/plain": "0.8706250000000001"
     },
     "execution_count": 21,
     "metadata": {},
     "output_type": "execute_result"
    }
   ],
   "source": [
    "import numpy as np\n",
    "\n",
    "np.mean(cvs)"
   ],
   "metadata": {
    "collapsed": false,
    "ExecuteTime": {
     "end_time": "2023-12-06T13:19:56.921591Z",
     "start_time": "2023-12-06T13:19:56.915541Z"
    }
   },
   "id": "fb06c4bb15abaaf1"
  },
  {
   "cell_type": "code",
   "execution_count": null,
   "outputs": [],
   "source": [],
   "metadata": {
    "collapsed": false
   },
   "id": "2acff821eb60acea"
  }
 ],
 "metadata": {
  "kernelspec": {
   "display_name": "Python 3",
   "language": "python",
   "name": "python3"
  },
  "language_info": {
   "codemirror_mode": {
    "name": "ipython",
    "version": 2
   },
   "file_extension": ".py",
   "mimetype": "text/x-python",
   "name": "python",
   "nbconvert_exporter": "python",
   "pygments_lexer": "ipython2",
   "version": "2.7.6"
  }
 },
 "nbformat": 4,
 "nbformat_minor": 5
}
