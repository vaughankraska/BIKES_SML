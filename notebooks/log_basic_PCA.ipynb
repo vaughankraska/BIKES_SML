{
 "cells": [
  {
   "cell_type": "code",
   "execution_count": 13,
   "id": "initial_id",
   "metadata": {
    "collapsed": true,
    "ExecuteTime": {
     "end_time": "2023-12-01T13:26:35.235690Z",
     "start_time": "2023-12-01T13:26:35.231208Z"
    }
   },
   "outputs": [],
   "source": [
    "import pandas as pd\n",
    "import numpy as np\n",
    "import matplotlib.pyplot as plt\n",
    "import seaborn as sns\n",
    "from itertools import combinations\n",
    "from sklearn.linear_model import LogisticRegression\n",
    "from sklearn.metrics import classification_report\n",
    "from sklearn.model_selection import cross_val_predict, cross_val_score, KFold\n",
    "from sklearn.decomposition import PCA \n",
    "from sklearn.pipeline import Pipeline\n",
    "from sklearn.compose import ColumnTransformer \n",
    "from os import cpu_count\n",
    "from IPython.display import display, clear_output"
   ]
  },
  {
   "cell_type": "code",
   "execution_count": 14,
   "outputs": [
    {
     "name": "stdout",
     "output_type": "stream",
     "text": [
      "1539\n"
     ]
    }
   ],
   "source": [
    "all_interaction_data = pd.read_csv('../data/all_interactions.csv')\n",
    "print(len(all_interaction_data.select_dtypes(include='float').columns.tolist()))"
   ],
   "metadata": {
    "collapsed": false,
    "ExecuteTime": {
     "end_time": "2023-12-01T13:26:35.813995Z",
     "start_time": "2023-12-01T13:26:35.693084Z"
    }
   },
   "id": "8c2d901801038a8d"
  },
  {
   "cell_type": "code",
   "execution_count": 18,
   "outputs": [],
   "source": [
    "def do_classification_accuracy(model,x_data,Y_data, cross_validations=10):\n",
    "    kf = KFold(n_splits=cross_validations, shuffle=True, random_state=123)\n",
    "    errors = cross_val_score(model, x_data, Y_data, cv=kf, n_jobs=cpu_count(), scoring='accuracy')\n",
    "    return np.mean(errors)"
   ],
   "metadata": {
    "collapsed": false,
    "ExecuteTime": {
     "end_time": "2023-12-01T13:28:41.195282Z",
     "start_time": "2023-12-01T13:28:41.190690Z"
    }
   },
   "id": "267d3f51a74257b2"
  },
  {
   "cell_type": "code",
   "execution_count": 26,
   "outputs": [
    {
     "data": {
      "text/plain": "['num__temp',\n 'num__dew',\n 'num__humidity',\n 'num__precip',\n 'num__windspeed',\n 'num__cloudcover',\n 'num__weather_score',\n 'num__temp^2',\n 'num__temp num__dew',\n 'num__temp num__humidity',\n 'num__temp num__precip',\n 'num__temp num__windspeed',\n 'num__temp num__cloudcover',\n 'num__temp num__weather_score',\n 'num__temp cat__hour_of_day_0',\n 'num__temp cat__hour_of_day_1',\n 'num__temp cat__hour_of_day_2',\n 'num__temp cat__hour_of_day_3',\n 'num__temp cat__hour_of_day_4',\n 'num__temp cat__hour_of_day_5',\n 'num__temp cat__hour_of_day_6',\n 'num__temp cat__hour_of_day_7',\n 'num__temp cat__hour_of_day_8',\n 'num__temp cat__hour_of_day_9',\n 'num__temp cat__hour_of_day_10',\n 'num__temp cat__hour_of_day_11',\n 'num__temp cat__hour_of_day_12',\n 'num__temp cat__hour_of_day_13',\n 'num__temp cat__hour_of_day_14',\n 'num__temp cat__hour_of_day_15',\n 'num__temp cat__hour_of_day_16',\n 'num__temp cat__hour_of_day_17',\n 'num__temp cat__hour_of_day_18',\n 'num__temp cat__hour_of_day_19',\n 'num__temp cat__hour_of_day_20',\n 'num__temp cat__hour_of_day_21',\n 'num__temp cat__hour_of_day_22',\n 'num__temp cat__hour_of_day_23',\n 'num__temp cat__day_of_week_0',\n 'num__temp cat__day_of_week_1',\n 'num__temp cat__day_of_week_2',\n 'num__temp cat__day_of_week_3',\n 'num__temp cat__day_of_week_4',\n 'num__temp cat__day_of_week_5',\n 'num__temp cat__day_of_week_6',\n 'num__temp cat__month_1',\n 'num__temp cat__month_2',\n 'num__temp cat__month_3',\n 'num__temp cat__month_4',\n 'num__temp cat__month_5',\n 'num__temp cat__month_6',\n 'num__temp cat__month_7',\n 'num__temp cat__month_8',\n 'num__temp cat__month_9',\n 'num__temp cat__month_10',\n 'num__temp cat__month_11',\n 'num__temp cat__month_12',\n 'num__temp remainder__weekday',\n 'num__temp remainder__summertime',\n 'num__temp remainder__daytime',\n 'num__temp remainder__rushhour',\n 'num__dew^2',\n 'num__dew num__humidity',\n 'num__dew num__precip',\n 'num__dew num__windspeed',\n 'num__dew num__cloudcover',\n 'num__dew num__weather_score',\n 'num__dew cat__hour_of_day_0',\n 'num__dew cat__hour_of_day_1',\n 'num__dew cat__hour_of_day_2',\n 'num__dew cat__hour_of_day_3',\n 'num__dew cat__hour_of_day_4',\n 'num__dew cat__hour_of_day_5',\n 'num__dew cat__hour_of_day_6',\n 'num__dew cat__hour_of_day_7',\n 'num__dew cat__hour_of_day_8',\n 'num__dew cat__hour_of_day_9',\n 'num__dew cat__hour_of_day_10',\n 'num__dew cat__hour_of_day_11',\n 'num__dew cat__hour_of_day_12',\n 'num__dew cat__hour_of_day_13',\n 'num__dew cat__hour_of_day_14',\n 'num__dew cat__hour_of_day_15',\n 'num__dew cat__hour_of_day_16',\n 'num__dew cat__hour_of_day_17',\n 'num__dew cat__hour_of_day_18',\n 'num__dew cat__hour_of_day_19',\n 'num__dew cat__hour_of_day_20',\n 'num__dew cat__hour_of_day_21',\n 'num__dew cat__hour_of_day_22',\n 'num__dew cat__hour_of_day_23',\n 'num__dew cat__day_of_week_0',\n 'num__dew cat__day_of_week_1',\n 'num__dew cat__day_of_week_2',\n 'num__dew cat__day_of_week_3',\n 'num__dew cat__day_of_week_4',\n 'num__dew cat__day_of_week_5',\n 'num__dew cat__day_of_week_6',\n 'num__dew cat__month_1',\n 'num__dew cat__month_2',\n 'num__dew cat__month_3',\n 'num__dew cat__month_4',\n 'num__dew cat__month_5',\n 'num__dew cat__month_6',\n 'num__dew cat__month_7',\n 'num__dew cat__month_8',\n 'num__dew cat__month_9',\n 'num__dew cat__month_10',\n 'num__dew cat__month_11',\n 'num__dew cat__month_12',\n 'num__dew remainder__weekday',\n 'num__dew remainder__summertime',\n 'num__dew remainder__daytime',\n 'num__dew remainder__rushhour',\n 'num__humidity^2',\n 'num__humidity num__precip',\n 'num__humidity num__windspeed',\n 'num__humidity num__cloudcover',\n 'num__humidity num__weather_score',\n 'num__humidity cat__hour_of_day_0',\n 'num__humidity cat__hour_of_day_1',\n 'num__humidity cat__hour_of_day_2',\n 'num__humidity cat__hour_of_day_3',\n 'num__humidity cat__hour_of_day_4',\n 'num__humidity cat__hour_of_day_5',\n 'num__humidity cat__hour_of_day_6',\n 'num__humidity cat__hour_of_day_7',\n 'num__humidity cat__hour_of_day_8',\n 'num__humidity cat__hour_of_day_9',\n 'num__humidity cat__hour_of_day_10',\n 'num__humidity cat__hour_of_day_11',\n 'num__humidity cat__hour_of_day_12',\n 'num__humidity cat__hour_of_day_13',\n 'num__humidity cat__hour_of_day_14',\n 'num__humidity cat__hour_of_day_15',\n 'num__humidity cat__hour_of_day_16',\n 'num__humidity cat__hour_of_day_17',\n 'num__humidity cat__hour_of_day_18',\n 'num__humidity cat__hour_of_day_19',\n 'num__humidity cat__hour_of_day_20',\n 'num__humidity cat__hour_of_day_21',\n 'num__humidity cat__hour_of_day_22',\n 'num__humidity cat__hour_of_day_23',\n 'num__humidity cat__day_of_week_0',\n 'num__humidity cat__day_of_week_1',\n 'num__humidity cat__day_of_week_2',\n 'num__humidity cat__day_of_week_3',\n 'num__humidity cat__day_of_week_4',\n 'num__humidity cat__day_of_week_5',\n 'num__humidity cat__day_of_week_6',\n 'num__humidity cat__month_1',\n 'num__humidity cat__month_2',\n 'num__humidity cat__month_3',\n 'num__humidity cat__month_4',\n 'num__humidity cat__month_5',\n 'num__humidity cat__month_6',\n 'num__humidity cat__month_7',\n 'num__humidity cat__month_8',\n 'num__humidity cat__month_9',\n 'num__humidity cat__month_10',\n 'num__humidity cat__month_11',\n 'num__humidity cat__month_12',\n 'num__humidity remainder__weekday',\n 'num__humidity remainder__summertime',\n 'num__humidity remainder__daytime',\n 'num__humidity remainder__rushhour',\n 'num__precip^2',\n 'num__precip num__windspeed',\n 'num__precip num__cloudcover',\n 'num__precip num__weather_score',\n 'num__precip cat__hour_of_day_0',\n 'num__precip cat__hour_of_day_1',\n 'num__precip cat__hour_of_day_3',\n 'num__precip cat__hour_of_day_4',\n 'num__precip cat__hour_of_day_6',\n 'num__precip cat__hour_of_day_7',\n 'num__precip cat__hour_of_day_8',\n 'num__precip cat__hour_of_day_9',\n 'num__precip cat__hour_of_day_10',\n 'num__precip cat__hour_of_day_12',\n 'num__precip cat__hour_of_day_13',\n 'num__precip cat__hour_of_day_14',\n 'num__precip cat__hour_of_day_15',\n 'num__precip cat__hour_of_day_16',\n 'num__precip cat__hour_of_day_17',\n 'num__precip cat__hour_of_day_19',\n 'num__precip cat__hour_of_day_20',\n 'num__precip cat__hour_of_day_21',\n 'num__precip cat__hour_of_day_22',\n 'num__precip cat__day_of_week_0',\n 'num__precip cat__day_of_week_1',\n 'num__precip cat__day_of_week_2',\n 'num__precip cat__day_of_week_3',\n 'num__precip cat__day_of_week_4',\n 'num__precip cat__day_of_week_5',\n 'num__precip cat__day_of_week_6',\n 'num__precip cat__month_1',\n 'num__precip cat__month_2',\n 'num__precip cat__month_3',\n 'num__precip cat__month_4',\n 'num__precip cat__month_5',\n 'num__precip cat__month_6',\n 'num__precip cat__month_7',\n 'num__precip cat__month_8',\n 'num__precip cat__month_9',\n 'num__precip cat__month_10',\n 'num__precip cat__month_11',\n 'num__precip cat__month_12',\n 'num__precip remainder__weekday',\n 'num__precip remainder__summertime',\n 'num__precip remainder__daytime',\n 'num__precip remainder__rushhour',\n 'num__windspeed^2',\n 'num__windspeed num__cloudcover',\n 'num__windspeed num__weather_score',\n 'num__windspeed cat__hour_of_day_0',\n 'num__windspeed cat__hour_of_day_1',\n 'num__windspeed cat__hour_of_day_2',\n 'num__windspeed cat__hour_of_day_3',\n 'num__windspeed cat__hour_of_day_4',\n 'num__windspeed cat__hour_of_day_5',\n 'num__windspeed cat__hour_of_day_6',\n 'num__windspeed cat__hour_of_day_7',\n 'num__windspeed cat__hour_of_day_8',\n 'num__windspeed cat__hour_of_day_9',\n 'num__windspeed cat__hour_of_day_10',\n 'num__windspeed cat__hour_of_day_11',\n 'num__windspeed cat__hour_of_day_12',\n 'num__windspeed cat__hour_of_day_13',\n 'num__windspeed cat__hour_of_day_14',\n 'num__windspeed cat__hour_of_day_15',\n 'num__windspeed cat__hour_of_day_16',\n 'num__windspeed cat__hour_of_day_17',\n 'num__windspeed cat__hour_of_day_18',\n 'num__windspeed cat__hour_of_day_19',\n 'num__windspeed cat__hour_of_day_20',\n 'num__windspeed cat__hour_of_day_21',\n 'num__windspeed cat__hour_of_day_22',\n 'num__windspeed cat__hour_of_day_23',\n 'num__windspeed cat__day_of_week_0',\n 'num__windspeed cat__day_of_week_1',\n 'num__windspeed cat__day_of_week_2',\n 'num__windspeed cat__day_of_week_3',\n 'num__windspeed cat__day_of_week_4',\n 'num__windspeed cat__day_of_week_5',\n 'num__windspeed cat__day_of_week_6',\n 'num__windspeed cat__month_1',\n 'num__windspeed cat__month_2',\n 'num__windspeed cat__month_3',\n 'num__windspeed cat__month_4',\n 'num__windspeed cat__month_5',\n 'num__windspeed cat__month_6',\n 'num__windspeed cat__month_7',\n 'num__windspeed cat__month_8',\n 'num__windspeed cat__month_9',\n 'num__windspeed cat__month_10',\n 'num__windspeed cat__month_11',\n 'num__windspeed cat__month_12',\n 'num__windspeed remainder__weekday',\n 'num__windspeed remainder__summertime',\n 'num__windspeed remainder__daytime',\n 'num__windspeed remainder__rushhour',\n 'num__cloudcover^2',\n 'num__cloudcover num__weather_score',\n 'num__cloudcover cat__hour_of_day_0',\n 'num__cloudcover cat__hour_of_day_1',\n 'num__cloudcover cat__hour_of_day_2',\n 'num__cloudcover cat__hour_of_day_3',\n 'num__cloudcover cat__hour_of_day_4',\n 'num__cloudcover cat__hour_of_day_5',\n 'num__cloudcover cat__hour_of_day_6',\n 'num__cloudcover cat__hour_of_day_7',\n 'num__cloudcover cat__hour_of_day_8',\n 'num__cloudcover cat__hour_of_day_9',\n 'num__cloudcover cat__hour_of_day_10',\n 'num__cloudcover cat__hour_of_day_11',\n 'num__cloudcover cat__hour_of_day_12',\n 'num__cloudcover cat__hour_of_day_13',\n 'num__cloudcover cat__hour_of_day_14',\n 'num__cloudcover cat__hour_of_day_15',\n 'num__cloudcover cat__hour_of_day_16',\n 'num__cloudcover cat__hour_of_day_17',\n 'num__cloudcover cat__hour_of_day_18',\n 'num__cloudcover cat__hour_of_day_19',\n 'num__cloudcover cat__hour_of_day_20',\n 'num__cloudcover cat__hour_of_day_21',\n 'num__cloudcover cat__hour_of_day_22',\n 'num__cloudcover cat__hour_of_day_23',\n 'num__cloudcover cat__day_of_week_0',\n 'num__cloudcover cat__day_of_week_1',\n 'num__cloudcover cat__day_of_week_2',\n 'num__cloudcover cat__day_of_week_3',\n 'num__cloudcover cat__day_of_week_4',\n 'num__cloudcover cat__day_of_week_5',\n 'num__cloudcover cat__day_of_week_6',\n 'num__cloudcover cat__month_1',\n 'num__cloudcover cat__month_2',\n 'num__cloudcover cat__month_3',\n 'num__cloudcover cat__month_4',\n 'num__cloudcover cat__month_5',\n 'num__cloudcover cat__month_6',\n 'num__cloudcover cat__month_7',\n 'num__cloudcover cat__month_8',\n 'num__cloudcover cat__month_9',\n 'num__cloudcover cat__month_10',\n 'num__cloudcover cat__month_11',\n 'num__cloudcover cat__month_12',\n 'num__cloudcover remainder__weekday',\n 'num__cloudcover remainder__summertime',\n 'num__cloudcover remainder__daytime',\n 'num__cloudcover remainder__rushhour',\n 'num__weather_score^2',\n 'num__weather_score cat__hour_of_day_0',\n 'num__weather_score cat__hour_of_day_1',\n 'num__weather_score cat__hour_of_day_2',\n 'num__weather_score cat__hour_of_day_3',\n 'num__weather_score cat__hour_of_day_4',\n 'num__weather_score cat__hour_of_day_5',\n 'num__weather_score cat__hour_of_day_6',\n 'num__weather_score cat__hour_of_day_7',\n 'num__weather_score cat__hour_of_day_8',\n 'num__weather_score cat__hour_of_day_9',\n 'num__weather_score cat__hour_of_day_10',\n 'num__weather_score cat__hour_of_day_11',\n 'num__weather_score cat__hour_of_day_12',\n 'num__weather_score cat__hour_of_day_13',\n 'num__weather_score cat__hour_of_day_14',\n 'num__weather_score cat__hour_of_day_15',\n 'num__weather_score cat__hour_of_day_16',\n 'num__weather_score cat__hour_of_day_17',\n 'num__weather_score cat__hour_of_day_18',\n 'num__weather_score cat__hour_of_day_19',\n 'num__weather_score cat__hour_of_day_20',\n 'num__weather_score cat__hour_of_day_21',\n 'num__weather_score cat__hour_of_day_22',\n 'num__weather_score cat__hour_of_day_23',\n 'num__weather_score cat__day_of_week_0',\n 'num__weather_score cat__day_of_week_1',\n 'num__weather_score cat__day_of_week_2',\n 'num__weather_score cat__day_of_week_3',\n 'num__weather_score cat__day_of_week_4',\n 'num__weather_score cat__day_of_week_5',\n 'num__weather_score cat__day_of_week_6',\n 'num__weather_score cat__month_1',\n 'num__weather_score cat__month_2',\n 'num__weather_score cat__month_3',\n 'num__weather_score cat__month_4',\n 'num__weather_score cat__month_5',\n 'num__weather_score cat__month_6',\n 'num__weather_score cat__month_7',\n 'num__weather_score cat__month_8',\n 'num__weather_score cat__month_9',\n 'num__weather_score cat__month_10',\n 'num__weather_score cat__month_11',\n 'num__weather_score cat__month_12',\n 'num__weather_score remainder__weekday',\n 'num__weather_score remainder__summertime',\n 'num__weather_score remainder__daytime',\n 'num__weather_score remainder__rushhour']"
     },
     "execution_count": 26,
     "metadata": {},
     "output_type": "execute_result"
    }
   ],
   "source": [
    "# Create a synthetic dataset\n",
    "X = all_interaction_data.drop('is_high_demand',axis=1)\n",
    "y = all_interaction_data['is_high_demand']\n",
    "column_ranges = X.max() - X.min()\n",
    "non_binary_columns = column_ranges[column_ranges > 1].index.tolist()\n",
    "(non_binary_columns)"
   ],
   "metadata": {
    "collapsed": false,
    "ExecuteTime": {
     "end_time": "2023-12-01T13:51:32.979579Z",
     "start_time": "2023-12-01T13:51:32.968890Z"
    }
   },
   "id": "c100092a32f68e7d"
  },
  {
   "cell_type": "code",
   "execution_count": 31,
   "outputs": [
    {
     "data": {
      "text/plain": "'prog: 119/1539'"
     },
     "metadata": {},
     "output_type": "display_data"
    }
   ],
   "source": [
    "scores = [] \n",
    "\n",
    "for k in range(1, 120):\n",
    "    result = {}\n",
    "    clear_output(wait=True)\n",
    "    display(f'prog: {k}/{X.shape[1]}')\n",
    "    classifier = Pipeline([\n",
    "        ('pre',ColumnTransformer([\n",
    "            ('pca',PCA(n_components=k),non_binary_columns)\n",
    "        ],remainder='passthrough')),\n",
    "        ('classify', LogisticRegression(random_state=123, max_iter=10000, penalty='l1',solver='liblinear',C=.2))\n",
    "    ])\n",
    "    score = do_classification_accuracy(classifier,X,y,cross_validations=5)\n",
    "    result['score'] = score\n",
    "    result['k_components'] = k\n",
    "    scores.append(result)"
   ],
   "metadata": {
    "collapsed": false
   },
   "id": "c1f0b6b4bfeb2505"
  },
  {
   "cell_type": "code",
   "execution_count": 32,
   "outputs": [
    {
     "data": {
      "text/plain": "        score  k_components\n0    0.877500             1\n1    0.884375             2\n2    0.888750             3\n3    0.891250             4\n4    0.890625             5\n..        ...           ...\n114  0.895625           115\n115  0.897500           116\n116  0.898125           117\n117  0.896875           118\n118  0.897500           119\n\n[119 rows x 2 columns]",
      "text/html": "<div>\n<style scoped>\n    .dataframe tbody tr th:only-of-type {\n        vertical-align: middle;\n    }\n\n    .dataframe tbody tr th {\n        vertical-align: top;\n    }\n\n    .dataframe thead th {\n        text-align: right;\n    }\n</style>\n<table border=\"1\" class=\"dataframe\">\n  <thead>\n    <tr style=\"text-align: right;\">\n      <th></th>\n      <th>score</th>\n      <th>k_components</th>\n    </tr>\n  </thead>\n  <tbody>\n    <tr>\n      <th>0</th>\n      <td>0.877500</td>\n      <td>1</td>\n    </tr>\n    <tr>\n      <th>1</th>\n      <td>0.884375</td>\n      <td>2</td>\n    </tr>\n    <tr>\n      <th>2</th>\n      <td>0.888750</td>\n      <td>3</td>\n    </tr>\n    <tr>\n      <th>3</th>\n      <td>0.891250</td>\n      <td>4</td>\n    </tr>\n    <tr>\n      <th>4</th>\n      <td>0.890625</td>\n      <td>5</td>\n    </tr>\n    <tr>\n      <th>...</th>\n      <td>...</td>\n      <td>...</td>\n    </tr>\n    <tr>\n      <th>114</th>\n      <td>0.895625</td>\n      <td>115</td>\n    </tr>\n    <tr>\n      <th>115</th>\n      <td>0.897500</td>\n      <td>116</td>\n    </tr>\n    <tr>\n      <th>116</th>\n      <td>0.898125</td>\n      <td>117</td>\n    </tr>\n    <tr>\n      <th>117</th>\n      <td>0.896875</td>\n      <td>118</td>\n    </tr>\n    <tr>\n      <th>118</th>\n      <td>0.897500</td>\n      <td>119</td>\n    </tr>\n  </tbody>\n</table>\n<p>119 rows × 2 columns</p>\n</div>"
     },
     "execution_count": 32,
     "metadata": {},
     "output_type": "execute_result"
    }
   ],
   "source": [
    "df_scores = pd.DataFrame(scores)\n",
    "df_scores"
   ],
   "metadata": {
    "collapsed": false,
    "ExecuteTime": {
     "end_time": "2023-12-01T14:00:45.890994Z",
     "start_time": "2023-12-01T14:00:45.888155Z"
    }
   },
   "id": "4864d416487bd4a7"
  },
  {
   "cell_type": "code",
   "execution_count": null,
   "outputs": [],
   "source": [],
   "metadata": {
    "collapsed": false
   },
   "id": "38293735294e26b8"
  }
 ],
 "metadata": {
  "kernelspec": {
   "display_name": "Python 3",
   "language": "python",
   "name": "python3"
  },
  "language_info": {
   "codemirror_mode": {
    "name": "ipython",
    "version": 2
   },
   "file_extension": ".py",
   "mimetype": "text/x-python",
   "name": "python",
   "nbconvert_exporter": "python",
   "pygments_lexer": "ipython2",
   "version": "2.7.6"
  }
 },
 "nbformat": 4,
 "nbformat_minor": 5
}
