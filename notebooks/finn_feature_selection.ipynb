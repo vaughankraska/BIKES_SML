{
 "cells": [
  {
   "cell_type": "code",
   "execution_count": 1,
   "outputs": [],
   "source": [
    "import pandas as pd\n",
    "import numpy as np\n",
    "import matplotlib.pyplot as plt\n",
    "import seaborn as sns\n",
    "from itertools import combinations\n",
    "from sklearn.linear_model import LogisticRegression\n",
    "from sklearn.metrics import classification_report\n",
    "from sklearn.model_selection import cross_val_predict, cross_val_score, KFold\n",
    "from os import cpu_count\n",
    "from IPython.display import display, clear_output"
   ],
   "metadata": {
    "collapsed": false,
    "ExecuteTime": {
     "end_time": "2023-12-01T13:00:24.427369Z",
     "start_time": "2023-12-01T13:00:24.268921Z"
    }
   },
   "id": "cf6d5a62e353aa36"
  },
  {
   "cell_type": "code",
   "execution_count": 2,
   "outputs": [
    {
     "data": {
      "text/plain": "(1600, 1540)"
     },
     "execution_count": 2,
     "metadata": {},
     "output_type": "execute_result"
    }
   ],
   "source": [
    "all_interaction_data = pd.read_csv('../data/all_interactions.csv')\n",
    "all_interaction_data.shape"
   ],
   "metadata": {
    "collapsed": false,
    "ExecuteTime": {
     "end_time": "2023-12-01T13:00:25.513206Z",
     "start_time": "2023-12-01T13:00:25.344690Z"
    }
   },
   "id": "51c5eaecd38423c1"
  },
  {
   "cell_type": "code",
   "execution_count": 3,
   "outputs": [],
   "source": [
    "def do_classification_accuracy(model,x_data,Y_data, cross_validations=10):\n",
    "    kf = KFold(n_splits=cross_validations, shuffle=True, random_state=123)\n",
    "    errors = cross_val_score(model, x_data, Y_data, cv=kf, n_jobs=cpu_count())\n",
    "    return np.mean(errors)"
   ],
   "metadata": {
    "collapsed": false,
    "ExecuteTime": {
     "end_time": "2023-12-01T13:00:26.050677Z",
     "start_time": "2023-12-01T13:00:26.010819Z"
    }
   },
   "id": "3bb2d58b6ef6c93b"
  },
  {
   "cell_type": "code",
   "execution_count": 18,
   "outputs": [
    {
     "data": {
      "text/plain": "'Progress: 0.9935022742040286'"
     },
     "metadata": {},
     "output_type": "display_data"
    }
   ],
   "source": [
    "\n",
    "# Create a synthetic dataset\n",
    "X = all_interaction_data.drop('is_high_demand',axis=1)\n",
    "y = all_interaction_data['is_high_demand']\n",
    "\n",
    "classifier = LogisticRegression(random_state=123, max_iter=10000)\n",
    "\n",
    "# Get the number of features\n",
    "num_features = X.shape[1]\n",
    "N_features = 3\n",
    "# Iterate over all possible combinations of features\n",
    "best_accuracy = 0\n",
    "best_feature_combination = None\n",
    "count = 0\n",
    "print(range(num_features,1))\n",
    "for r in range(num_features, 0,-1):\n",
    "    if r % 10 == 0:\n",
    "        clear_output(wait=True)\n",
    "        display(f'Progress: {1-r/num_features}')\n",
    "    \n",
    "    # for feature_combination in combinations(range(num_features), r):\n",
    "    #     # Train a model using the selected features\n",
    "    #     feature_indexes = list(feature_combination)\n",
    "    #     selected_features = X.iloc[:, feature_indexes]\n",
    "        \n",
    "        # classifier.fit(X[:, feature_combination], y)\n",
    "        # accuracy = do_classification_accuracy(classifier, )\n",
    "        # # Check if this combination provides a better accuracy\n",
    "        # if accuracy > best_accuracy:\n",
    "        #     best_accuracy = accuracy\n",
    "        #     best_feature_combination = feature_combination\n",
    "\n",
    "\n"
   ],
   "metadata": {
    "collapsed": false
   },
   "id": "77a3a7bfb3063be4"
  },
  {
   "cell_type": "code",
   "execution_count": 9,
   "outputs": [],
   "source": [],
   "metadata": {
    "collapsed": false,
    "ExecuteTime": {
     "end_time": "2023-12-01T12:28:26.722175Z",
     "start_time": "2023-12-01T12:28:26.703961Z"
    }
   },
   "id": "a76367435a25fa42"
  },
  {
   "cell_type": "code",
   "execution_count": null,
   "outputs": [],
   "source": [],
   "metadata": {
    "collapsed": false
   },
   "id": "4e860a80b846d470"
  }
 ],
 "metadata": {
  "kernelspec": {
   "display_name": "Python 3",
   "language": "python",
   "name": "python3"
  },
  "language_info": {
   "codemirror_mode": {
    "name": "ipython",
    "version": 2
   },
   "file_extension": ".py",
   "mimetype": "text/x-python",
   "name": "python",
   "nbconvert_exporter": "python",
   "pygments_lexer": "ipython2",
   "version": "2.7.6"
  }
 },
 "nbformat": 4,
 "nbformat_minor": 5
}
